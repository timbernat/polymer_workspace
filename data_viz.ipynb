{
 "cells": [
  {
   "cell_type": "code",
   "execution_count": 1,
   "metadata": {},
   "outputs": [
    {
     "name": "stderr",
     "output_type": "stream",
     "text": [
      "/home/timber/miniconda3/envs/openff-dev-updated/lib/python3.10/site-packages/numpy/core/getlimits.py:518: UserWarning: The value of the smallest subnormal for <class 'numpy.float64'> type is zero.\n",
      "  setattr(self, word, getattr(machar, word).flat[0])\n",
      "/home/timber/miniconda3/envs/openff-dev-updated/lib/python3.10/site-packages/numpy/core/getlimits.py:89: UserWarning: The value of the smallest subnormal for <class 'numpy.float64'> type is zero.\n",
      "  return self._float_to_str(self.smallest_subnormal)\n",
      "/home/timber/miniconda3/envs/openff-dev-updated/lib/python3.10/site-packages/numpy/core/getlimits.py:518: UserWarning: The value of the smallest subnormal for <class 'numpy.float32'> type is zero.\n",
      "  setattr(self, word, getattr(machar, word).flat[0])\n",
      "/home/timber/miniconda3/envs/openff-dev-updated/lib/python3.10/site-packages/numpy/core/getlimits.py:89: UserWarning: The value of the smallest subnormal for <class 'numpy.float32'> type is zero.\n",
      "  return self._float_to_str(self.smallest_subnormal)\n",
      "Warning on use of the timeseries module: If the inherent timescales of the system are long compared to those being analyzed, this statistical inefficiency may be an underestimate.  The estimate presumes the use of many statistically independent samples.  Tests should be performed to assess whether this condition is satisfied.   Be cautious in the interpretation of the data.\n",
      "WARNING:root:Warning: importing 'simtk.openmm' is deprecated.  Import 'openmm' instead.\n"
     ]
    }
   ],
   "source": [
    "# Custom Imports\n",
    "import polysaccharide as ps\n",
    "from polysaccharide import analysis, extratypes, filetree, general, logutils, molutils\n",
    "from polysaccharide import polymer\n",
    "\n",
    "from polysaccharide.charging.residues import ChargedResidue\n",
    "from polysaccharide.charging.application import CHARGER_REGISTRY, ChargingParameters\n",
    "\n",
    "from polysaccharide import LOGGERS_MASTER\n",
    "from polysaccharide.logutils import ProcessLogHandler\n",
    "\n",
    "from polysaccharide.molutils.rdmol import rdkdraw\n",
    "\n",
    "from polysaccharide.polymer.representation import Polymer\n",
    "from polysaccharide.polymer.management import PolymerManager\n",
    "from polysaccharide.polymer.filtering import has_sims, is_solvated, is_unsolvated, is_charged\n",
    "from polysaccharide.polymer import building, monomer\n",
    "\n",
    "from polysaccharide.solvation.solvents import WATER_TIP3P\n",
    "from polysaccharide.analysis import trajectory, statistics\n",
    "from polysaccharide.simulation.records import SimulationPaths, SimulationParameters\n",
    "from polysaccharide.graphics import plotutils\n",
    "\n",
    "# Generic Imports\n",
    "import re\n",
    "from functools import partial\n",
    "from collections import defaultdict\n",
    "from itertools import combinations\n",
    "\n",
    "# Numeric imports\n",
    "from math import ceil\n",
    "import numpy as np\n",
    "import pandas as pd\n",
    "import matplotlib.pyplot as plt\n",
    "\n",
    "# Typing and Subclassing\n",
    "from typing import Any, Callable, ClassVar, Iterable, Optional, Union\n",
    "from dataclasses import dataclass, field\n",
    "from abc import ABC, abstractmethod, abstractproperty\n",
    "from openmm.unit import Unit, Quantity\n",
    "\n",
    "# File I/O\n",
    "import argparse\n",
    "from pathlib import Path\n",
    "import csv, json, pickle\n",
    "from shutil import copyfile, rmtree\n",
    "import importlib.resources as impres\n",
    "\n",
    "# Logging and Shell\n",
    "import logging\n",
    "logging.basicConfig(\n",
    "    level=logging.INFO,\n",
    "    format=logutils.LOG_FORMATTER._fmt,\n",
    "    datefmt=logutils.LOG_FORMATTER.datefmt,\n",
    "    force=True\n",
    ")\n",
    "                            \n",
    "# Cheminformatics\n",
    "from rdkit import Chem\n",
    "from rdkit.Chem import rdmolfiles\n",
    "\n",
    "# Molecular Dynamics\n",
    "from openff.interchange import Interchange\n",
    "from openff.toolkit import ForceField\n",
    "from openff.toolkit.topology import Topology\n",
    "from openff.toolkit.topology.molecule import Molecule, Atom\n",
    "from openff.toolkit.typing.engines.smirnoff.parameters import LibraryChargeHandler\n",
    "\n",
    "from openff.units import unit\n",
    "from openmm.unit import picosecond, femtosecond, nanosecond # time\n",
    "from openmm.unit import nanometer, angstrom # length\n",
    "from openmm.unit import kelvin, atmosphere # misc\n",
    "\n",
    "# polymer resource management\n",
    "import importlib_resources as impres\n",
    "from polysaccharide import resources\n",
    "from polysaccharide.resources import AVAIL_RESOURCES\n",
    "\n",
    "RESOURCE_PATH = resources.RESOURCE_PATH\n",
    "SIM_PARAM_PATH = impres.files(resources.sim_templates)\n",
    "CHG_PARAM_PATH = impres.files(resources.chg_templates)\n",
    "INP_PARAM_PATH = impres.files(resources.inp_templates)"
   ]
  },
  {
   "attachments": {},
   "cell_type": "markdown",
   "metadata": {},
   "source": [
    "## Comparing shape properties from Sage with Colina paper"
   ]
  },
  {
   "cell_type": "code",
   "execution_count": 3,
   "metadata": {},
   "outputs": [],
   "source": [
    "# Defining Paths and PolymerManagers\n",
    "\n",
    "## Data file directories\n",
    "data_dir = Path('data_for_paper')\n",
    "\n",
    "colina_dir = data_dir / 'colina_data'\n",
    "\n",
    "openff_dir = data_dir / 'openff_data'\n",
    "openff_dir.mkdir(exist_ok=True)\n",
    "\n",
    "combined_dir = data_dir / 'combined_data'\n",
    "combined_dir.mkdir(exist_ok=True)\n",
    "\n",
    "## Plot directories\n",
    "fig_dir  = Path('figures_for_paper')\n",
    "\n",
    "plot_prop_dir = fig_dir / 'property_plots'\n",
    "plot_prop_dir.mkdir(exist_ok=True)\n",
    "\n",
    "## Polymer collections\n",
    "COLL_PATH = Path('Collections')\n",
    "\n",
    "src_mgr = PolymerManager(COLL_PATH / 'water_soluble_polymers')\n",
    "conf_mgr = PolymerManager(COLL_PATH / 'water_soluble_polymers_confs')\n",
    "equil_mgr = PolymerManager(COLL_PATH / 'water_soluble_polymers_equil')"
   ]
  },
  {
   "cell_type": "code",
   "execution_count": null,
   "metadata": {},
   "outputs": [],
   "source": [
    "# Extracting high-dimensional data \"cube\" of observable averages for all replicates\n",
    "full_data = defaultdict(lambda : defaultdict(lambda : defaultdict(list)))\n",
    "for mol_name, sim_dirs_list in equil_mgr.all_completed_sims.items():\n",
    "    polymer = equil_mgr.polymers[mol_name]\n",
    "    for sim_dir in sim_dirs_list:\n",
    "        sim_paths, sim_params = polymer.load_sim_paths_and_params(sim_dir)\n",
    "\n",
    "        time_data = pd.read_csv(sim_paths.time_data)\n",
    "        x_data, y_data = trajectory.props_to_plot_data(time_data)\n",
    "        for prop_name, time_series in y_data.items():\n",
    "            full_data[polymer.base_mol_name][sim_params.charge_method][prop_name].append(time_series.mean())"
   ]
  },
  {
   "cell_type": "code",
   "execution_count": null,
   "metadata": {},
   "outputs": [],
   "source": [
    "# Computing means and uncertainties and collating into dataframes \n",
    "dframe_fns = {\n",
    "    'obs' : np.mean,\n",
    "    'std' : np.std\n",
    "}\n",
    "\n",
    "for mol_name, mol_dict in full_data.items():\n",
    "    for outname, dframe_fn in dframe_fns.items():\n",
    "        dframe = pd.concat([\n",
    "            pd.DataFrame.from_dict(\n",
    "                {prop_name : dframe_fn(prop_data) for prop_name, prop_data in prop_dict.items()},\n",
    "                orient='index',\n",
    "                columns=[f'Sage 2.0.0 - {chg_method}']\n",
    "            ) \n",
    "            for chg_method, prop_dict in mol_dict.items()\n",
    "        ], axis=1)\n",
    "\n",
    "        dframe.to_csv(openff_dir / f'{mol_name}_{outname}.csv')"
   ]
  },
  {
   "cell_type": "code",
   "execution_count": null,
   "metadata": {},
   "outputs": [],
   "source": [
    "# Merging new dataframes with data from Colina paper\n",
    "for ref_data_dir in colina_dir.iterdir():\n",
    "    filename = ref_data_dir.name\n",
    "\n",
    "    new_data = pd.read_csv(openff_dir / filename, index_col=0)\n",
    "    ref_data = pd.read_csv(ref_data_dir, index_col=0)\n",
    "    data = pd.concat([new_data, ref_data], axis=1)\n",
    "\n",
    "    data.to_csv(combined_dir / filename)"
   ]
  },
  {
   "cell_type": "code",
   "execution_count": null,
   "metadata": {},
   "outputs": [],
   "source": [
    "dset_colors = {\n",
    "    'CHARMM - Mulliken'             : 'blue',\n",
    "    'CHARMM-c Mulliken'             : 'royalblue',\n",
    "    'DREIDING - RESP'               : 'gold',\n",
    "    'GAFF - RESP'                   : 'green',\n",
    "    'GAFF2 - RESP'                  : 'limegreen',\n",
    "    'Sage 2.0.0 - ABE10_averaged'   : 'red',\n",
    "    'Sage 2.0.0 - Espaloma_AM1BCC'  : 'lightcoral',\n",
    "}\n",
    "\n",
    "for mol_name in equil_mgr.unique_polymer_names:\n",
    "    obs_path = combined_dir / f'{mol_name}_obs.csv'\n",
    "    std_path = combined_dir / f'{mol_name}_std.csv'\n",
    "\n",
    "    obs = pd.read_csv(obs_path, index_col=0)\n",
    "    std = pd.read_csv(std_path, index_col=0)\n",
    "\n",
    "    frameworks = obs.columns\n",
    "    num_dsets = len(frameworks)\n",
    "    num_props = len(obs.index)\n",
    "    x_pos = np.arange(num_dsets)\n",
    "\n",
    "    fig, ax = plotutils.presize_subplots(nrows=1, ncols=num_props)\n",
    "    fig.suptitle(mol_name)\n",
    "\n",
    "    for axis, (prop_name, prop_data) in zip(ax.flatten(), obs.iterrows()):\n",
    "        uncert = std.loc[prop_name].to_numpy()\n",
    "\n",
    "        axis.set_title(prop_name)\n",
    "        axis.bar(x_pos, prop_data, yerr=uncert, color=[dset_colors[fr] for fr in frameworks])\n",
    "        axis.set_xticks(x_pos)\n",
    "        axis.set_xticklabels(frameworks, rotation=-30)\n",
    "\n",
    "    fig.savefig(plot_prop_dir / f'{mol_name}_properties.png', bbox_inches='tight')"
   ]
  },
  {
   "cell_type": "code",
   "execution_count": 8,
   "metadata": {},
   "outputs": [
    {
     "data": {
      "text/html": [
       "<div>\n",
       "<style scoped>\n",
       "    .dataframe tbody tr th:only-of-type {\n",
       "        vertical-align: middle;\n",
       "    }\n",
       "\n",
       "    .dataframe tbody tr th {\n",
       "        vertical-align: top;\n",
       "    }\n",
       "\n",
       "    .dataframe thead th {\n",
       "        text-align: right;\n",
       "    }\n",
       "</style>\n",
       "<table border=\"1\" class=\"dataframe\">\n",
       "  <thead>\n",
       "    <tr style=\"text-align: right;\">\n",
       "      <th></th>\n",
       "      <th>N_atoms</th>\n",
       "      <th>N_monomers</th>\n",
       "    </tr>\n",
       "  </thead>\n",
       "  <tbody>\n",
       "    <tr>\n",
       "      <th>paam_modified</th>\n",
       "      <td>422</td>\n",
       "      <td>42</td>\n",
       "    </tr>\n",
       "    <tr>\n",
       "      <th>pnipam_modified</th>\n",
       "      <td>515</td>\n",
       "      <td>27</td>\n",
       "    </tr>\n",
       "    <tr>\n",
       "      <th>peg_modified</th>\n",
       "      <td>261</td>\n",
       "      <td>36</td>\n",
       "    </tr>\n",
       "  </tbody>\n",
       "</table>\n",
       "</div>"
      ],
      "text/plain": [
       "                 N_atoms  N_monomers\n",
       "paam_modified        422          42\n",
       "pnipam_modified      515          27\n",
       "peg_modified         261          36"
      ]
     },
     "execution_count": 8,
     "metadata": {},
     "output_type": "execute_result"
    }
   ],
   "source": [
    "dd = {}\n",
    "for mol_name, polymer in src_mgr.polymers.items():\n",
    "    SMARTS = polymer.monomer_info.SMARTS\n",
    "    DOP = monomer.estimate_DOP_upper(SMARTS, min_chain_len=polymer.n_atoms)\n",
    "    N = monomer.estimate_chain_len(SMARTS, DOP=DOP)\n",
    "    assert(N == polymer.n_atoms)\n",
    "\n",
    "    dd[mol_name] = {\n",
    "        'N_atoms' : N,\n",
    "        'N_monomers' : DOP\n",
    "    }\n",
    "df = pd.DataFrame.from_dict(dd, orient='index')\n",
    "df"
   ]
  },
  {
   "cell_type": "code",
   "execution_count": null,
   "metadata": {},
   "outputs": [],
   "source": []
  },
  {
   "cell_type": "code",
   "execution_count": null,
   "metadata": {},
   "outputs": [],
   "source": [
    "x_pos"
   ]
  },
  {
   "cell_type": "code",
   "execution_count": null,
   "metadata": {},
   "outputs": [],
   "source": [
    "len(color_samples)"
   ]
  },
  {
   "cell_type": "code",
   "execution_count": null,
   "metadata": {},
   "outputs": [],
   "source": [
    "color_set = (\n",
    "    'blue',\n",
    "    'green',\n",
    "    'yellow',\n",
    "    'red',\n",
    "    'purple'\n",
    ")\n",
    "hues_per_color = 4\n",
    "cmap = plt.get_cmap('tab20c')\n",
    "\n",
    "n_colors = hues_per_color * len(color_set)\n",
    "inc = 1 / (2*n_colors)\n",
    "x_pos = np.arange(n_colors)\n",
    "\n",
    "sample_points = np.linspace(inc, 1, num=n_colors)\n",
    "color_names = [f'{color}{i}' for color in color_set for i in range(hues_per_color)]\n",
    "color_samples = [cmap(sample) for sample in sample_points]\n",
    "\n",
    "color_dict = {\n",
    "    color_name : rgba\n",
    "        for color_name, rgba in zip(color_names, color_samples)\n",
    "}\n",
    "\n",
    "a = plt.bar(   sample_points, sample_points, width=2*inc, color=color_samples)\n",
    "b = plt.xticks(sample_points, labels=sample_points, rotation=-30)"
   ]
  },
  {
   "attachments": {},
   "cell_type": "markdown",
   "metadata": {},
   "source": [
    "## Comparing ABE10 and Espaloma charges"
   ]
  },
  {
   "cell_type": "code",
   "execution_count": null,
   "metadata": {},
   "outputs": [],
   "source": [
    "for polymer in src_mgr.polymers_list:\n",
    "    fig, ax = polymer.compare_charges('ABE10_averaged', 'Espaloma_AM1BCC', converter='CXSMARTS')"
   ]
  },
  {
   "attachments": {},
   "cell_type": "markdown",
   "metadata": {},
   "source": [
    "## Plotting replicate data"
   ]
  },
  {
   "cell_type": "code",
   "execution_count": null,
   "metadata": {},
   "outputs": [],
   "source": [
    "chg_dict = data_agg['ABE10_averaged']\n",
    "# chg_dict = data_agg['Espaloma_AM1BCC']\n",
    "\n",
    "fig, ax = plotutils.presize_subplots(nrows=1, ncols=len(chg_dict))\n",
    "for axis, (mol_name, prop_dict) in zip(ax.flatten(), chg_dict.items()):\n",
    "    x_pos = np.arange(len(prop_dict))\n",
    "    means, stds = [], []\n",
    "\n",
    "    for prop_name, prop_data in prop_dict.items():\n",
    "        means.append(np.mean(prop_data))\n",
    "        stds.append(np.std(prop_data))\n",
    "\n",
    "    axis.set_title(f'{mol_name} Shape Properties')\n",
    "    axis.bar(x_pos, means, yerr=stds)\n",
    "    axis.set_xticks(x_pos)\n",
    "    axis.set_xticklabels(prop_dict.keys(), rotation=-45)"
   ]
  },
  {
   "cell_type": "code",
   "execution_count": null,
   "metadata": {},
   "outputs": [],
   "source": [
    "chg_method = 'Espaloma_AM1BCC'\n",
    "pd.DataFrame(data_agg[chg_method]['paam_modified'].items(), columns=['', chg_method])"
   ]
  },
  {
   "cell_type": "code",
   "execution_count": null,
   "metadata": {},
   "outputs": [],
   "source": [
    "data_agg"
   ]
  },
  {
   "attachments": {},
   "cell_type": "markdown",
   "metadata": {},
   "source": [
    "## Prior plotting"
   ]
  },
  {
   "cell_type": "code",
   "execution_count": null,
   "metadata": {},
   "outputs": [],
   "source": [
    "pdir = mgr.polymers['polyvinylchloride']\n",
    "spath, sparam = pdir.load_sim_paths_and_params()\n",
    "df = pd.read_csv(spath.state_data)"
   ]
  },
  {
   "cell_type": "code",
   "execution_count": null,
   "metadata": {},
   "outputs": [],
   "source": [
    "mgr_equil = PolymerManager(COLL_PATH / 'water_soluble_polymers_equil')\n",
    "for mol_name, polymer in mgr_equil.filtered_by(is_solvated).items():\n",
    "    print(mol_name, len(polymer.completed_sims))"
   ]
  },
  {
   "cell_type": "code",
   "execution_count": null,
   "metadata": {},
   "outputs": [],
   "source": [
    "rdf_dframe = pd.read_csv(sim_paths.spatial_data)\n",
    "radii, rdfs = analysis.trajectory.rdfs_to_plot_data(rdf_dframe)\n",
    "fig, ax = plotutils.plot_df_props(radii, rdfs)"
   ]
  },
  {
   "cell_type": "code",
   "execution_count": null,
   "metadata": {},
   "outputs": [],
   "source": [
    "prop_dframe = pd.read_csv(sim_paths.time_data)\n",
    "times, props = analysis.trajectory.props_to_plot_data(prop_dframe)\n",
    "fig, ax = plotutils.plot_df_props(times, props)"
   ]
  },
  {
   "cell_type": "code",
   "execution_count": null,
   "metadata": {},
   "outputs": [],
   "source": [
    "mgr_confs = PolymerManager(COLL_PATH / 'water_soluble_polymers_confs')\n",
    "mol_name = 'paam_modified_conf_1_solv_water'\n",
    "\n",
    "pdir = mgr_confs.polymers[mol_name]\n",
    "sim_dir = mgr_confs.all_completed_sims[mol_name][0]\n",
    "sim_paths, sim_params = pdir.load_sim_paths_and_params(sim_dir)"
   ]
  }
 ],
 "metadata": {
  "kernelspec": {
   "display_name": "openff-dev-updated",
   "language": "python",
   "name": "python3"
  },
  "language_info": {
   "codemirror_mode": {
    "name": "ipython",
    "version": 3
   },
   "file_extension": ".py",
   "mimetype": "text/x-python",
   "name": "python",
   "nbconvert_exporter": "python",
   "pygments_lexer": "ipython3",
   "version": "3.10.9"
  },
  "orig_nbformat": 4
 },
 "nbformat": 4,
 "nbformat_minor": 2
}
