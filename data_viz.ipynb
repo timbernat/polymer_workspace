{
 "cells": [
  {
   "cell_type": "code",
   "execution_count": 1,
   "metadata": {},
   "outputs": [
    {
     "name": "stderr",
     "output_type": "stream",
     "text": [
      "/home/timber/miniconda3/envs/openff-dev-updated/lib/python3.10/site-packages/numpy/core/getlimits.py:518: UserWarning: The value of the smallest subnormal for <class 'numpy.float64'> type is zero.\n",
      "  setattr(self, word, getattr(machar, word).flat[0])\n",
      "/home/timber/miniconda3/envs/openff-dev-updated/lib/python3.10/site-packages/numpy/core/getlimits.py:89: UserWarning: The value of the smallest subnormal for <class 'numpy.float64'> type is zero.\n",
      "  return self._float_to_str(self.smallest_subnormal)\n",
      "/home/timber/miniconda3/envs/openff-dev-updated/lib/python3.10/site-packages/numpy/core/getlimits.py:518: UserWarning: The value of the smallest subnormal for <class 'numpy.float32'> type is zero.\n",
      "  setattr(self, word, getattr(machar, word).flat[0])\n",
      "/home/timber/miniconda3/envs/openff-dev-updated/lib/python3.10/site-packages/numpy/core/getlimits.py:89: UserWarning: The value of the smallest subnormal for <class 'numpy.float32'> type is zero.\n",
      "  return self._float_to_str(self.smallest_subnormal)\n",
      "Warning on use of the timeseries module: If the inherent timescales of the system are long compared to those being analyzed, this statistical inefficiency may be an underestimate.  The estimate presumes the use of many statistically independent samples.  Tests should be performed to assess whether this condition is satisfied.   Be cautious in the interpretation of the data.\n",
      "WARNING:root:Warning: importing 'simtk.openmm' is deprecated.  Import 'openmm' instead.\n"
     ]
    }
   ],
   "source": [
    "# Custom Imports\n",
    "import polysaccharide as ps\n",
    "from polysaccharide import analysis, extratypes, filetree, general, logutils, molutils\n",
    "from polysaccharide import polymer\n",
    "\n",
    "from polysaccharide.charging.residues import ChargedResidue\n",
    "from polysaccharide.charging.application import CHARGER_REGISTRY, ChargingParameters\n",
    "\n",
    "from polysaccharide import LOGGERS_MASTER\n",
    "from polysaccharide.logutils import ProcessLogHandler\n",
    "\n",
    "from polysaccharide.molutils.rdmol import rdkdraw, rdprops, rdcompare, rdconvert\n",
    "\n",
    "from polysaccharide.polymer.representation import Polymer\n",
    "from polysaccharide.polymer.management import PolymerManager\n",
    "from polysaccharide.polymer.filtering import has_sims, is_solvated, is_unsolvated, is_charged\n",
    "from polysaccharide.polymer import building, monomer\n",
    "\n",
    "from polysaccharide.solvation.solvents import WATER_TIP3P\n",
    "from polysaccharide.analysis import trajectory, statistics\n",
    "from polysaccharide.simulation.records import SimulationPaths, SimulationParameters\n",
    "from polysaccharide.graphics import plotutils\n",
    "\n",
    "# Generic Imports\n",
    "import re\n",
    "from functools import partial\n",
    "from collections import defaultdict\n",
    "from itertools import combinations\n",
    "\n",
    "# Numeric imports\n",
    "from math import ceil\n",
    "import numpy as np\n",
    "import pandas as pd\n",
    "import matplotlib.pyplot as plt\n",
    "\n",
    "# Typing and Subclassing\n",
    "from typing import Any, Callable, ClassVar, Iterable, Optional, Union\n",
    "from dataclasses import dataclass, field\n",
    "from abc import ABC, abstractmethod, abstractproperty, abstractstaticmethod\n",
    "from openmm.unit import Unit, Quantity\n",
    "\n",
    "# File I/O\n",
    "import argparse\n",
    "from pathlib import Path\n",
    "import csv, json, pickle\n",
    "from shutil import copyfile, rmtree\n",
    "import importlib.resources as impres\n",
    "\n",
    "# Logging and Shell\n",
    "import logging\n",
    "logging.basicConfig(\n",
    "    level=logging.INFO,\n",
    "    format=logutils.LOG_FORMATTER._fmt,\n",
    "    datefmt=logutils.LOG_FORMATTER.datefmt,\n",
    "    force=True\n",
    ")\n",
    "                            \n",
    "# Cheminformatics\n",
    "from rdkit import Chem\n",
    "from rdkit.Chem import rdmolfiles\n",
    "\n",
    "# Molecular Dynamics\n",
    "from openff.interchange import Interchange\n",
    "from openff.toolkit import ForceField\n",
    "from openff.toolkit.topology import Topology\n",
    "from openff.toolkit.topology.molecule import Molecule, Atom\n",
    "from openff.toolkit.typing.engines.smirnoff.parameters import LibraryChargeHandler\n",
    "\n",
    "from openff.units import unit\n",
    "from openmm.unit import picosecond, femtosecond, nanosecond # time\n",
    "from openmm.unit import nanometer, angstrom # length\n",
    "from openmm.unit import kelvin, atmosphere # misc\n",
    "\n",
    "# polymer resource management\n",
    "import importlib_resources as impres\n",
    "from polysaccharide import resources\n",
    "from polysaccharide.resources import AVAIL_RESOURCES\n",
    "\n",
    "RESOURCE_PATH = resources.RESOURCE_PATH\n",
    "SIM_PARAM_PATH = impres.files(resources.sim_templates)\n",
    "CHG_PARAM_PATH = impres.files(resources.chg_templates)\n",
    "INP_PARAM_PATH = impres.files(resources.inp_templates)"
   ]
  },
  {
   "attachments": {},
   "cell_type": "markdown",
   "metadata": {},
   "source": [
    "## Defining Paths and PolymerManagers"
   ]
  },
  {
   "cell_type": "code",
   "execution_count": 2,
   "metadata": {},
   "outputs": [],
   "source": [
    "# Data file directories\n",
    "affix = '_v4'\n",
    "data_dir = Path(f'data{affix}')\n",
    "data_dir.mkdir(exist_ok=True)\n",
    "\n",
    "colina_dir   = data_dir / 'colina_data'\n",
    "openff_dir   = data_dir / 'openff_data'\n",
    "combined_dir = data_dir / 'combined_data'\n",
    "\n",
    "for super_dir in (openff_dir, combined_dir, colina_dir):\n",
    "    super_dir.mkdir(exist_ok=True)\n",
    "    for subdir_name in ('rdfs', 'props'):\n",
    "        subdir = super_dir / subdir_name\n",
    "        subdir.mkdir(exist_ok=True)\n",
    "        globals()[f'{super_dir.name}_{subdir_name}'] = subdir # assign to variables in namespace\n",
    "\n",
    "# Plot directories\n",
    "fig_dir  = Path(f'figures{affix}')\n",
    "fig_dir.mkdir(exist_ok=True)\n",
    "\n",
    "plot_prop_dir = fig_dir / 'property_plots'\n",
    "plot_prop_dir.mkdir(exist_ok=True)\n",
    "\n",
    "plot_rdf_dir = fig_dir / 'rdf_plots'\n",
    "plot_rdf_dir.mkdir(exist_ok=True)\n",
    "\n",
    "# Polymer collections\n",
    "COLL_PATH = Path('Reruns_PBC_2')\n",
    "\n",
    "src_mgr   = PolymerManager(COLL_PATH / 'water_soluble_polymers')\n",
    "redux_mgr = PolymerManager(COLL_PATH / 'water_soluble_reduced')\n",
    "conf_mgr  = PolymerManager(COLL_PATH / 'water_soluble_polymers_confs')\n",
    "equil_mgr = PolymerManager(COLL_PATH / 'water_soluble_polymers_equil')"
   ]
  },
  {
   "cell_type": "markdown",
   "metadata": {},
   "source": [
    "## Measuring sizes of reduced and full-size chains"
   ]
  },
  {
   "cell_type": "code",
   "execution_count": null,
   "metadata": {},
   "outputs": [],
   "source": [
    "size_dir = data_dir / 'chain_sizes'\n",
    "size_dir.mkdir(exist_ok=True)\n",
    "\n",
    "# Producing atom and monomer number counts\n",
    "for targ_mgr in (redux_mgr, src_mgr):\n",
    "    size_dict = {}\n",
    "    for mol_name, polymer in targ_mgr.polymers.items():\n",
    "        SMARTS = polymer.monomer_info.SMARTS\n",
    "        DOP = monomer.estimate_DOP_upper(SMARTS, min_chain_len=polymer.n_atoms)\n",
    "        N = monomer.estimate_chain_len(SMARTS, DOP=DOP)\n",
    "        assert(N == polymer.n_atoms)\n",
    "\n",
    "        size_dict[mol_name] = {\n",
    "            'N_atoms' : N,\n",
    "            'N_monomers' : DOP\n",
    "        }\n",
    "    size_table = pd.DataFrame.from_dict(size_dict, orient='index')\n",
    "    size_table.to_csv(size_dir / f'{targ_mgr.collection_dir.name}_sizes.csv') # index deliberately left in"
   ]
  },
  {
   "attachments": {},
   "cell_type": "markdown",
   "metadata": {},
   "source": [
    "# Collating shape property data from simulation and Colina paper"
   ]
  },
  {
   "cell_type": "markdown",
   "metadata": {},
   "source": [
    "## Analyzing trajectories and saving analyzed results to CSVs to avoid recomputing"
   ]
  },
  {
   "cell_type": "code",
   "execution_count": 4,
   "metadata": {},
   "outputs": [
    {
     "name": "stdout",
     "output_type": "stream",
     "text": [
      "paam_modified_conf_4_solv_water_equil_solv_water  :  100_ns_NVT_ABE10_avgd_08-30-2023_at_16-51-30_PM\n"
     ]
    },
    {
     "name": "stderr",
     "output_type": "stream",
     "text": [
      "/home/timber/miniconda3/envs/openff-dev-updated/lib/python3.10/site-packages/mdtraj/formats/pdb/pdbstructure.py:435: UserWarning: WARNING: two consecutive residues with same number (HETATM  423  H1  HOH A   1       8.199  23.228  34.238  1.00  0.00              , ATOM    422  H   RES A   1      27.529  30.560  19.136  1.00  0.00           H  )\n",
      "  warnings.warn(\"WARNING: two consecutive residues with same number (%s, %s)\" % (atom, self._current_residue.atoms[-1]))\n"
     ]
    },
    {
     "name": "stdout",
     "output_type": "stream",
     "text": [
      "paam_modified_conf_4_solv_water_equil_solv_water  :  100_ns_NVT_espaloma_08-30-2023_at_20-37-51_PM\n"
     ]
    },
    {
     "name": "stderr",
     "output_type": "stream",
     "text": [
      "/home/timber/miniconda3/envs/openff-dev-updated/lib/python3.10/site-packages/mdtraj/formats/pdb/pdbstructure.py:435: UserWarning: WARNING: two consecutive residues with same number (HETATM  423  H1  HOH A   1       8.199  23.228  34.238  1.00  0.00              , ATOM    422  H   RES A   1      27.529  30.560  19.136  1.00  0.00           H  )\n",
      "  warnings.warn(\"WARNING: two consecutive residues with same number (%s, %s)\" % (atom, self._current_residue.atoms[-1]))\n"
     ]
    },
    {
     "name": "stdout",
     "output_type": "stream",
     "text": [
      "paam_modified_conf_2_solv_water_equil_solv_water  :  100_ns_NVT_espaloma_08-30-2023_at_20-38-29_PM\n"
     ]
    },
    {
     "name": "stderr",
     "output_type": "stream",
     "text": [
      "/home/timber/miniconda3/envs/openff-dev-updated/lib/python3.10/site-packages/mdtraj/formats/pdb/pdbstructure.py:435: UserWarning: WARNING: two consecutive residues with same number (HETATM  423  H1  HOH A   1      18.265  40.322  19.356  1.00  0.00              , ATOM    422  H   RES A   1      16.789  21.184  27.442  1.00  0.00           H  )\n",
      "  warnings.warn(\"WARNING: two consecutive residues with same number (%s, %s)\" % (atom, self._current_residue.atoms[-1]))\n"
     ]
    },
    {
     "name": "stdout",
     "output_type": "stream",
     "text": [
      "paam_modified_conf_2_solv_water_equil_solv_water  :  100_ns_NVT_ABE10_avgd_08-30-2023_at_16-51-31_PM\n"
     ]
    },
    {
     "name": "stderr",
     "output_type": "stream",
     "text": [
      "/home/timber/miniconda3/envs/openff-dev-updated/lib/python3.10/site-packages/mdtraj/formats/pdb/pdbstructure.py:435: UserWarning: WARNING: two consecutive residues with same number (HETATM  423  H1  HOH A   1      18.265  40.322  19.356  1.00  0.00              , ATOM    422  H   RES A   1      16.789  21.184  27.442  1.00  0.00           H  )\n",
      "  warnings.warn(\"WARNING: two consecutive residues with same number (%s, %s)\" % (atom, self._current_residue.atoms[-1]))\n"
     ]
    },
    {
     "name": "stdout",
     "output_type": "stream",
     "text": [
      "paam_modified_conf_1_solv_water_equil_solv_water  :  100_ns_NVT_ABE10_avgd_08-30-2023_at_16-52-08_PM\n"
     ]
    },
    {
     "name": "stderr",
     "output_type": "stream",
     "text": [
      "/home/timber/miniconda3/envs/openff-dev-updated/lib/python3.10/site-packages/mdtraj/formats/pdb/pdbstructure.py:435: UserWarning: WARNING: two consecutive residues with same number (HETATM  423  H1  HOH A   1      29.670  39.154   0.322  1.00  0.00              , ATOM    422  H   RES A   1      24.019  31.620  27.853  1.00  0.00           H  )\n",
      "  warnings.warn(\"WARNING: two consecutive residues with same number (%s, %s)\" % (atom, self._current_residue.atoms[-1]))\n"
     ]
    },
    {
     "name": "stdout",
     "output_type": "stream",
     "text": [
      "paam_modified_conf_1_solv_water_equil_solv_water  :  100_ns_NVT_espaloma_08-30-2023_at_20-38-40_PM\n"
     ]
    },
    {
     "name": "stderr",
     "output_type": "stream",
     "text": [
      "/home/timber/miniconda3/envs/openff-dev-updated/lib/python3.10/site-packages/mdtraj/formats/pdb/pdbstructure.py:435: UserWarning: WARNING: two consecutive residues with same number (HETATM  423  H1  HOH A   1      29.670  39.154   0.322  1.00  0.00              , ATOM    422  H   RES A   1      24.019  31.620  27.853  1.00  0.00           H  )\n",
      "  warnings.warn(\"WARNING: two consecutive residues with same number (%s, %s)\" % (atom, self._current_residue.atoms[-1]))\n"
     ]
    },
    {
     "name": "stdout",
     "output_type": "stream",
     "text": [
      "paam_modified_conf_3_solv_water_equil_solv_water  :  100_ns_NVT_ABE10_avgd_08-30-2023_at_16-51-27_PM\n"
     ]
    },
    {
     "name": "stderr",
     "output_type": "stream",
     "text": [
      "/home/timber/miniconda3/envs/openff-dev-updated/lib/python3.10/site-packages/mdtraj/formats/pdb/pdbstructure.py:435: UserWarning: WARNING: two consecutive residues with same number (HETATM  423  H1  HOH A   1       5.928  45.093   8.145  1.00  0.00              , ATOM    422  H   RES A   1      21.813  35.975  17.559  1.00  0.00           H  )\n",
      "  warnings.warn(\"WARNING: two consecutive residues with same number (%s, %s)\" % (atom, self._current_residue.atoms[-1]))\n"
     ]
    },
    {
     "name": "stdout",
     "output_type": "stream",
     "text": [
      "paam_modified_conf_3_solv_water_equil_solv_water  :  100_ns_NVT_espaloma_08-30-2023_at_20-35-30_PM\n"
     ]
    },
    {
     "name": "stderr",
     "output_type": "stream",
     "text": [
      "/home/timber/miniconda3/envs/openff-dev-updated/lib/python3.10/site-packages/mdtraj/formats/pdb/pdbstructure.py:435: UserWarning: WARNING: two consecutive residues with same number (HETATM  423  H1  HOH A   1       5.928  45.093   8.145  1.00  0.00              , ATOM    422  H   RES A   1      21.813  35.975  17.559  1.00  0.00           H  )\n",
      "  warnings.warn(\"WARNING: two consecutive residues with same number (%s, %s)\" % (atom, self._current_residue.atoms[-1]))\n"
     ]
    },
    {
     "name": "stdout",
     "output_type": "stream",
     "text": [
      "pnipam_modified_conf_1_solv_water_equil_solv_water  :  100_ns_NVT_ABE10_avgd_08-30-2023_at_16-53-10_PM\n"
     ]
    },
    {
     "name": "stderr",
     "output_type": "stream",
     "text": [
      "/home/timber/miniconda3/envs/openff-dev-updated/lib/python3.10/site-packages/mdtraj/formats/pdb/pdbstructure.py:435: UserWarning: WARNING: two consecutive residues with same number (HETATM  516  H1  HOH A   1      39.735  14.399   8.965  1.00  0.00              , ATOM    515  H   RES A   1      29.543  17.819  17.194  1.00  0.00           H  )\n",
      "  warnings.warn(\"WARNING: two consecutive residues with same number (%s, %s)\" % (atom, self._current_residue.atoms[-1]))\n"
     ]
    },
    {
     "name": "stdout",
     "output_type": "stream",
     "text": [
      "pnipam_modified_conf_1_solv_water_equil_solv_water  :  100_ns_NVT_espaloma_08-30-2023_at_21-05-47_PM\n"
     ]
    },
    {
     "name": "stderr",
     "output_type": "stream",
     "text": [
      "/home/timber/miniconda3/envs/openff-dev-updated/lib/python3.10/site-packages/mdtraj/formats/pdb/pdbstructure.py:435: UserWarning: WARNING: two consecutive residues with same number (HETATM  516  H1  HOH A   1      39.735  14.399   8.965  1.00  0.00              , ATOM    515  H   RES A   1      29.543  17.819  17.194  1.00  0.00           H  )\n",
      "  warnings.warn(\"WARNING: two consecutive residues with same number (%s, %s)\" % (atom, self._current_residue.atoms[-1]))\n"
     ]
    },
    {
     "name": "stdout",
     "output_type": "stream",
     "text": [
      "pnipam_modified_conf_4_solv_water_equil_solv_water  :  100_ns_NVT_espaloma_08-30-2023_at_20-52-17_PM\n"
     ]
    },
    {
     "name": "stderr",
     "output_type": "stream",
     "text": [
      "/home/timber/miniconda3/envs/openff-dev-updated/lib/python3.10/site-packages/mdtraj/formats/pdb/pdbstructure.py:435: UserWarning: WARNING: two consecutive residues with same number (HETATM  516  H1  HOH A   1       9.213  41.680   4.263  1.00  0.00              , ATOM    515  H   RES A   1      28.800  18.553  23.451  1.00  0.00           H  )\n",
      "  warnings.warn(\"WARNING: two consecutive residues with same number (%s, %s)\" % (atom, self._current_residue.atoms[-1]))\n"
     ]
    },
    {
     "name": "stdout",
     "output_type": "stream",
     "text": [
      "pnipam_modified_conf_4_solv_water_equil_solv_water  :  100_ns_NVT_ABE10_avgd_08-30-2023_at_16-52-17_PM\n"
     ]
    },
    {
     "name": "stderr",
     "output_type": "stream",
     "text": [
      "/home/timber/miniconda3/envs/openff-dev-updated/lib/python3.10/site-packages/mdtraj/formats/pdb/pdbstructure.py:435: UserWarning: WARNING: two consecutive residues with same number (HETATM  516  H1  HOH A   1       9.213  41.680   4.263  1.00  0.00              , ATOM    515  H   RES A   1      28.800  18.553  23.451  1.00  0.00           H  )\n",
      "  warnings.warn(\"WARNING: two consecutive residues with same number (%s, %s)\" % (atom, self._current_residue.atoms[-1]))\n"
     ]
    },
    {
     "name": "stdout",
     "output_type": "stream",
     "text": [
      "pnipam_modified_conf_2_solv_water_equil_solv_water  :  100_ns_NVT_ABE10_avgd_08-30-2023_at_16-52-21_PM\n"
     ]
    },
    {
     "name": "stderr",
     "output_type": "stream",
     "text": [
      "/home/timber/miniconda3/envs/openff-dev-updated/lib/python3.10/site-packages/mdtraj/formats/pdb/pdbstructure.py:435: UserWarning: WARNING: two consecutive residues with same number (HETATM  516  H1  HOH A   1      47.325  39.003  45.371  1.00  0.00              , ATOM    515  H   RES A   1      38.455  21.669  28.093  1.00  0.00           H  )\n",
      "  warnings.warn(\"WARNING: two consecutive residues with same number (%s, %s)\" % (atom, self._current_residue.atoms[-1]))\n"
     ]
    },
    {
     "name": "stdout",
     "output_type": "stream",
     "text": [
      "pnipam_modified_conf_2_solv_water_equil_solv_water  :  100_ns_NVT_espaloma_08-30-2023_at_20-48-26_PM\n"
     ]
    },
    {
     "name": "stderr",
     "output_type": "stream",
     "text": [
      "/home/timber/miniconda3/envs/openff-dev-updated/lib/python3.10/site-packages/mdtraj/formats/pdb/pdbstructure.py:435: UserWarning: WARNING: two consecutive residues with same number (HETATM  516  H1  HOH A   1      47.325  39.003  45.371  1.00  0.00              , ATOM    515  H   RES A   1      38.455  21.669  28.093  1.00  0.00           H  )\n",
      "  warnings.warn(\"WARNING: two consecutive residues with same number (%s, %s)\" % (atom, self._current_residue.atoms[-1]))\n"
     ]
    },
    {
     "name": "stdout",
     "output_type": "stream",
     "text": [
      "pnipam_modified_conf_3_solv_water_equil_solv_water  :  100_ns_NVT_ABE10_avgd_08-30-2023_at_16-52-15_PM\n"
     ]
    },
    {
     "name": "stderr",
     "output_type": "stream",
     "text": [
      "/home/timber/miniconda3/envs/openff-dev-updated/lib/python3.10/site-packages/mdtraj/formats/pdb/pdbstructure.py:435: UserWarning: WARNING: two consecutive residues with same number (HETATM  516  H1  HOH A   1       7.216  37.311  49.357  1.00  0.00              , ATOM    515  H   RES A   1      25.226  20.898  36.129  1.00  0.00           H  )\n",
      "  warnings.warn(\"WARNING: two consecutive residues with same number (%s, %s)\" % (atom, self._current_residue.atoms[-1]))\n"
     ]
    },
    {
     "name": "stdout",
     "output_type": "stream",
     "text": [
      "pnipam_modified_conf_3_solv_water_equil_solv_water  :  100_ns_NVT_espaloma_08-30-2023_at_20-40-13_PM\n"
     ]
    },
    {
     "name": "stderr",
     "output_type": "stream",
     "text": [
      "/home/timber/miniconda3/envs/openff-dev-updated/lib/python3.10/site-packages/mdtraj/formats/pdb/pdbstructure.py:435: UserWarning: WARNING: two consecutive residues with same number (HETATM  516  H1  HOH A   1       7.216  37.311  49.357  1.00  0.00              , ATOM    515  H   RES A   1      25.226  20.898  36.129  1.00  0.00           H  )\n",
      "  warnings.warn(\"WARNING: two consecutive residues with same number (%s, %s)\" % (atom, self._current_residue.atoms[-1]))\n"
     ]
    },
    {
     "name": "stdout",
     "output_type": "stream",
     "text": [
      "peg_modified_conf_1_solv_water_equil_solv_water  :  100_ns_NVT_espaloma_08-30-2023_at_21-10-04_PM\n"
     ]
    },
    {
     "name": "stderr",
     "output_type": "stream",
     "text": [
      "/home/timber/miniconda3/envs/openff-dev-updated/lib/python3.10/site-packages/mdtraj/formats/pdb/pdbstructure.py:435: UserWarning: WARNING: two consecutive residues with same number (HETATM  262  H1  HOH A   1      28.534  26.450  10.637  1.00  0.00              , ATOM    261  H   RES A   1      19.409  14.432  32.454  1.00  0.00           H  )\n",
      "  warnings.warn(\"WARNING: two consecutive residues with same number (%s, %s)\" % (atom, self._current_residue.atoms[-1]))\n"
     ]
    },
    {
     "name": "stdout",
     "output_type": "stream",
     "text": [
      "peg_modified_conf_1_solv_water_equil_solv_water  :  100_ns_NVT_ABE10_avgd_08-30-2023_at_16-52-59_PM\n"
     ]
    },
    {
     "name": "stderr",
     "output_type": "stream",
     "text": [
      "/home/timber/miniconda3/envs/openff-dev-updated/lib/python3.10/site-packages/mdtraj/formats/pdb/pdbstructure.py:435: UserWarning: WARNING: two consecutive residues with same number (HETATM  262  H1  HOH A   1      28.534  26.450  10.637  1.00  0.00              , ATOM    261  H   RES A   1      19.409  14.432  32.454  1.00  0.00           H  )\n",
      "  warnings.warn(\"WARNING: two consecutive residues with same number (%s, %s)\" % (atom, self._current_residue.atoms[-1]))\n"
     ]
    },
    {
     "name": "stdout",
     "output_type": "stream",
     "text": [
      "peg_modified_conf_2_solv_water_equil_solv_water  :  100_ns_NVT_espaloma_08-30-2023_at_21-19-17_PM\n"
     ]
    },
    {
     "name": "stderr",
     "output_type": "stream",
     "text": [
      "/home/timber/miniconda3/envs/openff-dev-updated/lib/python3.10/site-packages/mdtraj/formats/pdb/pdbstructure.py:435: UserWarning: WARNING: two consecutive residues with same number (HETATM  262  H1  HOH A   1      29.583   9.839  24.086  1.00  0.00              , ATOM    261  H   RES A   1      20.704  27.685  23.801  1.00  0.00           H  )\n",
      "  warnings.warn(\"WARNING: two consecutive residues with same number (%s, %s)\" % (atom, self._current_residue.atoms[-1]))\n"
     ]
    },
    {
     "name": "stdout",
     "output_type": "stream",
     "text": [
      "peg_modified_conf_2_solv_water_equil_solv_water  :  100_ns_NVT_ABE10_avgd_08-30-2023_at_16-53-05_PM\n"
     ]
    },
    {
     "name": "stderr",
     "output_type": "stream",
     "text": [
      "/home/timber/miniconda3/envs/openff-dev-updated/lib/python3.10/site-packages/mdtraj/formats/pdb/pdbstructure.py:435: UserWarning: WARNING: two consecutive residues with same number (HETATM  262  H1  HOH A   1      29.583   9.839  24.086  1.00  0.00              , ATOM    261  H   RES A   1      20.704  27.685  23.801  1.00  0.00           H  )\n",
      "  warnings.warn(\"WARNING: two consecutive residues with same number (%s, %s)\" % (atom, self._current_residue.atoms[-1]))\n"
     ]
    },
    {
     "name": "stdout",
     "output_type": "stream",
     "text": [
      "peg_modified_conf_4_solv_water_equil_solv_water  :  100_ns_NVT_ABE10_avgd_08-30-2023_at_16-51-47_PM\n"
     ]
    },
    {
     "name": "stderr",
     "output_type": "stream",
     "text": [
      "/home/timber/miniconda3/envs/openff-dev-updated/lib/python3.10/site-packages/mdtraj/formats/pdb/pdbstructure.py:435: UserWarning: WARNING: two consecutive residues with same number (HETATM  262  H1  HOH A   1       8.101  48.987   7.282  1.00  0.00              , ATOM    261  H   RES A   1      23.745  32.079  30.660  1.00  0.00           H  )\n",
      "  warnings.warn(\"WARNING: two consecutive residues with same number (%s, %s)\" % (atom, self._current_residue.atoms[-1]))\n"
     ]
    },
    {
     "name": "stdout",
     "output_type": "stream",
     "text": [
      "peg_modified_conf_4_solv_water_equil_solv_water  :  100_ns_NVT_espaloma_08-30-2023_at_21-34-32_PM\n"
     ]
    },
    {
     "name": "stderr",
     "output_type": "stream",
     "text": [
      "/home/timber/miniconda3/envs/openff-dev-updated/lib/python3.10/site-packages/mdtraj/formats/pdb/pdbstructure.py:435: UserWarning: WARNING: two consecutive residues with same number (HETATM  262  H1  HOH A   1       8.101  48.987   7.282  1.00  0.00              , ATOM    261  H   RES A   1      23.745  32.079  30.660  1.00  0.00           H  )\n",
      "  warnings.warn(\"WARNING: two consecutive residues with same number (%s, %s)\" % (atom, self._current_residue.atoms[-1]))\n"
     ]
    },
    {
     "name": "stdout",
     "output_type": "stream",
     "text": [
      "peg_modified_conf_3_solv_water_equil_solv_water  :  100_ns_NVT_ABE10_avgd_08-30-2023_at_16-53-00_PM\n"
     ]
    },
    {
     "name": "stderr",
     "output_type": "stream",
     "text": [
      "/home/timber/miniconda3/envs/openff-dev-updated/lib/python3.10/site-packages/mdtraj/formats/pdb/pdbstructure.py:435: UserWarning: WARNING: two consecutive residues with same number (HETATM  262  H1  HOH A   1      15.110  26.037   9.379  1.00  0.00              , ATOM    261  H   RES A   1      14.343  23.267  19.503  1.00  0.00           H  )\n",
      "  warnings.warn(\"WARNING: two consecutive residues with same number (%s, %s)\" % (atom, self._current_residue.atoms[-1]))\n"
     ]
    },
    {
     "name": "stdout",
     "output_type": "stream",
     "text": [
      "peg_modified_conf_3_solv_water_equil_solv_water  :  100_ns_NVT_espaloma_08-30-2023_at_21-12-07_PM\n"
     ]
    },
    {
     "name": "stderr",
     "output_type": "stream",
     "text": [
      "/home/timber/miniconda3/envs/openff-dev-updated/lib/python3.10/site-packages/mdtraj/formats/pdb/pdbstructure.py:435: UserWarning: WARNING: two consecutive residues with same number (HETATM  262  H1  HOH A   1      15.110  26.037   9.379  1.00  0.00              , ATOM    261  H   RES A   1      14.343  23.267  19.503  1.00  0.00           H  )\n",
      "  warnings.warn(\"WARNING: two consecutive residues with same number (%s, %s)\" % (atom, self._current_residue.atoms[-1]))\n"
     ]
    }
   ],
   "source": [
    "for mol_name, sim_dirs_list in equil_mgr.all_completed_sims.items():\n",
    "    polymer = equil_mgr.polymers[mol_name]\n",
    "    for sim_dir in sim_dirs_list:\n",
    "        print(mol_name, ' : ', sim_dir.name)\n",
    "        sim_paths, sim_params = polymer.load_sim_paths_and_params(sim_dir)\n",
    "\n",
    "        # loading and assessing trajectories\n",
    "        traj = polymer.load_traj(sim_dir)\n",
    "        traj_no_solv = traj.remove_solvent(inplace=False)\n",
    "        unique_elems = set(atom.element.symbol for atom in traj.topology.atoms)\n",
    "\n",
    "        # defining atom pairs\n",
    "        pair_dict = {\n",
    "            'chain O - water O' : traj.top.select_pairs('not water and element O', 'water and element O'),\n",
    "            'water O - water O' : traj.top.select_pairs('water and element O', 'water and element O')\n",
    "        }\n",
    "        \n",
    "        if 'N' in unique_elems:\n",
    "            pair_dict['chain N - water O'] = traj.top.select_pairs('not water and element N', 'water and element O')\n",
    "\n",
    "        # computing and saving shape property time series'\n",
    "        sim_paths.time_data = sim_dir / f'{mol_name}_time_series.csv'\n",
    "        prop_data = trajectory.acquire_time_props(traj_no_solv, time_points=sim_params.time_points) \n",
    "        prop_data.to_csv(sim_paths.time_data, index=False)\n",
    "\n",
    "        # computing and saving RDFs \n",
    "        sim_paths.spatial_data = sim_dir / f'{mol_name}_rdfs.csv'\n",
    "        rdf_data = trajectory.acquire_rdfs(traj[:2], pair_dict, min_rad=0.0, max_rad=2.0, rad_unit=nanometer)\n",
    "        rdf_data.to_csv(sim_paths.spatial_data, index=False) # overwrite rdfs with correct raii ranges\n",
    "\n",
    "        # updating path references\n",
    "        sim_paths.to_file(polymer.simulation_paths[sim_dir])"
   ]
  },
  {
   "cell_type": "markdown",
   "metadata": {},
   "source": [
    "## Extracting high-dimensional data \"cube\" of observable averages for all replicates"
   ]
  },
  {
   "cell_type": "code",
   "execution_count": 5,
   "metadata": {},
   "outputs": [],
   "source": [
    "full_prop_data = defaultdict(lambda : defaultdict(lambda : defaultdict(list)))\n",
    "full_rdf_data  = defaultdict(lambda : defaultdict(lambda : defaultdict(pd.DataFrame)))\n",
    "\n",
    "for mol_name, sim_dirs_list in equil_mgr.all_completed_sims.items():\n",
    "    polymer = equil_mgr.polymers[mol_name]\n",
    "    conf_id = re.search(r'(?<=conf_)(\\d+)', mol_name) # conformer number of the molecule in question\n",
    "    if conf_id is not None:\n",
    "        conf_id = int(conf_id.group())\n",
    "\n",
    "    for sim_dir in sim_dirs_list:\n",
    "        sim_paths, sim_params = polymer.load_sim_paths_and_params(sim_dir)\n",
    "\n",
    "        # collating shape properties\n",
    "        time_data = pd.read_csv(sim_paths.time_data)\n",
    "        time_steps, time_samples = trajectory.props_to_plot_data(time_data)\n",
    "        for prop_name, time_series in time_samples.items():\n",
    "            full_prop_data[polymer.base_mol_name][sim_params.charge_method][prop_name].append(time_series.mean())\n",
    "\n",
    "        # collating radial distribution functions\n",
    "        rdf_data = pd.read_csv(sim_paths.spatial_data)\n",
    "        radii_openff, rdfs = trajectory.rdfs_to_plot_data(rdf_data)\n",
    "\n",
    "        for atom_pair_name, rdf in rdfs.items():\n",
    "            full_rdf_data[polymer.base_mol_name][sim_params.charge_method][atom_pair_name][f'Conformer {conf_id}'] = rdf"
   ]
  },
  {
   "cell_type": "markdown",
   "metadata": {},
   "source": [
    "## Computing means and uncertainties for shape props, saving to unified dataframes\n"
   ]
  },
  {
   "cell_type": "code",
   "execution_count": 6,
   "metadata": {},
   "outputs": [],
   "source": [
    "dframe_fns = {\n",
    "    'observables'   : np.mean,\n",
    "    'uncertainties' : np.std\n",
    "}"
   ]
  },
  {
   "cell_type": "code",
   "execution_count": null,
   "metadata": {},
   "outputs": [],
   "source": [
    "for mol_name, mol_dict in full_prop_data.items():\n",
    "    dframe = pd.DataFrame.from_dict({\n",
    "        f'Sage 2.0.0 - {chg_method}' : {\n",
    "            (stat_name, prop_name) : stat_fn(prop_data)\n",
    "                for stat_name, stat_fn in dframe_fns.items()\n",
    "                    for prop_name, prop_data in data_dict.items()\n",
    "        }\n",
    "        for chg_method, data_dict in mol_dict.items()\n",
    "    })\n",
    "    dframe.to_csv(openff_data_props / f'{mol_name}.csv') # index deliberately left in"
   ]
  },
  {
   "cell_type": "markdown",
   "metadata": {},
   "source": [
    "### Merging property dataframes with data from Colina paper"
   ]
  },
  {
   "cell_type": "code",
   "execution_count": null,
   "metadata": {},
   "outputs": [],
   "source": [
    "for ref_data_dir in colina_data_props.iterdir():\n",
    "    filename = ref_data_dir.name\n",
    "\n",
    "    new_data = pd.read_csv(openff_data_props / filename, index_col=[0, 1])\n",
    "    ref_data = pd.read_csv(ref_data_dir         , index_col=[0, 1])\n",
    "    data = pd.concat([new_data, ref_data], axis=1)\n",
    "\n",
    "    data.to_csv(combined_data_props / filename)"
   ]
  },
  {
   "cell_type": "markdown",
   "metadata": {},
   "source": [
    "## Computing means and uncertainty series' for RDFs, saving to unified dataframes"
   ]
  },
  {
   "cell_type": "code",
   "execution_count": 7,
   "metadata": {},
   "outputs": [],
   "source": [
    "for mol_name, mol_dict in full_rdf_data.items():\n",
    "    df_dict = defaultdict(defaultdict)\n",
    "\n",
    "    for chg_method, data_dict in mol_dict.items():\n",
    "        for elem_pair, rdf_data in data_dict.items():\n",
    "            framework = f'Sage 2.0.0 - {chg_method}'\n",
    "            df_dict[framework][(elem_pair, radii_openff.columns[0])] = radii_openff['Radius (nanometer)'].to_list()\n",
    "            for stat_name, stat_fn in dframe_fns.items():\n",
    "                df_dict[framework][(elem_pair, stat_name)] = list(stat_fn(rdf_data.to_numpy(), axis=1))\n",
    "\n",
    "    dframe = pd.DataFrame.from_dict(df_dict)\n",
    "    dframe.to_csv(openff_data_rdfs / f'{mol_name}.csv') # index deliberately left in"
   ]
  },
  {
   "cell_type": "code",
   "execution_count": 23,
   "metadata": {},
   "outputs": [
    {
     "data": {
      "text/plain": [
       "[<matplotlib.lines.Line2D at 0x7f38bb595b10>,\n",
       " <matplotlib.lines.Line2D at 0x7f38bc7aab00>,\n",
       " <matplotlib.lines.Line2D at 0x7f38bc7ab040>,\n",
       " <matplotlib.lines.Line2D at 0x7f38bc7ab070>]"
      ]
     },
     "execution_count": 23,
     "metadata": {},
     "output_type": "execute_result"
    },
    {
     "data": {
      "image/png": "[encoded data removed]",
      "text/plain": [
       "<Figure size 640x480 with 1 Axes>"
      ]
     },
     "metadata": {},
     "output_type": "display_data"
    }
   ],
   "source": [
    "plt.plot(full_rdf_data['paam_modified']['ABE10_averaged']['g(r) (chain O - water O)'])"
   ]
  },
  {
   "cell_type": "code",
   "execution_count": 20,
   "metadata": {},
   "outputs": [
    {
     "data": {
      "text/plain": [
       "defaultdict(<function __main__.<lambda>()>,\n",
       "            {'paam_modified': defaultdict(<function __main__.<lambda>.<locals>.<lambda>()>,\n",
       "                         {'ABE10_averaged': defaultdict(pandas.core.frame.DataFrame,\n",
       "                                      {'g(r) (chain O - water O)':      Conformer 4  Conformer 2  Conformer 1  Conformer 3\n",
       "                                       0       0.000000     0.000000     0.000000     0.000000\n",
       "                                       1       0.000000     0.000000     0.000000     0.000000\n",
       "                                       2       0.000000     0.000000     0.000000     0.000000\n",
       "                                       3       0.000000     0.000000     0.000000     0.000000\n",
       "                                       4       0.000000     0.000000     0.000000     0.000000\n",
       "                                       ..           ...          ...          ...          ...\n",
       "                                       395     1.007506     0.966642     0.971259     1.045101\n",
       "                                       396     1.011108     1.136770     1.038697     0.990663\n",
       "                                       397     0.971489     0.954064     1.007572     1.097927\n",
       "                                       398     1.035357     1.018008     1.029733     1.038017\n",
       "                                       399     1.091446     0.975874     1.065906     1.020002\n",
       "                                       \n",
       "                                       [400 rows x 4 columns],\n",
       "                                       'g(r) (water O - water O)':      Conformer 4  Conformer 2  Conformer 1  Conformer 3\n",
       "                                       0       0.000000     0.000000     0.000000     0.000000\n",
       "                                       1       0.000000     0.000000     0.000000     0.000000\n",
       "                                       2       0.000000     0.000000     0.000000     0.000000\n",
       "                                       3       0.000000     0.000000     0.000000     0.000000\n",
       "                                       4       0.000000     0.000000     0.000000     0.000000\n",
       "                                       ..           ...          ...          ...          ...\n",
       "                                       395     0.992628     0.995285     1.001636     0.990618\n",
       "                                       396     1.004339     1.001959     0.998009     0.997844\n",
       "                                       397     1.007373     0.998934     1.006494     0.992756\n",
       "                                       398     0.994469     1.003059     0.988427     0.986096\n",
       "                                       399     1.004219     0.992596     0.999493     1.005766\n",
       "                                       \n",
       "                                       [400 rows x 4 columns],\n",
       "                                       'g(r) (chain N - water O)':      Conformer 4  Conformer 2  Conformer 1  Conformer 3\n",
       "                                       0       0.000000     0.000000     0.000000     0.000000\n",
       "                                       1       0.000000     0.000000     0.000000     0.000000\n",
       "                                       2       0.000000     0.000000     0.000000     0.000000\n",
       "                                       3       0.000000     0.000000     0.000000     0.000000\n",
       "                                       4       0.000000     0.000000     0.000000     0.000000\n",
       "                                       ..           ...          ...          ...          ...\n",
       "                                       395     1.010414     1.005889     1.014878     1.066904\n",
       "                                       396     0.995197     1.065903     1.012657     1.026818\n",
       "                                       397     0.995956     1.054794     1.075223     1.087854\n",
       "                                       398     1.002420     1.075279     0.983903     1.083833\n",
       "                                       399     1.040151     1.074173     1.021731     1.051343\n",
       "                                       \n",
       "                                       [400 rows x 4 columns]}),\n",
       "                          'Espaloma_AM1BCC': defaultdict(pandas.core.frame.DataFrame,\n",
       "                                      {'g(r) (chain O - water O)':      Conformer 4  Conformer 2  Conformer 1  Conformer 3\n",
       "                                       0       0.000000     0.000000     0.000000     0.000000\n",
       "                                       1       0.000000     0.000000     0.000000     0.000000\n",
       "                                       2       0.000000     0.000000     0.000000     0.000000\n",
       "                                       3       0.000000     0.000000     0.000000     0.000000\n",
       "                                       4       0.000000     0.000000     0.000000     0.000000\n",
       "                                       ..           ...          ...          ...          ...\n",
       "                                       395     1.013322     1.097466     1.003246     0.998587\n",
       "                                       396     1.041485     1.021069     1.073417     0.981986\n",
       "                                       397     1.128367     0.998673     0.983102     1.125267\n",
       "                                       398     1.045381     1.059530     1.016843     1.032290\n",
       "                                       399     1.030177     0.978723     1.058781     1.005757\n",
       "                                       \n",
       "                                       [400 rows x 4 columns],\n",
       "                                       'g(r) (water O - water O)':      Conformer 4  Conformer 2  Conformer 1  Conformer 3\n",
       "                                       0       0.000000     0.000000     0.000000     0.000000\n",
       "                                       1       0.000000     0.000000     0.000000     0.000000\n",
       "                                       2       0.000000     0.000000     0.000000     0.000000\n",
       "                                       3       0.000000     0.000000     0.000000     0.000000\n",
       "                                       4       0.000000     0.000000     0.000000     0.000000\n",
       "                                       ..           ...          ...          ...          ...\n",
       "                                       395     0.997871     1.005532     0.999608     0.984983\n",
       "                                       396     1.004780     0.998262     1.011312     1.004649\n",
       "                                       397     0.994618     0.987080     1.000880     1.005144\n",
       "                                       398     1.003923     0.999621     0.992607     1.004737\n",
       "                                       399     1.000818     1.008893     0.994009     1.006642\n",
       "                                       \n",
       "                                       [400 rows x 4 columns],\n",
       "                                       'g(r) (chain N - water O)':      Conformer 4  Conformer 2  Conformer 1  Conformer 3\n",
       "                                       0       0.000000     0.000000     0.000000     0.000000\n",
       "                                       1       0.000000     0.000000     0.000000     0.000000\n",
       "                                       2       0.000000     0.000000     0.000000     0.000000\n",
       "                                       3       0.000000     0.000000     0.000000     0.000000\n",
       "                                       4       0.000000     0.000000     0.000000     0.000000\n",
       "                                       ..           ...          ...          ...          ...\n",
       "                                       395     1.010414     1.029147     1.001792     1.087253\n",
       "                                       396     0.983625     1.123754     1.040144     1.023926\n",
       "                                       397     1.006031     1.021697     0.993178     1.049002\n",
       "                                       398     1.012444     1.023735     1.022572     1.026563\n",
       "                                       399     1.062948     1.047105     0.964730     1.045645\n",
       "                                       \n",
       "                                       [400 rows x 4 columns]})}),\n",
       "             'pnipam_modified': defaultdict(<function __main__.<lambda>.<locals>.<lambda>()>,\n",
       "                         {'ABE10_averaged': defaultdict(pandas.core.frame.DataFrame,\n",
       "                                      {'g(r) (chain O - water O)':      Conformer 1  Conformer 4  Conformer 2  Conformer 3\n",
       "                                       0       0.000000     0.000000     0.000000     0.000000\n",
       "                                       1       0.000000     0.000000     0.000000     0.000000\n",
       "                                       2       0.000000     0.000000     0.000000     0.000000\n",
       "                                       3       0.000000     0.000000     0.000000     0.000000\n",
       "                                       4       0.000000     0.000000     0.000000     0.000000\n",
       "                                       ..           ...          ...          ...          ...\n",
       "                                       395     1.031162     1.024551     0.958892     0.981371\n",
       "                                       396     1.057465     1.059894     0.947310     0.996675\n",
       "                                       397     1.007382     1.070245     1.014195     1.027486\n",
       "                                       398     1.002333     1.138397     0.993518     1.013427\n",
       "                                       399     0.986236     0.950937     0.910971     1.006140\n",
       "                                       \n",
       "                                       [400 rows x 4 columns],\n",
       "                                       'g(r) (water O - water O)':      Conformer 1  Conformer 4  Conformer 2  Conformer 3\n",
       "                                       0       0.000000     0.000000     0.000000     0.000000\n",
       "                                       1       0.000000     0.000000     0.000000     0.000000\n",
       "                                       2       0.000000     0.000000     0.000000     0.000000\n",
       "                                       3       0.000000     0.000000     0.000000     0.000000\n",
       "                                       4       0.000000     0.000000     0.000000     0.000000\n",
       "                                       ..           ...          ...          ...          ...\n",
       "                                       395     1.003959     1.000351     1.005562     0.989366\n",
       "                                       396     0.994794     0.998704     1.005261     0.997548\n",
       "                                       397     1.002085     0.999409     0.999459     0.998541\n",
       "                                       398     1.010214     1.000817     0.999784     0.998512\n",
       "                                       399     0.998557     0.994334     1.003397     1.002653\n",
       "                                       \n",
       "                                       [400 rows x 4 columns],\n",
       "                                       'g(r) (chain N - water O)':      Conformer 1  Conformer 4  Conformer 2  Conformer 3\n",
       "                                       0       0.000000     0.000000     0.000000     0.000000\n",
       "                                       1       0.000000     0.000000     0.000000     0.000000\n",
       "                                       2       0.000000     0.000000     0.000000     0.000000\n",
       "                                       3       0.000000     0.000000     0.000000     0.000000\n",
       "                                       4       0.000000     0.000000     0.000000     0.000000\n",
       "                                       ..           ...          ...          ...          ...\n",
       "                                       395     0.940709     1.074309     1.026738     0.972326\n",
       "                                       396     0.983218     1.089148     1.005813     1.041671\n",
       "                                       397     1.076780     1.000835     1.003001     1.036440\n",
       "                                       398     1.011242     1.006958     0.969015     0.984472\n",
       "                                       399     1.003967     1.001919     0.999630     1.070409\n",
       "                                       \n",
       "                                       [400 rows x 4 columns]}),\n",
       "                          'Espaloma_AM1BCC': defaultdict(pandas.core.frame.DataFrame,\n",
       "                                      {'g(r) (chain O - water O)':      Conformer 1  Conformer 4  Conformer 2  Conformer 3\n",
       "                                       0       0.000000     0.000000     0.000000     0.000000\n",
       "                                       1       0.000000     0.000000     0.000000     0.000000\n",
       "                                       2       0.000000     0.000000     0.000000     0.000000\n",
       "                                       3       0.000000     0.000000     0.000000     0.000000\n",
       "                                       4       0.000000     0.000000     0.000000     0.000000\n",
       "                                       ..           ...          ...          ...          ...\n",
       "                                       395     0.983674     1.053953     0.983769     1.094433\n",
       "                                       396     1.050715     0.990134     1.068817     0.935929\n",
       "                                       397     1.043200     1.092635     1.079122     1.009578\n",
       "                                       398     1.020152     0.908935     0.977925     0.944380\n",
       "                                       399     1.012832     1.008569     1.026228     1.028302\n",
       "                                       \n",
       "                                       [400 rows x 4 columns],\n",
       "                                       'g(r) (water O - water O)':      Conformer 1  Conformer 4  Conformer 2  Conformer 3\n",
       "                                       0       0.000000     0.000000     0.000000     0.000000\n",
       "                                       1       0.000000     0.000000     0.000000     0.000000\n",
       "                                       2       0.000000     0.000000     0.000000     0.000000\n",
       "                                       3       0.000000     0.000000     0.000000     0.000000\n",
       "                                       4       0.000000     0.000000     0.000000     0.000000\n",
       "                                       ..           ...          ...          ...          ...\n",
       "                                       395     1.001197     1.001918     1.004256     0.994940\n",
       "                                       396     1.007505     1.015858     0.996135     1.002316\n",
       "                                       397     1.000403     1.008810     0.998354     1.003478\n",
       "                                       398     1.000559     0.988042     1.000186     1.000374\n",
       "                                       399     0.985144     0.998249     0.997582     0.999427\n",
       "                                       \n",
       "                                       [400 rows x 4 columns],\n",
       "                                       'g(r) (chain N - water O)':      Conformer 1  Conformer 4  Conformer 2  Conformer 3\n",
       "                                       0       0.000000     0.000000     0.000000     0.000000\n",
       "                                       1       0.000000     0.000000     0.000000     0.000000\n",
       "                                       2       0.000000     0.000000     0.000000     0.000000\n",
       "                                       3       0.000000     0.000000     0.000000     0.000000\n",
       "                                       4       0.000000     0.000000     0.000000     0.000000\n",
       "                                       ..           ...          ...          ...          ...\n",
       "                                       395     1.117092     0.992887     1.062923     0.967804\n",
       "                                       396     1.070965     1.017138     1.044066     0.996675\n",
       "                                       397     1.005144     1.038898     1.032106     1.052110\n",
       "                                       398     1.029062     0.971313     0.911096     1.078019\n",
       "                                       399     1.085968     1.026302     0.906538     0.992843\n",
       "                                       \n",
       "                                       [400 rows x 4 columns]})}),\n",
       "             'peg_modified': defaultdict(<function __main__.<lambda>.<locals>.<lambda>()>,\n",
       "                         {'Espaloma_AM1BCC': defaultdict(pandas.core.frame.DataFrame,\n",
       "                                      {'g(r) (chain O - water O)':      Conformer 1  Conformer 2  Conformer 4  Conformer 3\n",
       "                                       0       0.000000     0.000000     0.000000     0.000000\n",
       "                                       1       0.000000     0.000000     0.000000     0.000000\n",
       "                                       2       0.000000     0.000000     0.000000     0.000000\n",
       "                                       3       0.000000     0.000000     0.000000     0.000000\n",
       "                                       4       0.000000     0.000000     0.000000     0.000000\n",
       "                                       ..           ...          ...          ...          ...\n",
       "                                       395     1.090631     1.076034     1.019733     1.059479\n",
       "                                       396     1.029319     1.047623     0.993252     0.975326\n",
       "                                       397     0.993115     0.955771     1.002965     1.043945\n",
       "                                       398     1.014141     0.968862     0.993062     0.968815\n",
       "                                       399     0.996130     0.967249     1.034991     1.022194\n",
       "                                       \n",
       "                                       [400 rows x 4 columns],\n",
       "                                       'g(r) (water O - water O)':      Conformer 1  Conformer 2  Conformer 4  Conformer 3\n",
       "                                       0       0.000000     0.000000     0.000000     0.000000\n",
       "                                       1       0.000000     0.000000     0.000000     0.000000\n",
       "                                       2       0.000000     0.000000     0.000000     0.000000\n",
       "                                       3       0.000000     0.000000     0.000000     0.000000\n",
       "                                       4       0.000000     0.000000     0.000000     0.000000\n",
       "                                       ..           ...          ...          ...          ...\n",
       "                                       395     0.997363     1.009181     1.008890     0.994909\n",
       "                                       396     0.998552     1.006110     0.997581     1.012445\n",
       "                                       397     0.992703     0.997582     1.001372     1.007177\n",
       "                                       398     1.000826     1.004327     1.001326     1.001689\n",
       "                                       399     1.000964     0.997473     0.999686     0.992199\n",
       "                                       \n",
       "                                       [400 rows x 4 columns]}),\n",
       "                          'ABE10_averaged': defaultdict(pandas.core.frame.DataFrame,\n",
       "                                      {'g(r) (chain O - water O)':      Conformer 1  Conformer 2  Conformer 4  Conformer 3\n",
       "                                       0       0.000000     0.000000     0.000000     0.000000\n",
       "                                       1       0.000000     0.000000     0.000000     0.000000\n",
       "                                       2       0.000000     0.000000     0.000000     0.000000\n",
       "                                       3       0.000000     0.000000     0.000000     0.000000\n",
       "                                       4       0.000000     0.000000     0.000000     0.000000\n",
       "                                       ..           ...          ...          ...          ...\n",
       "                                       395     1.014733     1.026523     0.965281     1.077632\n",
       "                                       396     1.045736     1.036129     0.978476     1.031152\n",
       "                                       397     1.017617     0.959039     1.020934     1.078253\n",
       "                                       398     1.023892     0.994872     0.984935     1.045215\n",
       "                                       399     0.958937     1.046506     1.018820     1.020576\n",
       "                                       \n",
       "                                       [400 rows x 4 columns],\n",
       "                                       'g(r) (water O - water O)':      Conformer 1  Conformer 2  Conformer 4  Conformer 3\n",
       "                                       0       0.000000     0.000000     0.000000     0.000000\n",
       "                                       1       0.000000     0.000000     0.000000     0.000000\n",
       "                                       2       0.000000     0.000000     0.000000     0.000000\n",
       "                                       3       0.000000     0.000000     0.000000     0.000000\n",
       "                                       4       0.000000     0.000000     0.000000     0.000000\n",
       "                                       ..           ...          ...          ...          ...\n",
       "                                       395     1.007595     1.005733     1.001735     1.001931\n",
       "                                       396     1.005797     1.000634     1.000047     1.009118\n",
       "                                       397     0.993158     0.995703     1.000882     1.005154\n",
       "                                       398     1.000448     1.004234     1.001357     1.006008\n",
       "                                       399     0.988194     1.001813     0.999595     1.004907\n",
       "                                       \n",
       "                                       [400 rows x 4 columns]})})})"
      ]
     },
     "execution_count": 20,
     "metadata": {},
     "output_type": "execute_result"
    }
   ],
   "source": [
    "full_rdf_data"
   ]
  },
  {
   "cell_type": "markdown",
   "metadata": {},
   "source": [
    "### Collating manually-extracted RDF data into plotting-compatible CSVs"
   ]
  },
  {
   "cell_type": "code",
   "execution_count": 8,
   "metadata": {},
   "outputs": [],
   "source": [
    "CSV_NAME_SPLIT = re.compile(r'(\\w+)\\s(\\w)-(\\w)\\Z')\n",
    "col_renames = {\n",
    "    'DD' : 'DREIDING - RESP',\n",
    "    'tip3p' : 'CHARMM - Mulliken',\n",
    "    'tip3pc' : 'CHARMM-c - Mulliken',\n",
    "    'GAFF' : 'GAFF - RESP',\n",
    "    'GAFF2' : 'GAFF2 - RESP',\n",
    "    'r' : 'Radius (nanometer)'\n",
    "}\n",
    "\n",
    "rdfs = defaultdict(defaultdict)\n",
    "manual_csv_dir = colina_data_rdfs / 'manually_split_csvs'\n",
    "\n",
    "for path in manual_csv_dir.iterdir():\n",
    "    if path.suffix == '.csv':\n",
    "        mol_name, chain_elem, water_elem = re.search(CSV_NAME_SPLIT, path.stem).groups()\n",
    "        colina_df = pd.read_csv(path)\n",
    "        colina_df['r'] = colina_df['r'].apply(lambda x : x / 10.0) # convert readii to nanometers from angstroms\n",
    "        colina_df.rename(col_renames, axis=1, inplace=True)      # adjust names to match property plots\n",
    "\n",
    "        rdfs[mol_name][f'g(r) (chain {chain_elem} - water {water_elem})'] = colina_df"
   ]
  },
  {
   "cell_type": "code",
   "execution_count": 9,
   "metadata": {},
   "outputs": [],
   "source": [
    "mol_rename = {\n",
    "    'PEG' : 'peg_modified',\n",
    "    'PAAm' : 'paam_modified',\n",
    "    'PNIPAAm' : 'pnipam_modified'\n",
    "}\n",
    "\n",
    "for mol_name, rdf_dict in rdfs.items():\n",
    "    mol_rdf_dict = defaultdict(defaultdict)\n",
    "    for elem_pair, rdf_dframe in rdf_dict.items():\n",
    "        radii_colina, rdf_only_df = trajectory.rdfs_to_plot_data(rdf_dframe)\n",
    "        for framework, rdf_series in rdf_only_df.items():\n",
    "            rdf_list = rdf_series.to_list()\n",
    "            mol_rdf_dict[framework][(elem_pair, radii_colina.columns[0])] = radii_colina['Radius (nanometer)'].to_list()\n",
    "            mol_rdf_dict[framework][(elem_pair, 'observables'  )] = rdf_list\n",
    "            mol_rdf_dict[framework][(elem_pair, 'uncertainties')] = [0.0 for _  in rdf_list]# set uncertainties to 0 (since no replicates are available)\n",
    "    \n",
    "    fmt_dframe = pd.DataFrame.from_dict(mol_rdf_dict)\n",
    "    fmt_dframe.to_csv(colina_data_rdfs / f'{mol_rename[mol_name]}.csv')        "
   ]
  },
  {
   "cell_type": "markdown",
   "metadata": {},
   "source": [
    "### Merging property dataframes with data from Colina paper"
   ]
  },
  {
   "cell_type": "code",
   "execution_count": 10,
   "metadata": {},
   "outputs": [],
   "source": [
    "for path in openff_data_rdfs.iterdir():\n",
    "    filename = path.name\n",
    "    openff_rdfs = pd.read_csv(path, index_col=(0, 1))\n",
    "    colina_rdfs = pd.read_csv(colina_data_rdfs / filename, index_col=(0, 1))\n",
    "\n",
    "    combined_rdfs = pd.concat([openff_rdfs, colina_rdfs], axis=1)\n",
    "    combined_rdfs.to_csv(combined_data_rdfs / filename)"
   ]
  },
  {
   "attachments": {},
   "cell_type": "markdown",
   "metadata": {},
   "source": [
    "# Plotting shape props and RDFs"
   ]
  },
  {
   "cell_type": "markdown",
   "metadata": {},
   "source": [
    "## Shape Properties"
   ]
  },
  {
   "cell_type": "code",
   "execution_count": 11,
   "metadata": {},
   "outputs": [],
   "source": [
    "# defining colors for MD framework (sampled from tab20)\n",
    "color_set = (\n",
    "    'blue',\n",
    "    'orange',\n",
    "    'green',\n",
    "    'purple',\n",
    "    'grey',\n",
    ")\n",
    "hues_per_color = 4\n",
    "cmap = plt.get_cmap('tab20c')\n",
    "\n",
    "cdict, carr = plotutils.label_discrete_cmap(cmap, color_set, hues_per_color)\n",
    "dset_colors = {\n",
    "    'Sage 2.0.0 - ABE10_averaged'   : cdict['blue0'  ],\n",
    "    'Sage 2.0.0 - Espaloma_AM1BCC'  : cdict['blue2'  ],\n",
    "    'DREIDING - RESP'               : cdict['purple0'],\n",
    "    'CHARMM - Mulliken'             : cdict['orange0'],\n",
    "    'CHARMM-c - Mulliken'           : cdict['orange2'],\n",
    "    'GAFF - RESP'                   : cdict['green0' ],\n",
    "    'GAFF2 - RESP'                  : cdict['green2' ],\n",
    "}"
   ]
  },
  {
   "cell_type": "code",
   "execution_count": null,
   "metadata": {},
   "outputs": [],
   "source": [
    "for mol_name in equil_mgr.unique_polymer_names:\n",
    "    dframe = pd.read_csv(combined_data_props / f'{mol_name}.csv', index_col=[0, 1])\n",
    "    dframe = dframe.sort_index(axis=1, key=lambda x : [list(dset_colors.keys()).index(c) for c in x]) # sort in same order as colors are defined\n",
    "    obs = dframe.loc['observables']\n",
    "    std = dframe.loc['uncertainties']\n",
    "\n",
    "    frameworks = obs.columns\n",
    "    num_dsets = len(frameworks)\n",
    "    num_props = len(obs.index)\n",
    "    x_pos = np.arange(num_dsets)\n",
    "\n",
    "    fig, ax = plotutils.presize_subplots(nrows=1, ncols=num_props)\n",
    "    # fig.suptitle(mol_name)\n",
    "\n",
    "    for axis, (prop_name, prop_data) in zip(ax.flatten(), obs.iterrows()):\n",
    "        uncert = std.loc[prop_name].to_numpy()\n",
    "\n",
    "        axis.set_title(prop_name)\n",
    "        axis.bar(x_pos, prop_data, yerr=uncert, color=[dset_colors[fr] for fr in frameworks])\n",
    "        axis.set_xticks(x_pos)\n",
    "        axis.set_xticklabels([fw.replace(' - ', '\\n + ') for fw in obs.columns], rotation=-30)\n",
    "\n",
    "    fig.savefig(plot_prop_dir / f'{mol_name}_properties.png', bbox_inches='tight')\n",
    "    plt.close()"
   ]
  },
  {
   "cell_type": "markdown",
   "metadata": {},
   "source": [
    "## RDFs"
   ]
  },
  {
   "cell_type": "code",
   "execution_count": 19,
   "metadata": {},
   "outputs": [],
   "source": [
    "from ast import literal_eval\n",
    "from mpl_toolkits.axes_grid1.inset_locator import inset_axes\n",
    "\n",
    "\n",
    "# set plotting parameters\n",
    "fontsize = 14\n",
    "scale = 10\n",
    "aspect = 4/5\n",
    "\n",
    "subrange_min = 0.0 # subrange cutoffs, in nm\n",
    "subrange_max = 0.5\n",
    "# subrange_min = 0.2 # subrange cutoffs, in nm\n",
    "# subrange_max = 1.2\n",
    "\n",
    "inset_head_fract : float = 0.9 # fraction of the width of the RDF plot to add to the top to accomodate the inset\n",
    "inset_perc_x = 40 # percentage of main figure size to scale inset x axis\n",
    "inset_perc_y = 40 # percentage of main figure size to scale inset y axis\n",
    "\n",
    "# radii from new data\n",
    "radii_label = 'Radius (nanometer)'\n",
    "\n",
    "# loop over and plot\n",
    "for mol_name in equil_mgr.unique_polymer_names:\n",
    "    combined_rdf_dframe = pd.read_csv(combined_data_rdfs / f'{mol_name}.csv', index_col=[0, 1])\n",
    "    combined_rdf_dframe = combined_rdf_dframe.sort_index(axis=1, key=lambda x : [list(dset_colors.keys()).index(c) for c in x]) # sort in same order as colors are defined\n",
    "\n",
    "    rdf_labels, series_names = combined_rdf_dframe.index.levels\n",
    "    for rdf_name in rdf_labels:\n",
    "        subframe = combined_rdf_dframe.xs(rdf_name)\n",
    "        subframe = subframe.dropna(axis=1, inplace=False) # remove missing columns\n",
    "        subframe = subframe.applymap(literal_eval) # de-stringify lists throughout\n",
    "\n",
    "        fig, ax = plotutils.presize_subplots(nrows=1, ncols=1, scale=scale, elongation=aspect)\n",
    "        fig.suptitle(mol_name)\n",
    "\n",
    "        ax.set_xlabel(radii_label, fontsize=fontsize)\n",
    "        ax.set_ylabel(rdf_name, fontsize=fontsize)\n",
    "        ax.set_xlim(subrange_min, subrange_max)\n",
    "\n",
    "        inset_ax = inset_axes(ax, # generate longer length-scale inset\n",
    "            width=f'{inset_perc_x}%',\n",
    "            height=f'{inset_perc_y}%',\n",
    "            borderpad=3,\n",
    "            loc='upper left'\n",
    "        )\n",
    "        inset_ax.set_xlabel(radii_label, fontsize=fontsize)\n",
    "        # inset_ax.set_ylabel(rdf_name, fontsize=fontsize)\n",
    "\n",
    "        for framework, data in subframe.items():\n",
    "            radii, rdf_mean, rdf_std = [\n",
    "                np.array(data[ser_name])\n",
    "                    for ser_name in series_names\n",
    "            ]\n",
    "            # radii    = data.loc[radii_label]\n",
    "            # rdf_mean = data.loc['observables']\n",
    "            # rdf_std  = data.loc['uncertainties']\n",
    "\n",
    "            subrange_idxs = np.where((subrange_min < radii) & (radii < subrange_max)) # extract region corresponding to 2-12 angstroms shown by Rukmani\n",
    "            err_lower = rdf_mean - rdf_std # compute error band boundaries\n",
    "            err_upper = rdf_mean + rdf_std\n",
    "\n",
    "            # extract subranges\n",
    "            radii_subrange    = radii[   subrange_idxs]\n",
    "            rdf_mean_subrange = rdf_mean[subrange_idxs]\n",
    "            rdf_std_subrange  = rdf_std[ subrange_idxs]\n",
    "            err_lower_subrange  = err_lower[subrange_idxs]\n",
    "            err_upper_subrange  = err_upper[subrange_idxs]\n",
    "            ax.set_ylim(0, err_upper_subrange.max() * (1 + inset_head_fract)) # accomodate inset with maximum error\n",
    "            \n",
    "            # plot reduced main plot\n",
    "            ax.plot(radii_subrange, rdf_mean_subrange, label=framework)\n",
    "            ax.fill_between(radii_subrange, rdf_mean_subrange - rdf_std_subrange, rdf_mean_subrange + rdf_std_subrange, alpha=0.5)\n",
    "\n",
    "            # plot longer length-scale inset\n",
    "            inset_ax.plot(radii, rdf_mean, label=framework)\n",
    "            inset_ax.fill_between(radii, rdf_mean - rdf_std, rdf_mean + rdf_std, alpha=0.5)\n",
    "            \n",
    "        ax.legend(loc='upper right', fontsize=fontsize)\n",
    "        fig.savefig(plot_rdf_dir / f'{mol_name}_{rdf_name}.png', bbox_inches='tight')\n",
    "        plt.close()"
   ]
  },
  {
   "cell_type": "markdown",
   "metadata": {},
   "source": [
    "## Drawing molecular structures for RCT graphic"
   ]
  },
  {
   "cell_type": "code",
   "execution_count": null,
   "metadata": {},
   "outputs": [],
   "source": [
    "from matplotlib.colors import Normalize\n",
    "rdkdraw.set_rdkdraw_size(1000, 1/1)\n",
    "\n",
    "mol_img_path = fig_dir / 'RCT_diagrams'\n",
    "mol_img_path.mkdir(exist_ok=True)\n",
    "\n",
    "N = 1_000\n",
    "mol_name = 'pnipam_modified'\n",
    "\n",
    "# load polymer object and associated molecules\n",
    "full_polymer = src_mgr.polymers[  mol_name]\n",
    "redux_polymer = redux_mgr.polymers[mol_name]\n",
    "\n",
    "full_polymer.assign_charges_by_lookup('ABE10_averaged')\n",
    "redux_polymer.assign_charges_by_lookup('ABE10_exact')\n",
    "\n",
    "unparam_rdmol = full_polymer.rdmol\n",
    "param_rdmol   = full_polymer.offmol.to_rdkit()\n",
    "redux_rdmol   = redux_polymer.offmol.to_rdkit()\n",
    "\n",
    "# generate charge heatmap info\n",
    "prop_vals = rdprops.aggregate_atom_prop(param_rdmol, 'PartialCharge', prop_type=float) # explicitly ensure the property is interpreted as a numericla value\n",
    "vmin, vmax = min(prop_vals), max(prop_vals)\n",
    "norm = Normalize(vmin, vmax)\n",
    "cmap = plt.get_cmap('turbo')\n",
    "\n",
    "rdmol_imgs = {\n",
    "    'unparam' : Chem.Draw.MolToImage(unparam_rdmol, size=(N, N)),\n",
    "    'param'   : Chem.Draw.MolToImage(param_rdmol, size=(N, N)),\n",
    "    'redux'   : Chem.Draw.MolToImage(redux_rdmol, size=(N, N)),\n",
    "    'charged_full'  : rdkdraw.rdmol_prop_heatmap(param_rdmol, prop='PartialCharge', cmap=cmap, norm=norm, img_size=(N, N)),\n",
    "    'charged_redux' : rdkdraw.rdmol_prop_heatmap(redux_rdmol, prop='PartialCharge', cmap=cmap, norm=norm, img_size=(N, N))\n",
    "}\n",
    "\n",
    "for label, rdmol_img in rdmol_imgs.items():\n",
    "    rdmol_img.save(mol_img_path / f'{label}.png')"
   ]
  },
  {
   "cell_type": "markdown",
   "metadata": {},
   "source": [
    "# Comparing ABE10 and Espaloma charges"
   ]
  },
  {
   "cell_type": "code",
   "execution_count": null,
   "metadata": {},
   "outputs": [],
   "source": [
    "from ast import literal_eval\n",
    "import matplotlib.patches as mpl_patches\n",
    "from matplotlib.colors import Normalize, Colormap\n",
    "from polysaccharide.general import GREEK_UPPER\n",
    "\n",
    "\n",
    "def charges_plots(polymer : Polymer, charge_method_1 : str, charge_method_2 : str, n_bins : int=50, fontsize : int=14, orient : Optional[str]=None,\n",
    "                   cmap : Colormap=plt.get_cmap('turbo'), converter : str='CXSMARTS') -> tuple[tuple[plt.Figure, plt.Axes], tuple[plt.Figure, plt.Axes]]:\n",
    "    '''For generating charge graphics for paper and resentations'''\n",
    "\n",
    "    # extracting molecules and computing difference molecule\n",
    "    chgd_offmol_1 = polymer.charged_offmol_from_sdf(charge_method_1)\n",
    "    chgd_rdmol_1  = chgd_offmol_1.to_rdkit() # ensure map numbers are present for correct matching\n",
    "    chgd_rdmol_1  = rdconvert.flattened_rdmol(chgd_rdmol_1, converter=converter) # convert \n",
    "    \n",
    "    chgd_offmol_2 = polymer.charged_offmol_from_sdf(charge_method_2)\n",
    "    chgd_rdmol_2  = chgd_offmol_2.to_rdkit() # ensure map numbers are present for correct matching\n",
    "    chgd_rdmol_2  = rdconvert.flattened_rdmol(chgd_rdmol_2, converter=converter) # convert \n",
    "    \n",
    "    diff_rdmol = rdcompare.difference_rdmol(chgd_rdmol_1, chgd_rdmol_2)\n",
    "    diff_str = f'{GREEK_UPPER[\"delta\"]}q (elem. charge): {charge_method_1} vs {charge_method_2}'\n",
    "\n",
    "    # generating heatmap\n",
    "    hm_fig, hm_ax = rdkdraw.rdmol_prop_heatmap_colorscaled( # done in-line to avoid fig and axes from being displayed prematurely\n",
    "        rdmol=diff_rdmol,\n",
    "        prop='DeltaPartialCharge',\n",
    "        cmap=cmap,\n",
    "        cbar_label='',#diff_str,\n",
    "        orient=orient\n",
    "    )\n",
    "\n",
    "    # Extracting charge differences values and ranges\n",
    "    deltas = literal_eval(diff_rdmol.GetProp('DeltaPartialCharges'))\n",
    "    deltas = np.array(deltas)\n",
    "    vmin, vmax = deltas.min(), deltas.max()\n",
    "    norm = Normalize(vmin, vmax)\n",
    "\n",
    "    # generating histogram\n",
    "    hist_fig, hist_ax = plotutils.presize_subplots(1, 1, scale=8, elongation=4/5)\n",
    "    bin_vals, bin_edges, patches = hist_ax.hist(deltas, bins=n_bins, orientation='horizontal')\n",
    "\n",
    "    # coloring histogram bars by atom color map\n",
    "    for bin_edge, artist in zip(bin_edges, patches):\n",
    "        plt.setp(artist, 'facecolor', cmap(norm(bin_edge)))\n",
    "\n",
    "    # computing and labelling charge RMSE\n",
    "    RMSE = analysis.statistics.RMSE(chgd_offmol_1.partial_charges, chgd_offmol_2.partial_charges)\n",
    "    labels = [f'RMSE = {round(RMSE.magnitude, 5)} e']\n",
    "    handles = [mpl_patches.Rectangle((0, 0), 1, 1, fc=\"white\", ec=\"white\", lw=0, alpha=0)] * len(labels) # create empty handles to pin annotation text to\n",
    "    hist_ax.legend(handles, labels, loc='best', handlelength=0, fontsize=fontsize)\n",
    "    # hist_ax.annotate(f'RMSE = {round(RMSE.magnitude, 5)} e', (0.65, 0.9), xycoords='axes fraction', fontsize=14, bbox=dict(edgecolor='black', facecolor='white'))\n",
    "\n",
    "    # Labelling and sizing axes\n",
    "    # hist_ax.set_title(f'{polymer.mol_name} charge differences')\n",
    "    _ = hist_ax.set_yticks((vmin, 0, vmax))\n",
    "    hist_ax.set_xlabel('Number of atoms', fontsize=fontsize)\n",
    "    hist_ax.set_ylabel(diff_str, fontsize=fontsize)\n",
    "\n",
    "    return diff_rdmol, RMSE, (hm_fig, hm_ax), (hist_fig, hist_ax)\n",
    "\n",
    "\n",
    "class BinSizer(ABC):\n",
    "    '''Abstract base for auto-sizing histogram bins\n",
    "    Child class implementations taken from https://en.wikipedia.org/wiki/Histogram#Number_of_bins_and_width'''\n",
    "    @abstractstaticmethod\n",
    "    def num_bins(N : int) -> int:\n",
    "        raise NotImplementedError\n",
    "\n",
    "    @classmethod\n",
    "    @property\n",
    "    def registry(cls) -> dict[str, 'BinSizer']:\n",
    "        '''Name-indexed dict of all inherited Component implementations'''\n",
    "        return {\n",
    "            subcomp.__name__ : subcomp\n",
    "                for subcomp in cls.__subclasses__()\n",
    "        }\n",
    "\n",
    "class Sturges(BinSizer):\n",
    "    '''Based on Sturges' Formula'''\n",
    "    @staticmethod\n",
    "    def num_bins(N: int) -> int:\n",
    "        return 1 + ceil(np.log2(N)) \n",
    "\n",
    "class Sqrt(BinSizer):\n",
    "    '''Based on square root'''\n",
    "    @staticmethod\n",
    "    def num_bins(N: int) -> int:\n",
    "        return ceil(np.sqrt(N))\n",
    "\n",
    "class Rice(BinSizer):\n",
    "    '''Based on Rice's Rule'''\n",
    "    @staticmethod\n",
    "    def num_bins(N: int) -> int:\n",
    "        return ceil(2 * N**(1/3))"
   ]
  },
  {
   "cell_type": "code",
   "execution_count": null,
   "metadata": {},
   "outputs": [],
   "source": [
    "chg_plot_dir = fig_dir / 'charge_plots'\n",
    "chg_plot_dir.mkdir(exist_ok=True)\n",
    "\n",
    "# config options\n",
    "fs = 12\n",
    "save = True\n",
    "# save = False\n",
    "cvtr = 'CXSMARTS'\n",
    "cmap = plt.get_cmap('turbo')\n",
    "\n",
    "# orient = None\n",
    "orient = 'vertical'\n",
    "\n",
    "# bin_sizer_type = 'Sturges'\n",
    "bin_sizer_type = 'Sqrt'\n",
    "bin_sizer = BinSizer.registry[bin_sizer_type]()\n",
    "\n",
    "# begin plotting loop\n",
    "for mol_name, polymer in src_mgr.polymers.items():\n",
    "    redux_polymer = redux_mgr.polymers[mol_name] # lookup reduction of each polymer\n",
    "    mol_dir = chg_plot_dir / mol_name\n",
    "    mol_dir.mkdir(exist_ok=True)\n",
    "\n",
    "    # reference to ABE10 exact\n",
    "    n_bins = bin_sizer.num_bins(redux_polymer.n_atoms)\n",
    "    # print(n_bins)\n",
    "    diffmol, RMSE, (hm_fig, hm_ax), (hist_fig, hist_ax) = charges_plots(redux_polymer, 'ABE10_exact', 'ABE10_averaged', n_bins=n_bins, fontsize=fs, cmap=cmap, converter=cvtr, orient=orient)\n",
    "    if save:\n",
    "        hm_fig.savefig(  mol_dir / f'{mol_name}_redux_heatmap.png', bbox_inches='tight')\n",
    "        hist_fig.savefig(mol_dir / f'{mol_name}_redux_histogram.png', bbox_inches='tight')\n",
    "        plt.close()\n",
    "\n",
    "    # RCT vs Espaloma\n",
    "    n_bins = bin_sizer.num_bins(polymer.n_atoms)\n",
    "    # print(n_bins)\n",
    "    diffmol, RMSE, (hm_fig, hm_ax), (hist_fig, hist_ax) = charges_plots(polymer, 'ABE10_averaged', 'Espaloma_AM1BCC', n_bins=n_bins, fontsize=fs, cmap=cmap, converter=cvtr, orient=orient)\n",
    "    if save:\n",
    "        hm_fig.savefig(  mol_dir / f'{mol_name}_heatmap.png', bbox_inches='tight')\n",
    "        hist_fig.savefig(mol_dir / f'{mol_name}_histogram.png', bbox_inches='tight')\n",
    "        plt.close()"
   ]
  },
  {
   "cell_type": "markdown",
   "metadata": {},
   "source": [
    "# Probing conformer box sizes"
   ]
  },
  {
   "cell_type": "code",
   "execution_count": null,
   "metadata": {},
   "outputs": [],
   "source": [
    "box_sizes = defaultdict(list)\n",
    "\n",
    "for (mol_name, sim_dirs) in equil_mgr.all_completed_sims.items():\n",
    "    polymer = equil_mgr.polymers[mol_name]\n",
    "    box_sizes[polymer.base_mol_name].append(polymer.box_vectors)\n",
    "\n",
    "box_sizes = {\n",
    "    mol_name : np.vstack(sizes_list)\n",
    "        for mol_name, sizes_list in box_sizes.items()\n",
    "}"
   ]
  },
  {
   "cell_type": "code",
   "execution_count": null,
   "metadata": {},
   "outputs": [],
   "source": [
    "PLUS_MINUS = '\\u00B1'\n",
    "\n",
    "for mol_name, sizes_arr in box_sizes.items():\n",
    "    print(mol_name)\n",
    "    for axis, mean, std in zip(('x', 'y', 'z'), sizes_arr.mean(axis=0), sizes_arr.std(axis=0)):\n",
    "        print(f'\\t{axis} : {round(mean, 3)}{PLUS_MINUS}{round(std, 3)}')"
   ]
  },
  {
   "cell_type": "markdown",
   "metadata": {},
   "source": [
    "## Checking minimum box dims vs PBC for MIC"
   ]
  },
  {
   "cell_type": "code",
   "execution_count": null,
   "metadata": {},
   "outputs": [],
   "source": [
    "PRECISION = 4\n",
    "chg_model = 'ABE10_averaged'\n",
    "# chg_model = 'Espaloma_AM1BCC'\n",
    "base_mol_name = 'pnipam_modified'\n",
    "\n",
    "rdf_dframe = full_rdf_data[base_mol_name][chg_model]['g(r) (chain N - water O)']\n",
    "rdf_dframe = rdf_dframe.sort_index(axis=1, inplace=False)\n",
    "\n",
    "n = 10\n",
    "a = 3/2\n",
    "plt.figure(figsize=(n*a, n))\n",
    "plt.title(f'{base_mol_name} - {chg_model}')\n",
    "for conf_name, series in rdf_dframe.items():\n",
    "    conf_re = re.search(r'(?<=Conformer\\s)\\d+', conf_name)\n",
    "    if conf_re:\n",
    "        conf_num = int(conf_re.group(0))\n",
    "\n",
    "    box_dims = box_sizes[chg_model][f'{base_mol_name}_conf_{conf_num}_solv_water_equil_solv_water']\n",
    "    box_vol = general.product(box_dims.in_units_of(nanometer))\n",
    "    box_min = box_dims.min()\n",
    "\n",
    "    plt.plot(radii, series, label=f'{conf_name} (min_box_half = {box_min / 2})')\n",
    "    # plt.plot(radii, series, label=f'{conf_name} (V = {box_vol}, min = {box_min})')\n",
    "    plt.legend()"
   ]
  },
  {
   "cell_type": "code",
   "execution_count": null,
   "metadata": {},
   "outputs": [],
   "source": [
    "PRECISION = 4\n",
    "chg_model = 'ABE10_averaged'\n",
    "# chg_model = 'Espaloma_AM1BCC'\n",
    "base_mol_name = 'pnipam_modified'\n",
    "\n",
    "# rdf_dframe = full_rdf_data[base_mol_name][chg_model]['g(r) (chain N - water O)']\n",
    "rdf_dframe = wwo[base_mol_name][chg_model]\n",
    "# rdf_dframe = rdf_dframe.sort_index(axis=1, inplace=False)\n",
    "\n",
    "n = 10\n",
    "a = 3/2\n",
    "plt.figure(figsize=(n*a, n))\n",
    "plt.title(f'{base_mol_name} - {chg_model}')\n",
    "for conf_name, df in rdf_dframe.items():\n",
    "    radii, rdf = trajectory.rdfs_to_plot_data(df)\n",
    "\n",
    "    # box_dims = box_sizes[chg_model][f'{base_mol_name}_conf_{conf_num}_solv_water_equil_solv_water']\n",
    "    # box_vol = general.product(box_dims.in_units_of(nanometer))\n",
    "    # box_min = box_dims.min()\n",
    "\n",
    "    plt.plot(radii, rdf, label=conf_name)\n",
    "    # plt.plot(radii, series, label=f'{conf_name} (V = {box_vol}, min = {box_min})')\n",
    "    plt.legend()"
   ]
  },
  {
   "cell_type": "markdown",
   "metadata": {},
   "source": [
    "# Water O-O RDF for validation"
   ]
  },
  {
   "cell_type": "code",
   "execution_count": null,
   "metadata": {},
   "outputs": [],
   "source": [
    "from ast import literal_eval\n",
    "\n",
    "for base_mol_name in equil_mgr.unique_polymer_names:\n",
    "    rdf_dframe = pd.read_csv(openff_data_rdfs / f'{base_mol_name}.csv', index_col=(0,1))\n",
    "    rdf_dframe.index.names = ['Series Type', 'Pairs']\n",
    "\n",
    "    for column in rdf_dframe.columns:\n",
    "        rdf_dframe[column] = rdf_dframe[column].apply(literal_eval) # de-stringify lists throughout"
   ]
  },
  {
   "cell_type": "code",
   "execution_count": null,
   "metadata": {},
   "outputs": [],
   "source": [
    "def RecursiveDict() -> defaultdict:\n",
    "    '''Returns a defaultdict which can be recursively nested indefinitely'''\n",
    "    return defaultdict(lambda : RecursiveDict())\n",
    "\n",
    "trajs = RecursiveDict()\n",
    "\n",
    "for mol_name, sim_dirs in equil_mgr.all_completed_sims.items():\n",
    "    polymer = equil_mgr.polymers[mol_name]\n",
    "    for sim_dir in sim_dirs:\n",
    "        sim_paths, sim_params = polymer.load_sim_paths_and_params(sim_dir)\n",
    "        traj = polymer.load_traj(sim_dir, remove_solvent=False)\n",
    "\n",
    "        trajs[polymer.base_mol_name][mol_name][sim_params.charge_method] = traj"
   ]
  },
  {
   "cell_type": "code",
   "execution_count": null,
   "metadata": {},
   "outputs": [],
   "source": [
    "traj = trajs['paam_modified']['paam_modified_conf_1_solv_water_equil_solv_water']['ABE10_averaged']\n",
    "\n",
    "unique_elems = set(atom.element.symbol for atom in traj.topology.atoms)\n",
    "pairs_dict = {\n",
    "    'chain O - water O' : traj.top.select_pairs('not water and element O', 'water and element O')\n",
    "}\n",
    "if 'N' in unique_elems:\n",
    "    pairs_dict['chain N - water O'] = traj.top.select_pairs('not water and element N', 'water and element O')\n",
    "\n",
    "rdf_calc = trajectory.acquire_rdfs(traj, pair_dict=pairs_dict, min_rad=0.0, max_rad=2.0)\n",
    "rad, rdf = trajectory.rdfs_to_plot_data(rdf_calc)\n",
    "plt.plot(rad, rdf)\n",
    "plt.legend(rdf.columns)"
   ]
  },
  {
   "cell_type": "code",
   "execution_count": null,
   "metadata": {},
   "outputs": [],
   "source": [
    "import mdtraj as mdt\n",
    "\n",
    "# query = 'not water and element O'\n",
    "# query = 'water and element O'\n",
    "query = 'not water and element N'\n",
    "# dists = mdt.compute_distances(traj[-1], atom_pairs=traj.top.select_pairs(query, query))\n",
    "dists = mdt.compute_distances(traj[-1], atom_pairs=traj.top.select_pairs('not water and element N', 'water and element O'))\n",
    "\n",
    "bins, edges, patches = plt.hist(dists.flatten(), bins=100)"
   ]
  },
  {
   "cell_type": "code",
   "execution_count": null,
   "metadata": {},
   "outputs": [],
   "source": [
    "polymer.solvent.forcefield_file.relative_to()"
   ]
  },
  {
   "cell_type": "code",
   "execution_count": null,
   "metadata": {},
   "outputs": [],
   "source": [
    "from polysaccharide.solvation import solvents"
   ]
  },
  {
   "cell_type": "code",
   "execution_count": null,
   "metadata": {},
   "outputs": [],
   "source": []
  },
  {
   "cell_type": "code",
   "execution_count": null,
   "metadata": {},
   "outputs": [],
   "source": []
  },
  {
   "cell_type": "code",
   "execution_count": null,
   "metadata": {},
   "outputs": [],
   "source": [
    "from polysaccharide.simulation.records import SimulationParameters\n",
    "from polysaccharide.simulation.ensemble import EnsembleSimulationFactory\n",
    "\n",
    "p = SIM_PARAM_PATH / '100_ns_NVT_ABE10_avgd.json'\n",
    "sim_params = SimulationParameters.from_file(p)\n",
    "polymer = equil_mgr.polymers['paam_modified_conf_1_solv_water_equil_solv_water']\n",
    "\n",
    "# initialize OpenFF Interchange from Molecule\n",
    "polymer.assign_charges_by_lookup(sim_params.charge_method)\n",
    "top = polymer.off_topology\n",
    "top.box_vectors = polymer.box_vectors.in_units_of(nanometer)\n",
    "\n",
    "ff = ForceField(sim_params.forcefield_path, WATER_TIP3P.forcefield_file)\n",
    "interchange = ff.create_interchange(top, charge_from_molecules=[polymer.offmol])\n",
    "\n",
    "# Create ensemble-specific Simulation from Interchange \n",
    "sim_factory = EnsembleSimulationFactory.registry[sim_params.ensemble.upper()]() # case-insensitive check for simulation creators for the desired ensemble\n",
    "simulation = sim_factory.create_simulation(interchange, sim_params=sim_params)"
   ]
  },
  {
   "cell_type": "code",
   "execution_count": null,
   "metadata": {},
   "outputs": [],
   "source": [
    "nonbond = simulation.system.getForce(0)\n"
   ]
  },
  {
   "cell_type": "code",
   "execution_count": null,
   "metadata": {},
   "outputs": [],
   "source": [
    "nonbond.getParticleParameters(0)"
   ]
  },
  {
   "cell_type": "code",
   "execution_count": null,
   "metadata": {},
   "outputs": [],
   "source": [
    "CUTOFF = 2.7 * angstrom\n",
    "atoms = list(simulation.topology.atoms())\n",
    "\n",
    "lj_eps_by_elems = defaultdict(set)\n",
    "\n",
    "sigmas = []\n",
    "# for i in range(nonbond.getNumParticles()):\n",
    "for i in range(500):\n",
    "    chg, sigma, eps = nonbond.getParticleParameters(i)\n",
    "    # if sigma < CUTOFF:\n",
    "    # lj_eps_by_elems[sigma._value].add(atoms[i].element.symbol)\n",
    "    lj_eps_by_elems[atoms[i].element.symbol].add(sigma._value)\n",
    "\n",
    "sigma_vals = [i._value for i in sigmas]"
   ]
  },
  {
   "cell_type": "code",
   "execution_count": null,
   "metadata": {},
   "outputs": [],
   "source": [
    "lj_eps_by_elems"
   ]
  },
  {
   "cell_type": "code",
   "execution_count": null,
   "metadata": {},
   "outputs": [],
   "source": [
    "set(sigma_vals)"
   ]
  },
  {
   "cell_type": "code",
   "execution_count": null,
   "metadata": {},
   "outputs": [],
   "source": [
    "chain_ids = set()\n",
    "water_ids = set()\n",
    "\n",
    "CUTOFF = 0.25\n",
    "pairs = pairs_dict['chain O - water O']\n",
    "\n",
    "for slice in traj[-1]:\n",
    "    dists = mdt.compute_distances(slice, pairs, periodic=True).flatten()\n",
    "    for (id1, id2) in pairs[dists < CUTOFF]:\n",
    "        atom1, atom2 = traj.topology.atom(id1), traj.topology.atom(id2)\n",
    "        if (atom1.residue.name == 'RES'):\n",
    "            chain_atom = atom1\n",
    "            water_atom = atom2\n",
    "        else:\n",
    "            chain_atom = atom2\n",
    "            water_atom = atom1\n",
    "        chain_ids.add(chain_atom.index)\n",
    "        water_ids.add(water_atom.index)\n",
    "\n",
    "chain_ids, water_ids"
   ]
  },
  {
   "cell_type": "code",
   "execution_count": null,
   "metadata": {},
   "outputs": [],
   "source": [
    "len(water_ids)"
   ]
  },
  {
   "cell_type": "code",
   "execution_count": null,
   "metadata": {},
   "outputs": [],
   "source": [
    "traj[::100]"
   ]
  },
  {
   "cell_type": "code",
   "execution_count": null,
   "metadata": {},
   "outputs": [],
   "source": [
    "len(water_ids), max(water_ids)"
   ]
  },
  {
   "cell_type": "code",
   "execution_count": null,
   "metadata": {},
   "outputs": [],
   "source": []
  },
  {
   "cell_type": "code",
   "execution_count": null,
   "metadata": {},
   "outputs": [],
   "source": [
    "' or '.join(f'(index {i})' for i in water_ids)"
   ]
  },
  {
   "cell_type": "code",
   "execution_count": null,
   "metadata": {},
   "outputs": [],
   "source": [
    "plt.hist(np.unique(pairs[dists < 2.5]))"
   ]
  },
  {
   "cell_type": "code",
   "execution_count": null,
   "metadata": {},
   "outputs": [],
   "source": [
    "mdt.Topology.select_pairs"
   ]
  },
  {
   "cell_type": "code",
   "execution_count": null,
   "metadata": {},
   "outputs": [],
   "source": [
    "res = list(traj.topology.residues)\n",
    "chains = list(traj.topology.chains)"
   ]
  },
  {
   "cell_type": "code",
   "execution_count": null,
   "metadata": {},
   "outputs": [],
   "source": [
    "chains"
   ]
  },
  {
   "cell_type": "code",
   "execution_count": null,
   "metadata": {},
   "outputs": [],
   "source": [
    "water_res = res[1]\n",
    "water_res.name"
   ]
  },
  {
   "cell_type": "code",
   "execution_count": null,
   "metadata": {},
   "outputs": [],
   "source": [
    "water_res.atoms"
   ]
  },
  {
   "cell_type": "code",
   "execution_count": null,
   "metadata": {},
   "outputs": [],
   "source": []
  },
  {
   "cell_type": "code",
   "execution_count": null,
   "metadata": {},
   "outputs": [],
   "source": [
    "traj.topology.select('not water')"
   ]
  },
  {
   "cell_type": "code",
   "execution_count": null,
   "metadata": {},
   "outputs": [],
   "source": [
    "for pair in pairs[dists < 2.0]:\n",
    "    id1, id2 = pair\n",
    "    atom1, atom2 = traj.topology.atom(id1), traj.topology.atom(id2)\n",
    "    if atom1.residue == atom2.residue:\n",
    "        print(pair, atom1.residue)"
   ]
  },
  {
   "cell_type": "code",
   "execution_count": null,
   "metadata": {},
   "outputs": [],
   "source": [
    "for idx in pair:\n",
    "    print(traj.topology.atom(idx))"
   ]
  },
  {
   "cell_type": "code",
   "execution_count": null,
   "metadata": {},
   "outputs": [],
   "source": [
    "plt.plot(dist_ser)"
   ]
  },
  {
   "cell_type": "code",
   "execution_count": null,
   "metadata": {},
   "outputs": [],
   "source": [
    "traj.topology.atom(5)"
   ]
  },
  {
   "cell_type": "code",
   "execution_count": null,
   "metadata": {},
   "outputs": [],
   "source": [
    "omm_top = traj.topology.to_openmm()"
   ]
  },
  {
   "cell_type": "code",
   "execution_count": null,
   "metadata": {},
   "outputs": [],
   "source": [
    "chg_method = 'Sage 2.0.0 - ABE10_averaged'\n",
    "pair_str   = 'g(r) (chain O - water O)'\n",
    "\n",
    "radii = rdf_dframe[chg_method].loc['Radius (nanometer)'].loc[pair_str]\n",
    "obs   = rdf_dframe[chg_method].loc['observables'].loc[pair_str]\n",
    "std   = rdf_dframe[chg_method].loc['uncertainties'].loc[pair_str]\n",
    "\n",
    "plt.plot(radii, obs)"
   ]
  },
  {
   "cell_type": "code",
   "execution_count": null,
   "metadata": {},
   "outputs": [],
   "source": [
    "for mol_name, sim_dirs_list in equil_mgr.all_completed_sims.items():\n",
    "    polymer = equil_mgr.polymers[mol_name]\n",
    "    for sim_dir in sim_dirs_list:\n",
    "        print(mol_name, ' : ', sim_dir.name)\n",
    "        sim_paths, sim_params = polymer.load_sim_paths_and_params(sim_dir)\n",
    "\n",
    "        # loading and assessing trajectories\n",
    "        traj = polymer.load_traj(sim_dir)\n",
    "        traj_no_solv = traj.remove_solvent(inplace=False)\n",
    "        unique_elems = set(atom.element.symbol for atom in traj.topology.atoms)\n",
    "\n",
    "        # defining atom pairs\n",
    "        pair_dict = {\n",
    "            'chain O - water O' : traj.top.select_pairs('not water and element O', 'water and element O')\n",
    "        }\n",
    "        if 'N' in unique_elems:\n",
    "            pair_dict['chain N - water O'] = traj.top.select_pairs('not water and element N', 'water and element O')\n",
    "\n",
    "        # computing and saving shape property time series'\n",
    "        sim_paths.time_data = sim_dir / f'{mol_name}_time_series.csv'\n",
    "        prop_data = trajectory.acquire_time_props(traj_no_solv, time_points=sim_params.time_points) \n",
    "        prop_data.to_csv(sim_paths.time_data, index=False)\n",
    "\n",
    "        # computing and saving RDFs \n",
    "        sim_paths.spatial_data = sim_dir / f'{mol_name}_rdfs.csv'\n",
    "        rdf_data = trajectory.acquire_rdfs(traj, pair_dict, min_rad=0.0, max_rad=2.0, rad_unit=nanometer)\n",
    "        rdf_data.to_csv(sim_paths.spatial_data, index=False) # overwrite rdfs with correct raii ranges\n",
    "\n",
    "        # updating path references\n",
    "        sim_paths.to_file(polymer.simulation_paths[sim_dir])"
   ]
  },
  {
   "cell_type": "markdown",
   "metadata": {},
   "source": [
    "## Plotting particle-particle distances (probing periodicity and MIC)"
   ]
  },
  {
   "cell_type": "code",
   "execution_count": null,
   "metadata": {},
   "outputs": [],
   "source": [
    "for name, dims in box_sizes[chg_model].items():\n",
    "    if base_mol_name in name:\n",
    "        print(name)\n",
    "        print('\\tBox dimensions: ', dims)\n",
    "        print('\\tBox volume:', general.product(dims.in_units_of(nanometer)))\n",
    "        print('\\tBox smallest dim: ', dims.min())\n",
    "        print('\\tHalf-BSD: ', dims.min() / 2)"
   ]
  },
  {
   "cell_type": "code",
   "execution_count": null,
   "metadata": {},
   "outputs": [],
   "source": [
    "traj = trajs[chg_model]['paam_modified_conf_2_solv_water_equil_solv_water']\n",
    "\n",
    "all_pairs = traj.top.select_pairs('all','all')\n",
    "r_range = (0.0, 2.0)\n",
    "\n",
    "fig, ax = plotutils.presize_subplots(1, 2, scale=15)\n",
    "for use_periodic, axes in zip((False, True), ax):\n",
    "    # pairs = traj.top.select_pairs('not water and element O', 'water and element O')\n",
    "    # dists = mdtraj.compute_distances(traj[0], pairs, periodic=use_periodic)\n",
    "    dists = mdtraj.compute_distances(traj[0], all_pairs, periodic=use_periodic)\n",
    "    counts, edges, patches = axes.hist(dists.T, bins=1000)\n",
    "    axes.set_title(f'Pairwise distances (periodic={use_periodic})')\n",
    "    axes.set_xlabel('Pair distance (nm)')\n",
    "    axes.set_ylabel('Counts')"
   ]
  },
  {
   "cell_type": "code",
   "execution_count": null,
   "metadata": {},
   "outputs": [],
   "source": [
    "trajs = {}\n",
    "\n",
    "for mol_name, sim_dirs_list in equil_mgr.all_completed_sims.items():\n",
    "    polymer = equil_mgr.polymers[mol_name]\n",
    "    for sim_dir in sim_dirs_list:\n",
    "        sim_paths, sim_params = polymer.load_sim_paths_and_params(sim_dir)\n",
    "\n",
    "        # loading and assessing trajectories\n",
    "        traj = polymer.load_traj(sim_dir)\n",
    "        trajs[mol_name] = traj"
   ]
  },
  {
   "cell_type": "markdown",
   "metadata": {},
   "source": [
    "# Generating PNIPAAm conformers for reference"
   ]
  },
  {
   "cell_type": "code",
   "execution_count": null,
   "metadata": {},
   "outputs": [],
   "source": [
    "polymer = rec_mgr.polymers['pnipam_modified']\n",
    "offmol = polymer.offmol\n",
    "offmol.generate_conformers(toolkit_registry=ps.TOOLKITS['OpenEye Toolkit'], n_conformers=10)\n",
    "offmol.to_file('pnipam_confs.pdb', file_format='pdb')"
   ]
  },
  {
   "cell_type": "markdown",
   "metadata": {},
   "source": [
    "## Performing AM1BCC (no ELF) without conformer gen"
   ]
  },
  {
   "cell_type": "code",
   "execution_count": null,
   "metadata": {},
   "outputs": [],
   "source": [
    "from polysaccharide.charging.application import generate_molecule_charges\n",
    "\n",
    "polymer = rec_mgr.polymers['paam_modified']\n",
    "offmol = polymer.offmol\n",
    "\n",
    "abmol = generate_molecule_charges(polymer.offmol, partial_charge_method='am1bcc', conformers=offmol.conformers)"
   ]
  },
  {
   "cell_type": "code",
   "execution_count": null,
   "metadata": {},
   "outputs": [],
   "source": [
    "plt.plot(abmol.partial_charges)"
   ]
  },
  {
   "cell_type": "code",
   "execution_count": null,
   "metadata": {},
   "outputs": [],
   "source": [
    "rct_mol = polymer.charged_offmol_from_sdf('ABE10_averaged')\n",
    "rct_rdmol = rct_mol.to_rdkit()\n",
    "diffmol, (fig, ax) = rdcompare.compare_chgd_rdmols(abmol.to_rdkit(), rct_rdmol, 'AM1BCC (no conf gen)', 'ABE10_averaged', converter='CXSMARTS')"
   ]
  },
  {
   "cell_type": "code",
   "execution_count": null,
   "metadata": {},
   "outputs": [],
   "source": [
    "err_mol = polymer.charged_offmol_from_sdf('ABE10_exact')\n",
    "err_rdmol = err_mol.to_rdkit()\n",
    "rdkdraw.rdmol_prop_heatmap_colorscaled(err_rdmol, 'PartialCharge', cmap=plt.get_cmap('jet'), cbar_label='AM1-BCC-ELF10 partial charges (e)')"
   ]
  },
  {
   "cell_type": "code",
   "execution_count": null,
   "metadata": {},
   "outputs": [],
   "source": [
    "oemol = abmol.to_rdkit()\n",
    "rdkdraw.rdmol_prop_heatmap_colorscaled(oemol, 'PartialCharge', cmap=plt.get_cmap('jet'), cbar_label='AM1-BCC (original conformer) partial charges (e)')"
   ]
  },
  {
   "cell_type": "code",
   "execution_count": null,
   "metadata": {},
   "outputs": [],
   "source": [
    "from ast import literal_eval\n",
    "\n",
    "RMSE = analysis.statistics.RMSE(abmol.partial_charges, rct_mol.partial_charges)\n",
    "print(RMSE)"
   ]
  },
  {
   "cell_type": "code",
   "execution_count": null,
   "metadata": {},
   "outputs": [],
   "source": [
    "list(oemol.GetPropNames())"
   ]
  },
  {
   "cell_type": "code",
   "execution_count": null,
   "metadata": {},
   "outputs": [],
   "source": [
    "chg_method = 'ABE10_exact'\n",
    "\n",
    "chg_rdmol = polymer.charged_offmol_from_sdf(chg_method).to_rdkit()\n",
    "rdkdraw.rdmol_prop_heatmap_colorscaled(chg_rdmol, 'PartialCharge', cbar_label='chg_method')"
   ]
  },
  {
   "cell_type": "code",
   "execution_count": null,
   "metadata": {},
   "outputs": [],
   "source": []
  }
 ],
 "metadata": {
  "kernelspec": {
   "display_name": "openff-dev-updated",
   "language": "python",
   "name": "python3"
  },
  "language_info": {
   "codemirror_mode": {
    "name": "ipython",
    "version": 3
   },
   "file_extension": ".py",
   "mimetype": "text/x-python",
   "name": "python",
   "nbconvert_exporter": "python",
   "pygments_lexer": "ipython3",
   "version": "3.10.9"
  },
  "orig_nbformat": 4
 },
 "nbformat": 4,
 "nbformat_minor": 2
}
