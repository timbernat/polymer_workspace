{
 "cells": [
  {
   "cell_type": "code",
   "execution_count": null,
   "metadata": {},
   "outputs": [],
   "source": [
    "# Custom Imports\n",
    "import polysaccharide as ps\n",
    "from polysaccharide import analysis, extratypes, filetree, general, logutils, molutils\n",
    "from polysaccharide import polymer\n",
    "\n",
    "from polysaccharide.charging.residues import ChargedResidue\n",
    "from polysaccharide.charging.application import CHARGER_REGISTRY, ChargingParameters\n",
    "\n",
    "from polysaccharide import LOGGERS_MASTER\n",
    "from polysaccharide.logutils import ProcessLogHandler\n",
    "\n",
    "from polysaccharide.molutils.rdmol import rdkdraw, rdprops, rdcompare, rdconvert\n",
    "\n",
    "from polysaccharide.polymer.representation import Polymer\n",
    "from polysaccharide.polymer.management import PolymerManager\n",
    "from polysaccharide.polymer.filtering import has_sims, is_solvated, is_unsolvated, is_charged\n",
    "from polysaccharide.polymer import building, monomer\n",
    "\n",
    "from polysaccharide.solvation.solvents import WATER_TIP3P\n",
    "from polysaccharide.analysis import trajectory, statistics\n",
    "from polysaccharide.simulation.records import SimulationPaths, SimulationParameters\n",
    "from polysaccharide.graphics import plotutils\n",
    "\n",
    "# Generic Imports\n",
    "import re\n",
    "from functools import partial\n",
    "from collections import defaultdict\n",
    "from itertools import combinations\n",
    "\n",
    "# Numeric imports\n",
    "from math import ceil\n",
    "import numpy as np\n",
    "import pandas as pd\n",
    "import matplotlib.pyplot as plt\n",
    "\n",
    "# Typing and Subclassing\n",
    "from typing import Any, Callable, ClassVar, Iterable, Optional, Union\n",
    "from dataclasses import dataclass, field\n",
    "from abc import ABC, abstractmethod, abstractproperty, abstractstaticmethod\n",
    "from openmm.unit import Unit, Quantity\n",
    "\n",
    "# File I/O\n",
    "import argparse\n",
    "from pathlib import Path\n",
    "import csv, json, pickle\n",
    "from shutil import copyfile, rmtree\n",
    "import importlib.resources as impres\n",
    "\n",
    "# Logging and Shell\n",
    "import logging\n",
    "logging.basicConfig(\n",
    "    level=logging.INFO,\n",
    "    format=logutils.LOG_FORMATTER._fmt,\n",
    "    datefmt=logutils.LOG_FORMATTER.datefmt,\n",
    "    force=True\n",
    ")\n",
    "                            \n",
    "# Cheminformatics\n",
    "from rdkit import Chem\n",
    "from rdkit.Chem import rdmolfiles\n",
    "\n",
    "# Molecular Dynamics\n",
    "from openff.interchange import Interchange\n",
    "from openff.toolkit import ForceField\n",
    "from openff.toolkit.topology import Topology\n",
    "from openff.toolkit.topology.molecule import Molecule, Atom\n",
    "from openff.toolkit.typing.engines.smirnoff.parameters import LibraryChargeHandler\n",
    "\n",
    "from openff.units import unit\n",
    "from openmm.unit import picosecond, femtosecond, nanosecond # time\n",
    "from openmm.unit import nanometer, angstrom # length\n",
    "from openmm.unit import kelvin, atmosphere # misc\n",
    "\n",
    "# polymer resource management\n",
    "import importlib_resources as impres\n",
    "from polysaccharide import resources\n",
    "from polysaccharide.resources import AVAIL_RESOURCES\n",
    "\n",
    "RESOURCE_PATH = resources.RESOURCE_PATH\n",
    "SIM_PARAM_PATH = impres.files(resources.sim_templates)\n",
    "CHG_PARAM_PATH = impres.files(resources.chg_templates)\n",
    "INP_PARAM_PATH = impres.files(resources.inp_templates)"
   ]
  },
  {
   "attachments": {},
   "cell_type": "markdown",
   "metadata": {},
   "source": [
    "## Defining Paths and PolymerManagers"
   ]
  },
  {
   "cell_type": "code",
   "execution_count": 160,
   "metadata": {},
   "outputs": [],
   "source": [
    "# Data file directories\n",
    "# data_dir = Path('data_for_paper')\n",
    "data_dir = Path('data_v3')\n",
    "data_dir.mkdir(exist_ok=True)\n",
    "\n",
    "colina_dir   = data_dir / 'colina_data'\n",
    "openff_dir   = data_dir / 'openff_data'\n",
    "combined_dir = data_dir / 'combined_data'\n",
    "\n",
    "for dir in (openff_dir, combined_dir, colina_dir):\n",
    "    dir.mkdir(exist_ok=True)\n",
    "    for subdir_name in ('rdfs', 'props'):\n",
    "        subdir = dir / subdir_name\n",
    "        subdir.mkdir(exist_ok=True)\n",
    "        globals()[f'{dir.name}_{subdir_name}'] = subdir # assign to variables in namespace\n",
    "\n",
    "# Plot directories\n",
    "# fig_dir  = Path('figures_for_paper')\n",
    "fig_dir  = Path('figures_v3')\n",
    "fig_dir.mkdir(exist_ok=True)\n",
    "\n",
    "plot_prop_dir = fig_dir / 'property_plots'\n",
    "plot_prop_dir.mkdir(exist_ok=True)\n",
    "\n",
    "plot_rdf_dir = fig_dir / 'rdf_plots'\n",
    "plot_rdf_dir.mkdir(exist_ok=True)\n",
    "\n",
    "# Polymer collections\n",
    "# COLL_PATH = Path('Collections')\n",
    "# COLL_PATH = Path('Reruns')\n",
    "COLL_PATH = Path('Reruns_PBC')\n",
    "\n",
    "src_mgr   = PolymerManager(COLL_PATH / 'water_soluble_polymers')\n",
    "redux_mgr = PolymerManager(COLL_PATH / 'water_soluble_reduced')\n",
    "conf_mgr  = PolymerManager(COLL_PATH / 'water_soluble_polymers_confs')\n",
    "equil_mgr = PolymerManager(COLL_PATH / 'water_soluble_polymers_equil')"
   ]
  },
  {
   "cell_type": "markdown",
   "metadata": {},
   "source": [
    "## Measuring sizes of reduced and full-size chains"
   ]
  },
  {
   "cell_type": "code",
   "execution_count": null,
   "metadata": {},
   "outputs": [],
   "source": [
    "size_dir = data_dir / 'chain_sizes'\n",
    "size_dir.mkdir(exist_ok=True)\n",
    "\n",
    "# Producing atom and monomer number counts\n",
    "for targ_mgr in (redux_mgr, src_mgr):\n",
    "    size_dict = {}\n",
    "    for mol_name, polymer in targ_mgr.polymers.items():\n",
    "        SMARTS = polymer.monomer_info.SMARTS\n",
    "        DOP = monomer.estimate_DOP_upper(SMARTS, min_chain_len=polymer.n_atoms)\n",
    "        N = monomer.estimate_chain_len(SMARTS, DOP=DOP)\n",
    "        assert(N == polymer.n_atoms)\n",
    "\n",
    "        size_dict[mol_name] = {\n",
    "            'N_atoms' : N,\n",
    "            'N_monomers' : DOP\n",
    "        }\n",
    "    size_table = pd.DataFrame.from_dict(size_dict, orient='index')\n",
    "    size_table.to_csv(size_dir / f'{targ_mgr.collection_dir.name}_sizes.csv') # index deliberately left in"
   ]
  },
  {
   "attachments": {},
   "cell_type": "markdown",
   "metadata": {},
   "source": [
    "# Collating shape property data from simulation and Colina paper"
   ]
  },
  {
   "cell_type": "markdown",
   "metadata": {},
   "source": [
    "## Analyzing trajectories and saving analyzed results to CSVs to avoid recomputing"
   ]
  },
  {
   "cell_type": "code",
   "execution_count": null,
   "metadata": {},
   "outputs": [],
   "source": [
    "for mol_name, sim_dirs_list in equil_mgr.all_completed_sims.items():\n",
    "    polymer = equil_mgr.polymers[mol_name]\n",
    "    for sim_dir in sim_dirs_list:\n",
    "        print(mol_name, ' : ', sim_dir.name)\n",
    "        sim_paths, sim_params = polymer.load_sim_paths_and_params(sim_dir)\n",
    "\n",
    "        # loading and assessing trajectories\n",
    "        traj = polymer.load_traj(sim_dir)\n",
    "        traj_no_solv = traj.remove_solvent(inplace=False)\n",
    "        unique_elems = set(atom.element.symbol for atom in traj.topology.atoms)\n",
    "\n",
    "        # defining atom pairs\n",
    "        pair_dict = {\n",
    "            'chain O - water O' : traj.top.select_pairs('not water and element O', 'water and element O')\n",
    "        }\n",
    "        if 'N' in unique_elems:\n",
    "            pair_dict['chain N - water O'] = traj.top.select_pairs('not water and element N', 'water and element O')\n",
    "\n",
    "        # computing and saving shape property time series'\n",
    "        sim_paths.time_data = sim_dir / f'{mol_name}_time_series.csv'\n",
    "        prop_data = trajectory.acquire_time_props(traj_no_solv, time_points=sim_params.time_points) \n",
    "        prop_data.to_csv(sim_paths.time_data, index=False)\n",
    "\n",
    "        # computing and saving RDFs \n",
    "        sim_paths.spatial_data = sim_dir / f'{mol_name}_rdfs.csv'\n",
    "        rdf_data = trajectory.acquire_rdfs(traj, pair_dict, min_rad=0.0, max_rad=2.0, rad_unit=nanometer)\n",
    "        rdf_data.to_csv(sim_paths.spatial_data, index=False) # overwrite rdfs with correct raii ranges\n",
    "\n",
    "        # updating path references\n",
    "        sim_paths.to_file(polymer.simulation_paths[sim_dir])"
   ]
  },
  {
   "cell_type": "markdown",
   "metadata": {},
   "source": [
    "## Extracting high-dimensional data \"cube\" of observable averages for all replicates"
   ]
  },
  {
   "cell_type": "code",
   "execution_count": 208,
   "metadata": {},
   "outputs": [],
   "source": [
    "full_prop_data = defaultdict(lambda : defaultdict(lambda : defaultdict(list)))\n",
    "full_rdf_data  = defaultdict(lambda : defaultdict(lambda : defaultdict(pd.DataFrame)))\n",
    "\n",
    "for mol_name, sim_dirs_list in equil_mgr.all_completed_sims.items():\n",
    "    polymer = equil_mgr.polymers[mol_name]\n",
    "    conf_id = re.search(r'(?<=conf_)(\\d+)', mol_name) # conformer number of the molecule in question\n",
    "    if conf_id is not None:\n",
    "        conf_id = int(conf_id.group())\n",
    "\n",
    "    for sim_dir in sim_dirs_list:\n",
    "        sim_paths, sim_params = polymer.load_sim_paths_and_params(sim_dir)\n",
    "\n",
    "        # collating shape properties\n",
    "        time_data = pd.read_csv(sim_paths.time_data)\n",
    "        time_steps, time_samples = trajectory.props_to_plot_data(time_data)\n",
    "        for prop_name, time_series in time_samples.items():\n",
    "            full_prop_data[polymer.base_mol_name][sim_params.charge_method][prop_name].append(time_series.mean())\n",
    "\n",
    "        # collating radial distribution functions\n",
    "        rdf_data = pd.read_csv(sim_paths.spatial_data)\n",
    "        radii_openff, rdfs = trajectory.rdfs_to_plot_data(rdf_data)\n",
    "\n",
    "        for atom_pair_name, rdf in rdfs.items():\n",
    "            full_rdf_data[polymer.base_mol_name][sim_params.charge_method][atom_pair_name][f'Conformer {conf_id}'] = rdf"
   ]
  },
  {
   "cell_type": "markdown",
   "metadata": {},
   "source": [
    "## Computing means and uncertainties for shape props, saving to unified dataframes\n"
   ]
  },
  {
   "cell_type": "code",
   "execution_count": 161,
   "metadata": {},
   "outputs": [],
   "source": [
    "dframe_fns = {\n",
    "    'observables'   : np.mean,\n",
    "    'uncertainties' : np.std\n",
    "}\n",
    "\n",
    "for mol_name, mol_dict in full_prop_data.items():\n",
    "    dframe = pd.DataFrame.from_dict({\n",
    "        f'Sage 2.0.0 - {chg_method}' : {\n",
    "            (stat_name, prop_name) : stat_fn(prop_data)\n",
    "                for stat_name, stat_fn in dframe_fns.items()\n",
    "                    for prop_name, prop_data in data_dict.items()\n",
    "        }\n",
    "        for chg_method, data_dict in mol_dict.items()\n",
    "    })\n",
    "    dframe.to_csv(openff_data_props / f'{mol_name}.csv') # index deliberately left in"
   ]
  },
  {
   "cell_type": "markdown",
   "metadata": {},
   "source": [
    "### Merging property dataframes with data from Colina paper"
   ]
  },
  {
   "cell_type": "code",
   "execution_count": 163,
   "metadata": {},
   "outputs": [],
   "source": [
    "for ref_data_dir in colina_data_props.iterdir():\n",
    "    filename = ref_data_dir.name\n",
    "\n",
    "    new_data = pd.read_csv(openff_data_props / filename, index_col=[0, 1])\n",
    "    ref_data = pd.read_csv(ref_data_dir         , index_col=[0, 1])\n",
    "    data = pd.concat([new_data, ref_data], axis=1)\n",
    "\n",
    "    data.to_csv(combined_data_props / filename)"
   ]
  },
  {
   "cell_type": "markdown",
   "metadata": {},
   "source": [
    "## Computing means and uncertainty series' for RDFs, saving to unified dataframes"
   ]
  },
  {
   "cell_type": "code",
   "execution_count": 214,
   "metadata": {},
   "outputs": [],
   "source": [
    "for mol_name, mol_dict in full_rdf_data.items():\n",
    "    df_dict = defaultdict(defaultdict)\n",
    "\n",
    "    for chg_method, data_dict in mol_dict.items():\n",
    "        for elem_pair, rdf_data in data_dict.items():\n",
    "            framework = f'Sage 2.0.0 - {chg_method}'\n",
    "            df_dict[framework][(radii_openff.columns[0], elem_pair)] = radii_openff['Radius (nanometer)'].to_list()\n",
    "            for stat_name, stat_fn in dframe_fns.items():\n",
    "                df_dict[framework][(stat_name, elem_pair)] = list(stat_fn(rdf_data.to_numpy(), axis=1))\n",
    "\n",
    "    dframe = pd.DataFrame.from_dict(df_dict)\n",
    "    dframe.to_csv(openff_data_rdfs / f'{mol_name}.csv') # index deliberately left in"
   ]
  },
  {
   "cell_type": "markdown",
   "metadata": {},
   "source": [
    "### Collating manually-extracted RDF data into plotting-compatible CSVs"
   ]
  },
  {
   "cell_type": "code",
   "execution_count": 226,
   "metadata": {},
   "outputs": [],
   "source": [
    "CSV_NAME_SPLIT = re.compile(r'(\\w+)\\s(\\w)-(\\w)\\Z')\n",
    "col_renames = {\n",
    "    'DD' : 'DREIDING - RESP',\n",
    "    'tip3p' : 'CHARMM - Mulliken',\n",
    "    'tip3pc' : 'CHARMM-c - Mulliken',\n",
    "    'GAFF' : 'GAFF - RESP',\n",
    "    'GAFF2' : 'GAFF2 - RESP',\n",
    "    'r' : 'Radius (nanometer)'\n",
    "}\n",
    "\n",
    "rdfs = defaultdict(defaultdict)\n",
    "manual_csv_dir = colina_data_rdfs / 'manually_split_csvs'\n",
    "\n",
    "for path in manual_csv_dir.iterdir():\n",
    "    if path.suffix == '.csv':\n",
    "        mol_name, chain_elem, water_elem = re.search(CSV_NAME_SPLIT, path.stem).groups()\n",
    "        colina_df = pd.read_csv(path)\n",
    "        colina_df['r'] = colina_df['r'].apply(lambda x : x / 10.0) # convert readii to nanometers from angstroms\n",
    "        colina_df.rename(col_renames, axis=1, inplace=True)      # adjust names to match property plots\n",
    "\n",
    "        rdfs[mol_name][f'g(r) (chain {chain_elem} - water {water_elem})'] = colina_df"
   ]
  },
  {
   "cell_type": "code",
   "execution_count": 227,
   "metadata": {},
   "outputs": [],
   "source": [
    "mol_rename = {\n",
    "    'PEG' : 'peg_modified',\n",
    "    'PAAm' : 'paam_modified',\n",
    "    'PNIPAAm' : 'pnipam_modified'\n",
    "}\n",
    "\n",
    "for mol_name, rdf_dict in rdfs.items():\n",
    "    mol_rdf_dict = defaultdict(defaultdict)\n",
    "    for elem_pair, rdf_dframe in rdf_dict.items():\n",
    "        radii_colina, rdf_only_df = trajectory.rdfs_to_plot_data(rdf_dframe)\n",
    "        for framework, rdf_series in rdf_only_df.items():\n",
    "            rdf_list = rdf_series.to_list()\n",
    "            mol_rdf_dict[framework][(radii_colina.columns[0], elem_pair)] = radii_colina['Radius (nanometer)'].to_list()\n",
    "            mol_rdf_dict[framework][('observables'  , elem_pair)] = rdf_list\n",
    "            mol_rdf_dict[framework][('uncertainties', elem_pair)] = [0.0 for _  in rdf_list]# set uncertainties to 0 (since no replicates are available)\n",
    "    \n",
    "    fmt_dframe = pd.DataFrame.from_dict(mol_rdf_dict)\n",
    "    fmt_dframe.to_csv(colina_data_rdfs / f'{mol_rename[mol_name]}.csv')        "
   ]
  },
  {
   "cell_type": "markdown",
   "metadata": {},
   "source": [
    "### Merging property dataframes with data from Colina paper"
   ]
  },
  {
   "cell_type": "code",
   "execution_count": 236,
   "metadata": {},
   "outputs": [],
   "source": [
    "for path in openff_data_rdfs.iterdir():\n",
    "    filename = path.name\n",
    "    openff_rdfs = pd.read_csv(path, index_col=(0, 1))\n",
    "    colina_rdfs = pd.read_csv(colina_data_rdfs / filename, index_col=(0, 1))\n",
    "\n",
    "    combined_rdfs = pd.concat([openff_rdfs, colina_rdfs], axis=1)\n",
    "    combined_rdfs.to_csv(combined_data_rdfs / filename)"
   ]
  },
  {
   "attachments": {},
   "cell_type": "markdown",
   "metadata": {},
   "source": [
    "# Plotting shape props and RDFs"
   ]
  },
  {
   "cell_type": "markdown",
   "metadata": {},
   "source": [
    "## Shape Properties"
   ]
  },
  {
   "cell_type": "code",
   "execution_count": null,
   "metadata": {},
   "outputs": [],
   "source": [
    "# defining colors for MD framework (sampled from tab20)\n",
    "color_set = (\n",
    "    'blue',\n",
    "    'orange',\n",
    "    'green',\n",
    "    'purple',\n",
    "    'grey',\n",
    ")\n",
    "hues_per_color = 4\n",
    "cmap = plt.get_cmap('tab20c')\n",
    "\n",
    "cdict, carr = plotutils.label_discrete_cmap(cmap, color_set, hues_per_color)\n",
    "dset_colors = {\n",
    "    'Sage 2.0.0 - ABE10_averaged'   : cdict['blue0'  ],\n",
    "    'Sage 2.0.0 - Espaloma_AM1BCC'  : cdict['blue2'  ],\n",
    "    'DREIDING - RESP'               : cdict['purple0'],\n",
    "    'CHARMM - Mulliken'             : cdict['orange0'],\n",
    "    'CHARMM-c - Mulliken'           : cdict['orange2'],\n",
    "    'GAFF - RESP'                   : cdict['green0' ],\n",
    "    'GAFF2 - RESP'                  : cdict['green2' ],\n",
    "}"
   ]
  },
  {
   "cell_type": "code",
   "execution_count": 171,
   "metadata": {},
   "outputs": [],
   "source": [
    "for mol_name in equil_mgr.unique_polymer_names:\n",
    "    dframe = pd.read_csv(combined_data_props / f'{mol_name}.csv', index_col=[0, 1])\n",
    "    dframe = dframe.sort_index(axis=1, key=lambda x : [list(dset_colors.keys()).index(c) for c in x]) # sort in same order as colors are defined\n",
    "    obs = dframe.loc['observables']\n",
    "    std = dframe.loc['uncertainties']\n",
    "\n",
    "    frameworks = obs.columns\n",
    "    num_dsets = len(frameworks)\n",
    "    num_props = len(obs.index)\n",
    "    x_pos = np.arange(num_dsets)\n",
    "\n",
    "    fig, ax = plotutils.presize_subplots(nrows=1, ncols=num_props)\n",
    "    # fig.suptitle(mol_name)\n",
    "\n",
    "    for axis, (prop_name, prop_data) in zip(ax.flatten(), obs.iterrows()):\n",
    "        uncert = std.loc[prop_name].to_numpy()\n",
    "\n",
    "        axis.set_title(prop_name)\n",
    "        axis.bar(x_pos, prop_data, yerr=uncert, color=[dset_colors[fr] for fr in frameworks])\n",
    "        axis.set_xticks(x_pos)\n",
    "        axis.set_xticklabels([fw.replace(' - ', '\\n + ') for fw in obs.columns], rotation=-30)\n",
    "\n",
    "    fig.savefig(plot_prop_dir / f'{mol_name}_properties.png', bbox_inches='tight')\n",
    "    plt.close()"
   ]
  },
  {
   "cell_type": "markdown",
   "metadata": {},
   "source": [
    "## RDFs"
   ]
  },
  {
   "cell_type": "code",
   "execution_count": 274,
   "metadata": {},
   "outputs": [],
   "source": [
    "from ast import literal_eval\n",
    "from mpl_toolkits.axes_grid1.inset_locator import inset_axes\n",
    "\n",
    "\n",
    "# set plotting parameters\n",
    "fontsize = 14\n",
    "scale = 10\n",
    "aspect = 4/5\n",
    "\n",
    "inset_head_fract : float= 0.9 # fraction of the width of the RDF plot to add to the top to accomodate the inset\n",
    "inset_perc_x = 30 # percentage of main figure size to scale inset x axis\n",
    "inset_perc_y = 30 # percentage of main figure size to scale inset y axis\n",
    "\n",
    "# radii from new data\n",
    "radii_label = 'Radius (nanometer)'\n",
    "\n",
    "# loop over and plot\n",
    "for mol_name in equil_mgr.unique_polymer_names:\n",
    "    combined_rdf_dframe = pd.read_csv(combined_data_rdfs / f'{mol_name}.csv', index_col=[0, 1])\n",
    "    for column in combined_rdf_dframe.columns: \n",
    "        combined_rdf_dframe[column] = combined_rdf_dframe[column].apply(literal_eval) # de-stringify lists throughout\n",
    "\n",
    "    rad = combined_rdf_dframe.loc[radii_label]\n",
    "    obs = combined_rdf_dframe.loc['observables']\n",
    "    std = combined_rdf_dframe.loc['uncertainties']\n",
    "    frameworks = obs.columns\n",
    "    num_rdfs = len(obs.index)\n",
    "    # fig.suptitle(mol_name)\n",
    "\n",
    "    for rdf_name in obs.index:\n",
    "        fig, ax = plotutils.presize_subplots(nrows=1, ncols=1, scale=scale, elongation=aspect)\n",
    "        ax.set_xlabel(radii_label, fontsize=fontsize)\n",
    "        ax.set_ylabel(rdf_name, fontsize=fontsize)\n",
    "        ax.set_xlim(0.2, 1.2)\n",
    "        ax.set_ylim(0, err_upper_subrange.max() * (1 + inset_head_fract)) # accomodate inset\n",
    "\n",
    "        inset_ax = inset_axes(ax, width=f'{inset_perc_x}%', height=f'{inset_perc_y}%', borderpad=1)# generate longer length-scale inset\n",
    "        inset_ax.set_xlabel(radii_label, fontsize=fontsize)\n",
    "        # inset_ax.set_ylabel(rdf_name, fontsize=fontsize)\n",
    "\n",
    "        for framework in frameworks:\n",
    "            # isolate data series'\n",
    "            radii = np.array(rad[framework].loc[rdf_name])\n",
    "            subrange_idxs = np.where((0.2 < radii) & (radii < 1.2)) # extract region corresponding to 2-12 angstroms shown by Rukmani\n",
    "\n",
    "            rdf_mean = np.array(obs[framework].loc[rdf_name])\n",
    "            rdf_std  = np.array(std[framework].loc[rdf_name])\n",
    "            err_lower = rdf_mean - rdf_std # compute error band boundaries\n",
    "            err_upper = rdf_mean + rdf_std\n",
    "\n",
    "            # extract subranges\n",
    "            radii_subrange    = radii[   subrange_idxs]\n",
    "            rdf_mean_subrange = rdf_mean[subrange_idxs]\n",
    "            rdf_std_subrange  = rdf_std[ subrange_idxs]\n",
    "            err_lower_subrange  = err_lower[subrange_idxs]\n",
    "            err_upper_subrange  = err_upper[subrange_idxs]\n",
    "            \n",
    "            # plot reduced main plot\n",
    "            ax.plot(radii_subrange, rdf_mean_subrange, label=framework)\n",
    "            ax.fill_between(radii_subrange, rdf_mean_subrange - rdf_std_subrange, rdf_mean_subrange + rdf_std_subrange, alpha=0.5)\n",
    "\n",
    "            # plot longer length-scale inset\n",
    "            inset_ax.plot(radii, rdf_mean, label=framework)\n",
    "            inset_ax.fill_between(radii, rdf_mean - rdf_std, rdf_mean + rdf_std, alpha=0.5)\n",
    "            \n",
    "        ax.legend(loc='lower right', fontsize=fontsize)\n",
    "        fig.savefig(plot_rdf_dir / f'{mol_name}_{rdf_name}.png', bbox_inches='tight')\n",
    "        plt.close()"
   ]
  },
  {
   "cell_type": "markdown",
   "metadata": {},
   "source": [
    "# Probing conformer box sizes"
   ]
  },
  {
   "cell_type": "code",
   "execution_count": null,
   "metadata": {},
   "outputs": [],
   "source": [
    "box_sizes = defaultdict(list)\n",
    "for mol_name in equil_mgr.all_completed_sims:\n",
    "    polymer = equil_mgr.polymers[mol_name]\n",
    "    box_sizes[polymer.base_mol_name].append(polymer.box_vectors)\n",
    "\n",
    "for mol_class, boxes in box_sizes.items():\n",
    "    print(mol_class)\n",
    "    for box in boxes:\n",
    "        print('\\t', box)"
   ]
  },
  {
   "cell_type": "code",
   "execution_count": null,
   "metadata": {},
   "outputs": [],
   "source": [
    "trajs     = defaultdict(defaultdict)\n",
    "box_sizes = defaultdict(defaultdict)\n",
    "wwo = defaultdict(lambda : defaultdict(defaultdict))\n",
    "\n",
    "for mol_name, sim_dirs_list in equil_mgr.all_completed_sims.items():\n",
    "    polymer = equil_mgr.polymers[mol_name]\n",
    "    for sim_dir in sim_dirs_list:\n",
    "        sim_paths, sim_params = polymer.load_sim_paths_and_params(sim_dir)\n",
    "\n",
    "        # loading and assessing trajectories\n",
    "        traj = polymer.load_traj(sim_dir)\n",
    "        # trajs[sim_params.charge_method][mol_name] = traj\n",
    "        \n",
    "        pairs = traj.top.select_pairs('water and element O', 'water and element O')\n",
    "        pairs_dict = {'water O-O' : pairs}\n",
    "        box_sizes[sim_params.charge_method][mol_name] = polymer.box_vectors\n",
    "        wwo[polymer.base_mol_name][sim_params.charge_method][mol_name] = trajectory.acquire_rdfs(traj[-1], pair_dict=pairs_dict, min_rad=0.0, max_rad=2.0)"
   ]
  },
  {
   "cell_type": "markdown",
   "metadata": {},
   "source": [
    "## Plotting individual conformer RDFs"
   ]
  },
  {
   "cell_type": "code",
   "execution_count": null,
   "metadata": {},
   "outputs": [],
   "source": [
    "radii_df = pd.read_csv(rdf_dir / 'Radii.csv')\n",
    "radii_label = radii_df.columns[0]\n",
    "radii = radii_df.to_numpy().flatten()\n",
    "subrange_idxs = np.where((0.2 < radii) & (radii < 1.2)) # extract region corresponding to 2-12 angstroms shown by Rukmani"
   ]
  },
  {
   "cell_type": "code",
   "execution_count": null,
   "metadata": {},
   "outputs": [],
   "source": [
    "PRECISION = 4\n",
    "chg_model = 'ABE10_averaged'\n",
    "# chg_model = 'Espaloma_AM1BCC'\n",
    "base_mol_name = 'pnipam_modified'\n",
    "\n",
    "rdf_dframe = full_rdf_data[base_mol_name][chg_model]['g(r) (chain N - water O)']\n",
    "rdf_dframe = rdf_dframe.sort_index(axis=1, inplace=False)\n",
    "\n",
    "n = 10\n",
    "a = 3/2\n",
    "plt.figure(figsize=(n*a, n))\n",
    "plt.title(f'{base_mol_name} - {chg_model}')\n",
    "for conf_name, series in rdf_dframe.items():\n",
    "    conf_re = re.search(r'(?<=Conformer\\s)\\d+', conf_name)\n",
    "    if conf_re:\n",
    "        conf_num = int(conf_re.group(0))\n",
    "\n",
    "    box_dims = box_sizes[chg_model][f'{base_mol_name}_conf_{conf_num}_solv_water_equil_solv_water']\n",
    "    box_vol = general.product(box_dims.in_units_of(nanometer))\n",
    "    box_min = box_dims.min()\n",
    "\n",
    "    plt.plot(radii, series, label=f'{conf_name} (min_box_half = {box_min / 2})')\n",
    "    # plt.plot(radii, series, label=f'{conf_name} (V = {box_vol}, min = {box_min})')\n",
    "    plt.legend()"
   ]
  },
  {
   "cell_type": "markdown",
   "metadata": {},
   "source": [
    "## Water O-O RDF for validation"
   ]
  },
  {
   "cell_type": "code",
   "execution_count": null,
   "metadata": {},
   "outputs": [],
   "source": [
    "PRECISION = 4\n",
    "chg_model = 'ABE10_averaged'\n",
    "# chg_model = 'Espaloma_AM1BCC'\n",
    "base_mol_name = 'pnipam_modified'\n",
    "\n",
    "# rdf_dframe = full_rdf_data[base_mol_name][chg_model]['g(r) (chain N - water O)']\n",
    "rdf_dframe = wwo[base_mol_name][chg_model]\n",
    "# rdf_dframe = rdf_dframe.sort_index(axis=1, inplace=False)\n",
    "\n",
    "n = 10\n",
    "a = 3/2\n",
    "plt.figure(figsize=(n*a, n))\n",
    "plt.title(f'{base_mol_name} - {chg_model}')\n",
    "for conf_name, df in rdf_dframe.items():\n",
    "    radii, rdf = trajectory.rdfs_to_plot_data(df)\n",
    "\n",
    "    # box_dims = box_sizes[chg_model][f'{base_mol_name}_conf_{conf_num}_solv_water_equil_solv_water']\n",
    "    # box_vol = general.product(box_dims.in_units_of(nanometer))\n",
    "    # box_min = box_dims.min()\n",
    "\n",
    "    plt.plot(radii, rdf, label=conf_name)\n",
    "    # plt.plot(radii, series, label=f'{conf_name} (V = {box_vol}, min = {box_min})')\n",
    "    plt.legend()"
   ]
  },
  {
   "cell_type": "markdown",
   "metadata": {},
   "source": [
    "## Plotting particle-particle distances (probing periodicity and MIC)"
   ]
  },
  {
   "cell_type": "code",
   "execution_count": null,
   "metadata": {},
   "outputs": [],
   "source": [
    "for name, dims in box_sizes[chg_model].items():\n",
    "    if base_mol_name in name:\n",
    "        print(name)\n",
    "        print('\\tBox dimensions: ', dims)\n",
    "        print('\\tBox volume:', general.product(dims.in_units_of(nanometer)))\n",
    "        print('\\tBox smallest dim: ', dims.min())\n",
    "        print('\\tHalf-BSD: ', dims.min() / 2)"
   ]
  },
  {
   "cell_type": "code",
   "execution_count": null,
   "metadata": {},
   "outputs": [],
   "source": [
    "traj = trajs[chg_model]['paam_modified_conf_2_solv_water_equil_solv_water']\n",
    "\n",
    "all_pairs = traj.top.select_pairs('all','all')\n",
    "r_range = (0.0, 2.0)\n",
    "\n",
    "fig, ax = plotutils.presize_subplots(1, 2, scale=15)\n",
    "for use_periodic, axes in zip((False, True), ax):\n",
    "    # pairs = traj.top.select_pairs('not water and element O', 'water and element O')\n",
    "    # dists = mdtraj.compute_distances(traj[0], pairs, periodic=use_periodic)\n",
    "    dists = mdtraj.compute_distances(traj[0], all_pairs, periodic=use_periodic)\n",
    "    counts, edges, patches = axes.hist(dists.T, bins=1000)\n",
    "    axes.set_title(f'Pairwise distances (periodic={use_periodic})')\n",
    "    axes.set_xlabel('Pair distance (nm)')\n",
    "    axes.set_ylabel('Counts')"
   ]
  },
  {
   "cell_type": "code",
   "execution_count": null,
   "metadata": {},
   "outputs": [],
   "source": [
    "trajs = {}\n",
    "\n",
    "for mol_name, sim_dirs_list in equil_mgr.all_completed_sims.items():\n",
    "    polymer = equil_mgr.polymers[mol_name]\n",
    "    for sim_dir in sim_dirs_list:\n",
    "        sim_paths, sim_params = polymer.load_sim_paths_and_params(sim_dir)\n",
    "\n",
    "        # loading and assessing trajectories\n",
    "        traj = polymer.load_traj(sim_dir)\n",
    "        trajs[mol_name] = traj"
   ]
  },
  {
   "cell_type": "markdown",
   "metadata": {},
   "source": [
    "## Drawing molecular structures for RCT graphic"
   ]
  },
  {
   "cell_type": "code",
   "execution_count": null,
   "metadata": {},
   "outputs": [],
   "source": [
    "from matplotlib.colors import Normalize\n",
    "rdkdraw.set_rdkdraw_size(1000, 1/1)\n",
    "\n",
    "mol_img_path = fig_dir / 'RCT_diagrams'\n",
    "mol_img_path.mkdir(exist_ok=True)\n",
    "\n",
    "N = 1_000\n",
    "mol_name = 'pnipam_modified'\n",
    "\n",
    "# load polymer object and associated molecules\n",
    "full_polymer = src_mgr.polymers[  mol_name]\n",
    "redux_polymer = redux_mgr.polymers[mol_name]\n",
    "\n",
    "full_polymer.assign_charges_by_lookup('ABE10_averaged')\n",
    "redux_polymer.assign_charges_by_lookup('ABE10_exact')\n",
    "\n",
    "unparam_rdmol = full_polymer.rdmol\n",
    "param_rdmol   = full_polymer.offmol.to_rdkit()\n",
    "redux_rdmol   = redux_polymer.offmol.to_rdkit()\n",
    "\n",
    "# generate charge heatmap info\n",
    "prop_vals = rdprops.aggregate_atom_prop(param_rdmol, 'PartialCharge', prop_type=float) # explicitly ensure the property is interpreted as a numericla value\n",
    "vmin, vmax = min(prop_vals), max(prop_vals)\n",
    "norm = Normalize(vmin, vmax)\n",
    "cmap = plt.get_cmap('turbo')\n",
    "\n",
    "rdmol_imgs = {\n",
    "    'unparam' : Chem.Draw.MolToImage(unparam_rdmol, size=(N, N)),\n",
    "    'param'   : Chem.Draw.MolToImage(param_rdmol, size=(N, N)),\n",
    "    'redux'   : Chem.Draw.MolToImage(redux_rdmol, size=(N, N)),\n",
    "    'charged_full'  : rdkdraw.rdmol_prop_heatmap(param_rdmol, prop='PartialCharge', cmap=cmap, norm=norm, img_size=(N, N)),\n",
    "    'charged_redux' : rdkdraw.rdmol_prop_heatmap(redux_rdmol, prop='PartialCharge', cmap=cmap, norm=norm, img_size=(N, N))\n",
    "}\n",
    "\n",
    "for label, rdmol_img in rdmol_imgs.items():\n",
    "    rdmol_img.save(mol_img_path / f'{label}.png')"
   ]
  },
  {
   "attachments": {},
   "cell_type": "markdown",
   "metadata": {},
   "source": [
    "# Comparing ABE10 and Espaloma charges"
   ]
  },
  {
   "cell_type": "code",
   "execution_count": null,
   "metadata": {},
   "outputs": [],
   "source": [
    "from ast import literal_eval\n",
    "import matplotlib.patches as mpl_patches\n",
    "from matplotlib.colors import Normalize, Colormap\n",
    "from polysaccharide.general import GREEK_UPPER\n",
    "\n",
    "\n",
    "def charges_plots(polymer : Polymer, charge_method_1 : str, charge_method_2 : str, n_bins : int=50, fontsize : int=14, orient : Optional[str]=None,\n",
    "                   cmap : Colormap=plt.get_cmap('turbo'), converter : str='CXSMARTS') -> tuple[tuple[plt.Figure, plt.Axes], tuple[plt.Figure, plt.Axes]]:\n",
    "    '''For generating charge graphics for paper and resentations'''\n",
    "\n",
    "    # extracting molecules and computing difference molecule\n",
    "    chgd_offmol_1 = polymer.charged_offmol_from_sdf(charge_method_1)\n",
    "    chgd_rdmol_1  = chgd_offmol_1.to_rdkit() # ensure map numbers are present for correct matching\n",
    "    chgd_rdmol_1  = rdconvert.flattened_rdmol(chgd_rdmol_1, converter=converter) # convert \n",
    "    \n",
    "    chgd_offmol_2 = polymer.charged_offmol_from_sdf(charge_method_2)\n",
    "    chgd_rdmol_2  = chgd_offmol_2.to_rdkit() # ensure map numbers are present for correct matching\n",
    "    chgd_rdmol_2  = rdconvert.flattened_rdmol(chgd_rdmol_2, converter=converter) # convert \n",
    "    \n",
    "    diff_rdmol = rdcompare.difference_rdmol(chgd_rdmol_1, chgd_rdmol_2)\n",
    "    diff_str = f'{GREEK_UPPER[\"delta\"]}q (elem. charge): {charge_method_1} vs {charge_method_2}'\n",
    "\n",
    "    # generating heatmap\n",
    "    hm_fig, hm_ax = rdkdraw.rdmol_prop_heatmap_colorscaled( # done in-line to avoid fig and axes from being displayed prematurely\n",
    "        rdmol=diff_rdmol,\n",
    "        prop='DeltaPartialCharge',\n",
    "        cmap=cmap,\n",
    "        cbar_label='',#diff_str,\n",
    "        orient=orient\n",
    "    )\n",
    "\n",
    "    # Extracting charge differences values and ranges\n",
    "    deltas = literal_eval(diff_rdmol.GetProp('DeltaPartialCharges'))\n",
    "    deltas = np.array(deltas)\n",
    "    vmin, vmax = deltas.min(), deltas.max()\n",
    "    norm = Normalize(vmin, vmax)\n",
    "\n",
    "    # generating histogram\n",
    "    hist_fig, hist_ax = plotutils.presize_subplots(1, 1, scale=8, elongation=4/5)\n",
    "    bin_vals, bin_edges, patches = hist_ax.hist(deltas, bins=n_bins, orientation='horizontal')\n",
    "\n",
    "    # coloring histogram bars by atom color map\n",
    "    for bin_edge, artist in zip(bin_edges, patches):\n",
    "        plt.setp(artist, 'facecolor', cmap(norm(bin_edge)))\n",
    "\n",
    "    # computing and labelling charge RMSE\n",
    "    RMSE = analysis.statistics.RMSE(chgd_offmol_1.partial_charges, chgd_offmol_2.partial_charges)\n",
    "    labels = [f'RMSE = {round(RMSE.magnitude, 5)} e']\n",
    "    handles = [mpl_patches.Rectangle((0, 0), 1, 1, fc=\"white\", ec=\"white\", lw=0, alpha=0)] * len(labels) # create empty handles to pin annotation text to\n",
    "    hist_ax.legend(handles, labels, loc='best', handlelength=0, fontsize=fontsize)\n",
    "    # hist_ax.annotate(f'RMSE = {round(RMSE.magnitude, 5)} e', (0.65, 0.9), xycoords='axes fraction', fontsize=14, bbox=dict(edgecolor='black', facecolor='white'))\n",
    "\n",
    "    # Labelling and sizing axes\n",
    "    # hist_ax.set_title(f'{polymer.mol_name} charge differences')\n",
    "    _ = hist_ax.set_yticks((vmin, 0, vmax))\n",
    "    hist_ax.set_xlabel('Number of atoms', fontsize=fontsize)\n",
    "    hist_ax.set_ylabel(diff_str, fontsize=fontsize)\n",
    "\n",
    "    return diff_rdmol, RMSE, (hm_fig, hm_ax), (hist_fig, hist_ax)\n",
    "\n",
    "\n",
    "class BinSizer(ABC):\n",
    "    '''Abstract base for auto-sizing histogram bins\n",
    "    Child class implementations taken from https://en.wikipedia.org/wiki/Histogram#Number_of_bins_and_width'''\n",
    "    @abstractstaticmethod\n",
    "    def num_bins(N : int) -> int:\n",
    "        raise NotImplementedError\n",
    "\n",
    "    @classmethod\n",
    "    @property\n",
    "    def registry(cls) -> dict[str, 'BinSizer']:\n",
    "        '''Name-indexed dict of all inherited Component implementations'''\n",
    "        return {\n",
    "            subcomp.__name__ : subcomp\n",
    "                for subcomp in cls.__subclasses__()\n",
    "        }\n",
    "\n",
    "class Sturges(BinSizer):\n",
    "    '''Based on Sturges' Formula'''\n",
    "    @staticmethod\n",
    "    def num_bins(N: int) -> int:\n",
    "        return 1 + ceil(np.log2(N)) \n",
    "\n",
    "class Sqrt(BinSizer):\n",
    "    '''Based on square root'''\n",
    "    @staticmethod\n",
    "    def num_bins(N: int) -> int:\n",
    "        return ceil(np.sqrt(N))\n",
    "\n",
    "class Rice(BinSizer):\n",
    "    '''Based on Rice's Rule'''\n",
    "    @staticmethod\n",
    "    def num_bins(N: int) -> int:\n",
    "        return ceil(2 * N**(1/3))"
   ]
  },
  {
   "cell_type": "code",
   "execution_count": null,
   "metadata": {},
   "outputs": [],
   "source": [
    "chg_plot_dir = fig_dir / 'charge_plots'\n",
    "chg_plot_dir.mkdir(exist_ok=True)\n",
    "\n",
    "# config options\n",
    "fs = 12\n",
    "save = True\n",
    "# save = False\n",
    "cvtr = 'CXSMARTS'\n",
    "cmap = plt.get_cmap('turbo')\n",
    "\n",
    "# orient = None\n",
    "orient = 'vertical'\n",
    "\n",
    "# bin_sizer_type = 'Sturges'\n",
    "bin_sizer_type = 'Sqrt'\n",
    "bin_sizer = BinSizer.registry[bin_sizer_type]()\n",
    "\n",
    "# begin plotting loop\n",
    "for mol_name, polymer in src_mgr.polymers.items():\n",
    "    redux_polymer = redux_mgr.polymers[mol_name] # lookup reduction of each polymer\n",
    "    mol_dir = chg_plot_dir / mol_name\n",
    "    mol_dir.mkdir(exist_ok=True)\n",
    "\n",
    "    # reference to ABE10 exact\n",
    "    n_bins = bin_sizer.num_bins(redux_polymer.n_atoms)\n",
    "    # print(n_bins)\n",
    "    diffmol, RMSE, (hm_fig, hm_ax), (hist_fig, hist_ax) = charges_plots(redux_polymer, 'ABE10_exact', 'ABE10_averaged', n_bins=n_bins, fontsize=fs, cmap=cmap, converter=cvtr, orient=orient)\n",
    "    if save:\n",
    "        hm_fig.savefig(  mol_dir / f'{mol_name}_redux_heatmap.png', bbox_inches='tight')\n",
    "        hist_fig.savefig(mol_dir / f'{mol_name}_redux_histogram.png', bbox_inches='tight')\n",
    "\n",
    "    # RCT vs Espaloma\n",
    "    n_bins = bin_sizer.num_bins(polymer.n_atoms)\n",
    "    # print(n_bins)\n",
    "    diffmol, RMSE, (hm_fig, hm_ax), (hist_fig, hist_ax) = charges_plots(polymer, 'ABE10_averaged', 'Espaloma_AM1BCC', n_bins=n_bins, fontsize=fs, cmap=cmap, converter=cvtr, orient=orient)\n",
    "    if save:\n",
    "        hm_fig.savefig(  mol_dir / f'{mol_name}_heatmap.png', bbox_inches='tight')\n",
    "        hist_fig.savefig(mol_dir / f'{mol_name}_histogram.png', bbox_inches='tight')"
   ]
  },
  {
   "cell_type": "markdown",
   "metadata": {},
   "source": [
    "# Generating PNIPAAm conformers for reference"
   ]
  },
  {
   "cell_type": "code",
   "execution_count": null,
   "metadata": {},
   "outputs": [],
   "source": [
    "polymer = rec_mgr.polymers['pnipam_modified']\n",
    "offmol = polymer.offmol\n",
    "offmol.generate_conformers(toolkit_registry=ps.TOOLKITS['OpenEye Toolkit'], n_conformers=10)\n",
    "offmol.to_file('pnipam_confs.pdb', file_format='pdb')"
   ]
  },
  {
   "cell_type": "markdown",
   "metadata": {},
   "source": [
    "## Performing AM1BCC (no ELF) without conformer gen"
   ]
  },
  {
   "cell_type": "code",
   "execution_count": null,
   "metadata": {},
   "outputs": [],
   "source": [
    "from polysaccharide.charging.application import generate_molecule_charges\n",
    "\n",
    "polymer = rec_mgr.polymers['paam_modified']\n",
    "offmol = polymer.offmol\n",
    "\n",
    "abmol = generate_molecule_charges(polymer.offmol, partial_charge_method='am1bcc', conformers=offmol.conformers)"
   ]
  },
  {
   "cell_type": "code",
   "execution_count": null,
   "metadata": {},
   "outputs": [],
   "source": [
    "plt.plot(abmol.partial_charges)"
   ]
  },
  {
   "cell_type": "code",
   "execution_count": null,
   "metadata": {},
   "outputs": [],
   "source": [
    "rct_mol = polymer.charged_offmol_from_sdf('ABE10_averaged')\n",
    "rct_rdmol = rct_mol.to_rdkit()\n",
    "diffmol, (fig, ax) = rdcompare.compare_chgd_rdmols(abmol.to_rdkit(), rct_rdmol, 'AM1BCC (no conf gen)', 'ABE10_averaged', converter='CXSMARTS')"
   ]
  },
  {
   "cell_type": "code",
   "execution_count": null,
   "metadata": {},
   "outputs": [],
   "source": [
    "err_mol = polymer.charged_offmol_from_sdf('ABE10_exact')\n",
    "err_rdmol = err_mol.to_rdkit()\n",
    "rdkdraw.rdmol_prop_heatmap_colorscaled(err_rdmol, 'PartialCharge', cmap=plt.get_cmap('jet'), cbar_label='AM1-BCC-ELF10 partial charges (e)')"
   ]
  },
  {
   "cell_type": "code",
   "execution_count": null,
   "metadata": {},
   "outputs": [],
   "source": [
    "oemol = abmol.to_rdkit()\n",
    "rdkdraw.rdmol_prop_heatmap_colorscaled(oemol, 'PartialCharge', cmap=plt.get_cmap('jet'), cbar_label='AM1-BCC (original conformer) partial charges (e)')"
   ]
  },
  {
   "cell_type": "code",
   "execution_count": null,
   "metadata": {},
   "outputs": [],
   "source": [
    "from ast import literal_eval\n",
    "\n",
    "RMSE = analysis.statistics.RMSE(abmol.partial_charges, rct_mol.partial_charges)\n",
    "print(RMSE)"
   ]
  },
  {
   "cell_type": "code",
   "execution_count": null,
   "metadata": {},
   "outputs": [],
   "source": [
    "list(oemol.GetPropNames())"
   ]
  },
  {
   "cell_type": "code",
   "execution_count": null,
   "metadata": {},
   "outputs": [],
   "source": [
    "chg_method = 'ABE10_exact'\n",
    "\n",
    "chg_rdmol = polymer.charged_offmol_from_sdf(chg_method).to_rdkit()\n",
    "rdkdraw.rdmol_prop_heatmap_colorscaled(chg_rdmol, 'PartialCharge', cbar_label='chg_method')"
   ]
  },
  {
   "cell_type": "code",
   "execution_count": null,
   "metadata": {},
   "outputs": [],
   "source": []
  }
 ],
 "metadata": {
  "kernelspec": {
   "display_name": "openff-dev-updated",
   "language": "python",
   "name": "python3"
  },
  "language_info": {
   "codemirror_mode": {
    "name": "ipython",
    "version": 3
   },
   "file_extension": ".py",
   "mimetype": "text/x-python",
   "name": "python",
   "nbconvert_exporter": "python",
   "pygments_lexer": "ipython3",
   "version": "3.10.9"
  },
  "orig_nbformat": 4
 },
 "nbformat": 4,
 "nbformat_minor": 2
}
