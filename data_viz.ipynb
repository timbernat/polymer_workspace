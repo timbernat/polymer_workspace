{
 "cells": [
  {
   "cell_type": "code",
   "execution_count": 1,
   "metadata": {},
   "outputs": [
    {
     "name": "stderr",
     "output_type": "stream",
     "text": [
      "/home/timber/miniconda3/envs/openff-dev-updated/lib/python3.10/site-packages/numpy/core/getlimits.py:518: UserWarning: The value of the smallest subnormal for <class 'numpy.float64'> type is zero.\n",
      "  setattr(self, word, getattr(machar, word).flat[0])\n",
      "/home/timber/miniconda3/envs/openff-dev-updated/lib/python3.10/site-packages/numpy/core/getlimits.py:89: UserWarning: The value of the smallest subnormal for <class 'numpy.float64'> type is zero.\n",
      "  return self._float_to_str(self.smallest_subnormal)\n",
      "/home/timber/miniconda3/envs/openff-dev-updated/lib/python3.10/site-packages/numpy/core/getlimits.py:518: UserWarning: The value of the smallest subnormal for <class 'numpy.float32'> type is zero.\n",
      "  setattr(self, word, getattr(machar, word).flat[0])\n",
      "/home/timber/miniconda3/envs/openff-dev-updated/lib/python3.10/site-packages/numpy/core/getlimits.py:89: UserWarning: The value of the smallest subnormal for <class 'numpy.float32'> type is zero.\n",
      "  return self._float_to_str(self.smallest_subnormal)\n",
      "Warning on use of the timeseries module: If the inherent timescales of the system are long compared to those being analyzed, this statistical inefficiency may be an underestimate.  The estimate presumes the use of many statistically independent samples.  Tests should be performed to assess whether this condition is satisfied.   Be cautious in the interpretation of the data.\n",
      "WARNING:root:Warning: importing 'simtk.openmm' is deprecated.  Import 'openmm' instead.\n"
     ]
    }
   ],
   "source": [
    "# Custom Imports\n",
    "import polysaccharide as ps\n",
    "from polysaccharide import analysis, extratypes, filetree, general, logutils, molutils\n",
    "from polysaccharide import polymer\n",
    "\n",
    "from polysaccharide.charging.residues import ChargedResidue\n",
    "from polysaccharide.charging.application import CHARGER_REGISTRY, ChargingParameters\n",
    "\n",
    "from polysaccharide import LOGGERS_MASTER\n",
    "from polysaccharide.logutils import ProcessLogHandler\n",
    "\n",
    "from polysaccharide.molutils.rdmol import rdkdraw, rdprops, rdcompare, rdconvert\n",
    "\n",
    "from polysaccharide.polymer.representation import Polymer\n",
    "from polysaccharide.polymer.management import PolymerManager\n",
    "from polysaccharide.polymer.filtering import has_sims, is_solvated, is_unsolvated, is_charged\n",
    "from polysaccharide.polymer import building, monomer\n",
    "\n",
    "from polysaccharide.solvation.solvents import WATER_TIP3P\n",
    "from polysaccharide.analysis import trajectory, statistics\n",
    "from polysaccharide.simulation.records import SimulationPaths, SimulationParameters\n",
    "from polysaccharide.graphics import plotutils\n",
    "\n",
    "# Generic Imports\n",
    "import re\n",
    "from functools import partial\n",
    "from collections import defaultdict\n",
    "from itertools import combinations\n",
    "\n",
    "# Numeric imports\n",
    "from math import ceil\n",
    "import numpy as np\n",
    "import pandas as pd\n",
    "import matplotlib.pyplot as plt\n",
    "\n",
    "# Typing and Subclassing\n",
    "from typing import Any, Callable, ClassVar, Iterable, Optional, Union\n",
    "from dataclasses import dataclass, field\n",
    "from abc import ABC, abstractmethod, abstractproperty, abstractstaticmethod\n",
    "from openmm.unit import Unit, Quantity\n",
    "\n",
    "# File I/O\n",
    "import argparse\n",
    "from pathlib import Path\n",
    "import csv, json, pickle\n",
    "from shutil import copyfile, rmtree\n",
    "import importlib.resources as impres\n",
    "\n",
    "# Logging and Shell\n",
    "import logging\n",
    "logging.basicConfig(\n",
    "    level=logging.INFO,\n",
    "    format=logutils.LOG_FORMATTER._fmt,\n",
    "    datefmt=logutils.LOG_FORMATTER.datefmt,\n",
    "    force=True\n",
    ")\n",
    "                            \n",
    "# Cheminformatics\n",
    "from rdkit import Chem\n",
    "from rdkit.Chem import rdmolfiles\n",
    "\n",
    "# Molecular Dynamics\n",
    "from openff.interchange import Interchange\n",
    "from openff.toolkit import ForceField\n",
    "from openff.toolkit.topology import Topology\n",
    "from openff.toolkit.topology.molecule import Molecule, Atom\n",
    "from openff.toolkit.typing.engines.smirnoff.parameters import LibraryChargeHandler\n",
    "\n",
    "from openff.units import unit\n",
    "from openmm.unit import picosecond, femtosecond, nanosecond # time\n",
    "from openmm.unit import nanometer, angstrom # length\n",
    "from openmm.unit import kelvin, atmosphere # misc\n",
    "\n",
    "# polymer resource management\n",
    "import importlib_resources as impres\n",
    "from polysaccharide import resources\n",
    "from polysaccharide.resources import AVAIL_RESOURCES\n",
    "\n",
    "RESOURCE_PATH = resources.RESOURCE_PATH\n",
    "SIM_PARAM_PATH = impres.files(resources.sim_templates)\n",
    "CHG_PARAM_PATH = impres.files(resources.chg_templates)\n",
    "INP_PARAM_PATH = impres.files(resources.inp_templates)"
   ]
  },
  {
   "attachments": {},
   "cell_type": "markdown",
   "metadata": {},
   "source": [
    "## Defining Paths and PolymerManagers"
   ]
  },
  {
   "cell_type": "code",
   "execution_count": 225,
   "metadata": {},
   "outputs": [],
   "source": [
    "# Data file directories\n",
    "data_dir = Path('data_for_paper')\n",
    "\n",
    "colina_dir = data_dir / 'colina_data'\n",
    "\n",
    "openff_dir = data_dir / 'openff_data'\n",
    "openff_dir.mkdir(exist_ok=True)\n",
    "\n",
    "rdf_dir = data_dir / 'rdf_data'\n",
    "rdf_dir.mkdir(exist_ok=True)\n",
    "\n",
    "combined_dir = data_dir / 'combined_data'\n",
    "combined_dir.mkdir(exist_ok=True)\n",
    "\n",
    "# Plot directories\n",
    "fig_dir  = Path('figures_for_paper')\n",
    "\n",
    "plot_prop_dir = fig_dir / 'property_plots'\n",
    "plot_prop_dir.mkdir(exist_ok=True)\n",
    "\n",
    "plot_rdf_dir = fig_dir / 'rdf_plots'\n",
    "plot_rdf_dir.mkdir(exist_ok=True)\n",
    "\n",
    "# Polymer collections\n",
    "# COLL_PATH = Path('Collections')\n",
    "COLL_PATH = Path('Reruns')\n",
    "\n",
    "src_mgr   = PolymerManager(COLL_PATH / 'water_soluble_polymers')\n",
    "redux_mgr = PolymerManager(COLL_PATH / 'water_soluble_reduced')\n",
    "conf_mgr  = PolymerManager(COLL_PATH / 'water_soluble_polymers_confs')\n",
    "equil_mgr = PolymerManager(COLL_PATH / 'water_soluble_polymers_equil')"
   ]
  },
  {
   "cell_type": "markdown",
   "metadata": {},
   "source": [
    "## Measuring sizes of reduced and full-size chains"
   ]
  },
  {
   "cell_type": "code",
   "execution_count": 105,
   "metadata": {},
   "outputs": [],
   "source": [
    "size_dir = data_dir / 'chain_sizes'\n",
    "size_dir.mkdir(exist_ok=True)\n",
    "\n",
    "# Producing atom and monomer number counts\n",
    "for targ_mgr in (redux_mgr, src_mgr):\n",
    "    size_dict = {}\n",
    "    for mol_name, polymer in targ_mgr.polymers.items():\n",
    "        SMARTS = polymer.monomer_info.SMARTS\n",
    "        DOP = monomer.estimate_DOP_upper(SMARTS, min_chain_len=polymer.n_atoms)\n",
    "        N = monomer.estimate_chain_len(SMARTS, DOP=DOP)\n",
    "        assert(N == polymer.n_atoms)\n",
    "\n",
    "        size_dict[mol_name] = {\n",
    "            'N_atoms' : N,\n",
    "            'N_monomers' : DOP\n",
    "        }\n",
    "    size_table = pd.DataFrame.from_dict(size_dict, orient='index')\n",
    "    size_table.to_csv(size_dir / f'{targ_mgr.collection_dir.name}_sizes.csv') # index deliberately left in"
   ]
  },
  {
   "attachments": {},
   "cell_type": "markdown",
   "metadata": {},
   "source": [
    "# Collating shape property data from simulation and Colina paper"
   ]
  },
  {
   "cell_type": "markdown",
   "metadata": {},
   "source": [
    "## Reprocessing RDF data into saved format to match Colina results"
   ]
  },
  {
   "cell_type": "code",
   "execution_count": 306,
   "metadata": {},
   "outputs": [
    {
     "name": "stderr",
     "output_type": "stream",
     "text": [
      "/home/timber/miniconda3/envs/openff-dev-updated/lib/python3.10/site-packages/mdtraj/formats/pdb/pdbstructure.py:435: UserWarning: WARNING: two consecutive residues with same number (HETATM  423  H1  HOH A   1      35.436  38.089  34.219  1.00  0.00              , ATOM    422  H   RES A   1      12.560  24.483  14.106  1.00  0.00           H  )\n",
      "  warnings.warn(\"WARNING: two consecutive residues with same number (%s, %s)\" % (atom, self._current_residue.atoms[-1]))\n",
      "/home/timber/miniconda3/envs/openff-dev-updated/lib/python3.10/site-packages/mdtraj/formats/pdb/pdbstructure.py:435: UserWarning: WARNING: two consecutive residues with same number (HETATM  423  H1  HOH A   1      35.436  38.089  34.219  1.00  0.00              , ATOM    422  H   RES A   1      12.560  24.483  14.106  1.00  0.00           H  )\n",
      "  warnings.warn(\"WARNING: two consecutive residues with same number (%s, %s)\" % (atom, self._current_residue.atoms[-1]))\n",
      "/home/timber/miniconda3/envs/openff-dev-updated/lib/python3.10/site-packages/mdtraj/formats/pdb/pdbstructure.py:435: UserWarning: WARNING: two consecutive residues with same number (HETATM  423  H1  HOH A   1      11.627   4.758  39.522  1.00  0.00              , ATOM    422  H   RES A   1      21.720  22.696  29.212  1.00  0.00           H  )\n",
      "  warnings.warn(\"WARNING: two consecutive residues with same number (%s, %s)\" % (atom, self._current_residue.atoms[-1]))\n",
      "/home/timber/miniconda3/envs/openff-dev-updated/lib/python3.10/site-packages/mdtraj/formats/pdb/pdbstructure.py:435: UserWarning: WARNING: two consecutive residues with same number (HETATM  423  H1  HOH A   1      11.627   4.758  39.522  1.00  0.00              , ATOM    422  H   RES A   1      21.720  22.696  29.212  1.00  0.00           H  )\n",
      "  warnings.warn(\"WARNING: two consecutive residues with same number (%s, %s)\" % (atom, self._current_residue.atoms[-1]))\n",
      "/home/timber/miniconda3/envs/openff-dev-updated/lib/python3.10/site-packages/mdtraj/formats/pdb/pdbstructure.py:435: UserWarning: WARNING: two consecutive residues with same number (HETATM  423  H1  HOH A   1      19.624  35.640  26.364  1.00  0.00              , ATOM    422  H   RES A   1      26.840  18.336  24.903  1.00  0.00           H  )\n",
      "  warnings.warn(\"WARNING: two consecutive residues with same number (%s, %s)\" % (atom, self._current_residue.atoms[-1]))\n",
      "/home/timber/miniconda3/envs/openff-dev-updated/lib/python3.10/site-packages/mdtraj/formats/pdb/pdbstructure.py:435: UserWarning: WARNING: two consecutive residues with same number (HETATM  423  H1  HOH A   1      19.624  35.640  26.364  1.00  0.00              , ATOM    422  H   RES A   1      26.840  18.336  24.903  1.00  0.00           H  )\n",
      "  warnings.warn(\"WARNING: two consecutive residues with same number (%s, %s)\" % (atom, self._current_residue.atoms[-1]))\n",
      "/home/timber/miniconda3/envs/openff-dev-updated/lib/python3.10/site-packages/mdtraj/formats/pdb/pdbstructure.py:435: UserWarning: WARNING: two consecutive residues with same number (HETATM  423  H1  HOH A   1      41.316  35.346  19.337  1.00  0.00              , ATOM    422  H   RES A   1      11.400  12.829  16.383  1.00  0.00           H  )\n",
      "  warnings.warn(\"WARNING: two consecutive residues with same number (%s, %s)\" % (atom, self._current_residue.atoms[-1]))\n",
      "/home/timber/miniconda3/envs/openff-dev-updated/lib/python3.10/site-packages/mdtraj/formats/pdb/pdbstructure.py:435: UserWarning: WARNING: two consecutive residues with same number (HETATM  423  H1  HOH A   1      41.316  35.346  19.337  1.00  0.00              , ATOM    422  H   RES A   1      11.400  12.829  16.383  1.00  0.00           H  )\n",
      "  warnings.warn(\"WARNING: two consecutive residues with same number (%s, %s)\" % (atom, self._current_residue.atoms[-1]))\n",
      "/home/timber/miniconda3/envs/openff-dev-updated/lib/python3.10/site-packages/mdtraj/formats/pdb/pdbstructure.py:435: UserWarning: WARNING: two consecutive residues with same number (HETATM  516  H1  HOH A   1      34.478  40.564  36.588  1.00  0.00              , ATOM    515  H   RES A   1      13.776  38.230  19.753  1.00  0.00           H  )\n",
      "  warnings.warn(\"WARNING: two consecutive residues with same number (%s, %s)\" % (atom, self._current_residue.atoms[-1]))\n",
      "/home/timber/miniconda3/envs/openff-dev-updated/lib/python3.10/site-packages/mdtraj/formats/pdb/pdbstructure.py:435: UserWarning: WARNING: two consecutive residues with same number (HETATM  516  H1  HOH A   1      34.478  40.564  36.588  1.00  0.00              , ATOM    515  H   RES A   1      13.776  38.230  19.753  1.00  0.00           H  )\n",
      "  warnings.warn(\"WARNING: two consecutive residues with same number (%s, %s)\" % (atom, self._current_residue.atoms[-1]))\n",
      "/home/timber/miniconda3/envs/openff-dev-updated/lib/python3.10/site-packages/mdtraj/formats/pdb/pdbstructure.py:435: UserWarning: WARNING: two consecutive residues with same number (HETATM  516  H1  HOH A   1      15.730  34.483  33.885  1.00  0.00              , ATOM    515  H   RES A   1      25.496  18.056  33.055  1.00  0.00           H  )\n",
      "  warnings.warn(\"WARNING: two consecutive residues with same number (%s, %s)\" % (atom, self._current_residue.atoms[-1]))\n",
      "/home/timber/miniconda3/envs/openff-dev-updated/lib/python3.10/site-packages/mdtraj/formats/pdb/pdbstructure.py:435: UserWarning: WARNING: two consecutive residues with same number (HETATM  516  H1  HOH A   1      15.730  34.483  33.885  1.00  0.00              , ATOM    515  H   RES A   1      25.496  18.056  33.055  1.00  0.00           H  )\n",
      "  warnings.warn(\"WARNING: two consecutive residues with same number (%s, %s)\" % (atom, self._current_residue.atoms[-1]))\n",
      "/home/timber/miniconda3/envs/openff-dev-updated/lib/python3.10/site-packages/mdtraj/formats/pdb/pdbstructure.py:435: UserWarning: WARNING: two consecutive residues with same number (HETATM  516  H1  HOH A   1      11.475  24.919   4.767  1.00  0.00              , ATOM    515  H   RES A   1      12.271  21.978  14.862  1.00  0.00           H  )\n",
      "  warnings.warn(\"WARNING: two consecutive residues with same number (%s, %s)\" % (atom, self._current_residue.atoms[-1]))\n",
      "/home/timber/miniconda3/envs/openff-dev-updated/lib/python3.10/site-packages/mdtraj/formats/pdb/pdbstructure.py:435: UserWarning: WARNING: two consecutive residues with same number (HETATM  516  H1  HOH A   1      11.475  24.919   4.767  1.00  0.00              , ATOM    515  H   RES A   1      12.271  21.978  14.862  1.00  0.00           H  )\n",
      "  warnings.warn(\"WARNING: two consecutive residues with same number (%s, %s)\" % (atom, self._current_residue.atoms[-1]))\n",
      "/home/timber/miniconda3/envs/openff-dev-updated/lib/python3.10/site-packages/mdtraj/formats/pdb/pdbstructure.py:435: UserWarning: WARNING: two consecutive residues with same number (HETATM  516  H1  HOH A   1      41.703  45.553  43.308  1.00  0.00              , ATOM    515  H   RES A   1      17.805  25.500  24.519  1.00  0.00           H  )\n",
      "  warnings.warn(\"WARNING: two consecutive residues with same number (%s, %s)\" % (atom, self._current_residue.atoms[-1]))\n",
      "/home/timber/miniconda3/envs/openff-dev-updated/lib/python3.10/site-packages/mdtraj/formats/pdb/pdbstructure.py:435: UserWarning: WARNING: two consecutive residues with same number (HETATM  516  H1  HOH A   1      41.703  45.553  43.308  1.00  0.00              , ATOM    515  H   RES A   1      17.805  25.500  24.519  1.00  0.00           H  )\n",
      "  warnings.warn(\"WARNING: two consecutive residues with same number (%s, %s)\" % (atom, self._current_residue.atoms[-1]))\n",
      "/home/timber/miniconda3/envs/openff-dev-updated/lib/python3.10/site-packages/mdtraj/formats/pdb/pdbstructure.py:435: UserWarning: WARNING: two consecutive residues with same number (HETATM  262  H1  HOH A   1       1.770   5.694  31.172  1.00  0.00              , ATOM    261  H   RES A   1      19.658  18.733  24.158  1.00  0.00           H  )\n",
      "  warnings.warn(\"WARNING: two consecutive residues with same number (%s, %s)\" % (atom, self._current_residue.atoms[-1]))\n",
      "/home/timber/miniconda3/envs/openff-dev-updated/lib/python3.10/site-packages/mdtraj/formats/pdb/pdbstructure.py:435: UserWarning: WARNING: two consecutive residues with same number (HETATM  262  H1  HOH A   1       1.770   5.694  31.172  1.00  0.00              , ATOM    261  H   RES A   1      19.658  18.733  24.158  1.00  0.00           H  )\n",
      "  warnings.warn(\"WARNING: two consecutive residues with same number (%s, %s)\" % (atom, self._current_residue.atoms[-1]))\n",
      "/home/timber/miniconda3/envs/openff-dev-updated/lib/python3.10/site-packages/mdtraj/formats/pdb/pdbstructure.py:435: UserWarning: WARNING: two consecutive residues with same number (HETATM  262  H1  HOH A   1      46.053  32.725   0.050  1.00  0.00              , ATOM    261  H   RES A   1      33.714  25.616  21.761  1.00  0.00           H  )\n",
      "  warnings.warn(\"WARNING: two consecutive residues with same number (%s, %s)\" % (atom, self._current_residue.atoms[-1]))\n",
      "/home/timber/miniconda3/envs/openff-dev-updated/lib/python3.10/site-packages/mdtraj/formats/pdb/pdbstructure.py:435: UserWarning: WARNING: two consecutive residues with same number (HETATM  262  H1  HOH A   1      46.053  32.725   0.050  1.00  0.00              , ATOM    261  H   RES A   1      33.714  25.616  21.761  1.00  0.00           H  )\n",
      "  warnings.warn(\"WARNING: two consecutive residues with same number (%s, %s)\" % (atom, self._current_residue.atoms[-1]))\n",
      "/home/timber/miniconda3/envs/openff-dev-updated/lib/python3.10/site-packages/mdtraj/formats/pdb/pdbstructure.py:435: UserWarning: WARNING: two consecutive residues with same number (HETATM  262  H1  HOH A   1      16.610   0.062  31.589  1.00  0.00              , ATOM    261  H   RES A   1      23.002  11.197  20.624  1.00  0.00           H  )\n",
      "  warnings.warn(\"WARNING: two consecutive residues with same number (%s, %s)\" % (atom, self._current_residue.atoms[-1]))\n",
      "/home/timber/miniconda3/envs/openff-dev-updated/lib/python3.10/site-packages/mdtraj/formats/pdb/pdbstructure.py:435: UserWarning: WARNING: two consecutive residues with same number (HETATM  262  H1  HOH A   1      16.610   0.062  31.589  1.00  0.00              , ATOM    261  H   RES A   1      23.002  11.197  20.624  1.00  0.00           H  )\n",
      "  warnings.warn(\"WARNING: two consecutive residues with same number (%s, %s)\" % (atom, self._current_residue.atoms[-1]))\n",
      "/home/timber/miniconda3/envs/openff-dev-updated/lib/python3.10/site-packages/mdtraj/formats/pdb/pdbstructure.py:435: UserWarning: WARNING: two consecutive residues with same number (HETATM  262  H1  HOH A   1       6.614  20.283   4.215  1.00  0.00              , ATOM    261  H   RES A   1       9.566  19.696  29.037  1.00  0.00           H  )\n",
      "  warnings.warn(\"WARNING: two consecutive residues with same number (%s, %s)\" % (atom, self._current_residue.atoms[-1]))\n",
      "/home/timber/miniconda3/envs/openff-dev-updated/lib/python3.10/site-packages/mdtraj/formats/pdb/pdbstructure.py:435: UserWarning: WARNING: two consecutive residues with same number (HETATM  262  H1  HOH A   1       6.614  20.283   4.215  1.00  0.00              , ATOM    261  H   RES A   1       9.566  19.696  29.037  1.00  0.00           H  )\n",
      "  warnings.warn(\"WARNING: two consecutive residues with same number (%s, %s)\" % (atom, self._current_residue.atoms[-1]))\n"
     ]
    }
   ],
   "source": [
    "for mol_name, sim_dirs_list in equil_mgr.all_completed_sims.items():\n",
    "    polymer = equil_mgr.polymers[mol_name]\n",
    "    for sim_dir in sim_dirs_list:\n",
    "        sim_paths, sim_params = polymer.load_sim_paths_and_params(sim_dir)\n",
    "\n",
    "        # loading and assessing trajectories\n",
    "        traj = polymer.load_traj(sim_dir)\n",
    "        # traj_no_solv = traj.remove_solvent(inplace=False)\n",
    "        unique_elems = set(atom.element.symbol for atom in traj.topology.atoms)\n",
    "\n",
    "        # defining atom pairs\n",
    "        pair_dict = {\n",
    "            'chain O - water O' : traj.top.select_pairs('not water and element O', 'water and element O')\n",
    "        }\n",
    "        if 'N' in unique_elems:\n",
    "            pair_dict['chain N - water O'] = traj.top.select_pairs('not water and element N', 'water and element O')\n",
    "\n",
    "        # computing and saving RDFs to file\n",
    "        rdf_data = trajectory.acquire_rdfs(traj, pair_dict, min_rad=0.0, max_rad=2.0, rad_unit=nanometer)\n",
    "        rdf_data.to_csv(sim_paths.spatial_data, index=False) # overwrite rdfs with correct raii ranges"
   ]
  },
  {
   "cell_type": "markdown",
   "metadata": {},
   "source": [
    "## Extracting high-dimensional data \"cube\" of observable averages for all replicates"
   ]
  },
  {
   "cell_type": "code",
   "execution_count": 307,
   "metadata": {},
   "outputs": [],
   "source": [
    "full_prop_data = defaultdict(lambda : defaultdict(lambda : defaultdict(list)))\n",
    "full_rdf_data  = defaultdict(lambda : defaultdict(lambda : defaultdict(pd.DataFrame)))\n",
    "\n",
    "for mol_name, sim_dirs_list in equil_mgr.all_completed_sims.items():\n",
    "    polymer = equil_mgr.polymers[mol_name]\n",
    "    conf_id = re.search(r'(?<=conf_)(\\d+)', mol_name) # conformer number of the molecule in question\n",
    "    if conf_id is not None:\n",
    "        conf_id = int(conf_id.group())\n",
    "\n",
    "    for sim_dir in sim_dirs_list:\n",
    "        sim_paths, sim_params = polymer.load_sim_paths_and_params(sim_dir)\n",
    "\n",
    "        # collating shape properties\n",
    "        time_data = pd.read_csv(sim_paths.time_data)\n",
    "        # time_data = trajectory.acquire_time_props(traj, time_points=sim_params.time_points)\n",
    "        time_steps, time_samples = trajectory.props_to_plot_data(time_data)\n",
    "        for prop_name, time_series in time_samples.items():\n",
    "            full_prop_data[polymer.base_mol_name][sim_params.charge_method][prop_name].append(time_series.mean())\n",
    "\n",
    "        # collating radial distribution functions\n",
    "        rdf_data = pd.read_csv(sim_paths.spatial_data)\n",
    "        radii, rdfs = trajectory.rdfs_to_plot_data(rdf_data)\n",
    "\n",
    "        for atom_pair_name, rdf in rdfs.items():\n",
    "            full_rdf_data[polymer.base_mol_name][sim_params.charge_method][atom_pair_name][f'Conformer {conf_id}'] = rdf"
   ]
  },
  {
   "cell_type": "markdown",
   "metadata": {},
   "source": [
    "## Computing means and uncertainties for shape props, saving to unified dataframes\n"
   ]
  },
  {
   "cell_type": "code",
   "execution_count": 226,
   "metadata": {},
   "outputs": [],
   "source": [
    "dframe_fns = {\n",
    "    'observables'   : np.mean,\n",
    "    'uncertainties' : np.std\n",
    "}\n",
    "\n",
    "for mol_name, mol_dict in full_prop_data.items():\n",
    "    dframe = pd.DataFrame.from_dict({\n",
    "        f'Sage 2.0.0 - {chg_method}' : {\n",
    "            (stat_name, prop_name) : stat_fn(prop_data)\n",
    "                for stat_name, stat_fn in dframe_fns.items()\n",
    "                    for prop_name, prop_data in data_dict.items()\n",
    "        }\n",
    "        for chg_method, data_dict in mol_dict.items()\n",
    "    })\n",
    "    dframe.to_csv(openff_dir / f'{mol_name}.csv') # index deliberately left in"
   ]
  },
  {
   "cell_type": "markdown",
   "metadata": {},
   "source": [
    "### Merging property dataframes with data from Colina paper"
   ]
  },
  {
   "cell_type": "code",
   "execution_count": 227,
   "metadata": {},
   "outputs": [],
   "source": [
    "for ref_data_dir in colina_dir.iterdir():\n",
    "    filename = ref_data_dir.name\n",
    "\n",
    "    new_data = pd.read_csv(openff_dir / filename, index_col=[0, 1])\n",
    "    ref_data = pd.read_csv(ref_data_dir         , index_col=[0, 1])\n",
    "    data = pd.concat([new_data, ref_data], axis=1)\n",
    "\n",
    "    data.to_csv(combined_dir / filename)"
   ]
  },
  {
   "cell_type": "markdown",
   "metadata": {},
   "source": [
    "## Computing means and uncertainty series' for RDFs, saving to unified dataframes"
   ]
  },
  {
   "cell_type": "code",
   "execution_count": 310,
   "metadata": {},
   "outputs": [],
   "source": [
    "for mol_name, mol_dict in full_rdf_data.items():\n",
    "    df_dict = {\n",
    "        f'Sage 2.0.0 - {chg_method}' : {\n",
    "            (stat_name, prop_name) : list(stat_fn(rdf_data.to_numpy(), axis=1))\n",
    "                for stat_name, stat_fn in dframe_fns.items()\n",
    "                    for prop_name, rdf_data in data_dict.items()\n",
    "        }\n",
    "        for chg_method, data_dict in mol_dict.items()\n",
    "    }\n",
    "\n",
    "    dframe = pd.DataFrame.from_dict(df_dict)\n",
    "    dframe.to_csv(rdf_dir / f'{mol_name}.csv') # index deliberately left in\n",
    "radii.to_csv(rdf_dir / 'Radii.csv', index=False)"
   ]
  },
  {
   "attachments": {},
   "cell_type": "markdown",
   "metadata": {},
   "source": [
    "# Plotting"
   ]
  },
  {
   "cell_type": "markdown",
   "metadata": {},
   "source": [
    "## Shape Properties"
   ]
  },
  {
   "cell_type": "code",
   "execution_count": 119,
   "metadata": {},
   "outputs": [],
   "source": [
    "# defining colors for MD framework (sampled from tab20)\n",
    "color_set = (\n",
    "    'blue',\n",
    "    'orange',\n",
    "    'green',\n",
    "    'purple',\n",
    "    'grey',\n",
    ")\n",
    "hues_per_color = 4\n",
    "cmap = plt.get_cmap('tab20c')\n",
    "\n",
    "cdict, carr = plotutils.label_discrete_cmap(cmap, color_set, hues_per_color)\n",
    "dset_colors = {\n",
    "    'Sage 2.0.0 - ABE10_averaged'   : cdict['blue0'  ],\n",
    "    'Sage 2.0.0 - Espaloma_AM1BCC'  : cdict['blue2'  ],\n",
    "    'CHARMM - Mulliken'             : cdict['orange0'],\n",
    "    'CHARMM-c - Mulliken'           : cdict['orange2'],\n",
    "    'GAFF - RESP'                   : cdict['green0' ],\n",
    "    'GAFF2 - RESP'                  : cdict['green2' ],\n",
    "    'DREIDING - RESP'               : cdict['purple0'],\n",
    "}"
   ]
  },
  {
   "cell_type": "code",
   "execution_count": null,
   "metadata": {},
   "outputs": [],
   "source": [
    "for mol_name in equil_mgr.unique_polymer_names:\n",
    "    dframe = pd.read_csv(combined_dir / f'{mol_name}.csv', index_col=[0, 1])\n",
    "    obs = dframe.loc['observables']\n",
    "    std = dframe.loc['uncertainties']\n",
    "\n",
    "    frameworks = obs.columns\n",
    "    num_dsets = len(frameworks)\n",
    "    num_props = len(obs.index)\n",
    "    x_pos = np.arange(num_dsets)\n",
    "\n",
    "    fig, ax = plotutils.presize_subplots(nrows=1, ncols=num_props)\n",
    "    # fig.suptitle(mol_name)\n",
    "\n",
    "    for axis, (prop_name, prop_data) in zip(ax.flatten(), obs.iterrows()):\n",
    "        uncert = std.loc[prop_name].to_numpy()\n",
    "\n",
    "        axis.set_title(prop_name)\n",
    "        axis.bar(x_pos, prop_data, yerr=uncert, color=[dset_colors[fr] for fr in frameworks])\n",
    "        axis.set_xticks(x_pos)\n",
    "        axis.set_xticklabels([fw.replace(' - ', '\\n + ') for fw in obs.columns], rotation=-30)\n",
    "\n",
    "    fig.savefig(plot_prop_dir / f'{mol_name}_properties.png', bbox_inches='tight')"
   ]
  },
  {
   "cell_type": "markdown",
   "metadata": {},
   "source": [
    "## RDFs"
   ]
  },
  {
   "cell_type": "code",
   "execution_count": 335,
   "metadata": {},
   "outputs": [],
   "source": [
    "from ast import literal_eval\n",
    "from mpl_toolkits.axes_grid1.inset_locator import inset_axes\n",
    "\n",
    "\n",
    "fontsize = 14\n",
    "scale = 10\n",
    "aspect = 4/5\n",
    "\n",
    "inset_head_fract : float= 0.7 # fraction of the width of the RDF plot to add to the top to accomodate the inset\n",
    "inset_perc_x = 30 # percentage of main figure size to scale inset x axis\n",
    "inset_perc_y = 30 # percentage of main figure size to scale inset y axis\n",
    "\n",
    "radii_df = pd.read_csv(rdf_dir / 'Radii.csv')\n",
    "radii_label = radii_df.columns[0]\n",
    "radii = radii_df.to_numpy().flatten()\n",
    "subrange_idxs = np.where((0.2 < radii) & (radii < 1.2)) # extract region corresponding to 2-12 angstroms shown by Rukmani\n",
    "\n",
    "for mol_name in equil_mgr.unique_polymer_names:\n",
    "    dframe = pd.read_csv(rdf_dir / f'{mol_name}.csv', index_col=[0, 1])\n",
    "    for column in dframe.columns: \n",
    "        dframe[column] = dframe[column].apply(literal_eval) # de-stringify lists throughout\n",
    "\n",
    "    obs = dframe.loc['observables']\n",
    "    std = dframe.loc['uncertainties']\n",
    "    frameworks = obs.columns\n",
    "    num_rdfs = len(obs.index)\n",
    "    # fig.suptitle(mol_name)\n",
    "\n",
    "    for rdf_name in obs.index:\n",
    "        fig, ax = plotutils.presize_subplots(nrows=1, ncols=1, scale=scale, elongation=aspect)\n",
    "        inset_ax = inset_axes(ax, width=f'{inset_perc_x}%', height=f'{inset_perc_y}%', borderpad=1)# generate longer length-scale inset\n",
    "        for framework in frameworks:\n",
    "            # isolate data series'\n",
    "            rdf_mean = np.array(obs[framework].loc[rdf_name])\n",
    "            rdf_std  = np.array(std[framework].loc[rdf_name])\n",
    "            err_lower = rdf_mean - rdf_std # compute error band boundaries\n",
    "            err_upper = rdf_mean + rdf_std\n",
    "\n",
    "            # extract subranges\n",
    "            radii_subrange    = radii[   subrange_idxs]\n",
    "            rdf_mean_subrange = rdf_mean[subrange_idxs]\n",
    "            rdf_std_subrange  = rdf_std[ subrange_idxs]\n",
    "            err_lower_subrange  = err_lower[subrange_idxs]\n",
    "            err_upper_subrange  = err_upper[subrange_idxs]\n",
    "            \n",
    "            # plot reduced main plot\n",
    "            ax.plot(radii_subrange, rdf_mean_subrange, label=framework)\n",
    "            ax.fill_between(radii_subrange, rdf_mean_subrange - rdf_std_subrange, rdf_mean_subrange + rdf_std_subrange, alpha=0.5)\n",
    "            ax.set_xlabel(radii_label, fontsize=fontsize)\n",
    "            ax.set_ylabel(rdf_name, fontsize=fontsize)\n",
    "            ax.set_xlim(0.2, 1.2)\n",
    "            ax.set_ylim(0, err_upper_subrange.max() * (1 + inset_head_fract)) # accomodate inset\n",
    "\n",
    "            # plot longer length-scale inset\n",
    "            inset_ax.plot(radii, rdf_mean, label=framework)\n",
    "            inset_ax.fill_between(radii, rdf_mean - rdf_std, rdf_mean + rdf_std, alpha=0.5)\n",
    "            inset_ax.set_xlabel(radii_label, fontsize=fontsize)\n",
    "            # inset_ax.set_ylabel(rdf_name, fontsize=fontsize)\n",
    "            \n",
    "        ax.legend(loc='lower right', fontsize=fontsize)\n",
    "        fig.savefig(plot_rdf_dir / f'{mol_name}_{rdf_name}.png', bbox_inches='tight')\n",
    "        plt.close()"
   ]
  },
  {
   "cell_type": "markdown",
   "metadata": {},
   "source": [
    "## Drawing molecular structures for RCT graphic"
   ]
  },
  {
   "cell_type": "code",
   "execution_count": 338,
   "metadata": {},
   "outputs": [
    {
     "name": "stderr",
     "output_type": "stream",
     "text": [
      "2023-08-18 12:24:24.954 [INFO    :  representation:line 389] - Assigning precomputed ABE10_averaged charges to pnipam_modified\n",
      "2023-08-18 12:24:24.975 [INFO    :  representation:line 389] - Assigning precomputed ABE10_exact charges to pnipam_modified\n"
     ]
    }
   ],
   "source": [
    "from matplotlib.colors import Normalize\n",
    "rdkdraw.set_rdkdraw_size(1000, 1/1)\n",
    "\n",
    "\n",
    "mol_img_path = fig_dir / 'RCT_diagrams'\n",
    "mol_img_path.mkdir(exist_ok=True)\n",
    "\n",
    "N = 1_000\n",
    "mol_name = 'pnipam_modified'\n",
    "\n",
    "# load polymer object and associated molecules\n",
    "full_polymer = src_mgr.polymers[  mol_name]\n",
    "redux_polymer = redux_mgr.polymers[mol_name]\n",
    "\n",
    "full_polymer.assign_charges_by_lookup('ABE10_averaged')\n",
    "redux_polymer.assign_charges_by_lookup('ABE10_exact')\n",
    "\n",
    "unparam_rdmol = full_polymer.rdmol\n",
    "param_rdmol   = full_polymer.offmol.to_rdkit()\n",
    "redux_rdmol   = redux_polymer.offmol.to_rdkit()\n",
    "\n",
    "# generate charge heatmap info\n",
    "prop_vals = rdprops.aggregate_atom_prop(param_rdmol, 'PartialCharge', prop_type=float) # explicitly ensure the property is interpreted as a numericla value\n",
    "vmin, vmax = min(prop_vals), max(prop_vals)\n",
    "norm = Normalize(vmin, vmax)\n",
    "cmap = plt.get_cmap('turbo')\n",
    "\n",
    "rdmol_imgs = {\n",
    "    'unparam' : Chem.Draw.MolToImage(unparam_rdmol, size=(N, N)),\n",
    "    'param'   : Chem.Draw.MolToImage(param_rdmol, size=(N, N)),\n",
    "    'redux'   : Chem.Draw.MolToImage(redux_rdmol, size=(N, N)),\n",
    "    'charged_full'  : rdkdraw.rdmol_prop_heatmap(param_rdmol, prop='PartialCharge', cmap=cmap, norm=norm, img_size=(N, N)),\n",
    "    'charged_redux' : rdkdraw.rdmol_prop_heatmap(redux_rdmol, prop='PartialCharge', cmap=cmap, norm=norm, img_size=(N, N))\n",
    "}\n",
    "\n",
    "for label, rdmol_img in rdmol_imgs.items():\n",
    "    rdmol_img.save(mol_img_path / f'{label}.png')"
   ]
  },
  {
   "attachments": {},
   "cell_type": "markdown",
   "metadata": {},
   "source": [
    "# Comparing ABE10 and Espaloma charges"
   ]
  },
  {
   "cell_type": "code",
   "execution_count": null,
   "metadata": {},
   "outputs": [],
   "source": [
    "from ast import literal_eval\n",
    "import matplotlib.patches as mpl_patches\n",
    "from matplotlib.colors import Normalize, Colormap\n",
    "from polysaccharide.general import GREEK_UPPER\n",
    "\n",
    "\n",
    "def charges_plots(polymer : Polymer, charge_method_1 : str, charge_method_2 : str, n_bins : int=50, fontsize : int=14, orient : Optional[str]=None,\n",
    "                   cmap : Colormap=plt.get_cmap('turbo'), converter : str='CXSMARTS') -> tuple[tuple[plt.Figure, plt.Axes], tuple[plt.Figure, plt.Axes]]:\n",
    "    '''For generating charge graphics for paper and resentations'''\n",
    "\n",
    "    # extracting molecules and computing difference molecule\n",
    "    chgd_offmol_1 = polymer.charged_offmol_from_sdf(charge_method_1)\n",
    "    chgd_rdmol_1  = chgd_offmol_1.to_rdkit() # ensure map numbers are present for correct matching\n",
    "    chgd_rdmol_1  = rdconvert.flattened_rdmol(chgd_rdmol_1, converter=converter) # convert \n",
    "    \n",
    "    chgd_offmol_2 = polymer.charged_offmol_from_sdf(charge_method_2)\n",
    "    chgd_rdmol_2  = chgd_offmol_2.to_rdkit() # ensure map numbers are present for correct matching\n",
    "    chgd_rdmol_2  = rdconvert.flattened_rdmol(chgd_rdmol_2, converter=converter) # convert \n",
    "    \n",
    "    diff_rdmol = rdcompare.difference_rdmol(chgd_rdmol_1, chgd_rdmol_2)\n",
    "    diff_str = f'{GREEK_UPPER[\"delta\"]}q (elem. charge): {charge_method_1} vs {charge_method_2}'\n",
    "\n",
    "    # generating heatmap\n",
    "    hm_fig, hm_ax = rdkdraw.rdmol_prop_heatmap_colorscaled( # done in-line to avoid fig and axes from being displayed prematurely\n",
    "        rdmol=diff_rdmol,\n",
    "        prop='DeltaPartialCharge',\n",
    "        cmap=cmap,\n",
    "        cbar_label='',#diff_str,\n",
    "        orient=orient\n",
    "    )\n",
    "\n",
    "    # Extracting charge differences values and ranges\n",
    "    deltas = literal_eval(diff_rdmol.GetProp('DeltaPartialCharges'))\n",
    "    deltas = np.array(deltas)\n",
    "    vmin, vmax = deltas.min(), deltas.max()\n",
    "    norm = Normalize(vmin, vmax)\n",
    "\n",
    "    # generating histogram\n",
    "    hist_fig, hist_ax = plotutils.presize_subplots(1, 1, scale=8, elongation=4/5)\n",
    "    bin_vals, bin_edges, patches = hist_ax.hist(deltas, bins=n_bins, orientation='horizontal')\n",
    "\n",
    "    # coloring histogram bars by atom color map\n",
    "    for bin_edge, artist in zip(bin_edges, patches):\n",
    "        plt.setp(artist, 'facecolor', cmap(norm(bin_edge)))\n",
    "\n",
    "    # computing and labelling charge RMSE\n",
    "    RMSE = analysis.statistics.RMSE(chgd_offmol_1.partial_charges, chgd_offmol_2.partial_charges)\n",
    "    labels = [f'RMSE = {round(RMSE.magnitude, 5)} e']\n",
    "    handles = [mpl_patches.Rectangle((0, 0), 1, 1, fc=\"white\", ec=\"white\", lw=0, alpha=0)] * len(labels) # create empty handles to pin annotation text to\n",
    "    hist_ax.legend(handles, labels, loc='best', handlelength=0, fontsize=fontsize)\n",
    "    # hist_ax.annotate(f'RMSE = {round(RMSE.magnitude, 5)} e', (0.65, 0.9), xycoords='axes fraction', fontsize=14, bbox=dict(edgecolor='black', facecolor='white'))\n",
    "\n",
    "    # Labelling and sizing axes\n",
    "    # hist_ax.set_title(f'{polymer.mol_name} charge differences')\n",
    "    _ = hist_ax.set_yticks((vmin, 0, vmax))\n",
    "    hist_ax.set_xlabel('Number of atoms', fontsize=fontsize)\n",
    "    hist_ax.set_ylabel(diff_str, fontsize=fontsize)\n",
    "\n",
    "    return diff_rdmol, RMSE, (hm_fig, hm_ax), (hist_fig, hist_ax)\n",
    "\n",
    "\n",
    "class BinSizer(ABC):\n",
    "    '''Abstract base for auto-sizing histogram bins\n",
    "    Child class implementations taken from https://en.wikipedia.org/wiki/Histogram#Number_of_bins_and_width'''\n",
    "    @abstractstaticmethod\n",
    "    def num_bins(N : int) -> int:\n",
    "        raise NotImplementedError\n",
    "\n",
    "    @classmethod\n",
    "    @property\n",
    "    def registry(cls) -> dict[str, 'BinSizer']:\n",
    "        '''Name-indexed dict of all inherited Component implementations'''\n",
    "        return {\n",
    "            subcomp.__name__ : subcomp\n",
    "                for subcomp in cls.__subclasses__()\n",
    "        }\n",
    "\n",
    "class Sturges(BinSizer):\n",
    "    '''Based on Sturges' Formula'''\n",
    "    @staticmethod\n",
    "    def num_bins(N: int) -> int:\n",
    "        return 1 + ceil(np.log2(N)) \n",
    "\n",
    "class Sqrt(BinSizer):\n",
    "    '''Based on square root'''\n",
    "    @staticmethod\n",
    "    def num_bins(N: int) -> int:\n",
    "        return ceil(np.sqrt(N))\n",
    "\n",
    "class Rice(BinSizer):\n",
    "    '''Based on Rice's Rule'''\n",
    "    @staticmethod\n",
    "    def num_bins(N: int) -> int:\n",
    "        return ceil(2 * N**(1/3))"
   ]
  },
  {
   "cell_type": "code",
   "execution_count": null,
   "metadata": {},
   "outputs": [],
   "source": [
    "chg_plot_dir = fig_dir / 'charge_plots'\n",
    "chg_plot_dir.mkdir(exist_ok=True)\n",
    "\n",
    "# config options\n",
    "fs = 12\n",
    "save = True\n",
    "# save = False\n",
    "cvtr = 'CXSMARTS'\n",
    "cmap = plt.get_cmap('turbo')\n",
    "\n",
    "# orient = None\n",
    "orient = 'vertical'\n",
    "\n",
    "# bin_sizer_type = 'Sturges'\n",
    "bin_sizer_type = 'Sqrt'\n",
    "bin_sizer = BinSizer.registry[bin_sizer_type]()\n",
    "\n",
    "# begin plotting loop\n",
    "for mol_name, polymer in src_mgr.polymers.items():\n",
    "    redux_polymer = redux_mgr.polymers[mol_name] # lookup reduction of each polymer\n",
    "    mol_dir = chg_plot_dir / mol_name\n",
    "    mol_dir.mkdir(exist_ok=True)\n",
    "\n",
    "    # reference to ABE10 exact\n",
    "    n_bins = bin_sizer.num_bins(redux_polymer.n_atoms)\n",
    "    # print(n_bins)\n",
    "    diffmol, RMSE, (hm_fig, hm_ax), (hist_fig, hist_ax) = charges_plots(redux_polymer, 'ABE10_exact', 'ABE10_averaged', n_bins=n_bins, fontsize=fs, cmap=cmap, converter=cvtr, orient=orient)\n",
    "    if save:\n",
    "        hm_fig.savefig(  mol_dir / f'{mol_name}_redux_heatmap.png', bbox_inches='tight')\n",
    "        hist_fig.savefig(mol_dir / f'{mol_name}_redux_histogram.png', bbox_inches='tight')\n",
    "\n",
    "    # RCT vs Espaloma\n",
    "    n_bins = bin_sizer.num_bins(polymer.n_atoms)\n",
    "    # print(n_bins)\n",
    "    diffmol, RMSE, (hm_fig, hm_ax), (hist_fig, hist_ax) = charges_plots(polymer, 'ABE10_averaged', 'Espaloma_AM1BCC', n_bins=n_bins, fontsize=fs, cmap=cmap, converter=cvtr, orient=orient)\n",
    "    if save:\n",
    "        hm_fig.savefig(  mol_dir / f'{mol_name}_heatmap.png', bbox_inches='tight')\n",
    "        hist_fig.savefig(mol_dir / f'{mol_name}_histogram.png', bbox_inches='tight')"
   ]
  },
  {
   "cell_type": "markdown",
   "metadata": {},
   "source": [
    "## Generating PNIPAAm conformers for reference"
   ]
  },
  {
   "cell_type": "code",
   "execution_count": null,
   "metadata": {},
   "outputs": [],
   "source": [
    "polymer = rec_mgr.polymers['pnipam_modified']\n",
    "offmol = polymer.offmol\n",
    "offmol.generate_conformers(toolkit_registry=ps.TOOLKITS['OpenEye Toolkit'], n_conformers=10)\n",
    "offmol.to_file('pnipam_confs.pdb', file_format='pdb')"
   ]
  },
  {
   "cell_type": "markdown",
   "metadata": {},
   "source": [
    "## Performing AM1BCC (no ELF) without conformer gen"
   ]
  },
  {
   "cell_type": "code",
   "execution_count": null,
   "metadata": {},
   "outputs": [],
   "source": [
    "from polysaccharide.charging.application import generate_molecule_charges\n",
    "\n",
    "polymer = rec_mgr.polymers['paam_modified']\n",
    "offmol = polymer.offmol\n",
    "\n",
    "abmol = generate_molecule_charges(polymer.offmol, partial_charge_method='am1bcc', conformers=offmol.conformers)"
   ]
  },
  {
   "cell_type": "code",
   "execution_count": null,
   "metadata": {},
   "outputs": [],
   "source": [
    "plt.plot(abmol.partial_charges)"
   ]
  },
  {
   "cell_type": "code",
   "execution_count": null,
   "metadata": {},
   "outputs": [],
   "source": [
    "rct_mol = polymer.charged_offmol_from_sdf('ABE10_averaged')\n",
    "rct_rdmol = rct_mol.to_rdkit()\n",
    "diffmol, (fig, ax) = rdcompare.compare_chgd_rdmols(abmol.to_rdkit(), rct_rdmol, 'AM1BCC (no conf gen)', 'ABE10_averaged', converter='CXSMARTS')"
   ]
  },
  {
   "cell_type": "code",
   "execution_count": null,
   "metadata": {},
   "outputs": [],
   "source": [
    "err_mol = polymer.charged_offmol_from_sdf('ABE10_exact')\n",
    "err_rdmol = err_mol.to_rdkit()\n",
    "rdkdraw.rdmol_prop_heatmap_colorscaled(err_rdmol, 'PartialCharge', cmap=plt.get_cmap('jet'), cbar_label='AM1-BCC-ELF10 partial charges (e)')"
   ]
  },
  {
   "cell_type": "code",
   "execution_count": null,
   "metadata": {},
   "outputs": [],
   "source": [
    "oemol = abmol.to_rdkit()\n",
    "rdkdraw.rdmol_prop_heatmap_colorscaled(oemol, 'PartialCharge', cmap=plt.get_cmap('jet'), cbar_label='AM1-BCC (original conformer) partial charges (e)')"
   ]
  },
  {
   "cell_type": "code",
   "execution_count": null,
   "metadata": {},
   "outputs": [],
   "source": [
    "from ast import literal_eval\n",
    "\n",
    "RMSE = analysis.statistics.RMSE(abmol.partial_charges, rct_mol.partial_charges)\n",
    "print(RMSE)"
   ]
  },
  {
   "cell_type": "code",
   "execution_count": null,
   "metadata": {},
   "outputs": [],
   "source": [
    "list(oemol.GetPropNames())"
   ]
  },
  {
   "cell_type": "code",
   "execution_count": null,
   "metadata": {},
   "outputs": [],
   "source": [
    "chg_method = 'ABE10_exact'\n",
    "\n",
    "chg_rdmol = polymer.charged_offmol_from_sdf(chg_method).to_rdkit()\n",
    "rdkdraw.rdmol_prop_heatmap_colorscaled(chg_rdmol, 'PartialCharge', cbar_label='chg_method')"
   ]
  },
  {
   "cell_type": "code",
   "execution_count": null,
   "metadata": {},
   "outputs": [],
   "source": []
  }
 ],
 "metadata": {
  "kernelspec": {
   "display_name": "openff-dev-updated",
   "language": "python",
   "name": "python3"
  },
  "language_info": {
   "codemirror_mode": {
    "name": "ipython",
    "version": 3
   },
   "file_extension": ".py",
   "mimetype": "text/x-python",
   "name": "python",
   "nbconvert_exporter": "python",
   "pygments_lexer": "ipython3",
   "version": "3.10.9"
  },
  "orig_nbformat": 4
 },
 "nbformat": 4,
 "nbformat_minor": 2
}
