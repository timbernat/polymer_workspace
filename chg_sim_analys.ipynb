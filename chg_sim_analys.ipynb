{
 "cells": [
  {
   "cell_type": "code",
   "execution_count": 1,
   "metadata": {},
   "outputs": [
    {
     "name": "stderr",
     "output_type": "stream",
     "text": [
      "Warning: importing 'simtk.openmm' is deprecated.  Import 'openmm' instead.\n",
      "<frozen importlib._bootstrap_external>:572: DeprecationWarning: find_module() is deprecated and slated for removal in Python 3.12; use find_spec() instead\n",
      "<frozen importlib._bootstrap_external>:1523: DeprecationWarning: FileFinder.find_loader() is deprecated and slated for removal in Python 3.12; use find_spec() instead\n",
      "<frozen importlib._bootstrap>:283: DeprecationWarning: the load_module() method is deprecated and slated for removal in Python 3.12; use exec_module() instead\n"
     ]
    }
   ],
   "source": [
    "# Custom Imports\n",
    "from polymer_utils import analysis, general, filetree, molutils\n",
    "from polymer_utils import simulation as polysim\n",
    "\n",
    "from polymer_utils import charging\n",
    "from polymer_utils.charging.types import AtomIDMap, ResidueChargeMap\n",
    "from polymer_utils.charging.residues import ChargedResidue\n",
    "\n",
    "from polymer_utils import LOGGERS_MASTER\n",
    "from polymer_utils.representation import Polymer, PolymerManager\n",
    "from polymer_utils.solvation.solvents import WATER_TIP3P\n",
    "from polymer_utils.analysis import plotprops, trajectory\n",
    "from polymer_utils.logutils import config_mlf_handler, MultiStreamFileHandler\n",
    "from polymer_utils.simulation import SimulationPaths, SimulationParameters\n",
    "from polymer_utils.graphics import rdkdraw\n",
    "\n",
    "# General Imports\n",
    "import matplotlib.pyplot as plt\n",
    "import numpy as np\n",
    "import pandas as pd\n",
    "\n",
    "# Typing and Subclassing\n",
    "from typing import Any, Callable, ClassVar, Iterable, Optional, Union\n",
    "from dataclasses import dataclass, field\n",
    "from abc import ABC, abstractmethod, abstractproperty\n",
    "from openmm.unit import Unit, Quantity\n",
    "\n",
    "# File I/O\n",
    "from pathlib import Path\n",
    "import csv, json, pickle\n",
    "from shutil import copyfile, rmtree\n",
    "\n",
    "# Logging and Shell\n",
    "import logging\n",
    "logging.basicConfig(level=logging.INFO)\n",
    "                            \n",
    "# Cheminformatics\n",
    "from rdkit import Chem\n",
    "from rdkit.Chem import rdmolfiles\n",
    "\n",
    "# Molecular Dynamics\n",
    "from openff.units import unit\n",
    "from openff.interchange import Interchange\n",
    "\n",
    "from openff.toolkit import ForceField\n",
    "from openff.toolkit.topology import Topology\n",
    "from openff.toolkit.topology.molecule import Molecule, Atom\n",
    "from openff.toolkit.typing.engines.smirnoff.parameters import LibraryChargeHandler\n",
    "\n",
    "from openmm.openmm import MonteCarloBarostat\n",
    "from openff.toolkit.utils.exceptions import ConformerGenerationError\n",
    "from openff.toolkit.utils.toolkits import RDKitToolkitWrapper, OpenEyeToolkitWrapper, AmberToolsToolkitWrapper\n",
    "\n",
    "from openmm import LangevinMiddleIntegrator, Context\n",
    "from openmm.vec3 import Vec3\n",
    "from openmm.app import Simulation, PDBReporter, StateDataReporter\n",
    "\n",
    "from openmm.unit import picosecond, femtosecond, nanosecond # time\n",
    "from openmm.unit import nanometer, angstrom # length\n",
    "from openmm.unit import kelvin, atmosphere # misc\n",
    "\n",
    "# Static Paths\n",
    "RESOURCE_PATH = Path('resources')\n",
    "COLL_PATH = Path('Collections')\n",
    "# COMPAT_PDB_PATH = Path('compatible_pdbs')\n",
    "COMPAT_PDB_PATH = Path('compatible_pdbs_updated')"
   ]
  },
  {
   "cell_type": "markdown",
   "metadata": {},
   "source": [
    "## Configuring and (re)loading polymers, setting solvents, checking validity"
   ]
  },
  {
   "cell_type": "code",
   "execution_count": 2,
   "metadata": {},
   "outputs": [
    {
     "name": "stderr",
     "output_type": "stream",
     "text": [
      "WARNING:polymer_utils.representation:Deleted all log files at Collections/simple_polymers/Logs\n",
      "INFO:8772883945106:Creation of collection \"simple_polymers\" completed in 0:00:00.000027\n",
      "\n"
     ]
    }
   ],
   "source": [
    "reset      = False\n",
    "purge_sims = False \n",
    "purge_logs = True # False\n",
    "\n",
    "poly_source_path = COMPAT_PDB_PATH / 'simple_polymers'\n",
    "# poly_source_path = COMPAT_PDB_PATH / 'water_soluble_small'\n",
    "solv_template    = RESOURCE_PATH/'inp_templates'/'solv_polymer_template_box.inp'\n",
    "desired_solvents = (WATER_TIP3P,) # (None,)\n",
    "exclusion = 1.0*nanometer\n",
    "\n",
    "# Define derived paths and create manager\n",
    "collection_path  = COLL_PATH / poly_source_path.name\n",
    "structure_path   = poly_source_path / f'{poly_source_path.name}_structures'\n",
    "monomer_path     = poly_source_path / f'{poly_source_path.name}_monomers'\n",
    "\n",
    "mgr = PolymerManager(collection_path)\n",
    "\n",
    "# Perform manager setup / purge actions\n",
    "if purge_logs: # NOTE : must be done BEFORE log FileHandler is created, as this will destroy it's output as well\n",
    "    mgr.purge_logs(really=True)\n",
    "\n",
    "creation_logger = logging.getLogger('polymer_setup')\n",
    "loggers = [creation_logger, *LOGGERS_MASTER]\n",
    "logfile_path = mgr.log_dir/f'Setup_{general.timestamp_now()}.log'\n",
    "\n",
    "with MultiStreamFileHandler(logfile_path, loggers=loggers, proc_name=f'Creation of collection \"{mgr.collection_dir.name}\"'):\n",
    "    if reset:\n",
    "        mgr.purge_collection(really=True, purge_logs=False) # Explicitly DON'T purge logs here (will be done prior to entering log loop)\n",
    "\n",
    "    if purge_sims:\n",
    "        mgr.purge_sims(really=True)\n",
    "\n",
    "    if not mgr.mol_dirs: # will be empty if not yet instantiated or if reset prior\n",
    "        mgr.populate_collection(struct_dir=structure_path, monomer_dir=monomer_path)\n",
    "        mgr.solvate_collection(desired_solvents, template_path=solv_template, exclusion=exclusion)"
   ]
  },
  {
   "cell_type": "code",
   "execution_count": 3,
   "metadata": {},
   "outputs": [
    {
     "name": "stdout",
     "output_type": "stream",
     "text": [
      "{'polyvinylchloride_solv_water': [PosixPath('Collections/simple_polymers/polyvinylchloride/polyvinylchloride_solv_water/MD/04-25-2023_at_18-10-01_PM'), PosixPath('Collections/simple_polymers/polyvinylchloride/polyvinylchloride_solv_water/MD/04-26-2023_at_08-37-42_AM'), PosixPath('Collections/simple_polymers/polyvinylchloride/polyvinylchloride_solv_water/MD/04-26-2023_at_08-59-39_AM'), PosixPath('Collections/simple_polymers/polyvinylchloride/polyvinylchloride_solv_water/MD/04-26-2023_at_08-36-46_AM')], 'naturalrubber_solv_water': [PosixPath('Collections/simple_polymers/naturalrubber/naturalrubber_solv_water/MD/04-25-2023_at_18-13-51_PM')]}\n",
      "dict_keys(['polymethylketone_solv_water', 'polyvinylchloride_solv_water', 'atactic_styrene_solv_water', 'syntactic_styrene_solv_water', 'naturalrubber_solv_water', 'polythiophene_solv_water', 'polyphenyleneII_solv_water', 'polyethylmethacrylate_solv_water', 'PEO_PLGA_solv_water'])\n"
     ]
    }
   ],
   "source": [
    "# Selecting subset of molecules which is suitable for ABE10 charging and subsequent simulation\n",
    "HARD_POLYMERS = ['vulcanizedrubber', 'polyphenylenesulfone', 'polyethylene', 'polyphenyleneI'] # pathological or otherwise difficult-to-run polymers that I've encountered\n",
    "EASY_POLYMERS = ['polyvinylchloride_solv_water', 'polyethylmethacrylate_solv_water'] + ['naturalrubber_solv_water', 'PEO_PLGA_solv_water'] # the quickest-to-charge and -to-simulate polymers in the sample set\n",
    "\n",
    "MolFilter = Callable[[Polymer], bool]\n",
    "whitelisted  = lambda mol_dir : mol_dir.base_mol_name not in HARD_POLYMERS\n",
    "matchable    = lambda mol_dir : mol_dir.has_monomer_data\n",
    "AM1_sized    = lambda mol_dir : 0 < mol_dir.n_atoms <= 300\n",
    "good_solvent = lambda mol_dir : mol_dir.solvent in desired_solvents\n",
    "\n",
    "filters : tuple[MolFilter] = (whitelisted, matchable, AM1_sized, good_solvent)\n",
    "valid_mols = {\n",
    "    mol_dir.mol_name : mol_dir\n",
    "        for mol_dir in mgr.mol_dirs_list\n",
    "            if all(_filter(mol_dir) for _filter in filters)\n",
    "}\n",
    "\n",
    "# display to check that loading has gone as planned\n",
    "print(mgr.all_completed_sims)\n",
    "print(valid_mols.keys())"
   ]
  },
  {
   "attachments": {},
   "cell_type": "markdown",
   "metadata": {},
   "source": [
    "## Charge and sim loop V2"
   ]
  },
  {
   "cell_type": "code",
   "execution_count": 4,
   "metadata": {},
   "outputs": [],
   "source": [
    "# DEFINE TARGET MOLECULES AND FORCEFIELD\n",
    "# sample_mols = EASY_POLYMERS\n",
    "sample_mols = ['polyvinylchloride_solv_water']\n",
    "# sample_mols = valid_mols\n",
    "main_ff_xml = RESOURCE_PATH/'force_fields'/'openff_constrained-2.0.0.offxml'\n",
    "# main_ff_xml = RESOURCE_PATH/'force_fields'/'openff_unconstrained-2.0.0.offxml'\n",
    "\n",
    "# CHARGING PARAMETERS\n",
    "perform_charging = False #True\n",
    "overwrite_ff_xml     = False #True\n",
    "overwrite_chg_json   = False #True\n",
    "distrib_mono_charges = True\n",
    "\n",
    "strict   = True\n",
    "verbose  = False\n",
    "\n",
    "charge_methods = ['ABE10_exact', 'Espaloma_AM1BCC', 'ABE10_averaged'] # NOTE : !CRUCIAL! that 'ABE10_averaged' come last! (need pure charges to averaged from first)\n",
    "avg_charge_method = 'ABE10_exact'  # method on which to base average charge calculations\n",
    "\n",
    "# SIMULATION PARAMETERS\n",
    "run_sims = True\n",
    "sim_param_path = RESOURCE_PATH/'sim_templates'/'debug_sim.json'\n",
    "# sim_param_path = RESOURCE_PATH/'sim_templates'/'half_standard_sim.json'\n",
    "# sim_param_path = RESOURCE_PATH/'sim_templates'/'standard_sim.json'\n",
    "sim_params = SimulationParameters.from_file(sim_param_path)\n",
    "\n",
    "# ANALYSIS PARAMETERS\n",
    "perform_analysis = False #True\n",
    "traj_sample_interval = 5 # interval between consecutive time points for trajectory analysis (needed for longer sims)"
   ]
  },
  {
   "cell_type": "code",
   "execution_count": 5,
   "metadata": {},
   "outputs": [
    {
     "name": "stdout",
     "output_type": "stream",
     "text": [
      "SimulationParameters(total_time=Quantity(value=1, unit=picosecond), num_samples=500, charge_method='ABE10_exact', reported_state_data={'step': True, 'time': True, 'potentialEnergy': True, 'kineticEnergy': True, 'totalEnergy': True, 'temperature': True, 'volume': True, 'density': True, 'progress': False, 'remainingTime': False, 'speed': True, 'elapsedTime': True}, timestep=Quantity(value=1, unit=femtosecond), temperature=Quantity(value=300, unit=kelvin), pressure=Quantity(value=1, unit=atmosphere), friction_coeff=Quantity(value=1, unit=/picosecond), barostat_freq=1)\n",
      "1000 2 simulation\n",
      "dict_keys(['polyvinylchloride_solv_water'])\n"
     ]
    }
   ],
   "source": [
    "# PRE-FLIGHT CALCULATIONS\n",
    "if avg_charge_method == 'ABE10_averaged':\n",
    "    raise ValueError('Charge averaging must be performed over a non-averaged (i.e. pure) set of charges')\n",
    "\n",
    "sample_dirs = {\n",
    "    mol_name : mgr.mol_dirs[mol_name] # TOSELF : deliberately not using .get() so this raises an easier-to-debug KeyError\n",
    "        for mol_name in sample_mols\n",
    "}\n",
    "\n",
    "step_names = {\n",
    "    'charging' : perform_charging,\n",
    "    'simulation' : run_sims,\n",
    "    'analysis' : perform_analysis\n",
    "}\n",
    "action_str = ' & '.join([\n",
    "    step_name\n",
    "        for step_name, perform_step in step_names.items()\n",
    "            if perform_step\n",
    "])\n",
    "\n",
    "print(sim_params)\n",
    "print(sim_params.num_steps, sim_params.record_freq, action_str)\n",
    "print(sample_dirs.keys())"
   ]
  },
  {
   "cell_type": "code",
   "execution_count": 6,
   "metadata": {},
   "outputs": [],
   "source": [
    "# Functions for performing primary charging, sim, and analysis actions\n",
    "def obtain_partial_charges(mol_dir : Polymer, main_logger : logging.Logger, chg_methods : list[str], avg_charge_method : str, overwrite_chg_json : bool, strict : bool, verbose : bool) -> dict[str, Molecule]:\n",
    "    '''Ensure a Polymer has all partial charge sets'''\n",
    "    # 0) LOAD MOLECULE AND TOPOLOGY, ATTEMPT TO APPLY LIBRARY CHARGES\n",
    "    if not mol_dir.has_monomer_data:\n",
    "        raise FileExistsError(f'No monomer JSONs found for {mol_dir.mol_name}')\n",
    "\n",
    "    # 1) ENSURING CHARGES AND RELATED FILES FOR ALL CHARGING METHODS EXIST\n",
    "    cmols = {}\n",
    "    for chg_method in chg_methods:\n",
    "        chgr = charging.application.CHARGER_REGISTRY[chg_method]()\n",
    "\n",
    "        if chg_method == 'ABE10_averaged': # !NOTE! - critical that this not be the first key in the registry (has nothing to average over from scratch)\n",
    "            main_logger.info(f'Averaging charges over {mol_dir.mol_name} residues')\n",
    "            cmol = cmols[avg_charge_method] # obtain the pure charged molecule from which to draw charges for averaging\n",
    "            avgd_res, atom_id_mapping = charging.averaging.get_averaged_charges(cmol, monomer_data=mol_dir.monomer_data)\n",
    "            residue_charges = {avgd_res.residue_name : avgd_res.charges for avgd_res in avgd_res}\n",
    "            chgr.set_residue_charges(residue_charges)\n",
    "            \n",
    "            if (mol_dir.monomer_file_chgd is None) or overwrite_chg_json: # can only reach this branch if a json is present but isn't identified as charged within the Polymer\n",
    "                main_logger.warning('Generating monomer JSON file with monomer-averaged charges')\n",
    "                mol_dir.create_charged_monomer_file(residue_charges)\n",
    "\n",
    "                monomer_data = mol_dir.monomer_data_charged # double check that the charged data is in fact loadable\n",
    "                main_logger.info('Acquired charge-averaged monomer JSON')\n",
    "\n",
    "        cmol = mol_dir.assert_charges_for(chgr, strict=strict, verbose=verbose)\n",
    "        cmols[chg_method] = cmol\n",
    "    \n",
    "    return cmols\n",
    "\n",
    "def perform_prop_analysis(mol_dir : Polymer, main_logger : logging.Logger, traj_sample_interval : int):\n",
    "    '''Analyze trajectories to obtain polymer property data'''\n",
    "    # aqcuire files for all information\n",
    "    sim_folder = mol_dir.newest_sim_dir\n",
    "    main_logger.info(f'Acquiring trajectory data from {sim_folder}')\n",
    "    sim_paths = SimulationPaths.from_file(next(sim_folder.glob('*_paths.json')))\n",
    "\n",
    "    sim_params = SimulationParameters.from_file(sim_paths.sim_params)\n",
    "    state_data = pd.read_csv(sim_paths.state_data)\n",
    "    traj = trajectory.load_traj(sim_paths.trajectory, topo_path=mol_dir.structure_file, sample_interval=traj_sample_interval, remove_solvent=True)\n",
    "\n",
    "    # save and plot RDF data\n",
    "    main_logger.info('Determining pairwise radial distribution functions')\n",
    "    rdf_dataframe = trajectory.acquire_rdfs(traj, max_rad=1.0*nanometer)\n",
    "    rdf_dataframe.to_csv(sim_folder/'rdfs.csv')\n",
    "    rdf_fig, rdf_ax = plotprops.plot_rdfs(rdf_dataframe, scale=15.0)\n",
    "    rdf_fig.suptitle(f'Pairwise Radial Distribution Functions - {mol_dir.mol_name}')\n",
    "    rdf_fig.savefig(sim_folder/f'RDFs.png', bbox_inches='tight')\n",
    "    plt.close()\n",
    "\n",
    "    # save and plot property data\n",
    "    main_logger.info('Determining polymer shape properties')\n",
    "    prop_dataframe = trajectory.acquire_time_props(traj, properties=analysis.polyprops.DEFAULT_PROPS, time_points=sim_params.time_points[::traj_sample_interval]) \n",
    "    prop_dataframe.to_csv(sim_folder/'time_series.csv')\n",
    "    prop_fig, prop_ax = plotprops.plot_time_props(prop_dataframe, scale=18.0)\n",
    "    prop_fig.suptitle(f'Polymer Shape Properties - {mol_dir.mol_name}')\n",
    "    prop_fig.savefig(sim_folder/f'shape_props.png', bbox_inches='tight')\n",
    "    plt.close()\n",
    "    \n",
    "    main_logger.info('Successfully exported trajectory analysis data and plots')"
   ]
  },
  {
   "cell_type": "code",
   "execution_count": 7,
   "metadata": {},
   "outputs": [
    {
     "name": "stderr",
     "output_type": "stream",
     "text": [
      "INFO:__main__:Current molecule: \"polyvinylchloride_solv_water\" (1/1)\n",
      "INFO:__main__:(3) Preparing simulation\n",
      "INFO:polymer_utils.representation:Created new Simulation directory \"04-26-2023_at_09-01-53_AM\"\n",
      "INFO:polymer_utils.representation:Loading OpenFF Topology WITH monomer graph match\n",
      "INFO:polymer_utils.representation:Assigning charges from ABE10_exact to polyvinylchloride_solv_water's OpenFF Molecule\n",
      "INFO:polymer_utils.representation:Creating SMIRNOFF Interchange for \"polyvinylchloride_solv_water\"\n",
      "INFO:polymer_utils.simulation:Creating OpenMM Simulation from Interchange\n",
      "INFO:polymer_utils.simulation:Running 1 ps OpenMM sim at 300 K and 1 atm for 1000 steps\n",
      "INFO:__main__:\n",
      "INFO:8772883796266:polyvinylchloride_solv_water simulation completed in 0:00:36.277594\n",
      "\n",
      "INFO:8772884329298:polyvinylchloride_solv_water simulation completed in 0:00:36.277594\n",
      "\n",
      "INFO:8772884329298:Simulation loop completed in 0:00:36.282277\n",
      "\n"
     ]
    }
   ],
   "source": [
    "# BEGIN CHARGING / SIM LOOP - Perform charge averaging on all target molecules which don't already have averaged LCs; Load forcefield for those which already do \n",
    "main_logger = logging.getLogger(__name__)\n",
    "loggers = [main_logger, *LOGGERS_MASTER] # loggers from all modules which produce logging output\n",
    "main_logfile_path = mgr.log_dir/f'{action_str.capitalize()}_{general.timestamp_now()}.log'\n",
    "\n",
    "with MultiStreamFileHandler(main_logfile_path, loggers=loggers, proc_name=f'{action_str.capitalize()} loop') as msf_handler:\n",
    "    for i, (mol_name, mol_dir) in enumerate(sample_dirs.items()):\n",
    "        main_logger.info(f'Current molecule: \"{mol_name}\" ({i + 1}/{len(sample_dirs)})') # +1 converts to more human-readable 1-index for step count\n",
    "        mol_dir_logfile_path = mol_dir.logs/f'{general.timestamp_now()}.log'\n",
    "        \n",
    "        with msf_handler.subhandler(mol_dir_logfile_path, loggers=loggers, proc_name=f'{mol_name} {action_str}') as subhandler: # also log actions to individual Polymers\n",
    "            if perform_charging:\n",
    "                main_logger.info('(1) Acquiring partial charges')\n",
    "                cmols = obtain_partial_charges(mol_dir, main_logger, charge_methods, avg_charge_method, overwrite_chg_json, strict, verbose)\n",
    "                main_logger.info('') # log empty line to give some breathing room\n",
    "\n",
    "            if (mol_dir.ff_file is None) or overwrite_ff_xml: # can only reach if a charged monomer json already exists\n",
    "                main_logger.info('(2) Acquiring Force Field file with Library Charges')\n",
    "                forcefield, lib_chgs = mol_dir.create_FF_file(xml_src=main_ff_xml, return_lib_chgs=True)\n",
    "                main_logger.info('') # log empty line to give some breathing room\n",
    "\n",
    "            if run_sims:\n",
    "                main_logger.info('(3) Preparing simulation')\n",
    "                sim_folder = mol_dir.run_simulation_NPT(sim_params)\n",
    "                main_logger.info('') # log empty line to give some breathing room\n",
    "            \n",
    "            if perform_analysis:\n",
    "                main_logger.info('(4) Analyzing trajectories')\n",
    "                perform_prop_analysis(mol_dir, main_logger, traj_sample_interval)\n",
    "                main_logger.info('') # log empty line to give some breathing room"
   ]
  },
  {
   "cell_type": "code",
   "execution_count": 8,
   "metadata": {},
   "outputs": [
    {
     "data": {
      "text/plain": [
       "{}"
      ]
     },
     "execution_count": 8,
     "metadata": {},
     "output_type": "execute_result"
    }
   ],
   "source": [
    "msf_handler.children"
   ]
  },
  {
   "cell_type": "code",
   "execution_count": 10,
   "metadata": {},
   "outputs": [
    {
     "data": {
      "text/plain": [
       "<MultiStreamFileHandler /home/timber/Documents/Python/openff-workspace/polymer_workspace/Collections/simple_polymers/Logs/Simulation_04-26-2023_at_09-01-53_AM.log (NOTSET)>"
      ]
     },
     "execution_count": 10,
     "metadata": {},
     "output_type": "execute_result"
    }
   ],
   "source": [
    "subhandler.parent"
   ]
  }
 ],
 "metadata": {
  "kernelspec": {
   "display_name": "openff-dev-updated",
   "language": "python",
   "name": "python3"
  },
  "language_info": {
   "codemirror_mode": {
    "name": "ipython",
    "version": 3
   },
   "file_extension": ".py",
   "mimetype": "text/x-python",
   "name": "python",
   "nbconvert_exporter": "python",
   "pygments_lexer": "ipython3",
   "version": "3.10.9"
  },
  "orig_nbformat": 4,
  "vscode": {
   "interpreter": {
    "hash": "b6f4b411abbc3e95cc086ad6e81a9cb26e6bd9b323dd491204b8eb280f272f95"
   }
  }
 },
 "nbformat": 4,
 "nbformat_minor": 2
}
