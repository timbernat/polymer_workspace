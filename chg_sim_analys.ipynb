{
 "cells": [
  {
   "cell_type": "code",
   "execution_count": 1,
   "metadata": {},
   "outputs": [
    {
     "name": "stderr",
     "output_type": "stream",
     "text": [
      "Warning on use of the timeseries module: If the inherent timescales of the system are long compared to those being analyzed, this statistical inefficiency may be an underestimate.  The estimate presumes the use of many statistically independent samples.  Tests should be performed to assess whether this condition is satisfied.   Be cautious in the interpretation of the data.\n",
      "WARNING:root:Warning: importing 'simtk.openmm' is deprecated.  Import 'openmm' instead.\n"
     ]
    }
   ],
   "source": [
    "# Custom Imports\n",
    "from polysaccharide import analysis, filetree, general, logutils, molutils\n",
    "from polysaccharide import representation as rep\n",
    "\n",
    "from polysaccharide import LOGGERS_MASTER\n",
    "from polysaccharide.representation import Polymer, PolymerManager\n",
    "from polysaccharide.solvation.solvents import WATER_TIP3P\n",
    "from polysaccharide.molutils.rdmol import rdkdraw\n",
    "from polysaccharide.charging.application import CHARGER_REGISTRY, ChargingParameters\n",
    "from polysaccharide.simulation.records import SimulationPaths, SimulationParameters\n",
    "from polysaccharide.analysis import trajectory\n",
    "\n",
    "# Generic Imports\n",
    "import matplotlib.pyplot as plt\n",
    "import numpy as np\n",
    "import pandas as pd\n",
    "\n",
    "# Typing and Subclassing\n",
    "from typing import Any, Callable, ClassVar, Iterable, Optional, Union\n",
    "from dataclasses import dataclass, field\n",
    "from abc import ABC, abstractmethod, abstractproperty\n",
    "from openmm.unit import Unit, Quantity\n",
    "\n",
    "# File I/O\n",
    "from pathlib import Path\n",
    "import csv, json, pickle\n",
    "from shutil import copyfile, rmtree\n",
    "import importlib.resources as impres\n",
    "\n",
    "# Logging and Shell\n",
    "import logging\n",
    "logging.basicConfig(level=logging.INFO)\n",
    "                            \n",
    "# Cheminformatics\n",
    "from rdkit import Chem\n",
    "from rdkit.Chem import rdmolfiles\n",
    "\n",
    "# Molecular Dynamics\n",
    "from openff.interchange import Interchange\n",
    "from openff.toolkit import ForceField\n",
    "from openff.toolkit.topology import Topology\n",
    "from openff.toolkit.topology.molecule import Molecule, Atom\n",
    "from openff.toolkit.typing.engines.smirnoff.parameters import LibraryChargeHandler\n",
    "\n",
    "from openff.units import unit\n",
    "from openmm.unit import picosecond, femtosecond, nanosecond # time\n",
    "from openmm.unit import nanometer, angstrom # length\n",
    "from openmm.unit import kelvin, atmosphere # misc\n",
    "\n",
    "# Static Paths\n",
    "RESOURCE_PATH = Path('resources')\n",
    "COLL_PATH = Path('Collections')\n",
    "# COMPAT_PDB_PATH = Path('compatible_pdbs')\n",
    "COMPAT_PDB_PATH = Path('compatible_pdbs_updated')"
   ]
  },
  {
   "attachments": {},
   "cell_type": "markdown",
   "metadata": {},
   "source": [
    "## Configuring and (re)loading polymers, setting solvents, checking validity"
   ]
  },
  {
   "cell_type": "code",
   "execution_count": 10,
   "metadata": {},
   "outputs": [],
   "source": [
    "logging.root.setLevel(logging.INFO)"
   ]
  },
  {
   "cell_type": "code",
   "execution_count": 20,
   "metadata": {},
   "outputs": [
    {
     "name": "stderr",
     "output_type": "stream",
     "text": [
      "INFO:8742506974839:Setup of simple_polymers completed in 0:00:00.000025\n",
      "\n"
     ]
    }
   ],
   "source": [
    "reset      = False #True\n",
    "purge_sims = False #True \n",
    "purge_logs = False #True\n",
    "solvate    = False #True\n",
    "\n",
    "poly_source_path = COMPAT_PDB_PATH / 'simple_polymers'\n",
    "# poly_source_path = COMPAT_PDB_PATH / 'water_soluble_reduced'\n",
    "# poly_source_path = COMPAT_PDB_PATH / 'water_soluble_large'\n",
    "# solv_template    = RESOURCE_PATH/'inp_templates'/'solv_polymer_template_box.inp'\n",
    "solv_template = impres.path('resources.inp_templates', 'solv_polymer_template_box.inp')\n",
    "desired_solvents = (WATER_TIP3P,) # (None,)\n",
    "exclusion = 1.0*nanometer\n",
    "\n",
    "# Define derived paths and create manager\n",
    "collection_path  = COLL_PATH / poly_source_path.name\n",
    "# collection_path  = COLL_PATH / 'solv_test'\n",
    "structure_path   = poly_source_path / f'{poly_source_path.name}_structures'\n",
    "monomer_path     = poly_source_path / f'{poly_source_path.name}_monomers'\n",
    "\n",
    "mgr = PolymerManager(collection_path)\n",
    "\n",
    "# Perform manager setup / purge actions\n",
    "if purge_logs: # NOTE : must be done BEFORE log FileHandler is created, as this will destroy it's output as well\n",
    "    mgr.purge_logs(really=True)\n",
    "\n",
    "creation_logger = logging.getLogger('polymer_setup')\n",
    "loggers = [creation_logger, *LOGGERS_MASTER]\n",
    "\n",
    "with logutils.ProcessLogHandler(filedir=mgr.log_dir, loggers=loggers, proc_name=f'Setup of {mgr.collection_dir.name}', timestamp=True):\n",
    "    if reset:\n",
    "        mgr.purge_collection(really=True, purge_logs=False) # Explicitly DON'T purge logs here (will be done prior to entering log loop)\n",
    "\n",
    "    if purge_sims:\n",
    "        mgr.purge_sims(really=True)\n",
    "\n",
    "    if not mgr.polymers: # will be empty if not yet instantiated or if reset prior\n",
    "        mgr.populate_collection(struct_dir=structure_path, monomer_dir=monomer_path)\n",
    "        if solvate:\n",
    "            mgr.solvate_collection(desired_solvents, template_path=solv_template, exclusion=exclusion)"
   ]
  },
  {
   "attachments": {},
   "cell_type": "markdown",
   "metadata": {},
   "source": [
    "## Charge and sim loop V2"
   ]
  },
  {
   "cell_type": "code",
   "execution_count": null,
   "metadata": {},
   "outputs": [],
   "source": [
    "# Selecting subset of molecules which is suitable for ABE10 charging and subsequent simulation\n",
    "HARD_POLYMERS = ['vulcanizedrubber', 'polyphenylenesulfone', 'polyethylene', 'polyphenyleneI'] # pathological or otherwise difficult-to-run polymers that I've encountered\n",
    "EASY_POLYMERS = ['polyvinylchloride_solv_water', 'polyethylmethacrylate_solv_water'] + ['naturalrubber_solv_water', 'PEO_PLGA_solv_water'] # the quickest-to-charge and -to-simulate polymers in the simple_polymers sample set\n",
    "\n",
    "desired_solvents = (None,)\n",
    "whitelisted  = rep.filter_factory_by_attr(attr_name='base_mol_name', condition=lambda name : name in HARD_POLYMERS, inclusive=False)\n",
    "good_solvent = rep.filter_factory_by_attr(attr_name='solvent', condition=lambda solv : solv in desired_solvents)\n",
    "\n",
    "# filters : tuple[rep.MolFilter] = (good_solvent, rep.has_monomers, rep.is_AM1_sized)\n",
    "filters : tuple[rep.MolFilter] = (whitelisted, good_solvent, rep.has_monomers, rep.is_AM1_sized)\n",
    "# filters : tuple[rep.MolFilter] = (whitelisted, good_solvent, rep.has_monomers) # for large molecules\n",
    "valid_mols = mgr.filtered_by(filters)\n",
    "\n",
    "# display to check that loading has gone as planned\n",
    "print(valid_mols.keys())"
   ]
  },
  {
   "cell_type": "code",
   "execution_count": null,
   "metadata": {},
   "outputs": [],
   "source": [
    "# DEFINE TARGET MOLECULES AND FORCEFIELD\n",
    "# sample_mols = EASY_POLYMERS\n",
    "# sample_mols = valid_mols\n",
    "# sample_mols = ['polyvinylchloride_solv_water']\n",
    "sample_mols = ['pnipam_modified_solv_water']\n",
    "\n",
    "to_sample = rep.filter_factory_by_attr(attr_name='mol_name', condition=lambda name : name in sample_mols)\n",
    "sample_dirs = mgr.filtered_by(to_sample)\n",
    "\n",
    "# CHARGING PARAMETERS\n",
    "perform_charging = False #True\n",
    "chg_params_path = RESOURCE_PATH / 'chg_templates' / 'standard_chg_params.json'\n",
    "# chg_params_path = RESOURCE_PATH / 'chg_templates' / 'long_chain_chg_params.json'\n",
    "# chg_params_path = RESOURCE_PATH / 'chg_templates' / 'standard_chg_params_rewrite.json'\n",
    "chg_params = ChargingParameters.from_file(chg_params_path)\n",
    "\n",
    "# SIMULATION PARAMETERS\n",
    "run_sims = True\n",
    "# sim_param_path = RESOURCE_PATH / 'sim_templates' / 'debug_sim.json'\n",
    "# sim_param_path = RESOURCE_PATH / 'sim_templates' / 'debug_sim_dcd.json'\n",
    "# sim_param_path = RESOURCE_PATH / 'sim_templates' / 'debug_sim_dcd_ABE_avg.json'\n",
    "sim_param_path = RESOURCE_PATH / 'sim_templates' / 'pilot_sim_ABE_avg_dcd copy.json'\n",
    "# sim_param_path = RESOURCE_PATH / 'sim_templates' / 'half_standard_sim.json'\n",
    "# sim_param_path = RESOURCE_PATH / 'sim_templates' / 'standard_sim.json'\n",
    "sim_params = SimulationParameters.from_file(sim_param_path)\n",
    "\n",
    "# ANALYSIS PARAMETERS\n",
    "perform_analysis = True\n",
    "traj_sample_interval = 1 # interval between consecutive time points for trajectory analysis (needed for longer sims)\n",
    "\n",
    "# PRE-FLIGHT CALCULATIONS\n",
    "if chg_params.averaging_charge_method == 'ABE10_averaged':\n",
    "    raise ValueError('Charge averaging must be performed over a non-averaged (i.e. pure) set of charges')\n",
    "\n",
    "step_names = {\n",
    "    'charging' : perform_charging,\n",
    "    'simulation' : run_sims,\n",
    "    'analysis' : perform_analysis\n",
    "}\n",
    "action_str = ' & '.join([\n",
    "    step_name\n",
    "        for step_name, perform_step in step_names.items()\n",
    "            if perform_step\n",
    "])\n",
    "\n",
    "print(chg_params)\n",
    "print(sim_params)\n",
    "print(sim_params.num_steps, sim_params.record_freq, action_str)\n",
    "print(sample_dirs.keys())"
   ]
  },
  {
   "cell_type": "code",
   "execution_count": null,
   "metadata": {},
   "outputs": [],
   "source": [
    "# Functions for performing primary charging, sim, and analysis actions\n",
    "def perform_prop_analysis(polymer : Polymer, main_logger : logging.Logger, traj_sample_interval : int=1) -> None:\n",
    "    '''Analyze trajectories to obtain polymer property data'''\n",
    "    # aqcuire files for all information\n",
    "    for sim_dir, sim_paths_file in polymer.simulation_paths.items():\n",
    "        sim_paths, sim_params = polymer.load_sim_paths_and_params(sim_dir)\n",
    "\n",
    "        if sim_dir == polymer.newest_sim_dir: # only attempt to load compressed binary trajectories\n",
    "            main_logger.info(f'Found most recent trajectory {sim_paths.trajectory}')\n",
    "            state_data = pd.read_csv(sim_paths.state_data)\n",
    "            traj = trajectory.load_traj(sim_paths.trajectory, topo_path=polymer.structure_file, sample_interval=traj_sample_interval, remove_solvent=True)\n",
    "\n",
    "            # save and plot RDF data\n",
    "            main_logger.info('Calculating pairwise radial distribution functions')\n",
    "            rdf_dataframe = trajectory.acquire_rdfs(traj, max_rad=1.0*nanometer)\n",
    "            rdf_save_path = sim_dir/'rdfs.csv'\n",
    "            sim_paths.spatial_data = rdf_save_path\n",
    "            rdf_dataframe.to_csv(rdf_save_path, index=False)\n",
    "\n",
    "            # save and plot property data\n",
    "            main_logger.info('Calculating polymer shape properties')\n",
    "            prop_dataframe = trajectory.acquire_time_props(traj, time_points=sim_params.time_points[::traj_sample_interval]) \n",
    "            prop_save_path = sim_dir/'time_series.csv'\n",
    "            sim_paths.time_data = prop_save_path\n",
    "            prop_dataframe.to_csv(prop_save_path, index=False)\n",
    "\n",
    "            sim_paths.to_file(sim_paths_file) # update references to analyzed data files in path file\n",
    "            main_logger.info(f'Successfully exported trajectory analysis data')\n",
    "\n",
    "# DEFINE MAIN BODY FUNCTION WITH LOGGING\n",
    "main_logger = logging.getLogger(__name__)\n",
    "loggers = [main_logger, *LOGGERS_MASTER] # loggers from all modules which produce logging output\n",
    "\n",
    "@mgr.logging_wrapper(loggers=loggers, proc_name=action_str.capitalize(), filters=to_sample)\n",
    "def run_actions(polymer : Polymer, main_logger) -> None:\n",
    "    if perform_charging:\n",
    "        main_logger.info('(1) Acquiring partial charges')\n",
    "        polymer.obtain_partial_charges(chg_params)\n",
    "        main_logger.info('') # log empty line to give some breathing room\n",
    "\n",
    "    if run_sims:\n",
    "        main_logger.info('(2) Preparing simulation')\n",
    "        polymer.run_simulation(sim_params)\n",
    "        main_logger.info('') # log empty line to give some breathing room\n",
    "    \n",
    "    if perform_analysis:\n",
    "        main_logger.info('(3) Analyzing trajectories')\n",
    "        perform_prop_analysis(polymer, main_logger, traj_sample_interval)\n",
    "        main_logger.info('') # log empty line to give some breathing room\n",
    "\n",
    "run_actions(main_logger)"
   ]
  },
  {
   "cell_type": "code",
   "execution_count": null,
   "metadata": {},
   "outputs": [],
   "source": [
    "action_str"
   ]
  },
  {
   "cell_type": "code",
   "execution_count": null,
   "metadata": {},
   "outputs": [],
   "source": []
  }
 ],
 "metadata": {
  "kernelspec": {
   "display_name": "openff-dev-updated",
   "language": "python",
   "name": "python3"
  },
  "language_info": {
   "codemirror_mode": {
    "name": "ipython",
    "version": 3
   },
   "file_extension": ".py",
   "mimetype": "text/x-python",
   "name": "python",
   "nbconvert_exporter": "python",
   "pygments_lexer": "ipython3",
   "version": "3.10.9"
  },
  "orig_nbformat": 4,
  "vscode": {
   "interpreter": {
    "hash": "b6f4b411abbc3e95cc086ad6e81a9cb26e6bd9b323dd491204b8eb280f272f95"
   }
  }
 },
 "nbformat": 4,
 "nbformat_minor": 2
}
