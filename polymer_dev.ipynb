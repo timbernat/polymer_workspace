{
 "cells": [
  {
   "cell_type": "code",
   "execution_count": 1,
   "metadata": {},
   "outputs": [
    {
     "name": "stderr",
     "output_type": "stream",
     "text": [
      "/home/timber/miniconda3/envs/openff-dev-updated/lib/python3.10/site-packages/numpy/core/getlimits.py:518: UserWarning: The value of the smallest subnormal for <class 'numpy.float64'> type is zero.\n",
      "  setattr(self, word, getattr(machar, word).flat[0])\n",
      "/home/timber/miniconda3/envs/openff-dev-updated/lib/python3.10/site-packages/numpy/core/getlimits.py:89: UserWarning: The value of the smallest subnormal for <class 'numpy.float64'> type is zero.\n",
      "  return self._float_to_str(self.smallest_subnormal)\n",
      "/home/timber/miniconda3/envs/openff-dev-updated/lib/python3.10/site-packages/numpy/core/getlimits.py:518: UserWarning: The value of the smallest subnormal for <class 'numpy.float32'> type is zero.\n",
      "  setattr(self, word, getattr(machar, word).flat[0])\n",
      "/home/timber/miniconda3/envs/openff-dev-updated/lib/python3.10/site-packages/numpy/core/getlimits.py:89: UserWarning: The value of the smallest subnormal for <class 'numpy.float32'> type is zero.\n",
      "  return self._float_to_str(self.smallest_subnormal)\n",
      "Warning on use of the timeseries module: If the inherent timescales of the system are long compared to those being analyzed, this statistical inefficiency may be an underestimate.  The estimate presumes the use of many statistically independent samples.  Tests should be performed to assess whether this condition is satisfied.   Be cautious in the interpretation of the data.\n",
      "WARNING:root:Warning: importing 'simtk.openmm' is deprecated.  Import 'openmm' instead.\n"
     ]
    }
   ],
   "source": [
    "# Custom Imports\n",
    "import polysaccharide as ps\n",
    "from polysaccharide import analysis, extratypes, filetree, general, logutils, molutils\n",
    "from polysaccharide import polymer\n",
    "\n",
    "from polysaccharide.charging.residues import ChargedResidue\n",
    "from polysaccharide.charging.application import CHARGER_REGISTRY, ChargingParameters\n",
    "\n",
    "from polysaccharide import LOGGERS_MASTER\n",
    "from polysaccharide.logutils import ProcessLogHandler\n",
    "\n",
    "from polysaccharide.molutils.rdmol import rdkdraw, rdprops, rdcompare, rdconvert, rdtypes\n",
    "\n",
    "from polysaccharide.polymer.representation import Polymer\n",
    "from polysaccharide.polymer.management import PolymerManager\n",
    "from polysaccharide.polymer.filtering import has_sims, is_solvated, is_unsolvated, is_charged\n",
    "from polysaccharide.polymer import building, monomer\n",
    "\n",
    "from polysaccharide.solvation.solvents import WATER_TIP3P\n",
    "from polysaccharide.analysis import trajectory, statistics\n",
    "from polysaccharide.simulation.records import SimulationPaths, SimulationParameters\n",
    "from polysaccharide.graphics import plotutils\n",
    "\n",
    "# Generic Imports\n",
    "import re\n",
    "from functools import partial\n",
    "from collections import defaultdict\n",
    "from itertools import combinations\n",
    "\n",
    "# Numeric imports\n",
    "from math import ceil\n",
    "import numpy as np\n",
    "import pandas as pd\n",
    "import matplotlib.pyplot as plt\n",
    "\n",
    "# Typing and Subclassing\n",
    "from typing import Any, Callable, ClassVar, Iterable, Optional, Union\n",
    "from dataclasses import dataclass, field\n",
    "from abc import ABC, abstractmethod, abstractproperty\n",
    "from openmm.unit import Unit, Quantity\n",
    "\n",
    "# File I/O\n",
    "import argparse\n",
    "from pathlib import Path\n",
    "import csv, json, pickle\n",
    "from shutil import copyfile, rmtree\n",
    "import importlib.resources as impres\n",
    "\n",
    "# Logging and Shell\n",
    "import logging\n",
    "logging.basicConfig(\n",
    "    level=logging.INFO,\n",
    "    format=logutils.LOG_FORMATTER._fmt,\n",
    "    datefmt=logutils.LOG_FORMATTER.datefmt,\n",
    "    force=True\n",
    ")\n",
    "                            \n",
    "# Cheminformatics\n",
    "from rdkit import Chem\n",
    "from rdkit.Chem import rdmolfiles\n",
    "\n",
    "# Molecular Dynamics\n",
    "from openff.interchange import Interchange\n",
    "from openff.toolkit import ForceField\n",
    "from openff.toolkit.topology import Topology\n",
    "from openff.toolkit.topology.molecule import Molecule, Atom\n",
    "from openff.toolkit.typing.engines.smirnoff.parameters import LibraryChargeHandler\n",
    "\n",
    "from openff.units import unit\n",
    "from openmm.unit import picosecond, femtosecond, nanosecond # time\n",
    "from openmm.unit import nanometer, angstrom # length\n",
    "from openmm.unit import kelvin, atmosphere # misc\n",
    "\n",
    "# polymer resource management\n",
    "import importlib_resources as impres\n",
    "from polysaccharide import resources\n",
    "from polysaccharide.resources import AVAIL_RESOURCES\n",
    "\n",
    "RESOURCE_PATH = resources.RESOURCE_PATH\n",
    "SIM_PARAM_PATH = impres.files(resources.sim_templates)\n",
    "CHG_PARAM_PATH = impres.files(resources.chg_templates)\n",
    "INP_PARAM_PATH = impres.files(resources.inp_templates)"
   ]
  },
  {
   "attachments": {},
   "cell_type": "markdown",
   "metadata": {},
   "source": [
    "## Building long polymers for Connor"
   ]
  },
  {
   "cell_type": "code",
   "execution_count": null,
   "metadata": {},
   "outputs": [],
   "source": [
    "from polysaccharide.polymer import building, monomer, filtering\n",
    "\n",
    "COLL_PATH = Path('Collections')\n",
    "\n",
    "coll_name_1 = 'simple_polymers'\n",
    "target_polymers = (\n",
    "    'polyethylene',\n",
    "    'polyethylmethacrylate',\n",
    "    'naturalrubber',\n",
    "    'polyphenylenesulfone',\n",
    "    'polyvinylchloride',\n",
    "    'atactic_styrene',\n",
    "    'syntactic_styrene',\n",
    "    'bisphenolA_modified',\n",
    "    'polymethylketone'\n",
    ")\n",
    "\n",
    "to_reverse = {\n",
    "    'bisphenolA_modified'   : True,\n",
    "    'polymethylketone'      : False,\n",
    "    'polyvinylchloride'     : False,\n",
    "    'polyethylene'          : False,\n",
    "    'atactic_styrene'       : True,\n",
    "    'polyphenylenesulfone'  : False,\n",
    "    'syntactic_styrene'     : False,\n",
    "    'naturalrubber'         : False,\n",
    "    'polyethylmethacrylate' : True,\n",
    "    'paam_modified'         : True,\n",
    "    'pnipam_modified'       : True,\n",
    "    'peg_modified'          : True\n",
    "}\n",
    "\n",
    "mgr_1 = PolymerManager(COLL_PATH / coll_name_1)\n",
    "is_target = filtering.filter_factory_by_attr(attr_name='mol_name', condition=lambda name : name in target_polymers)\n",
    "\n",
    "coll_name_2 = 'water_soluble_polymers'\n",
    "mgr_2 = PolymerManager(COLL_PATH / coll_name_2)\n",
    "\n",
    "polymers = {**mgr_1.filtered_by(is_target), **mgr_2.polymers}\n",
    "polymers.keys()"
   ]
  },
  {
   "cell_type": "code",
   "execution_count": null,
   "metadata": {},
   "outputs": [],
   "source": [
    "parent_dir = Path('long_linear_polymers')\n",
    "parent_dir.mkdir(exist_ok=True)\n",
    "\n",
    "for order in (3, 4, 5):\n",
    "    targ_size = int(10**order)\n",
    "    outpath = parent_dir / f'linear_polymers_{targ_size}'\n",
    "    outpath.mkdir(exist_ok=True)\n",
    "\n",
    "    size_dict = {}\n",
    "    for mol_name, polymer in polymers.items():\n",
    "        monomer_info = polymer.monomer_info\n",
    "        smarts = monomer_info.SMARTS\n",
    "        print(mol_name)\n",
    "\n",
    "        try:\n",
    "            thresh_DOP = monomer.estimate_DOP_lower(smarts, max_chain_len=targ_size)\n",
    "            N = monomer.estimate_chain_len(smarts, DOP=thresh_DOP + 1)\n",
    "            # print(thresh_DOP, N, monomer.is_linear(smarts), monomer.is_homopolymer(smarts))\n",
    "\n",
    "            new_poly = building.build_linear_polymer(smarts, DOP=thresh_DOP + 1, add_Hs=False, reverse_term_labels=to_reverse[mol_name])\n",
    "            # display(Chem.MolFromSmiles(new_poly.to_smiles()))\n",
    "            size_dict[mol_name] = N\n",
    "\n",
    "            save_strpath = general.asstrpath(outpath / f'{mol_name}.pdb')\n",
    "            new_poly.save(save_strpath)\n",
    "        except Exception as e:\n",
    "            print('FAILED', type(e), e, '\\n')\n",
    "\n",
    "    inventory = pd.DataFrame(size_dict.items(), columns=['Molecule', 'Chain Length'])\n",
    "    inventory.to_csv(outpath / f'Inventory_{targ_size}')"
   ]
  },
  {
   "cell_type": "code",
   "execution_count": null,
   "metadata": {},
   "outputs": [],
   "source": [
    "parent_dir = Path('long_linear_polymers')\n",
    "targ_dir = parent_dir / 'linear_polymers_10000'\n",
    "\n",
    "failed = []\n",
    "# pdb_path = targ_dir / 'bisphenolA_modified.pdb'\n",
    "for pdb_path in targ_dir.glob('*.pdb'):\n",
    "    print(pdb_path.stem)\n",
    "    rdmol = Chem.MolFromPDBFile(str(pdb_path))\n",
    "    if rdmol is None:\n",
    "        failed.append(pdb_path.stem)\n",
    "\n",
    "    display(rdmol)\n",
    "    print('='*50)"
   ]
  },
  {
   "cell_type": "code",
   "execution_count": null,
   "metadata": {},
   "outputs": [],
   "source": [
    "failed"
   ]
  },
  {
   "attachments": {},
   "cell_type": "markdown",
   "metadata": {},
   "source": [
    "## Running component scripts commands"
   ]
  },
  {
   "cell_type": "code",
   "execution_count": 2,
   "metadata": {},
   "outputs": [],
   "source": [
    "# Source collection / structure directory\n",
    "strct_name = 'water_soluble_polymers'\n",
    "out_name = 'wasp_water_test'\n",
    "# strct_name = 'water_soluble_polymers_confs'\n",
    "# strct_name = 'water_soluble_polymers_equil'\n",
    "\n",
    "COLL_PATH = Path('Collections')\n",
    "COMPAT_PDB_PATH = Path('compatible_pdbs_updated')\n",
    "\n",
    "pdb_path  = COMPAT_PDB_PATH / strct_name / f'{strct_name}_structures'\n",
    "mono_path = COMPAT_PDB_PATH / strct_name / f'{strct_name}_monomers'\n",
    "src_path   = COLL_PATH / out_name\n",
    "\n",
    "pdb_str = str(pdb_path)\n",
    "mono_str = str(mono_path)\n",
    "src_str = str(src_path)\n",
    "\n",
    "# Defining control arguments\n",
    "setup_kwargs = {\n",
    "    'reset' : False,\n",
    "    'purge_sims' : False,\n",
    "    'purge_logs' : False\n",
    "}\n",
    "solvate = True\n",
    "\n",
    "# Solvent parameters\n",
    "desired_solvents = ('WATER_TIP3P',) # (None,)\n",
    "solv_template    = 'solv_polymer_template_box.inp'\n",
    "exclusion = 1.3*nanometer\n",
    "\n",
    "# Parsing args for bash digest\n",
    "arg_str = ' '.join(f'--{arg_name}'\n",
    "    for arg_name, should_apply in setup_kwargs.items()\n",
    "        if should_apply\n",
    ")\n",
    "solv_str = ' '.join(desired_solvents)"
   ]
  },
  {
   "cell_type": "code",
   "execution_count": 3,
   "metadata": {},
   "outputs": [
    {
     "name": "stderr",
     "output_type": "stream",
     "text": [
      "INFO:polysaccharide.polymer.representation:Built filetree for paam_modified\n",
      "INFO:polysaccharide.polymer.representation:Acquiring structure file(s) paam_modified.pdb from compatible_pdbs_updated/water_soluble_polymers/water_soluble_polymers_structures\n",
      "INFO:polysaccharide.polymer.representation:Acquiring monomer file(s) paam_modified.json from compatible_pdbs_updated/water_soluble_polymers/water_soluble_polymers_monomers\n",
      "INFO:polysaccharide.polymer.management:\n",
      "INFO:polysaccharide.polymer.representation:Built filetree for peg_modified\n",
      "INFO:polysaccharide.polymer.representation:Acquiring structure file(s) peg_modified.pdb from compatible_pdbs_updated/water_soluble_polymers/water_soluble_polymers_structures\n",
      "INFO:polysaccharide.polymer.representation:Acquiring monomer file(s) peg_modified.json from compatible_pdbs_updated/water_soluble_polymers/water_soluble_polymers_monomers\n",
      "INFO:polysaccharide.polymer.management:\n",
      "INFO:polysaccharide.polymer.representation:Built filetree for pnipam_modified\n",
      "INFO:polysaccharide.polymer.representation:Acquiring structure file(s) pnipam_modified.pdb from compatible_pdbs_updated/water_soluble_polymers/water_soluble_polymers_structures\n",
      "INFO:polysaccharide.polymer.representation:Acquiring monomer file(s) pnipam_modified.json from compatible_pdbs_updated/water_soluble_polymers/water_soluble_polymers_monomers\n",
      "INFO:polysaccharide.polymer.management:\n",
      "INFO:8771244289421:Setup of wasp_water_test completed in 0:00:00.080271\n",
      "\n",
      "2023-09-15 14:59:07.188 [INFO    :      management:line 93 ] - Current molecule: \"paam_modified\" (1/3)\n",
      "2023-09-15 14:59:07.190 [INFO    :  representation:line 515] - Solvating \"paam_modified\" in water\n",
      "2023-09-15 14:59:07.191 [INFO    :  representation:line 181] - Creating clone of paam_modified\n",
      "2023-09-15 14:59:07.194 [INFO    :  representation:line 112] - Built filetree for paam_modified_solv_water\n",
      "2023-09-15 14:59:07.197 [INFO    :  representation:line 147] - Transferred file ref at paam_modified.structure_file to Collections/wasp_water_test/paam_modified/paam_modified_solv_water/structures/paam_modified_solv_water.pdb\n",
      "2023-09-15 14:59:07.200 [INFO    :  representation:line 147] - Transferred file ref at paam_modified.monomer_file_uncharged to Collections/wasp_water_test/paam_modified/paam_modified_solv_water/monomers/paam_modified_solv_water.json\n",
      "2023-09-15 14:59:07.237 [INFO    :  representation:line 157] - Copied attribute monomer_file_charged from paam_modified to paam_modified_solv_water\n",
      "2023-09-15 14:59:07.272 [INFO    :  representation:line 203] - Successfully created clone of paam_modified at Collections/wasp_water_test/paam_modified/paam_modified_solv_water\n",
      "2023-09-15 14:59:13.299 [INFO    :  representation:line 550] - Successfully converged on solvent packing\n",
      "2023-09-15 14:59:13.300 [INFO    :        logutils:line 59 ] - Solvate for paam_modified completed in 0:00:06.109797\n",
      "\n",
      "2023-09-15 14:59:13.301 [INFO    :        logutils:line 59 ] - Solvate for paam_modified completed in 0:00:06.109797\n",
      "\n",
      "2023-09-15 14:59:13.302 [INFO    :      management:line 93 ] - Current molecule: \"pnipam_modified\" (2/3)\n",
      "2023-09-15 14:59:13.303 [INFO    :  representation:line 515] - Solvating \"pnipam_modified\" in water\n",
      "2023-09-15 14:59:13.303 [INFO    :  representation:line 181] - Creating clone of pnipam_modified\n",
      "2023-09-15 14:59:13.305 [INFO    :  representation:line 112] - Built filetree for pnipam_modified_solv_water\n",
      "2023-09-15 14:59:13.307 [INFO    :  representation:line 147] - Transferred file ref at pnipam_modified.structure_file to Collections/wasp_water_test/pnipam_modified/pnipam_modified_solv_water/structures/pnipam_modified_solv_water.pdb\n",
      "2023-09-15 14:59:13.309 [INFO    :  representation:line 147] - Transferred file ref at pnipam_modified.monomer_file_uncharged to Collections/wasp_water_test/pnipam_modified/pnipam_modified_solv_water/monomers/pnipam_modified_solv_water.json\n",
      "2023-09-15 14:59:13.311 [INFO    :  representation:line 157] - Copied attribute monomer_file_charged from pnipam_modified to pnipam_modified_solv_water\n",
      "2023-09-15 14:59:13.313 [INFO    :  representation:line 203] - Successfully created clone of pnipam_modified at Collections/wasp_water_test/pnipam_modified/pnipam_modified_solv_water\n",
      "2023-09-15 14:59:17.546 [INFO    :  representation:line 550] - Successfully converged on solvent packing\n",
      "2023-09-15 14:59:17.548 [INFO    :        logutils:line 59 ] - Solvate for pnipam_modified completed in 0:00:04.244991\n",
      "\n",
      "2023-09-15 14:59:17.549 [INFO    :        logutils:line 59 ] - Solvate for pnipam_modified completed in 0:00:04.244991\n",
      "\n",
      "2023-09-15 14:59:17.550 [INFO    :      management:line 93 ] - Current molecule: \"peg_modified\" (3/3)\n",
      "2023-09-15 14:59:17.553 [INFO    :  representation:line 515] - Solvating \"peg_modified\" in water\n",
      "2023-09-15 14:59:17.554 [INFO    :  representation:line 181] - Creating clone of peg_modified\n",
      "2023-09-15 14:59:17.557 [INFO    :  representation:line 112] - Built filetree for peg_modified_solv_water\n",
      "2023-09-15 14:59:17.560 [INFO    :  representation:line 147] - Transferred file ref at peg_modified.structure_file to Collections/wasp_water_test/peg_modified/peg_modified_solv_water/structures/peg_modified_solv_water.pdb\n",
      "2023-09-15 14:59:17.564 [INFO    :  representation:line 147] - Transferred file ref at peg_modified.monomer_file_uncharged to Collections/wasp_water_test/peg_modified/peg_modified_solv_water/monomers/peg_modified_solv_water.json\n",
      "2023-09-15 14:59:17.566 [INFO    :  representation:line 157] - Copied attribute monomer_file_charged from peg_modified to peg_modified_solv_water\n",
      "2023-09-15 14:59:17.570 [INFO    :  representation:line 203] - Successfully created clone of peg_modified at Collections/wasp_water_test/peg_modified/peg_modified_solv_water\n",
      "2023-09-15 14:59:22.735 [INFO    :  representation:line 550] - Successfully converged on solvent packing\n",
      "2023-09-15 14:59:22.737 [INFO    :        logutils:line 59 ] - Solvate for peg_modified completed in 0:00:05.184309\n",
      "\n",
      "2023-09-15 14:59:22.738 [INFO    :        logutils:line 59 ] - Solvate for peg_modified completed in 0:00:05.184309\n",
      "\n",
      "2023-09-15 14:59:22.740 [INFO    :        logutils:line 59 ] - Solvate completed in 0:00:15.552462\n",
      "\n"
     ]
    }
   ],
   "source": [
    "# Setup, and optionally solvate\n",
    "%run -i 'setup_collection.py' -out $src_str -pdb $pdb_str -mono $mono_str $arg_str\n",
    "if solvate:\n",
    "    %run -i 'polymer_master.py' -src=$src_str 'solvate' -s=$solv_str -pt=$solv_template -e=$exclusion._value\n",
    "    # %run -i 'polymer_master.py' -src=$src_str 'solvate' -s=$solv_str -pt=$solv_template -e=$exclusion._value --molecules 'polyvinylchloride' 'polythiophene' 'naturalrubber'"
   ]
  },
  {
   "cell_type": "code",
   "execution_count": 4,
   "metadata": {},
   "outputs": [
    {
     "name": "stderr",
     "output_type": "stream",
     "text": [
      "2023-09-15 14:59:56.067 [INFO    :      management:line 93 ] - Current molecule: \"paam_modified_solv_water\" (1/1)\n",
      "2023-09-15 14:59:56.070 [WARNING :  representation:line 455] - Found no existing \"Espaloma_AM1BCC\" partial charges for \"paam_modified_solv_water\"\n",
      "2023-09-15 14:59:56.072 [INFO    :  representation:line 316] - Loading OpenFF Topology WITH monomer graph match\n",
      "2023-09-15 15:00:11.040 [INFO    :     application:line 125] - Assigning partial charges via the \"Espaloma_AM1BCC\" method\n",
      "/home/timber/Documents/Python/openff-workspace/openff-toolkit/openff/toolkit/utils/base_wrapper.py:256: IncorrectNumConformersWarning: Molecule 'Molecule with name '' and SMILES '[H]C([H])([H])C([H])(C(=O)N([H])[H])C([H])([H])C([H])(C(=O)N([H])[H])C([H])([H])C([H])(C(=O)N([H])[H])C([H])([H])C([H])(C(=O)N([H])[H])C([H])([H])C([H])(C(=O)N([H])[H])C([H])([H])C([H])(C(=O)N([H])[H])C([H])([H])C([H])(C(=O)N([H])[H])C([H])([H])C([H])(C(=O)N([H])[H])C([H])([H])C([H])(C(=O)N([H])[H])C([H])([H])C([H])(C(=O)N([H])[H])C([H])([H])C([H])(C(=O)N([H])[H])C([H])([H])C([H])(C(=O)N([H])[H])C([H])([H])C([H])(C(=O)N([H])[H])C([H])([H])C([H])(C(=O)N([H])[H])C([H])([H])C([H])(C(=O)N([H])[H])C([H])([H])C([H])(C(=O)N([H])[H])C([H])([H])C([H])(C(=O)N([H])[H])C([H])([H])C([H])(C(=O)N([H])[H])C([H])([H])C([H])(C(=O)N([H])[H])C([H])([H])C([H])(C(=O)N([H])[H])C([H])([H])C([H])(C(=O)N([H])[H])C([H])([H])C([H])(C(=O)N([H])[H])C([H])([H])C([H])(C(=O)N([H])[H])C([H])([H])C([H])(C(=O)N([H])[H])C([H])([H])C([H])(C(=O)N([H])[H])C([H])([H])C([H])(C(=O)N([H])[H])C([H])([H])C([H])(C(=O)N([H])[H])C([H])([H])C([H])(C(=O)N([H])[H])C([H])([H])C([H])(C(=O)N([H])[H])C([H])([H])C([H])(C(=O)N([H])[H])C([H])([H])C([H])(C(=O)N([H])[H])C([H])([H])C([H])(C(=O)N([H])[H])C([H])([H])C([H])(C(=O)N([H])[H])C([H])([H])C([H])(C(=O)N([H])[H])C([H])([H])C([H])(C(=O)N([H])[H])C([H])([H])C([H])(C(=O)N([H])[H])C([H])([H])C([H])(C(=O)N([H])[H])C([H])([H])C([H])(C(=O)N([H])[H])C([H])([H])C([H])(C(=O)N([H])[H])C([H])([H])C([H])(C(=O)N([H])[H])C([H])([H])C([H])(C(=O)N([H])[H])C([H])([H])C([H])([H])C(=O)N([H])[H]'' has 1 conformers, but charge method 'espaloma-am1bcc' expects exactly 0.\n",
      "  warnings.warn(wrong_confs_msg, IncorrectNumConformersWarning)\n",
      "/home/timber/miniconda3/envs/openff-dev-updated/lib/python3.10/site-packages/dgl/heterograph.py:72: DGLWarning: Recommend creating graphs by `dgl.graph(data)` instead of `dgl.DGLGraph(data)`.\n",
      "  dgl_warning('Recommend creating graphs by `dgl.graph(data)`'\n",
      "2023-09-15 15:00:11.220 [INFO    :     application:line 127] - Successfully assigned \"Espaloma_AM1BCC\" charges\n",
      "2023-09-15 15:00:11.224 [INFO    :  representation:line 377] - Registering charges from Espaloma_AM1BCC to paam_modified_solv_water\n",
      "2023-09-15 15:00:11.226 [INFO    :  representation:line 413] - Registered \"Espaloma_AM1BCC\" charges to \"paam_modified_solv_water\"\n",
      "2023-09-15 15:00:11.286 [INFO    :  representation:line 418] - Wrote paam_modified_solv_water Molecule with Espaloma_AM1BCC charges to sdf file\n",
      "2023-09-15 15:00:11.289 [INFO    :      components:line 306] - \n",
      "2023-09-15 15:00:11.290 [INFO    :      components:line 313] - Averaging Espaloma_AM1BCC charges over paam_modified_solv_water residues\n",
      "2023-09-15 15:00:11.384 [WARNING :  representation:line 432] - Generating new monomer JSON file with monomer-averaged charges\n",
      "2023-09-15 15:00:11.386 [INFO    :  representation:line 444] - Generated new monomer file for \"paam_modified_solv_water\" with monomer-averaged charge entries\n",
      "2023-09-15 15:00:11.389 [WARNING :  representation:line 455] - Found no existing \"ABE10_averaged\" partial charges for \"paam_modified_solv_water\"\n",
      "2023-09-15 15:00:11.390 [INFO    :  representation:line 316] - Loading OpenFF Topology WITH monomer graph match\n",
      "2023-09-15 15:00:26.540 [INFO    :     application:line 125] - Assigning partial charges via the \"ABE10_averaged\" method\n",
      "2023-09-15 15:00:26.557 [INFO    :     application:line 127] - Successfully assigned \"ABE10_averaged\" charges\n",
      "2023-09-15 15:00:26.561 [INFO    :  representation:line 377] - Registering charges from ABE10_averaged to paam_modified_solv_water\n",
      "2023-09-15 15:00:26.564 [INFO    :  representation:line 413] - Registered \"ABE10_averaged\" charges to \"paam_modified_solv_water\"\n",
      "2023-09-15 15:00:26.628 [INFO    :  representation:line 418] - Wrote paam_modified_solv_water Molecule with ABE10_averaged charges to sdf file\n",
      "2023-09-15 15:00:26.630 [INFO    :        logutils:line 59 ] - ChargeAssignment for paam_modified_solv_water completed in 0:00:30.560390\n",
      "\n",
      "2023-09-15 15:00:26.631 [INFO    :        logutils:line 59 ] - ChargeAssignment for paam_modified_solv_water completed in 0:00:30.560390\n",
      "\n",
      "2023-09-15 15:00:26.632 [INFO    :        logutils:line 59 ] - ChargeAssignment completed in 0:00:30.564596\n",
      "\n",
      "2023-09-15 15:00:26.649 [INFO    :      management:line 93 ] - Current molecule: \"paam_modified_solv_water\" (1/1)\n",
      "2023-09-15 15:00:26.651 [INFO    :      components:line 358] - Running simulation \"equilibration\"\n",
      "2023-09-15 15:00:26.651 [INFO    :  representation:line 316] - Loading OpenFF Topology WITH monomer graph match\n",
      "2023-09-15 15:00:41.968 [INFO    :      parameters:line 2993] - Attempting to up-convert Electrostatics section from 0.3 to 0.4\n",
      "2023-09-15 15:00:41.969 [INFO    :      parameters:line 3003] - Successfully up-converted Electrostatics section from 0.3 to 0.4. `method=\"PME\"` is now split into `periodic_potential=\"Ewald3D-ConductingBoundary\"`, `nonperiodic_potential=\"Coulomb\"`, and `exception_potential=\"Coulomb\"`.\n",
      "2023-09-15 15:00:41.994 [INFO    :  representation:line 389] - Assigning precomputed ABE10_averaged charges to paam_modified_solv_water\n",
      "2023-09-15 15:00:41.996 [INFO    :  representation:line 316] - Loading OpenFF Topology WITH monomer graph match\n",
      "2023-09-15 15:00:56.665 [INFO    :  representation:line 628] - Creating SMIRNOFF Interchange for \"paam_modified_solv_water\" with forcefield \"openff-2.0.0\"\n",
      "2023-09-15 15:01:31.394 [INFO    :     preparation:line 42 ] - Creating OpenMM Simulation from Interchange\n",
      "2023-09-15 15:01:31.598 [INFO    :        ensemble:line 80 ] - Created NPT (Isothermal-isobaric ensemble) Simulation with LangevinMiddleIntegrator and MonteCarloBarostat forces\n",
      "2023-09-15 15:01:31.600 [INFO    :  representation:line 607] - Created new Simulation directory \"equilibration_09-15-2023_at_15-01-31_PM\"\n",
      "2023-09-15 15:01:31.603 [INFO    :     preparation:line 61 ] - Generated simulation record files at Collections/wasp_water_test/paam_modified/paam_modified_solv_water/MD/equilibration_09-15-2023_at_15-01-31_PM/paam_modified_solv_water_sim_paths.json\n",
      "2023-09-15 15:01:31.612 [INFO    :     preparation:line 88 ] - Saved simulation checkpoint at Collections/wasp_water_test/paam_modified/paam_modified_solv_water/MD/equilibration_09-15-2023_at_15-01-31_PM/paam_modified_solv_water_checkpoint.xml\n",
      "2023-09-15 15:01:31.614 [INFO    :       execution:line 33 ] - Performing energy minimization\n",
      "2023-09-15 15:01:39.936 [INFO    :     preparation:line 95 ] - Saved snapshot of simulation topology at Collections/wasp_water_test/paam_modified/paam_modified_solv_water/MD/equilibration_09-15-2023_at_15-01-31_PM/paam_modified_solv_water_top.pdb\n",
      "2023-09-15 15:01:39.939 [INFO    :       execution:line 37 ] - Integrating 50 ps OpenMM sim at 300 K and 1 atm for 25000 steps\n",
      "2023-09-15 15:02:01.055 [INFO    :       execution:line 39 ] - Simulation integration completed successfully\n",
      "2023-09-15 15:02:01.217 [INFO    :        logutils:line 59 ] - RunSimulations for paam_modified_solv_water completed in 0:01:34.566315\n",
      "\n",
      "2023-09-15 15:02:01.218 [INFO    :        logutils:line 59 ] - RunSimulations for paam_modified_solv_water completed in 0:01:34.566315\n",
      "\n",
      "2023-09-15 15:02:01.219 [INFO    :        logutils:line 59 ] - RunSimulations completed in 0:01:34.570510\n",
      "\n",
      "2023-09-15 15:02:01.246 [INFO    :      management:line 93 ] - Current molecule: \"paam_modified_solv_water\" (1/1)\n",
      "2023-09-15 15:02:01.248 [INFO    :  representation:line 181] - Creating clone of paam_modified_solv_water\n",
      "2023-09-15 15:02:01.250 [INFO    :  representation:line 112] - Built filetree for paam_modified_solv_water_equil\n",
      "2023-09-15 15:02:01.252 [INFO    :  representation:line 157] - Copied attribute solvent from paam_modified_solv_water to paam_modified_solv_water_equil\n",
      "2023-09-15 15:02:01.256 [INFO    :  representation:line 147] - Transferred file ref at paam_modified_solv_water.structure_file to Collections/wasp_test_equil/paam_modified/paam_modified_solv_water_equil/structures/paam_modified_solv_water_equil.pdb\n",
      "2023-09-15 15:02:01.259 [INFO    :  representation:line 147] - Transferred file ref at paam_modified_solv_water.monomer_file_uncharged to Collections/wasp_test_equil/paam_modified/paam_modified_solv_water_equil/monomers/paam_modified_solv_water_equil.json\n",
      "2023-09-15 15:02:01.261 [INFO    :  representation:line 147] - Transferred file ref at paam_modified_solv_water.monomer_file_charged to Collections/wasp_test_equil/paam_modified/paam_modified_solv_water_equil/monomers/paam_modified_solv_water_equil_charged.json\n",
      "2023-09-15 15:02:01.264 [INFO    :  representation:line 157] - Copied attribute charges from paam_modified_solv_water to paam_modified_solv_water_equil\n",
      "2023-09-15 15:02:01.266 [INFO    :  representation:line 203] - Successfully created clone of paam_modified_solv_water at Collections/wasp_test_equil/paam_modified/paam_modified_solv_water_equil\n",
      "2023-09-15 15:02:01.267 [INFO    :      components:line 515] - Extracting final conformation from simulation\n",
      "2023-09-15 15:02:02.662 [INFO    :      components:line 519] - Applying new conformation to clone\n",
      "2023-09-15 15:02:03.294 [INFO    :        logutils:line 59 ] - TransferSimSnapshot for paam_modified_solv_water completed in 0:00:02.046543\n",
      "\n",
      "2023-09-15 15:02:03.296 [INFO    :        logutils:line 59 ] - TransferSimSnapshot for paam_modified_solv_water completed in 0:00:02.046543\n",
      "\n",
      "2023-09-15 15:02:03.297 [INFO    :        logutils:line 59 ] - TransferSimSnapshot completed in 0:00:02.050770\n",
      "\n"
     ]
    }
   ],
   "source": [
    "trans_path = COLL_PATH / 'wasp_test_equil'\n",
    "trans_path.mkdir(exist_ok=True)\n",
    "trans_str = str(trans_path)\n",
    "\n",
    "targ_mols = ['paam_modified_solv_water']\n",
    "mol_str = ' '.join(targ_mols)\n",
    "\n",
    "# Charge, simulate, and analyze select trajectories\n",
    "%run -i 'polymer_master.py' -src=$src_str 'charge' -cp='quick_esp_debug_params'           --solvent --molecules=$mol_str\n",
    "%run -i 'polymer_master.py' -src=$src_str 'simulate' -sp='equilibration'                  --solvent --molecules=$mol_str\n",
    "%run -i 'polymer_master.py' -src=$src_str 'transfer_struct' -dest=$trans_str -caf 'equil' --solvent --molecules=$mol_str"
   ]
  },
  {
   "cell_type": "code",
   "execution_count": 6,
   "metadata": {},
   "outputs": [
    {
     "name": "stderr",
     "output_type": "stream",
     "text": [
      "2023-09-15 15:02:41.828 [INFO    :      management:line 93 ] - Current molecule: \"paam_modified_solv_water_equil\" (1/1)\n",
      "2023-09-15 15:02:41.831 [INFO    :      components:line 358] - Running simulation \"pilot_espaloma\"\n",
      "2023-09-15 15:02:41.832 [INFO    :  representation:line 316] - Loading OpenFF Topology WITH monomer graph match\n"
     ]
    },
    {
     "name": "stderr",
     "output_type": "stream",
     "text": [
      "2023-09-15 15:02:57.305 [INFO    :      parameters:line 2993] - Attempting to up-convert Electrostatics section from 0.3 to 0.4\n",
      "2023-09-15 15:02:57.307 [INFO    :      parameters:line 3003] - Successfully up-converted Electrostatics section from 0.3 to 0.4. `method=\"PME\"` is now split into `periodic_potential=\"Ewald3D-ConductingBoundary\"`, `nonperiodic_potential=\"Coulomb\"`, and `exception_potential=\"Coulomb\"`.\n",
      "2023-09-15 15:02:57.329 [INFO    :  representation:line 389] - Assigning precomputed Espaloma_AM1BCC charges to paam_modified_solv_water_equil\n",
      "2023-09-15 15:02:57.331 [INFO    :  representation:line 316] - Loading OpenFF Topology WITH monomer graph match\n",
      "2023-09-15 15:03:11.711 [INFO    :  representation:line 628] - Creating SMIRNOFF Interchange for \"paam_modified_solv_water_equil\" with forcefield \"openff-2.0.0\"\n",
      "2023-09-15 15:03:47.649 [INFO    :     preparation:line 42 ] - Creating OpenMM Simulation from Interchange\n",
      "2023-09-15 15:03:47.838 [INFO    :        ensemble:line 80 ] - Created NPT (Isothermal-isobaric ensemble) Simulation with LangevinMiddleIntegrator and MonteCarloBarostat forces\n",
      "2023-09-15 15:03:47.840 [INFO    :  representation:line 607] - Created new Simulation directory \"pilot_espaloma_09-15-2023_at_15-03-47_PM\"\n",
      "2023-09-15 15:03:47.842 [INFO    :     preparation:line 61 ] - Generated simulation record files at Collections/wasp_test_equil/paam_modified/paam_modified_solv_water_equil/MD/pilot_espaloma_09-15-2023_at_15-03-47_PM/paam_modified_solv_water_equil_sim_paths.json\n",
      "2023-09-15 15:03:47.848 [INFO    :     preparation:line 88 ] - Saved simulation checkpoint at Collections/wasp_test_equil/paam_modified/paam_modified_solv_water_equil/MD/pilot_espaloma_09-15-2023_at_15-03-47_PM/paam_modified_solv_water_equil_checkpoint.xml\n",
      "2023-09-15 15:03:47.850 [INFO    :       execution:line 33 ] - Performing energy minimization\n",
      "2023-09-15 15:03:55.217 [INFO    :     preparation:line 95 ] - Saved snapshot of simulation topology at Collections/wasp_test_equil/paam_modified/paam_modified_solv_water_equil/MD/pilot_espaloma_09-15-2023_at_15-03-47_PM/paam_modified_solv_water_equil_top.pdb\n",
      "2023-09-15 15:03:55.220 [INFO    :       execution:line 37 ] - Integrating 1 ns OpenMM sim at 300 K and 1 atm for 500000 steps\n",
      "2023-09-15 15:09:59.204 [INFO    :       execution:line 39 ] - Simulation integration completed successfully\n",
      "2023-09-15 15:09:59.285 [INFO    :        logutils:line 59 ] - RunSimulations for paam_modified_solv_water_equil completed in 0:07:17.454628\n",
      "\n",
      "2023-09-15 15:09:59.287 [INFO    :        logutils:line 59 ] - RunSimulations for paam_modified_solv_water_equil completed in 0:07:17.454628\n",
      "\n",
      "2023-09-15 15:09:59.288 [INFO    :        logutils:line 59 ] - RunSimulations completed in 0:07:17.459820\n",
      "\n"
     ]
    }
   ],
   "source": [
    "# %run -i 'polymer_master.py' -src $trans_str -cp long_chain_chg_params --solvent --no-charge\n",
    "%run -i 'polymer_master.py' -src=$trans_str 'simulate' -sp='pilot_espaloma' --solvent --molecules='paam_modified_solv_water_equil'\n",
    "%run -i 'polymer_master.py' -src=$src_str 'analyze'                         --solvent --molecules='paam_modified_solv_water_equil'"
   ]
  },
  {
   "cell_type": "code",
   "execution_count": 7,
   "metadata": {},
   "outputs": [
    {
     "name": "stderr",
     "output_type": "stream",
     "text": [
      "2023-09-15 15:42:16.143 [INFO    :  representation:line 316] - Loading OpenFF Topology WITH monomer graph match\n"
     ]
    }
   ],
   "source": [
    "mgr = PolymerManager(src_path)\n",
    "poly = mgr.polymers['peg_modified_solv_water']\n",
    "offtop = poly.off_topology_matched()"
   ]
  },
  {
   "cell_type": "code",
   "execution_count": 9,
   "metadata": {},
   "outputs": [],
   "source": [
    "mgr2 = PolymerManager(trans_path)\n",
    "poly2 = mgr2.polymers['paam_modified_solv_water_equil']"
   ]
  },
  {
   "cell_type": "code",
   "execution_count": 12,
   "metadata": {},
   "outputs": [],
   "source": [
    "traj = poly2.load_traj()\n",
    "\n",
    "unique_elems = set(atom.element.symbol for atom in traj.topology.atoms)\n",
    "pair_dict = {\n",
    "    'chain O - water O' : traj.top.select_pairs('not water and element O', 'water and element O'),\n",
    "    'water O - water O' : traj.top.select_pairs('water and element O', 'water and element O')\n",
    "}\n",
    "\n",
    "if 'N' in unique_elems:\n",
    "    pair_dict['chain N - water O'] = traj.top.select_pairs('not water and element N', 'water and element O')\n"
   ]
  },
  {
   "cell_type": "code",
   "execution_count": 13,
   "metadata": {},
   "outputs": [],
   "source": [
    "rdf_data = trajectory.acquire_rdfs(traj, min_rad=0.0, max_rad=2.0, rad_unit=nanometer)"
   ]
  },
  {
   "cell_type": "code",
   "execution_count": null,
   "metadata": {},
   "outputs": [],
   "source": [
    "radii, rdfs = trajectory.rdfs_to_plot_data(rdf_data)"
   ]
  },
  {
   "cell_type": "code",
   "execution_count": null,
   "metadata": {},
   "outputs": [],
   "source": [
    "%run -i 'polymer_master.py' -src=$_str 'simulate' -sp 'equilibration' --molecules $mol_str --solvent\n",
    "# %run -i 'polymer_master.py' -src=$src_str 'simulate' -sp 'debug_sim_NPT' --molecules $mol_str --solvent\n"
   ]
  },
  {
   "cell_type": "markdown",
   "metadata": {},
   "source": [
    "## Experimenting with OpenMM PDB I/O"
   ]
  },
  {
   "cell_type": "code",
   "execution_count": null,
   "metadata": {},
   "outputs": [],
   "source": [
    "from openmm.app import PDBFile, PDBxFile\n",
    "\n",
    "ommsys = interchange.to_openmm()\n",
    "ommtop = interchange.topology.to_openmm()"
   ]
  },
  {
   "cell_type": "code",
   "execution_count": null,
   "metadata": {},
   "outputs": [],
   "source": [
    "from polysaccharide.simulation.ensemble import EnsembleSimulationFactory\n",
    "\n",
    "sim_params = SimulationParameters.from_file(SIM_PARAM_PATH / 'equilibration.json')\n",
    "ens_fac = EnsembleSimulationFactory.registry[sim_params.ensemble]()\n",
    "\n",
    "interchange = poly.interchange(sim_params.forcefield_path, charge_method=sim_params.charge_method, periodic=sim_params.periodic)\n",
    "sim = ens_fac.create_simulation(interchange, sim_params)"
   ]
  },
  {
   "cell_type": "code",
   "execution_count": null,
   "metadata": {},
   "outputs": [],
   "source": [
    "mol = next(interchange.topology.molecules)"
   ]
  },
  {
   "cell_type": "code",
   "execution_count": null,
   "metadata": {},
   "outputs": [],
   "source": [
    "mol.atoms[0].metadata"
   ]
  },
  {
   "cell_type": "code",
   "execution_count": null,
   "metadata": {},
   "outputs": [],
   "source": [
    "from openmm import Context\n",
    "\n",
    "integ = ens_fac.integrator(sim_params)\n",
    "ommcon = Context(ommsys, integ)\n",
    "state = ommcon.getState(getPositions=True)"
   ]
  },
  {
   "cell_type": "code",
   "execution_count": null,
   "metadata": {},
   "outputs": [],
   "source": [
    "top, *_ = Topology.from_pdb_and_monomer_info('chain.pdb', poly.monomer_file_uncharged, strict=False)"
   ]
  },
  {
   "cell_type": "code",
   "execution_count": null,
   "metadata": {},
   "outputs": [],
   "source": [
    "list(top.molecules)"
   ]
  },
  {
   "cell_type": "code",
   "execution_count": null,
   "metadata": {},
   "outputs": [],
   "source": [
    "from openmm.app import Residue"
   ]
  },
  {
   "cell_type": "code",
   "execution_count": null,
   "metadata": {},
   "outputs": [],
   "source": [
    "pdbfile.topology"
   ]
  },
  {
   "cell_type": "code",
   "execution_count": null,
   "metadata": {},
   "outputs": [],
   "source": [
    "mol = next(top.molecules)\n",
    "for atom in mol:\n",
    "    if not atom.metadata['already_matched']:\n",
    "        print(atom.metadata)"
   ]
  },
  {
   "cell_type": "code",
   "execution_count": null,
   "metadata": {},
   "outputs": [],
   "source": [
    "from openff.interchange.interop.openmm import from_openmm\n",
    "\n",
    "sim.minimizeEnergy()\n",
    "min_state = sim.context.getState(getPositions=True)\n",
    "\n",
    "ic2 = from_openmm(\n",
    "    topology=sim.topology,\n",
    "    system=sim.system,\n",
    "    positions=min_state.getPositions(),\n",
    "    box_vectors=sim.topology.getPeriodicBoxVectors()\n",
    ")"
   ]
  },
  {
   "cell_type": "code",
   "execution_count": null,
   "metadata": {},
   "outputs": [],
   "source": [
    "temptop = Topology.from_openmm(sim.topology, positions)"
   ]
  },
  {
   "cell_type": "code",
   "execution_count": null,
   "metadata": {},
   "outputs": [],
   "source": [
    "mgr = PolymerManager(trans_path)\n",
    "poly = mgr.polymers['pnipam_modified_solv_water_equil']\n",
    "offtop = poly.off_topology_matched(strict=False)"
   ]
  },
  {
   "cell_type": "code",
   "execution_count": null,
   "metadata": {},
   "outputs": [],
   "source": [
    "for mol in offtop.molecules:\n",
    "    print(mol)\n",
    "    for atom in mol.atoms:\n",
    "        if not atom.metadata['already_matched']:\n",
    "            print(atom.metadata)\n",
    "\n",
    "        if atom.metadata.get('residue_number'):\n",
    "            atom.metadata['residue_number'] = str(atom.metadata['residue_number'])"
   ]
  },
  {
   "attachments": {},
   "cell_type": "markdown",
   "metadata": {},
   "source": [
    "## Investigating water underspecification after equilibration"
   ]
  },
  {
   "cell_type": "code",
   "execution_count": null,
   "metadata": {},
   "outputs": [],
   "source": [
    "mgr = PolymerManager(COLL_PATH / 'water_soluble_polymers_confs')\n",
    "pdir = mgr.polymers['peg_modified_conf_1_solv_water']"
   ]
  },
  {
   "cell_type": "code",
   "execution_count": null,
   "metadata": {},
   "outputs": [],
   "source": [
    "import MDAnalysis as mda\n",
    "from polysaccharide.molutils.pdb import pdb_water_atoms_to_hetatoms\n",
    "\n",
    "pdb_dir = Path('trans_pdb')\n",
    "pdb_dir.mkdir(exist_ok=True)\n",
    "\n",
    "traj = pdir.load_traj(remove_solvent=False)\n",
    "conf = traj[-1]\n",
    "conf.save_pdb(pdb_dir / 'mdt_struct.pdb')\n",
    "pdb_water_atoms_to_hetatoms(pdb_dir / 'mdt_struct.pdb', output_path=pdb_dir / 'mdt_struct_het.pdb')\n",
    "\n",
    "sim_paths, sim_params = pdir.load_sim_paths_and_params()\n",
    "u = mda.Universe(pdir.structure_file, sim_paths.trajectory)\n",
    "\n",
    "u.trajectory[-1]\n",
    "poly_box = u.select_atoms('all')\n",
    "poly_box.write(pdb_dir / 'mda_struct.pdb')\n",
    "pdb_water_atoms_to_hetatoms(pdb_dir / 'mda_struct.pdb', output_path=pdb_dir / 'mda_struct_het.pdb')"
   ]
  },
  {
   "cell_type": "code",
   "execution_count": null,
   "metadata": {},
   "outputs": [],
   "source": [
    "from openff.toolkit.topology.topology import UnmatchedAtomsError\n",
    "\n",
    "tops = {}\n",
    "pdb_paths = [Path(i) for i in ('mdt_struct.pdb', 'mdt_struct_het.pdb','mda_struct.pdb', 'mda_struct_het.pdb')]\n",
    "\n",
    "for pdb_path in pdb_paths:\n",
    "    try:\n",
    "        tops[pdb_path.stem] = Topology.from_pdb_and_monomer_info(str(pdb_path), monomer_info_json=pdir.monomer_file_uncharged)\n",
    "    except UnmatchedAtomsError:\n",
    "        print(f'{pdb_path.stem} failed')"
   ]
  },
  {
   "cell_type": "code",
   "execution_count": null,
   "metadata": {},
   "outputs": [],
   "source": [
    "mgr = PolymerManager(COLL_PATH / 'water_soluble_polymers_equil')\n",
    "pdir = mgr.polymers['pnipam_modified_conf_1_solv_water_equil']\n",
    "pdir.offmol_matched()"
   ]
  },
  {
   "cell_type": "code",
   "execution_count": null,
   "metadata": {},
   "outputs": [],
   "source": [
    "top, *_ = Topology.from_pdb_and_monomer_info(str(pdb), monomer_info_json=pdir.monomer_file_uncharged, strict=False)\n",
    "\n",
    "defective = [\n",
    "    mol for mol in top.molecules\n",
    "        if not all(atom.metadata['already_matched'] for atom in mol.atoms)\n",
    "]\n",
    "len(defective)"
   ]
  },
  {
   "cell_type": "code",
   "execution_count": null,
   "metadata": {},
   "outputs": [],
   "source": [
    "# pdb = pdir.structure_file\n",
    "pdb = Path('pni.pdb')\n",
    "\n",
    "rdmol = Chem.MolFromPDBFile(str(pdb), removeHs=False)\n",
    "frags = Chem.GetMolFrags(rdmol, asMols=True)\n",
    "\n",
    "for frag in frags[:10]:\n",
    "    # if frag.GetNumAtoms() == 2:\n",
    "    display(frag)"
   ]
  },
  {
   "cell_type": "code",
   "execution_count": null,
   "metadata": {},
   "outputs": [],
   "source": [
    "for atom in frags[1].GetAtoms():\n",
    "    pdb_info = atom.GetPDBResidueInfo()\n",
    "    print(pdb_info.GetOccupancy())"
   ]
  },
  {
   "cell_type": "code",
   "execution_count": null,
   "metadata": {},
   "outputs": [],
   "source": [
    "topo = pdir.off_topology_matched(strict=False)\n",
    "\n",
    "defective = []\n",
    "for mol in topo.molecules:\n",
    "    if not all(atom.metadata['already_matched'] for atom in mol.atoms):\n",
    "        defective.append(mol)\n",
    "len(defective)"
   ]
  },
  {
   "attachments": {},
   "cell_type": "markdown",
   "metadata": {},
   "source": [
    "## Testing Process workflow"
   ]
  },
  {
   "cell_type": "code",
   "execution_count": null,
   "metadata": {},
   "outputs": [],
   "source": [
    "from polysaccharide.workflow import components as wcomponents\n",
    "from polysaccharide.workflow.process import Process\n",
    "\n",
    "chg_params = ChargingParameters.from_file(impres.files(resources.chg_templates) / 'standard_chg_params.json')\n",
    "sim_params = SimulationParameters.from_file(impres.files(resources.sim_templates) / 'debug_sim_NPT.json')\n",
    "inp_template = impres.files(resources.inp_templates) / 'solv_polymer_template_box.inp'\n",
    "\n",
    "proc = Process(\n",
    "    components=[\n",
    "        wcomponents.Solvate(solvents=WATER_TIP3P, exclusion=1*nanometer, template_path=inp_template),\n",
    "        wcomponents.ChargeAssignment(chg_params=chg_params),\n",
    "        wcomponents.RunSimulations(sim_params=sim_params)\n",
    "    ],\n",
    "    proc_name='sim_test'\n",
    ")\n",
    "proc, proc.tag"
   ]
  },
  {
   "cell_type": "code",
   "execution_count": null,
   "metadata": {},
   "outputs": [],
   "source": [
    "pdir = mgr.polymers['polyvinylchloride']\n",
    "logger = logging.getLogger('test')\n",
    "\n",
    "proc.collated_polymer_fn(pdir, logger)"
   ]
  },
  {
   "attachments": {},
   "cell_type": "markdown",
   "metadata": {},
   "source": [
    "## Removing fields from XML (useful for annoying barostate in OpenMM states"
   ]
  },
  {
   "cell_type": "code",
   "execution_count": null,
   "metadata": {},
   "outputs": [],
   "source": [
    "import xml.etree.ElementTree as ET\n",
    "\n",
    "for sim_dir, sim_paths_file in pdir.simulation_paths.items():\n",
    "    sim_paths = SimulationPaths.from_file(sim_paths_file)\n",
    "    chk = sim_paths.checkpoint\n",
    "    if chk.suffix == '.xml':\n",
    "        tree = ET.parse(sim_paths.checkpoint)\n",
    "        root = tree.getroot()\n",
    "\n",
    "        par = next(root.iter('Parameters'))\n",
    "        par.clear()"
   ]
  },
  {
   "attachments": {},
   "cell_type": "markdown",
   "metadata": {},
   "source": [
    "## Testing dynamic checkpoint file updating"
   ]
  },
  {
   "cell_type": "code",
   "execution_count": null,
   "metadata": {},
   "outputs": [],
   "source": [
    "import pickle\n",
    "\n",
    "class Test:\n",
    "    def __init__(self, val : int, checkpoint : Path) -> None:\n",
    "        self.val = val\n",
    "        self.checkpoint_path = checkpoint\n",
    "\n",
    "    def to_file(self):\n",
    "        if hasattr(self, 'checkpoint_path'):\n",
    "            with self.checkpoint_path.open('wb') as file:\n",
    "                pickle.dump(self, file)\n",
    "\n",
    "    def __setattr__(self, __name: str, __value: Any) -> None:\n",
    "        super().__setattr__(__name, __value)\n",
    "        self.to_file()\n",
    "        print(__name, __value)"
   ]
  },
  {
   "cell_type": "code",
   "execution_count": null,
   "metadata": {},
   "outputs": [],
   "source": [
    "p = Path('test.pkl')\n",
    "p.touch()\n",
    "\n",
    "t = Test(5, p)\n",
    "t.other = 'word'"
   ]
  },
  {
   "cell_type": "code",
   "execution_count": null,
   "metadata": {},
   "outputs": [],
   "source": [
    "with p.open('rb') as file:\n",
    "    v = pickle.load(file)\n",
    "\n",
    "v.__dict__\n",
    "v.foo = 'bar'"
   ]
  },
  {
   "attachments": {},
   "cell_type": "markdown",
   "metadata": {},
   "source": [
    "## Experimenting with grid size optimization WRT aspect and number of squares"
   ]
  },
  {
   "cell_type": "code",
   "execution_count": null,
   "metadata": {},
   "outputs": [],
   "source": [
    "from math import ceil, sqrt, floor\n",
    "\n",
    "def size_penalty(N_targ : int, N_real : int) -> float:\n",
    "    return (N_real / N_targ - 1)**2\n",
    "\n",
    "def aspect_penalty(a_targ : float, a_real : float) -> float:\n",
    "    # return (a_real / a_targ - 1)**2\n",
    "    return 1 - min(a_targ / a_real, a_real / a_targ)\n",
    "\n",
    "def dims(N : int, a : float=1/1, w1=1, w2=1) -> tuple[int, int]:\n",
    "    '''Given a particular number of cells and an aspect ratio, yields the smallest 2x2 grid dimensions which accomodate at least N grid squares whose aspect ratio is closest to the '''\n",
    "    return min( \n",
    "        ((r, ceil(N / r))\n",
    "            for r in range(1, N + 1)\n",
    "        ),\n",
    "        key=lambda dims : w1*size_penalty(N, dims[0]*dims[1]) + w2*aspect_penalty(a, dims[0]/dims[1])\n",
    "    )\n",
    "\n",
    "a = 2/1\n",
    "for N in range(1, 20):\n",
    "    nrows, ncols = dims(N, a)\n",
    "    fig, ax = plotutils.presize_subplots(nrows=nrows, ncols=ncols, scale=1)\n",
    "    fig.suptitle(f'N = {N}')"
   ]
  },
  {
   "attachments": {},
   "cell_type": "markdown",
   "metadata": {},
   "source": [
    "## Testing PyMBAR timeseries equilibration detection"
   ]
  },
  {
   "cell_type": "code",
   "execution_count": null,
   "metadata": {},
   "outputs": [],
   "source": [
    "from pymbar import timeseries\n",
    "from polysaccharide.analysis.equilibrium import EQUIL_DETECTOR_REGISTRY\n",
    "equil_det = EQUIL_DETECTOR_REGISTRY['PyMBAREquilDetector']\n",
    "# equil_det = EQUIL_DETECTOR_REGISTRY['BinSegEquilDetector']\n",
    "\n",
    "fast = True\n",
    "\n",
    "outdir = Path('figures_for_paper/pymbar_equil')\n",
    "outdir.mkdir(exist_ok=True)\n",
    "\n",
    "for mol_name, pdir in mgr.filtered_by(is_solvated).items():\n",
    "    mol_dir = outdir/mol_name\n",
    "    mol_dir.mkdir(exist_ok=True)\n",
    "\n",
    "    sim_paths, sim_params = pdir.load_sim_paths_and_params()\n",
    "    time_df = pd.read_csv(sim_paths.time_data)\n",
    "    times, time_data = trajectory.props_to_plot_data(time_df)\n",
    "    times_arr = times.to_numpy()[:, 0]\n",
    "\n",
    "    fig, ax = plotutils.plot_df_props(times, time_data, df_label='Original samples', elongation=1/2, scale=25)\n",
    "    for axes, (label, prop_data) in zip(ax.flatten(), time_data.items()):\n",
    "        prop_data = prop_data.to_numpy()\n",
    "        t = equil_det.equil_loc(prop_data)\n",
    "        uncorr_idxs = timeseries.subsample_correlated_data(prop_data, fast=fast)\n",
    "        t_equil = times_arr[t]\n",
    "\n",
    "        axes.plot(times_arr[uncorr_idxs], prop_data[uncorr_idxs], label='Uncorrelated samples')\n",
    "        axes.axvline(t_equil, color='r')\n",
    "        axes.legend()\n",
    "\n",
    "    # fig.savefig(mol_dir/f'pymbar_props_{mol_name}.png', bbox_inches='tight')\n",
    "    # plt.close()"
   ]
  },
  {
   "cell_type": "code",
   "execution_count": null,
   "metadata": {},
   "outputs": [],
   "source": [
    "pdir = mgr.polymers['peg_modified_solv_water']\n",
    "\n",
    "sim_paths, sim_params = pdir.load_sim_paths_and_params()\n",
    "state_df = pd.read_csv(sim_paths.state_data)\n",
    "\n",
    "exclude = ('#\"Step\"', 'Elapsed Time (s)', 'Speed (ns/day)')\n",
    "state_df = state_df[[label for label in state_df.columns if label not in exclude]]\n",
    "state_time, state_data = trajectory.props_to_plot_data(state_df)\n",
    "\n",
    "fig, ax = plotutils.plot_df_props(state_time, state_data, df_label='test', nrows=2, ncols=3, scale=20)\n",
    "for axes in ax.flatten():\n",
    "    axes.legend()"
   ]
  },
  {
   "attachments": {},
   "cell_type": "markdown",
   "metadata": {},
   "source": [
    "## Generating monomer files for polyamides"
   ]
  },
  {
   "cell_type": "code",
   "execution_count": null,
   "metadata": {},
   "outputs": [],
   "source": [
    "POLYAM_PATH   = Path('compatible_pdbs/polyamides')\n",
    "p = POLYAM_PATH/'smiles.json'\n",
    "\n",
    "with p.open('r') as smiles_file:\n",
    "    mono_smiles = json.load(smiles_file)\n",
    "mono_smiles['TMC'] = mono_smiles['TMC'].replace('Cl', 'O[H]') # replace chlorides with oxygens present in full polymer\n",
    "\n",
    "rdkdraw.set_rddraw_size(400, 3/2)\n",
    "\n",
    "mono_mols, mono_smarts = {}, {}\n",
    "for name, SMILES in mono_smiles.items():\n",
    "    rdmol = Chem.MolFromSmiles(SMILES, sanitize=False)\n",
    "    for atom in rdmol.GetAtoms():\n",
    "        atom.SetAtomMapNum(atom.GetIdx() + 1)\n",
    "    \n",
    "    mono_mols[name] = rdmol\n",
    "    mono_smarts[name] = Chem.MolToSmarts(rdmol)\n",
    "\n",
    "    display(rdmol)\n"
   ]
  },
  {
   "cell_type": "code",
   "execution_count": null,
   "metadata": {},
   "outputs": [],
   "source": [
    "monomers = {\n",
    "    'MPD_monovalent' : '[H:1]-[#6:2]1:[#6:3](-[H:4]):[#6:5](-[#7:6](-*)-[H:8]):[#6:9](-[H:10]):[#6:11](-[#7:12](-[H:13])-[H:14]):[#6:15]:1-[H:16]',\n",
    "    'MPD_bivalent'   : '[H:1]-[#6:2]1:[#6:3](-[H:4]):[#6:5](-[#7:6](-*)-[H:8]):[#6:9](-[H:10]):[#6:11](-[#7:12](-[H:13])-*):[#6:15]:1-[H:16]',\n",
    "    'TMC_monovalent' : '[H:1]-[#6:2]1:[#6:3](-[#6:4](=[#8:5])-*):[#6:8](-[H:9]):[#6:10](-[#6:11](=[#8:12])-[#8:13]-[H:14]):[#6:15](-[H:16]):[#6:17]:1-[#6:18](=[#8:19])-[#8:20]-[H:21]', \n",
    "    'TMC_bivalent'   : '[H:1]-[#6:2]1:[#6:3](-[#6:4](=[#8:5])-*):[#6:8](-[H:9]):[#6:10](-[#6:11](=[#8:12])-*):[#6:15](-[H:16]):[#6:17]:1-[#6:18](=[#8:19])-[#8:20]-[H:21]', \n",
    "    'TMC_trivalent'  : '[H:1]-[#6:2]1:[#6:3](-[#6:4](=[#8:5])-*):[#6:8](-[H:9]):[#6:10](-[#6:11](=[#8:12])-*):[#6:15](-[H:16]):[#6:17]:1-[#6:18](=[#8:19])-*', \n",
    "}\n",
    "\n",
    "json_spec = {\n",
    "    'monomers' : monomers,\n",
    "    'caps' : {name : [] for name in monomers}\n",
    "}\n",
    "\n",
    "pam_mono_path = POLYAM_PATH/'polyamides.json'\n",
    "with pam_mono_path.open('w') as mono_out:\n",
    "    json.dump(json_spec, mono_out, indent=4)\n",
    "\n",
    "for pam_path in POLYAM_PATH.glob('*.pdb'):\n",
    "    ind_mono_path = POLYAM_PATH/f'{pam_path.stem}.json'\n",
    "    with ind_mono_path.open('w') as mono_out:\n",
    "        json.dump(json_spec, mono_out, indent=4)"
   ]
  },
  {
   "cell_type": "code",
   "execution_count": null,
   "metadata": {},
   "outputs": [],
   "source": [
    "pam_pdbs = [path for path in POLYAM_PATH.glob('*.pdb')]"
   ]
  },
  {
   "cell_type": "code",
   "execution_count": null,
   "metadata": {},
   "outputs": [],
   "source": [
    "pdb_file = pam_pdbs[1]\n",
    "\n",
    "openff_topology, _, _error = Topology.from_pdb_and_monomer_info(str(pdb_file), pam_mono_path, strict=False, verbose=False)\n",
    "mol = next(openff_topology.molecules)\n",
    "\n",
    "for atom in mol.atoms:\n",
    "    if not atom.metadata['already_matched']:\n",
    "        print(atom.metadata)\n",
    "\n",
    "rdkdraw.set_rddraw_size(500, 3/2)\n",
    "display(mono_mols[pdb_file.stem])"
   ]
  },
  {
   "attachments": {},
   "cell_type": "markdown",
   "metadata": {},
   "source": [
    "## Some other section"
   ]
  },
  {
   "cell_type": "code",
   "execution_count": null,
   "metadata": {},
   "outputs": [],
   "source": []
  }
 ],
 "metadata": {
  "kernelspec": {
   "display_name": "openff-dev-updated",
   "language": "python",
   "name": "python3"
  },
  "language_info": {
   "codemirror_mode": {
    "name": "ipython",
    "version": 3
   },
   "file_extension": ".py",
   "mimetype": "text/x-python",
   "name": "python",
   "nbconvert_exporter": "python",
   "pygments_lexer": "ipython3",
   "version": "3.10.9"
  },
  "orig_nbformat": 4,
  "vscode": {
   "interpreter": {
    "hash": "b6f4b411abbc3e95cc086ad6e81a9cb26e6bd9b323dd491204b8eb280f272f95"
   }
  }
 },
 "nbformat": 4,
 "nbformat_minor": 2
}
