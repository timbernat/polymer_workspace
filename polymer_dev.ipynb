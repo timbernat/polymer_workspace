{
 "cells": [
  {
   "cell_type": "code",
   "execution_count": 1,
   "metadata": {},
   "outputs": [
    {
     "name": "stderr",
     "output_type": "stream",
     "text": [
      "Warning: importing 'simtk.openmm' is deprecated.  Import 'openmm' instead.\n"
     ]
    }
   ],
   "source": [
    "# Custom Imports\n",
    "import polysaccharide as ps\n",
    "from polysaccharide import analysis, filetree, general, logutils, molutils\n",
    "from polysaccharide import simulation as polysim\n",
    "from polysaccharide import representation as rep\n",
    "\n",
    "from polysaccharide import charging\n",
    "from polysaccharide.charging.types import AtomIDMap, ResidueChargeMap\n",
    "from polysaccharide.charging.residues import ChargedResidue\n",
    "from polysaccharide.charging.application import CHARGER_REGISTRY, ChargingParameters\n",
    "\n",
    "from polysaccharide import LOGGERS_MASTER\n",
    "from polysaccharide.logutils import ProcessLogHandler\n",
    "from polysaccharide.molutils.rdmol import rdkdraw\n",
    "from polysaccharide.representation import Polymer, PolymerManager, has_sims\n",
    "from polysaccharide.solvation.solvents import WATER_TIP3P\n",
    "from polysaccharide.analysis import plotprops, trajectory, statistics\n",
    "from polysaccharide.simulation import SimulationPaths, SimulationParameters\n",
    "from polysaccharide.graphics import plotutils\n",
    "\n",
    "# Generic Imports\n",
    "import re\n",
    "from functools import partial\n",
    "from collections import defaultdict\n",
    "from itertools import combinations\n",
    "\n",
    "# Numeric imports\n",
    "from math import ceil\n",
    "import numpy as np\n",
    "import pandas as pd\n",
    "import matplotlib.pyplot as plt\n",
    "\n",
    "# Typing and Subclassing\n",
    "from typing import Any, Callable, ClassVar, Iterable, Optional, Union\n",
    "from dataclasses import dataclass, field\n",
    "from abc import ABC, abstractmethod, abstractproperty\n",
    "from openmm.unit import Unit, Quantity\n",
    "\n",
    "# File I/O\n",
    "from pathlib import Path\n",
    "import csv, json, pickle\n",
    "from shutil import copyfile, rmtree\n",
    "import importlib.resources as impres\n",
    "\n",
    "# Logging and Shell\n",
    "import logging\n",
    "logging.basicConfig(level=logging.INFO)\n",
    "                            \n",
    "# Cheminformatics\n",
    "from rdkit import Chem\n",
    "from rdkit.Chem import rdmolfiles\n",
    "\n",
    "# Molecular Dynamics\n",
    "from openff.interchange import Interchange\n",
    "from openff.toolkit import ForceField\n",
    "from openff.toolkit.topology import Topology\n",
    "from openff.toolkit.topology.molecule import Molecule, Atom\n",
    "from openff.toolkit.typing.engines.smirnoff.parameters import LibraryChargeHandler\n",
    "\n",
    "from openff.units import unit\n",
    "from openmm.unit import picosecond, femtosecond, nanosecond # time\n",
    "from openmm.unit import nanometer, angstrom # length\n",
    "from openmm.unit import kelvin, atmosphere # misc\n",
    "\n",
    "# polymer resource management\n",
    "import importlib_resources as impres\n",
    "import resources\n",
    "RESOURCE_PATH = impres.files(resources)\n",
    "\n",
    "# Static Paths\n",
    "# RESOURCE_PATH = Path('resources')\n",
    "COLL_PATH = Path('Collections')\n",
    "# COMPAT_PDB_PATH = Path('compatible_pdbs')\n",
    "COMPAT_PDB_PATH = Path('compatible_pdbs_updated')"
   ]
  },
  {
   "cell_type": "code",
   "execution_count": 2,
   "metadata": {},
   "outputs": [
    {
     "data": {
      "text/plain": [
       "<bound method Topology.from_pdb_and_monomer_info of <class 'openff.toolkit.topology.topology.Topology'>>"
      ]
     },
     "execution_count": 2,
     "metadata": {},
     "output_type": "execute_result"
    }
   ],
   "source": [
    "Topology.from_pdb_and_monomer_info"
   ]
  },
  {
   "attachments": {},
   "cell_type": "markdown",
   "metadata": {},
   "source": [
    "## Loading Polymer Manager"
   ]
  },
  {
   "cell_type": "code",
   "execution_count": 3,
   "metadata": {},
   "outputs": [
    {
     "name": "stderr",
     "output_type": "stream",
     "text": [
      "INFO:8786948367796:Setup of simple_polymers completed in 0:00:00.000039\n",
      "\n"
     ]
    }
   ],
   "source": [
    "reset      = False \n",
    "purge_sims = False  \n",
    "purge_logs = False \n",
    "\n",
    "poly_source_path = COMPAT_PDB_PATH / 'simple_polymers'\n",
    "# poly_source_path = COMPAT_PDB_PATH / 'water_soluble_polymers'\n",
    "# poly_source_path = COMPAT_PDB_PATH / 'water_soluble_reduced'\n",
    "# poly_source_path = COMPAT_PDB_PATH / 'water_soluble_large'\n",
    "solv_template    = RESOURCE_PATH/'inp_templates'/'solv_polymer_template_box.inp'\n",
    "desired_solvents = (WATER_TIP3P,) # (None,)\n",
    "exclusion = 1.0*nanometer\n",
    "\n",
    "# Define derived paths and create manager\n",
    "collection_path  = COLL_PATH / poly_source_path.name\n",
    "structure_path   = poly_source_path / f'{poly_source_path.name}_structures'\n",
    "monomer_path     = poly_source_path / f'{poly_source_path.name}_monomers'\n",
    "\n",
    "mgr = PolymerManager(collection_path)\n",
    "\n",
    "# Perform manager setup / purge actions\n",
    "if purge_logs: # NOTE : must be done BEFORE log FileHandler is created, as this will destroy it's output as well\n",
    "    mgr.purge_logs(really=True)\n",
    "\n",
    "creation_logger = logging.getLogger('polymer_setup')\n",
    "loggers = [creation_logger, *LOGGERS_MASTER]\n",
    "\n",
    "with ProcessLogHandler(filedir=mgr.log_dir, loggers=loggers, proc_name=f'Setup of {mgr.collection_dir.name}', timestamp=True):\n",
    "    if reset:\n",
    "        mgr.purge_collection(really=True, purge_logs=False) # Explicitly DON'T purge logs here (will be done prior to entering log loop)\n",
    "\n",
    "    if purge_sims:\n",
    "        mgr.purge_sims(really=True)\n",
    "\n",
    "    if not mgr.polymers: # will be empty if not yet instantiated or if reset prior\n",
    "        mgr.populate_collection(struct_dir=structure_path, monomer_dir=monomer_path)\n",
    "        mgr.solvate_collection(desired_solvents, template_path=solv_template, exclusion=exclusion)"
   ]
  },
  {
   "cell_type": "code",
   "execution_count": null,
   "metadata": {},
   "outputs": [],
   "source": [
    "import copy\n",
    "\n",
    "# mol_name = 'naturalrubber_solv_water' \n",
    "mol_name = 'pnipam_modified_solv_water' \n",
    "\n",
    "pdir = mgr.polymers[mol_name]\n",
    "offmol = pdir.offmol\n",
    "rdmol = offmol.to_rdkit()\n",
    "# offmol = pdir.offmol_matched(strict=False, verbose=False)\n",
    "# rdmol = pdir.rdmol\n",
    "\n",
    "# Labelled all unmatched atoms\n",
    "for i, atom in enumerate(offmol.atoms):\n",
    "    rdatom = rdmol.GetAtomWithIdx(i)\n",
    "    # rdatom.SetProp('atomNote', atom.metadata.get('residue_name', 'unmatched'))\n",
    "print('Matched residues : ', set(atom.metadata.get('residue_name') for atom in offmol.atoms))\n",
    "\n",
    "rdkdraw.set_rdkdraw_size(800, 1/1)\n",
    "rdmol"
   ]
  },
  {
   "attachments": {},
   "cell_type": "markdown",
   "metadata": {},
   "source": [
    "## Testing Fragmented RCT procedure"
   ]
  },
  {
   "cell_type": "code",
   "execution_count": null,
   "metadata": {},
   "outputs": [],
   "source": [
    "# show individual constituent monomers\n",
    "from rdkit.Chem.Draw import MolsToGridImage\n",
    "import polysaccharide.molutils.fragment as frag \n",
    "\n",
    "offmol = pdir.offmol_matched()\n",
    "rdmol  = offmol.to_rdkit()\n",
    "mono_frags = frag.monomer_frags_with_residues(offmol, hydrogenate_ports=True)\n",
    "\n",
    "n = 800\n",
    "rdkdraw.set_rdkdraw_size(n, 1/1)\n",
    "MolsToGridImage(mono_frags.keys(), molsPerRow=6, subImgSize=(n, n), legends=mono_frags.values())"
   ]
  },
  {
   "cell_type": "code",
   "execution_count": null,
   "metadata": {},
   "outputs": [],
   "source": [
    "sm = [\n",
    "    Molecule.from_rdkit(mono_frag, allow_undefined_stereo=True, hydrogens_are_explicit=True)\n",
    "        for mono_frag in mono_frags\n",
    "]"
   ]
  },
  {
   "cell_type": "code",
   "execution_count": null,
   "metadata": {},
   "outputs": [],
   "source": [
    "single = set(sm).pop()\n",
    "charging.application.generate_molecule_charges(single, force_match=False)\n",
    "print(single.partial_charges, pdir.monomer_data_charged['charges'])"
   ]
  },
  {
   "attachments": {},
   "cell_type": "markdown",
   "metadata": {},
   "source": [
    "## Testing Polymer building and from-monomer calculations"
   ]
  },
  {
   "cell_type": "code",
   "execution_count": null,
   "metadata": {},
   "outputs": [],
   "source": [
    "from polysaccharide.molutils.polymer import abmono, building\n",
    "\n",
    "for pdir in mgr.polymers_list:\n",
    "    if pdir.has_monomer_data:\n",
    "        mono = pdir.monomer_data['monomers']\n",
    "        print(pdir.mol_name, abmono.count_middle_and_term_mono(mono), '\\n\\tLinear : ', abmono.is_linear(mono), '\\n\\tHomo : ', abmono.is_homopolymer(mono))"
   ]
  },
  {
   "cell_type": "code",
   "execution_count": null,
   "metadata": {},
   "outputs": [],
   "source": [
    "from collections import defaultdict\n",
    "\n",
    "solvent = None\n",
    "DOP_min, DOP_max = 3, 10\n",
    "\n",
    "# testing that chain length errors (if any) are independent of DOP\n",
    "res = []\n",
    "logs = defaultdict(list)\n",
    "for i, polymer in enumerate(mgr.polymers_list):\n",
    "    if polymer.solvent == solvent:\n",
    "        print(polymer.mol_name)\n",
    "        try:\n",
    "            mono_structs = polymer.monomer_data['monomers']\n",
    "            if polymer.mol_name == 'paam_modified':\n",
    "                mono_structs.pop('paam_SPECIAL_TERM')\n",
    "\n",
    "            print(f'{len(mono_structs)} monomers in chain')\n",
    "\n",
    "            dop_errors = []\n",
    "            for DOP in range(DOP_min, DOP_max):\n",
    "                n_atoms_pred = abmono.estimate_chain_len(mono_structs, DOP=DOP)\n",
    "                chain = building.build_linear_polymer(mono_structs, DOP=DOP, add_Hs=False)\n",
    "                n_atoms_real = chain.n_particles\n",
    "                print(n_atoms_real, n_atoms_pred)\n",
    "                dop_errors.append(n_atoms_real - n_atoms_pred)\n",
    "            res.append(dop_errors)\n",
    "            logs['Success'].append(polymer.mol_name)\n",
    "\n",
    "        except Exception as e:\n",
    "            print(e)\n",
    "            logs[type(e).__name__].append(polymer.mol_name)\n",
    "\n",
    "res = np.array(res)            \n",
    "plt.imshow(res)"
   ]
  },
  {
   "cell_type": "code",
   "execution_count": null,
   "metadata": {},
   "outputs": [],
   "source": [
    "# demonstrating RDKit aromaticity substructure mismatch for even simple ringed molecules (e.g. benzene)\n",
    "rdkdraw.set_rdkdraw_size(300, 2/1)\n",
    "smiles_mol = Chem.MolFromSmiles('C1-C=C-C=C-C=1')\n",
    "# smiles_mol = Chem.AddHs(smiles_mol)\n",
    "Chem.MolToSmarts(smiles_mol)\n",
    "\n",
    "smarts_mol = Chem.MolFromSmarts('[#6]1-[#6]=[#6]-[#6]=[#6]-[#6]=1')\n",
    "# smarts_mol = Chem.AddHs(smarts_mol)\n",
    "display(smiles_mol)\n",
    "display(smarts_mol)\n",
    "smarts_mol.GetSubstructMatch(smiles_mol)"
   ]
  },
  {
   "attachments": {},
   "cell_type": "markdown",
   "metadata": {},
   "source": [
    "## Comparing converters for heatmapping drawing"
   ]
  },
  {
   "cell_type": "code",
   "execution_count": null,
   "metadata": {},
   "outputs": [],
   "source": [
    "cmap = plt.get_cmap('turbo')\n",
    "# pdir = mgr.polymers['polythiophene_solv_water']\n",
    "pdir = mgr.polymers['polyethylmethacrylate_solv_water']\n",
    "\n",
    "dim = 10\n",
    "aspect = 4/1\n",
    "annotate = False\n",
    "\n",
    "for cvtr_type in ('InChI', 'SMARTS', 'CXSMARTS'):\n",
    "    fig, ax = pdir.compare_charges('ABE10_exact', 'Espaloma_AM1BCC', cmap, annotate=annotate, precision=5, converter=cvtr_type)\n",
    "    fig.set_size_inches(dim, dim * aspect)"
   ]
  },
  {
   "cell_type": "code",
   "execution_count": null,
   "metadata": {},
   "outputs": [],
   "source": [
    "from rdkit.Chem.Draw import SimilarityMaps\n",
    "\n",
    "cvtr = 'InChI'\n",
    "\n",
    "offmol1 = pdir.charged_offmol_from_sdf('ABE10_exact')\n",
    "rdmol1 = offmol1.to_rdkit()\n",
    "flatmol1 = rdconvert.flattened_rdmol(rdmol1, converter=cvtr)\n",
    "\n",
    "offmol2 = pdir.charged_offmol_from_sdf('Espaloma_AM1BCC')\n",
    "rdmol2 = offmol2.to_rdkit()\n",
    "flatmol2 = rdconvert.flattened_rdmol(rdmol2, converter=cvtr)\n",
    "\n",
    "diff = rdcompare.difference_rdmol(flatmol1, flatmol2, prop='PartialCharge', remove_map_nums=True)\n",
    "deltas = [diff.GetAtomWithIdx(i).GetDoubleProp('DeltaPartialCharge') for i in range(diff.GetNumAtoms())]\n",
    "fig = SimilarityMaps.GetSimilarityMapFromWeights(diff, deltas, colorMap='jet', contourLines=10, alpha=0.3)\n",
    "plt.savefig('test.png')"
   ]
  },
  {
   "cell_type": "code",
   "execution_count": null,
   "metadata": {},
   "outputs": [],
   "source": [
    "# PIL.Image.frombytes('RGBA', fig.canvas.get_width_height(), fig.canvas.tostring_argb())\n",
    "\n",
    "n = 250\n",
    "img = PIL.Image.frombytes('RGB', (n, n), fig.canvas.tostring_rgb())\n",
    "display(img)"
   ]
  },
  {
   "cell_type": "code",
   "execution_count": null,
   "metadata": {},
   "outputs": [],
   "source": [
    "pdir = mgr.polymers['polyvinylchloride_solv_water']\n",
    "\n",
    "fig1, ax1 = pdir.compare_charges('ABE10_exact', 'Espaloma_AM1BCC', cmap=plt.get_cmap('turbo'), converter='InChI')\n",
    "fig2, ax2 = pdir.compare_charges('ABE10_exact', 'Espaloma_AM1BCC', cmap=plt.get_cmap('turbo'), converter='SMARTS')\n",
    "\n",
    "ax1.set_title(pdir.mol_name)\n",
    "ax2.set_title(pdir.mol_name)"
   ]
  },
  {
   "attachments": {},
   "cell_type": "markdown",
   "metadata": {},
   "source": [
    "## Generating monomer files for polyamides"
   ]
  },
  {
   "cell_type": "code",
   "execution_count": null,
   "metadata": {},
   "outputs": [],
   "source": [
    "POLYAM_PATH   = Path('compatible_pdbs/polyamides')\n",
    "p = POLYAM_PATH/'smiles.json'\n",
    "\n",
    "with p.open('r') as smiles_file:\n",
    "    mono_smiles = json.load(smiles_file)\n",
    "mono_smiles['TMC'] = mono_smiles['TMC'].replace('Cl', 'O[H]') # replace chlorides with oxygens present in full polymer\n",
    "\n",
    "rdkdraw.set_rddraw_size(400, 3/2)\n",
    "\n",
    "mono_mols, mono_smarts = {}, {}\n",
    "for name, SMILES in mono_smiles.items():\n",
    "    rdmol = Chem.MolFromSmiles(SMILES, sanitize=False)\n",
    "    for atom in rdmol.GetAtoms():\n",
    "        atom.SetAtomMapNum(atom.GetIdx() + 1)\n",
    "    \n",
    "    mono_mols[name] = rdmol\n",
    "    mono_smarts[name] = Chem.MolToSmarts(rdmol)\n",
    "\n",
    "    display(rdmol)\n"
   ]
  },
  {
   "cell_type": "code",
   "execution_count": null,
   "metadata": {},
   "outputs": [],
   "source": [
    "monomers = {\n",
    "    'MPD_monovalent' : '[H:1]-[#6:2]1:[#6:3](-[H:4]):[#6:5](-[#7:6](-*)-[H:8]):[#6:9](-[H:10]):[#6:11](-[#7:12](-[H:13])-[H:14]):[#6:15]:1-[H:16]',\n",
    "    'MPD_bivalent'   : '[H:1]-[#6:2]1:[#6:3](-[H:4]):[#6:5](-[#7:6](-*)-[H:8]):[#6:9](-[H:10]):[#6:11](-[#7:12](-[H:13])-*):[#6:15]:1-[H:16]',\n",
    "    'TMC_monovalent' : '[H:1]-[#6:2]1:[#6:3](-[#6:4](=[#8:5])-*):[#6:8](-[H:9]):[#6:10](-[#6:11](=[#8:12])-[#8:13]-[H:14]):[#6:15](-[H:16]):[#6:17]:1-[#6:18](=[#8:19])-[#8:20]-[H:21]', \n",
    "    'TMC_bivalent'   : '[H:1]-[#6:2]1:[#6:3](-[#6:4](=[#8:5])-*):[#6:8](-[H:9]):[#6:10](-[#6:11](=[#8:12])-*):[#6:15](-[H:16]):[#6:17]:1-[#6:18](=[#8:19])-[#8:20]-[H:21]', \n",
    "    'TMC_trivalent'  : '[H:1]-[#6:2]1:[#6:3](-[#6:4](=[#8:5])-*):[#6:8](-[H:9]):[#6:10](-[#6:11](=[#8:12])-*):[#6:15](-[H:16]):[#6:17]:1-[#6:18](=[#8:19])-*', \n",
    "}\n",
    "\n",
    "json_spec = {\n",
    "    'monomers' : monomers,\n",
    "    'caps' : {name : [] for name in monomers}\n",
    "}\n",
    "\n",
    "pam_mono_path = POLYAM_PATH/'polyamides.json'\n",
    "with pam_mono_path.open('w') as mono_out:\n",
    "    json.dump(json_spec, mono_out, indent=4)\n",
    "\n",
    "for pam_path in POLYAM_PATH.glob('*.pdb'):\n",
    "    ind_mono_path = POLYAM_PATH/f'{pam_path.stem}.json'\n",
    "    with ind_mono_path.open('w') as mono_out:\n",
    "        json.dump(json_spec, mono_out, indent=4)"
   ]
  },
  {
   "attachments": {},
   "cell_type": "markdown",
   "metadata": {},
   "source": [
    "## Testing loading of polyamides using monomer spec"
   ]
  },
  {
   "cell_type": "code",
   "execution_count": null,
   "metadata": {},
   "outputs": [],
   "source": [
    "pam_pdbs = [path for path in POLYAM_PATH.glob('*.pdb')]"
   ]
  },
  {
   "cell_type": "code",
   "execution_count": null,
   "metadata": {},
   "outputs": [],
   "source": [
    "pdb_file = pam_pdbs[1]\n",
    "\n",
    "openff_topology, _, _error = Topology.from_pdb_and_monomer_info(str(pdb_file), pam_mono_path, strict=False, verbose=False)\n",
    "mol = next(openff_topology.molecules)\n",
    "\n",
    "for atom in mol.atoms:\n",
    "    if not atom.metadata['already_matched']:\n",
    "        print(atom.metadata)\n",
    "\n",
    "rdkdraw.set_rddraw_size(500, 3/2)\n",
    "display(mono_mols[pdb_file.stem])"
   ]
  },
  {
   "attachments": {},
   "cell_type": "markdown",
   "metadata": {},
   "source": [
    "## Some other section"
   ]
  },
  {
   "cell_type": "code",
   "execution_count": null,
   "metadata": {},
   "outputs": [],
   "source": []
  }
 ],
 "metadata": {
  "kernelspec": {
   "display_name": "openff-dev-updated",
   "language": "python",
   "name": "python3"
  },
  "language_info": {
   "codemirror_mode": {
    "name": "ipython",
    "version": 3
   },
   "file_extension": ".py",
   "mimetype": "text/x-python",
   "name": "python",
   "nbconvert_exporter": "python",
   "pygments_lexer": "ipython3",
   "version": "3.10.9"
  },
  "orig_nbformat": 4,
  "vscode": {
   "interpreter": {
    "hash": "b6f4b411abbc3e95cc086ad6e81a9cb26e6bd9b323dd491204b8eb280f272f95"
   }
  }
 },
 "nbformat": 4,
 "nbformat_minor": 2
}
