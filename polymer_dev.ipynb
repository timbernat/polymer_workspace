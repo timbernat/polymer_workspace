{
 "cells": [
  {
   "cell_type": "code",
   "execution_count": 1,
   "metadata": {},
   "outputs": [
    {
     "name": "stderr",
     "output_type": "stream",
     "text": [
      "/home/timber/miniconda3/envs/openff-dev-updated/lib/python3.10/site-packages/numpy/core/getlimits.py:518: UserWarning: The value of the smallest subnormal for <class 'numpy.float64'> type is zero.\n",
      "  setattr(self, word, getattr(machar, word).flat[0])\n",
      "/home/timber/miniconda3/envs/openff-dev-updated/lib/python3.10/site-packages/numpy/core/getlimits.py:89: UserWarning: The value of the smallest subnormal for <class 'numpy.float64'> type is zero.\n",
      "  return self._float_to_str(self.smallest_subnormal)\n",
      "/home/timber/miniconda3/envs/openff-dev-updated/lib/python3.10/site-packages/numpy/core/getlimits.py:518: UserWarning: The value of the smallest subnormal for <class 'numpy.float32'> type is zero.\n",
      "  setattr(self, word, getattr(machar, word).flat[0])\n",
      "/home/timber/miniconda3/envs/openff-dev-updated/lib/python3.10/site-packages/numpy/core/getlimits.py:89: UserWarning: The value of the smallest subnormal for <class 'numpy.float32'> type is zero.\n",
      "  return self._float_to_str(self.smallest_subnormal)\n",
      "Warning on use of the timeseries module: If the inherent timescales of the system are long compared to those being analyzed, this statistical inefficiency may be an underestimate.  The estimate presumes the use of many statistically independent samples.  Tests should be performed to assess whether this condition is satisfied.   Be cautious in the interpretation of the data.\n",
      "WARNING:root:Warning: importing 'simtk.openmm' is deprecated.  Import 'openmm' instead.\n"
     ]
    }
   ],
   "source": [
    "# Custom Imports\n",
    "import polysaccharide as ps\n",
    "from polysaccharide import analysis, extratypes, filetree, general, logutils, molutils\n",
    "from polysaccharide import polymer\n",
    "\n",
    "from polysaccharide.charging.residues import ChargedResidue\n",
    "from polysaccharide.charging.application import CHARGER_REGISTRY, ChargingParameters\n",
    "\n",
    "from polysaccharide import LOGGERS_MASTER\n",
    "from polysaccharide.logutils import ProcessLogHandler\n",
    "\n",
    "from polysaccharide.molutils.rdmol import rdkdraw\n",
    "\n",
    "from polysaccharide.polymer.representation import Polymer\n",
    "from polysaccharide.polymer.management import PolymerManager\n",
    "from polysaccharide.polymer.filtering import has_sims, is_solvated, is_unsolvated, is_charged\n",
    "from polysaccharide.polymer import building, monomer\n",
    "\n",
    "from polysaccharide.solvation.solvents import WATER_TIP3P\n",
    "from polysaccharide.analysis import trajectory, statistics\n",
    "from polysaccharide.simulation.records import SimulationPaths, SimulationParameters\n",
    "from polysaccharide.graphics import plotutils\n",
    "\n",
    "# Generic Imports\n",
    "import re\n",
    "from functools import partial\n",
    "from collections import defaultdict\n",
    "from itertools import combinations\n",
    "\n",
    "# Numeric imports\n",
    "from math import ceil\n",
    "import numpy as np\n",
    "import pandas as pd\n",
    "import matplotlib.pyplot as plt\n",
    "\n",
    "# Typing and Subclassing\n",
    "from typing import Any, Callable, ClassVar, Iterable, Optional, Union\n",
    "from dataclasses import dataclass, field\n",
    "from abc import ABC, abstractmethod, abstractproperty\n",
    "from openmm.unit import Unit, Quantity\n",
    "\n",
    "# File I/O\n",
    "import argparse\n",
    "from pathlib import Path\n",
    "import csv, json, pickle\n",
    "from shutil import copyfile, rmtree\n",
    "import importlib.resources as impres\n",
    "\n",
    "# Logging and Shell\n",
    "import logging\n",
    "logging.basicConfig(level=logging.INFO, force=True)\n",
    "                            \n",
    "# Cheminformatics\n",
    "from rdkit import Chem\n",
    "from rdkit.Chem import rdmolfiles\n",
    "\n",
    "# Molecular Dynamics\n",
    "from openff.interchange import Interchange\n",
    "from openff.toolkit import ForceField\n",
    "from openff.toolkit.topology import Topology\n",
    "from openff.toolkit.topology.molecule import Molecule, Atom\n",
    "from openff.toolkit.typing.engines.smirnoff.parameters import LibraryChargeHandler\n",
    "\n",
    "from openff.units import unit\n",
    "from openmm.unit import picosecond, femtosecond, nanosecond # time\n",
    "from openmm.unit import nanometer, angstrom # length\n",
    "from openmm.unit import kelvin, atmosphere # misc\n",
    "\n",
    "# polymer resource management\n",
    "import importlib_resources as impres\n",
    "import resources\n",
    "from resources import AVAIL_RESOURCES\n",
    "\n",
    "RESOURCE_PATH = resources.RESOURCE_PATH\n",
    "SIM_PARAM_PATH = impres.files(resources.sim_templates)\n",
    "CHG_PARAM_PATH = impres.files(resources.chg_templates)\n",
    "INP_PARAM_PATH = impres.files(resources.inp_templates)\n",
    "\n",
    "# Static Paths\n",
    "COLL_PATH = Path('Collections')\n",
    "# COLL_PATH = Path('Collections_legacy')\n",
    "COMPAT_PDB_PATH = Path('compatible_pdbs_updated')"
   ]
  },
  {
   "attachments": {},
   "cell_type": "markdown",
   "metadata": {},
   "source": [
    "## Loading Polymer Manager"
   ]
  },
  {
   "cell_type": "code",
   "execution_count": 3,
   "metadata": {},
   "outputs": [],
   "source": [
    "# Source collection / structure directory\n",
    "src_name = 'simple_polymers'\n",
    "# src_name = 'wasps_full'\n",
    "# src_name = 'wasps_reduced'\n",
    "\n",
    "# Defining control arguments\n",
    "setup_kwargs = {\n",
    "    'reset' : False,\n",
    "    'purge_sims' : False,\n",
    "    'purge_logs' : False\n",
    "}\n",
    "solvate = True\n",
    "\n",
    "# Solvent parameters\n",
    "desired_solvents = ('WATER_TIP3P',) # (None,)\n",
    "solv_template    = INP_PARAM_PATH / 'solv_polymer_template_box.inp'\n",
    "exclusion = 1.0*nanometer\n",
    "\n",
    "# Parsing args for bash digest\n",
    "arg_str = ' '.join(f'--{arg_name}'\n",
    "         for arg_name, should_apply in setup_kwargs.items()\n",
    "            if should_apply\n",
    ")\n",
    "solv_str = ' '.join(desired_solvents)"
   ]
  },
  {
   "cell_type": "code",
   "execution_count": null,
   "metadata": {},
   "outputs": [],
   "source": [
    "# Setup, and optionally solvate\n",
    "%run -i 'setup_collection.py' -strct=$src_name $arg_str\n",
    "if solvate:\n",
    "    %run -i 'solvate_collection.py' -src=$src_name -s=$solv_str -t=$solv_template -e=$exclusion._value --molecules 'polyvinylchloride' 'polythiophene' 'naturalrubber'"
   ]
  },
  {
   "cell_type": "code",
   "execution_count": null,
   "metadata": {},
   "outputs": [],
   "source": [
    "%run -i 'assign_partial_charges.py' -src=$src_name -cp 'standard_chg_params' --molecules 'polyvinylchloride' 'naturalrubber' --no-solvent "
   ]
  },
  {
   "cell_type": "code",
   "execution_count": 4,
   "metadata": {},
   "outputs": [
    {
     "name": "stderr",
     "output_type": "stream",
     "text": [
      "INFO:polysaccharide.polymer.management:Current molecule: \"polyvinylchloride\" (1/2)\n",
      "INFO:polysaccharide.polymer.representation:Loading OpenFF Topology WITH monomer graph match\n"
     ]
    },
    {
     "name": "stdout",
     "output_type": "stream",
     "text": [
      "MolFilterBuffer(molecules=['polyvinylchloride', 'naturalrubber'], solvent=False, charges=True) ['polyvinylchloride', 'naturalrubber']\n"
     ]
    },
    {
     "name": "stderr",
     "output_type": "stream",
     "text": [
      "INFO:openff.toolkit.typing.engines.smirnoff.parameters:Attempting to up-convert Electrostatics section from 0.3 to 0.4\n",
      "INFO:openff.toolkit.typing.engines.smirnoff.parameters:Successfully up-converted Electrostatics section from 0.3 to 0.4. `method=\"PME\"` is now split into `periodic_potential=\"Ewald3D-ConductingBoundary\"`, `nonperiodic_potential=\"Coulomb\"`, and `exception_potential=\"Coulomb\"`.\n",
      "INFO:polysaccharide.polymer.representation:Assigning precomputed ABE10_averaged charges to polyvinylchloride\n",
      "INFO:polysaccharide.polymer.representation:Loading OpenFF Topology WITH monomer graph match\n",
      "INFO:polysaccharide.polymer.representation:Creating SMIRNOFF Interchange for \"polyvinylchloride\" with forcefield \"openff-2.0.0\"\n",
      "INFO:polysaccharide.polymer.representation:Created new Simulation directory \"06-09-2023_at_11-21-30_AM\"\n",
      "INFO:polysaccharide.simulation.preparation:Creating OpenMM Simulation from Interchange\n",
      "INFO:polysaccharide.simulation.ensemble:Created NPT (Isothermal-isobaric ensemble) Simulation with LangevinMiddleIntegrator and MonteCarloBarostat forces\n",
      "INFO:polysaccharide.simulation.preparation:Generated simulation record files at Collections/simple_polymers/polyvinylchloride/polyvinylchloride/MD/06-09-2023_at_11-21-30_AM/polyvinylchloride_sim_paths.json\n",
      "INFO:polysaccharide.simulation.preparation:Saved simulation checkpoint at Collections/simple_polymers/polyvinylchloride/polyvinylchloride/MD/06-09-2023_at_11-21-30_AM/polyvinylchloride_checkpoint.chk\n",
      "INFO:polysaccharide.simulation.execution:Performing energy minimization\n",
      "INFO:polysaccharide.simulation.execution:Integrating 1 ps OpenMM sim at 300 K and 1 atm for 500 steps\n",
      "INFO:8791591872645:Simulation debug_sim for polyvinylchloride completed in 0:00:03.915280\n",
      "\n",
      "INFO:8791591872675:Simulation debug_sim for polyvinylchloride completed in 0:00:03.915280\n",
      "\n",
      "INFO:polysaccharide.polymer.management:Current molecule: \"naturalrubber\" (2/2)\n",
      "INFO:polysaccharide.polymer.representation:Loading OpenFF Topology WITH monomer graph match\n",
      "INFO:openff.toolkit.typing.engines.smirnoff.parameters:Attempting to up-convert Electrostatics section from 0.3 to 0.4\n",
      "INFO:openff.toolkit.typing.engines.smirnoff.parameters:Successfully up-converted Electrostatics section from 0.3 to 0.4. `method=\"PME\"` is now split into `periodic_potential=\"Ewald3D-ConductingBoundary\"`, `nonperiodic_potential=\"Coulomb\"`, and `exception_potential=\"Coulomb\"`.\n",
      "INFO:polysaccharide.polymer.representation:Assigning precomputed ABE10_averaged charges to naturalrubber\n",
      "INFO:polysaccharide.polymer.representation:Loading OpenFF Topology WITH monomer graph match\n",
      "INFO:polysaccharide.polymer.representation:Creating SMIRNOFF Interchange for \"naturalrubber\" with forcefield \"openff-2.0.0\"\n",
      "INFO:polysaccharide.polymer.representation:Created new Simulation directory \"06-09-2023_at_11-21-34_AM\"\n",
      "INFO:polysaccharide.simulation.preparation:Creating OpenMM Simulation from Interchange\n",
      "INFO:polysaccharide.simulation.ensemble:Created NPT (Isothermal-isobaric ensemble) Simulation with LangevinMiddleIntegrator and MonteCarloBarostat forces\n",
      "INFO:polysaccharide.simulation.preparation:Generated simulation record files at Collections/simple_polymers/naturalrubber/naturalrubber/MD/06-09-2023_at_11-21-34_AM/naturalrubber_sim_paths.json\n",
      "INFO:polysaccharide.simulation.preparation:Saved simulation checkpoint at Collections/simple_polymers/naturalrubber/naturalrubber/MD/06-09-2023_at_11-21-34_AM/naturalrubber_checkpoint.chk\n",
      "INFO:polysaccharide.simulation.execution:Performing energy minimization\n",
      "INFO:polysaccharide.simulation.execution:Integrating 1 ps OpenMM sim at 300 K and 1 atm for 500 steps\n",
      "INFO:8791594613944:Simulation debug_sim for naturalrubber completed in 0:00:04.048923\n",
      "\n",
      "INFO:8791591872675:Simulation debug_sim for naturalrubber completed in 0:00:04.048923\n",
      "\n",
      "INFO:8791591872675:Simulation debug_sim completed in 0:00:07.973181\n",
      "\n"
     ]
    }
   ],
   "source": [
    "%run -i 'run_openmm_sims.py' -src=$src_name -sp='debug_sim' --molecules 'polyvinylchloride' 'naturalrubber' --no-solvent"
   ]
  },
  {
   "cell_type": "code",
   "execution_count": null,
   "metadata": {},
   "outputs": [],
   "source": [
    "mgr = PolymerManager(COLL_PATH / 'wasps_full')\n",
    "pdir = mgr.polymers['pnipam_modified_solv_water']\n",
    "pdir.offmol"
   ]
  },
  {
   "cell_type": "code",
   "execution_count": null,
   "metadata": {},
   "outputs": [],
   "source": [
    "names = sorted(\n",
    "    path.name\n",
    "        for path in Path.cwd().iterdir()\n",
    "            if path.suffix == '.py'\n",
    ")\n",
    "\n",
    "for i in names:\n",
    "    print(i)"
   ]
  },
  {
   "attachments": {},
   "cell_type": "markdown",
   "metadata": {},
   "source": [
    "## Inspecting all available simulation presets tabularly"
   ]
  },
  {
   "cell_type": "code",
   "execution_count": null,
   "metadata": {},
   "outputs": [],
   "source": [
    "chg_dict = {}\n",
    "state_dict = {}\n",
    "\n",
    "for path in impres.files(resources.chg_templates).iterdir():\n",
    "    if path.suffix == '.json':\n",
    "        chg_params = ChargingParameters.from_file(path)\n",
    "        chg_dict[path.stem] = chg_params.__dict__\n",
    "\n",
    "chg_param_df = pd.DataFrame(chg_dict)\n",
    "chg_param_df = chg_param_df[sorted(chg_param_df.columns)] # sort columns alphabetically\n",
    "chg_param_df"
   ]
  },
  {
   "attachments": {},
   "cell_type": "markdown",
   "metadata": {},
   "source": [
    "## Experimenting with grid size optimization WRT aspect and number of squares"
   ]
  },
  {
   "cell_type": "code",
   "execution_count": null,
   "metadata": {},
   "outputs": [],
   "source": [
    "from math import ceil, sqrt, floor\n",
    "\n",
    "def size_penalty(N_targ : int, N_real : int) -> float:\n",
    "    return (N_real / N_targ - 1)**2\n",
    "\n",
    "def aspect_penalty(a_targ : float, a_real : float) -> float:\n",
    "    # return (a_real / a_targ - 1)**2\n",
    "    return 1 - min(a_targ / a_real, a_real / a_targ)\n",
    "\n",
    "def dims(N : int, a : float=1/1, w1=1, w2=1) -> tuple[int, int]:\n",
    "    '''Given a particular number of cells and an aspect ratio, yields the smallest 2x2 grid dimensions which accomodate at least N grid squares whose aspect ratio is closest to the '''\n",
    "    return min( \n",
    "        ((r, ceil(N / r))\n",
    "            for r in range(1, N + 1)\n",
    "        ),\n",
    "        key=lambda dims : w1*size_penalty(N, dims[0]*dims[1]) + w2*aspect_penalty(a, dims[0]/dims[1])\n",
    "    )\n",
    "\n",
    "a = 2/1\n",
    "for N in range(1, 20):\n",
    "    nrows, ncols = dims(N, a)\n",
    "    fig, ax = plotutils.presize_subplots(nrows=nrows, ncols=ncols, scale=1)\n",
    "    fig.suptitle(f'N = {N}')"
   ]
  },
  {
   "attachments": {},
   "cell_type": "markdown",
   "metadata": {},
   "source": [
    "## Testing PyMBAR timeseries equilibration detection"
   ]
  },
  {
   "cell_type": "code",
   "execution_count": null,
   "metadata": {},
   "outputs": [],
   "source": [
    "from pymbar import timeseries\n",
    "from polysaccharide.analysis.equilibrium import EQUIL_DETECTOR_REGISTRY\n",
    "equil_det = EQUIL_DETECTOR_REGISTRY['PyMBAREquilDetector']\n",
    "# equil_det = EQUIL_DETECTOR_REGISTRY['BinSegEquilDetector']\n",
    "\n",
    "fast = True\n",
    "\n",
    "outdir = Path('figures_for_paper/pymbar_equil')\n",
    "outdir.mkdir(exist_ok=True)\n",
    "\n",
    "for mol_name, pdir in mgr.filtered_by(is_solvated).items():\n",
    "    mol_dir = outdir/mol_name\n",
    "    mol_dir.mkdir(exist_ok=True)\n",
    "\n",
    "    sim_paths, sim_params = pdir.load_sim_paths_and_params()\n",
    "    time_df = pd.read_csv(sim_paths.time_data)\n",
    "    times, time_data = trajectory.props_to_plot_data(time_df)\n",
    "    times_arr = times.to_numpy()[:, 0]\n",
    "\n",
    "    fig, ax = plotutils.plot_df_props(times, time_data, df_label='Original samples', elongation=1/2, scale=25)\n",
    "    for axes, (label, prop_data) in zip(ax.flatten(), time_data.items()):\n",
    "        prop_data = prop_data.to_numpy()\n",
    "        t = equil_det.equil_loc(prop_data)\n",
    "        uncorr_idxs = timeseries.subsample_correlated_data(prop_data, fast=fast)\n",
    "        t_equil = times_arr[t]\n",
    "\n",
    "        axes.plot(times_arr[uncorr_idxs], prop_data[uncorr_idxs], label='Uncorrelated samples')\n",
    "        axes.axvline(t_equil, color='r')\n",
    "        axes.legend()\n",
    "\n",
    "    # fig.savefig(mol_dir/f'pymbar_props_{mol_name}.png', bbox_inches='tight')\n",
    "    # plt.close()"
   ]
  },
  {
   "cell_type": "code",
   "execution_count": null,
   "metadata": {},
   "outputs": [],
   "source": [
    "pdir = mgr.polymers['peg_modified_solv_water']\n",
    "\n",
    "sim_paths, sim_params = pdir.load_sim_paths_and_params()\n",
    "state_df = pd.read_csv(sim_paths.state_data)\n",
    "\n",
    "exclude = ('#\"Step\"', 'Elapsed Time (s)', 'Speed (ns/day)')\n",
    "state_df = state_df[[label for label in state_df.columns if label not in exclude]]\n",
    "state_time, state_data = trajectory.props_to_plot_data(state_df)\n",
    "\n",
    "fig, ax = plotutils.plot_df_props(state_time, state_data, df_label='test', nrows=2, ncols=3, scale=20)\n",
    "for axes in ax.flatten():\n",
    "    axes.legend()"
   ]
  },
  {
   "cell_type": "code",
   "execution_count": null,
   "metadata": {},
   "outputs": [],
   "source": [
    "from openff.toolkit.utils._nagl_wrapper import _NAGLToolkitWrapper\n",
    "\n",
    "wrap = _NAGLToolkitWrapper()\n",
    "wrap.toolkit_name"
   ]
  },
  {
   "attachments": {},
   "cell_type": "markdown",
   "metadata": {},
   "source": [
    "## Plotting disparities in charges"
   ]
  },
  {
   "cell_type": "code",
   "execution_count": null,
   "metadata": {},
   "outputs": [],
   "source": [
    "num_bins = 30\n",
    "order = ['ABE10_exact', 'ABE10_averaged', 'Espaloma_AM1BCC']\n",
    "outdir = Path('figures_for_paper') / f'Charge diagrams - {mgr.collection_dir.stem}'\n",
    "outdir.mkdir(exist_ok=True)\n",
    "\n",
    "for mol_name, polymer in mgr.filtered_by((is_unsolvated, is_charged)).items():\n",
    "    savedir = outdir / mol_name\n",
    "    savedir.mkdir(exist_ok=True)\n",
    "\n",
    "    # single charges\n",
    "    for charge_method in polymer.charges: \n",
    "        polymer.assign_charges_by_lookup(charge_method)\n",
    "        fig, ax = molutils.rdmol.rdkdraw.rdmol_prop_heatmap_colorscaled(\n",
    "            polymer.offmol.to_rdkit(),\n",
    "            prop='PartialCharge',\n",
    "            annotate=True,\n",
    "            cmap=plt.get_cmap('viridis'),\n",
    "            cbar_label=f'q (elem. charge) ({charge_method} only)'\n",
    "        )\n",
    "        fig.savefig(savedir/f'{mol_name} charges - {charge_method}', bbox_inches='tight')\n",
    "        plt.close()\n",
    "\n",
    "    # charge pairs\n",
    "    for (chg_method_1, chg_method_2) in combinations(sorted(polymer.charges.keys(), key=lambda x : order.index(x)), 2):\n",
    "        chg_str = f'{chg_method_1} vs {chg_method_2}'\n",
    "        chgs_ref  = polymer.charges[chg_method_1]._magnitude\n",
    "        chgs_comp = polymer.charges[chg_method_2]._magnitude\n",
    "        diff = chgs_ref - chgs_comp\n",
    "        chg_RMSE = round(analysis.statistics.RMSE(chgs_ref, chgs_comp), 4)\n",
    "\n",
    "        fig, ax = polymer.compare_charges(chg_method_1, chg_method_2, annotate=True, converter='CXSMARTS')\n",
    "        fig.savefig(savedir/f'{mol_name} charge comparison - {chg_str}', bbox_inches='tight')\n",
    "        plt.close()\n",
    "\n",
    "        # pair histograms\n",
    "        plt.hist(diff, bins=np.linspace(diff.min(), diff.max(), num_bins))\n",
    "        plt.xlabel(f'{general.GREEK_UPPER[\"delta\"]}q (elem. charge): {chg_str}')\n",
    "        plt.ylabel('Number of atoms')\n",
    "        plt.legend([f'RMSE = {chg_RMSE} e'], loc='best')\n",
    "        plt.savefig(savedir/f'{mol_name} histogram - {chg_str}', bbox_inches='tight')\n",
    "        plt.close()"
   ]
  },
  {
   "attachments": {},
   "cell_type": "markdown",
   "metadata": {},
   "source": [
    "## Testing Polymer building and from-monomer calculations"
   ]
  },
  {
   "cell_type": "code",
   "execution_count": null,
   "metadata": {},
   "outputs": [],
   "source": [
    "for pdir in mgr.polymers_list:\n",
    "    if pdir.has_monomer_info:\n",
    "        mono = pdir.monomer_info.monomers\n",
    "        print(pdir.mol_name, monomer.count_middle_and_term_mono(mono), '\\n\\tLinear : ', monomer.is_linear(mono), '\\n\\tHomo : ', monomer.is_homopolymer(mono))"
   ]
  },
  {
   "cell_type": "code",
   "execution_count": null,
   "metadata": {},
   "outputs": [],
   "source": [
    "from collections import defaultdict\n",
    "\n",
    "solvent = None\n",
    "DOP_min, DOP_max = 3, 10\n",
    "\n",
    "# testing that chain length errors (if any) are independent of DOP\n",
    "res = []\n",
    "logs = defaultdict(list)\n",
    "for i, polymer in enumerate(mgr.polymers_list):\n",
    "    if polymer.solvent == solvent:\n",
    "        print(polymer.mol_name)\n",
    "        try:\n",
    "            mono_structs = polymer.monomer_info.monomers\n",
    "            if polymer.mol_name == 'paam_modified':\n",
    "                mono_structs.pop('paam_SPECIAL_TERM')\n",
    "\n",
    "            print(f'{len(mono_structs)} monomers in chain')\n",
    "\n",
    "            dop_errors = []\n",
    "            for DOP in range(DOP_min, DOP_max):\n",
    "                n_atoms_pred = monomer.estimate_chain_len(mono_structs, DOP=DOP)\n",
    "                chain = building.build_linear_polymer(mono_structs, DOP=DOP, add_Hs=False)\n",
    "                n_atoms_real = chain.n_particles\n",
    "                print(n_atoms_real, n_atoms_pred)\n",
    "                dop_errors.append(n_atoms_real - n_atoms_pred)\n",
    "            res.append(dop_errors)\n",
    "            logs['Success'].append(polymer.mol_name)\n",
    "\n",
    "        except Exception as e:\n",
    "            print(e)\n",
    "            logs[type(e).__name__].append(polymer.mol_name)\n",
    "\n",
    "res = np.array(res)            \n",
    "plt.imshow(res)"
   ]
  },
  {
   "cell_type": "code",
   "execution_count": null,
   "metadata": {},
   "outputs": [],
   "source": [
    "# demonstrating RDKit aromaticity substructure mismatch for even simple ringed molecules (e.g. benzene)\n",
    "rdkdraw.set_rdkdraw_size(300, 2/1)\n",
    "smiles_mol = Chem.MolFromSmiles('C1-C=C-C=C-C=1')\n",
    "# smiles_mol = Chem.AddHs(smiles_mol)\n",
    "Chem.MolToSmarts(smiles_mol)\n",
    "\n",
    "smarts_mol = Chem.MolFromSmarts('[#6]1-[#6]=[#6]-[#6]=[#6]-[#6]=1')\n",
    "# smarts_mol = Chem.AddHs(smarts_mol)\n",
    "display(smiles_mol)\n",
    "display(smarts_mol)\n",
    "smarts_mol.GetSubstructMatch(smiles_mol)"
   ]
  },
  {
   "attachments": {},
   "cell_type": "markdown",
   "metadata": {},
   "source": [
    "## Comparing converters for heatmapping drawing"
   ]
  },
  {
   "cell_type": "code",
   "execution_count": null,
   "metadata": {},
   "outputs": [],
   "source": [
    "cmap = plt.get_cmap('turbo')\n",
    "# pdir = mgr.polymers['polythiophene_solv_water']\n",
    "pdir = mgr.polymers['polyethylmethacrylate_solv_water']\n",
    "\n",
    "dim = 10\n",
    "aspect = 4/1\n",
    "annotate = False\n",
    "\n",
    "for cvtr_type in ('InChI', 'SMARTS', 'CXSMARTS'):\n",
    "    fig, ax = pdir.compare_charges('ABE10_exact', 'Espaloma_AM1BCC', cmap, annotate=annotate, precision=5, converter=cvtr_type)\n",
    "    fig.set_size_inches(dim, dim * aspect)"
   ]
  },
  {
   "cell_type": "code",
   "execution_count": null,
   "metadata": {},
   "outputs": [],
   "source": [
    "from rdkit.Chem.Draw import SimilarityMaps\n",
    "\n",
    "cvtr = 'InChI'\n",
    "\n",
    "offmol1 = pdir.charged_offmol_from_sdf('ABE10_exact')\n",
    "rdmol1 = offmol1.to_rdkit()\n",
    "flatmol1 = rdconvert.flattened_rdmol(rdmol1, converter=cvtr)\n",
    "\n",
    "offmol2 = pdir.charged_offmol_from_sdf('Espaloma_AM1BCC')\n",
    "rdmol2 = offmol2.to_rdkit()\n",
    "flatmol2 = rdconvert.flattened_rdmol(rdmol2, converter=cvtr)\n",
    "\n",
    "diff = rdcompare.difference_rdmol(flatmol1, flatmol2, prop='PartialCharge', remove_map_nums=True)\n",
    "deltas = [diff.GetAtomWithIdx(i).GetDoubleProp('DeltaPartialCharge') for i in range(diff.GetNumAtoms())]\n",
    "fig = SimilarityMaps.GetSimilarityMapFromWeights(diff, deltas, colorMap='jet', contourLines=10, alpha=0.3)\n",
    "plt.savefig('test.png')"
   ]
  },
  {
   "cell_type": "code",
   "execution_count": null,
   "metadata": {},
   "outputs": [],
   "source": [
    "# PIL.Image.frombytes('RGBA', fig.canvas.get_width_height(), fig.canvas.tostring_argb())\n",
    "\n",
    "n = 250\n",
    "img = PIL.Image.frombytes('RGB', (n, n), fig.canvas.tostring_rgb())\n",
    "display(img)"
   ]
  },
  {
   "cell_type": "code",
   "execution_count": null,
   "metadata": {},
   "outputs": [],
   "source": [
    "pdir = mgr.polymers['polyvinylchloride_solv_water']\n",
    "\n",
    "fig1, ax1 = pdir.compare_charges('ABE10_exact', 'Espaloma_AM1BCC', cmap=plt.get_cmap('turbo'), converter='InChI')\n",
    "fig2, ax2 = pdir.compare_charges('ABE10_exact', 'Espaloma_AM1BCC', cmap=plt.get_cmap('turbo'), converter='SMARTS')\n",
    "\n",
    "ax1.set_title(pdir.mol_name)\n",
    "ax2.set_title(pdir.mol_name)"
   ]
  },
  {
   "attachments": {},
   "cell_type": "markdown",
   "metadata": {},
   "source": [
    "## Generating monomer files for polyamides"
   ]
  },
  {
   "cell_type": "code",
   "execution_count": null,
   "metadata": {},
   "outputs": [],
   "source": [
    "POLYAM_PATH   = Path('compatible_pdbs/polyamides')\n",
    "p = POLYAM_PATH/'smiles.json'\n",
    "\n",
    "with p.open('r') as smiles_file:\n",
    "    mono_smiles = json.load(smiles_file)\n",
    "mono_smiles['TMC'] = mono_smiles['TMC'].replace('Cl', 'O[H]') # replace chlorides with oxygens present in full polymer\n",
    "\n",
    "rdkdraw.set_rddraw_size(400, 3/2)\n",
    "\n",
    "mono_mols, mono_smarts = {}, {}\n",
    "for name, SMILES in mono_smiles.items():\n",
    "    rdmol = Chem.MolFromSmiles(SMILES, sanitize=False)\n",
    "    for atom in rdmol.GetAtoms():\n",
    "        atom.SetAtomMapNum(atom.GetIdx() + 1)\n",
    "    \n",
    "    mono_mols[name] = rdmol\n",
    "    mono_smarts[name] = Chem.MolToSmarts(rdmol)\n",
    "\n",
    "    display(rdmol)\n"
   ]
  },
  {
   "cell_type": "code",
   "execution_count": null,
   "metadata": {},
   "outputs": [],
   "source": [
    "monomers = {\n",
    "    'MPD_monovalent' : '[H:1]-[#6:2]1:[#6:3](-[H:4]):[#6:5](-[#7:6](-*)-[H:8]):[#6:9](-[H:10]):[#6:11](-[#7:12](-[H:13])-[H:14]):[#6:15]:1-[H:16]',\n",
    "    'MPD_bivalent'   : '[H:1]-[#6:2]1:[#6:3](-[H:4]):[#6:5](-[#7:6](-*)-[H:8]):[#6:9](-[H:10]):[#6:11](-[#7:12](-[H:13])-*):[#6:15]:1-[H:16]',\n",
    "    'TMC_monovalent' : '[H:1]-[#6:2]1:[#6:3](-[#6:4](=[#8:5])-*):[#6:8](-[H:9]):[#6:10](-[#6:11](=[#8:12])-[#8:13]-[H:14]):[#6:15](-[H:16]):[#6:17]:1-[#6:18](=[#8:19])-[#8:20]-[H:21]', \n",
    "    'TMC_bivalent'   : '[H:1]-[#6:2]1:[#6:3](-[#6:4](=[#8:5])-*):[#6:8](-[H:9]):[#6:10](-[#6:11](=[#8:12])-*):[#6:15](-[H:16]):[#6:17]:1-[#6:18](=[#8:19])-[#8:20]-[H:21]', \n",
    "    'TMC_trivalent'  : '[H:1]-[#6:2]1:[#6:3](-[#6:4](=[#8:5])-*):[#6:8](-[H:9]):[#6:10](-[#6:11](=[#8:12])-*):[#6:15](-[H:16]):[#6:17]:1-[#6:18](=[#8:19])-*', \n",
    "}\n",
    "\n",
    "json_spec = {\n",
    "    'monomers' : monomers,\n",
    "    'caps' : {name : [] for name in monomers}\n",
    "}\n",
    "\n",
    "pam_mono_path = POLYAM_PATH/'polyamides.json'\n",
    "with pam_mono_path.open('w') as mono_out:\n",
    "    json.dump(json_spec, mono_out, indent=4)\n",
    "\n",
    "for pam_path in POLYAM_PATH.glob('*.pdb'):\n",
    "    ind_mono_path = POLYAM_PATH/f'{pam_path.stem}.json'\n",
    "    with ind_mono_path.open('w') as mono_out:\n",
    "        json.dump(json_spec, mono_out, indent=4)"
   ]
  },
  {
   "cell_type": "code",
   "execution_count": null,
   "metadata": {},
   "outputs": [],
   "source": [
    "pam_pdbs = [path for path in POLYAM_PATH.glob('*.pdb')]"
   ]
  },
  {
   "cell_type": "code",
   "execution_count": null,
   "metadata": {},
   "outputs": [],
   "source": [
    "pdb_file = pam_pdbs[1]\n",
    "\n",
    "openff_topology, _, _error = Topology.from_pdb_and_monomer_info(str(pdb_file), pam_mono_path, strict=False, verbose=False)\n",
    "mol = next(openff_topology.molecules)\n",
    "\n",
    "for atom in mol.atoms:\n",
    "    if not atom.metadata['already_matched']:\n",
    "        print(atom.metadata)\n",
    "\n",
    "rdkdraw.set_rddraw_size(500, 3/2)\n",
    "display(mono_mols[pdb_file.stem])"
   ]
  },
  {
   "attachments": {},
   "cell_type": "markdown",
   "metadata": {},
   "source": [
    "## Some other section"
   ]
  },
  {
   "cell_type": "code",
   "execution_count": null,
   "metadata": {},
   "outputs": [],
   "source": []
  }
 ],
 "metadata": {
  "kernelspec": {
   "display_name": "openff-dev-updated",
   "language": "python",
   "name": "python3"
  },
  "language_info": {
   "codemirror_mode": {
    "name": "ipython",
    "version": 3
   },
   "file_extension": ".py",
   "mimetype": "text/x-python",
   "name": "python",
   "nbconvert_exporter": "python",
   "pygments_lexer": "ipython3",
   "version": "3.10.9"
  },
  "orig_nbformat": 4,
  "vscode": {
   "interpreter": {
    "hash": "b6f4b411abbc3e95cc086ad6e81a9cb26e6bd9b323dd491204b8eb280f272f95"
   }
  }
 },
 "nbformat": 4,
 "nbformat_minor": 2
}
