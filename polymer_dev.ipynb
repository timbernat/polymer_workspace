{
 "cells": [
  {
   "attachments": {},
   "cell_type": "markdown",
   "metadata": {},
   "source": [
    "## Imports"
   ]
  },
  {
   "cell_type": "code",
   "execution_count": null,
   "metadata": {},
   "outputs": [],
   "source": [
    "# Custom Imports\n",
    "import polysaccharide as ps\n",
    "from polysaccharide import analysis, extratypes, filetree, general, logutils, molutils\n",
    "from polysaccharide import polymer\n",
    "\n",
    "from polysaccharide.charging.residues import ChargedResidue\n",
    "from polysaccharide.charging.application import CHARGER_REGISTRY, ChargingParameters\n",
    "\n",
    "from polysaccharide import LOGGERS_MASTER\n",
    "from polysaccharide.logutils import ProcessLogHandler\n",
    "\n",
    "from polysaccharide.molutils.rdmol import rdkdraw\n",
    "\n",
    "from polysaccharide.polymer.representation import Polymer\n",
    "from polysaccharide.polymer.management import PolymerManager\n",
    "from polysaccharide.polymer.filtering import has_sims, is_solvated, is_unsolvated, is_charged\n",
    "from polysaccharide.polymer import building, monomer\n",
    "\n",
    "from polysaccharide.solvation.solvents import WATER_TIP3P\n",
    "from polysaccharide.analysis import trajectory, statistics\n",
    "from polysaccharide.simulation.records import SimulationPaths, SimulationParameters\n",
    "from polysaccharide.graphics import plotutils\n",
    "\n",
    "# Generic Imports\n",
    "import re\n",
    "from functools import partial\n",
    "from collections import defaultdict\n",
    "from itertools import combinations\n",
    "\n",
    "# Numeric imports\n",
    "from math import ceil\n",
    "import numpy as np\n",
    "import pandas as pd\n",
    "import matplotlib.pyplot as plt\n",
    "\n",
    "# Typing and Subclassing\n",
    "from typing import Any, Callable, ClassVar, Iterable, Optional, Union\n",
    "from dataclasses import dataclass, field\n",
    "from abc import ABC, abstractmethod, abstractproperty\n",
    "from openmm.unit import Unit, Quantity\n",
    "\n",
    "# File I/O\n",
    "import argparse\n",
    "from pathlib import Path\n",
    "import csv, json, pickle\n",
    "from shutil import copyfile, rmtree\n",
    "import importlib.resources as impres\n",
    "\n",
    "# Logging and Shell\n",
    "import logging\n",
    "logging.basicConfig(\n",
    "    level=logging.INFO,\n",
    "    format=logutils.LOG_FORMATTER._fmt,\n",
    "    datefmt=logutils.LOG_FORMATTER.datefmt,\n",
    "    force=True\n",
    ")\n",
    "                            \n",
    "# Cheminformatics\n",
    "from rdkit import Chem\n",
    "from rdkit.Chem import rdmolfiles\n",
    "\n",
    "# Molecular Dynamics\n",
    "from openff.interchange import Interchange\n",
    "from openff.toolkit import ForceField\n",
    "from openff.toolkit.topology import Topology\n",
    "from openff.toolkit.topology.molecule import Molecule, Atom\n",
    "from openff.toolkit.typing.engines.smirnoff.parameters import LibraryChargeHandler\n",
    "\n",
    "from openff.units import unit\n",
    "from openmm.unit import picosecond, femtosecond, nanosecond # time\n",
    "from openmm.unit import nanometer, angstrom # length\n",
    "from openmm.unit import kelvin, atmosphere # misc\n",
    "\n",
    "# polymer resource management\n",
    "import importlib_resources as impres\n",
    "from polysaccharide import resources\n",
    "from polysaccharide.resources import AVAIL_RESOURCES\n",
    "\n",
    "RESOURCE_PATH = resources.RESOURCE_PATH\n",
    "SIM_PARAM_PATH = impres.files(resources.sim_templates)\n",
    "CHG_PARAM_PATH = impres.files(resources.chg_templates)\n",
    "INP_PARAM_PATH = impres.files(resources.inp_templates)"
   ]
  },
  {
   "attachments": {},
   "cell_type": "markdown",
   "metadata": {},
   "source": [
    "## Building long polymers for Connor"
   ]
  },
  {
   "cell_type": "code",
   "execution_count": 159,
   "metadata": {},
   "outputs": [
    {
     "data": {
      "text/plain": [
       "dict_keys(['bisphenolA_modified', 'polymethylketone', 'polyvinylchloride', 'polyethylene', 'atactic_styrene', 'polyphenylenesulfone', 'syntactic_styrene', 'naturalrubber', 'polyethylmethacrylate', 'paam_modified', 'pnipam_modified', 'peg_modified'])"
      ]
     },
     "execution_count": 159,
     "metadata": {},
     "output_type": "execute_result"
    }
   ],
   "source": [
    "from polysaccharide.polymer import building, monomer, filtering\n",
    "\n",
    "COLL_PATH = Path('Collections')\n",
    "\n",
    "coll_name_1 = 'simple_polymers'\n",
    "target_polymers = (\n",
    "    'polyethylene',\n",
    "    'polyethylmethacrylate',\n",
    "    'naturalrubber',\n",
    "    'polyphenylenesulfone',\n",
    "    'polyvinylchloride',\n",
    "    'atactic_styrene',\n",
    "    'syntactic_styrene',\n",
    "    'bisphenolA_modified',\n",
    "    'polymethylketone'\n",
    ")\n",
    "to_reverse = {\n",
    "    'polyethylene'          : False,\n",
    "    'polyethylmethacrylate' : False,\n",
    "    'naturalrubber'         : False,\n",
    "    'polyphenylenesulfone'  : False,\n",
    "    'polyvinylchloride'     : False,\n",
    "    'atactic_styrene'       : False,\n",
    "    'syntactic_styrene'     : False,\n",
    "    'bisphenolA_modified'   : False,\n",
    "    'polymethylketone'      : False\n",
    "}\n",
    "\n",
    "mgr_1 = PolymerManager(COLL_PATH / coll_name_1)\n",
    "is_target = filtering.filter_factory_by_attr(attr_name='mol_name', condition=lambda name : name in target_polymers)\n",
    "\n",
    "coll_name_2 = 'water_soluble_polymers'\n",
    "mgr_2 = PolymerManager(COLL_PATH / coll_name_2)\n",
    "\n",
    "polymers = {**mgr_1.filtered_by(is_target), **mgr_2.polymers}\n",
    "polymers.keys()"
   ]
  },
  {
   "cell_type": "code",
   "execution_count": null,
   "metadata": {},
   "outputs": [],
   "source": [
    "targ_size = 200\n",
    "outpath = Path('long_homopolymers')\n",
    "\n",
    "for mol_name, polymer in polymers.items():\n",
    "    monomer_info = polymer.monomer_info\n",
    "    smarts = monomer_info.SMARTS\n",
    "    print(mol_name)\n",
    "\n",
    "    try:\n",
    "        thresh_DOP = monomer.estimate_max_DOP(smarts, max_chain_len=targ_size)\n",
    "        N = monomer.estimate_chain_len(smarts, DOP=thresh_DOP + 1)\n",
    "        print(thresh_DOP, N, monomer.is_linear(smarts), monomer.is_homopolymer(smarts))\n",
    "        # for sm in smarts.values():\n",
    "        #     print(sm)\n",
    "\n",
    "        new_poly = building.build_linear_polymer(smarts, DOP=thresh_DOP + 1, add_Hs=False)\n",
    "        smiles = new_poly.to_smiles()\n",
    "        display(Chem.MolFromSmiles(smiles))\n",
    "    except Exception as e:\n",
    "        print('FAILED', type(e), e)\n",
    "    print('\\n')\n"
   ]
  },
  {
   "attachments": {},
   "cell_type": "markdown",
   "metadata": {},
   "source": [
    "## Analyzing replicates for Polymers paper"
   ]
  },
  {
   "cell_type": "code",
   "execution_count": null,
   "metadata": {},
   "outputs": [],
   "source": [
    "mgr_equil = PolymerManager(COLL_PATH / 'water_soluble_polymers_equil')\n",
    "for mol_name, polymer in mgr_equil.filtered_by(is_solvated).items():\n",
    "    print(mol_name, len(polymer.completed_sims))"
   ]
  },
  {
   "cell_type": "code",
   "execution_count": null,
   "metadata": {},
   "outputs": [],
   "source": [
    "rdf_dframe = pd.read_csv(sim_paths.spatial_data)\n",
    "radii, rdfs = analysis.trajectory.rdfs_to_plot_data(rdf_dframe)\n",
    "fig, ax = plotutils.plot_df_props(radii, rdfs)"
   ]
  },
  {
   "cell_type": "code",
   "execution_count": null,
   "metadata": {},
   "outputs": [],
   "source": [
    "prop_dframe = pd.read_csv(sim_paths.time_data)\n",
    "times, props = analysis.trajectory.props_to_plot_data(prop_dframe)\n",
    "fig, ax = plotutils.plot_df_props(times, props)"
   ]
  },
  {
   "cell_type": "code",
   "execution_count": null,
   "metadata": {},
   "outputs": [],
   "source": [
    "mgr_confs = PolymerManager(COLL_PATH / 'water_soluble_polymers_confs')\n",
    "mol_name = 'paam_modified_conf_1_solv_water'\n",
    "\n",
    "pdir = mgr_confs.polymers[mol_name]\n",
    "sim_dir = mgr_confs.all_completed_sims[mol_name][0]\n",
    "sim_paths, sim_params = pdir.load_sim_paths_and_params(sim_dir)"
   ]
  },
  {
   "attachments": {},
   "cell_type": "markdown",
   "metadata": {},
   "source": [
    "## Running component scripts commands"
   ]
  },
  {
   "cell_type": "code",
   "execution_count": null,
   "metadata": {},
   "outputs": [],
   "source": [
    "# Source collection / structure directory\n",
    "strct_name = 'simple_polymers'\n",
    "# strct_name = 'water_soluble_polymers_confs'\n",
    "# strct_name = 'water_soluble_polymers_equil'\n",
    "\n",
    "COLL_PATH = Path('Collections')\n",
    "COMPAT_PDB_PATH = Path('compatible_pdbs_updated')\n",
    "\n",
    "pdb_path  = COMPAT_PDB_PATH / strct_name / f'{strct_name}_structures'\n",
    "mono_path = COMPAT_PDB_PATH / strct_name / f'{strct_name}_monomers'\n",
    "src_path   = COLL_PATH / strct_name\n",
    "\n",
    "pdb_str = str(pdb_path)\n",
    "mono_str = str(mono_path)\n",
    "src_str = str(src_path)\n",
    "\n",
    "# Defining control arguments\n",
    "setup_kwargs = {\n",
    "    'reset' : False,\n",
    "    'purge_sims' : False,\n",
    "    'purge_logs' : False\n",
    "}\n",
    "solvate = not True\n",
    "\n",
    "# Solvent parameters\n",
    "desired_solvents = ('WATER_TIP3P',) # (None,)\n",
    "solv_template    = 'solv_polymer_template_box.inp'\n",
    "exclusion = 1.0*nanometer\n",
    "\n",
    "# Parsing args for bash digest\n",
    "arg_str = ' '.join(f'--{arg_name}'\n",
    "    for arg_name, should_apply in setup_kwargs.items()\n",
    "        if should_apply\n",
    ")\n",
    "solv_str = ' '.join(desired_solvents)"
   ]
  },
  {
   "cell_type": "code",
   "execution_count": null,
   "metadata": {},
   "outputs": [],
   "source": [
    "# Setup, and optionally solvate\n",
    "%run -i 'setup_collection.py' -out $src_str -pdb $pdb_str -mono $mono_str $arg_str\n",
    "if solvate:\n",
    "    %run -i 'polymer_master.py' -src=$src_str 'solvate' -s=$solv_str -pt=$solv_template -e=$exclusion._value --molecules 'polyvinylchloride' 'polythiophene' 'naturalrubber'"
   ]
  },
  {
   "cell_type": "code",
   "execution_count": null,
   "metadata": {},
   "outputs": [],
   "source": [
    "# Charge, simulate, and analyze select trajectories\n",
    "mgr = PolymerManager(COLL_PATH / 'simple_polymers')\n",
    "targ_mols = ['polyvinylchloride']#, 'naturalrubber']\n",
    "mol_str = ' '.join(targ_mols)\n",
    "\n",
    "%run -i 'polymer_master.py' -src=$src_str 'charge' -cp='standard_chg_params' --molecules $mol_str --solvent\n",
    "%run -i 'polymer_master.py' -src=$src_str 'simulate' -sp 'equilibration' --molecules $mol_str --solvent\n",
    "# %run -i 'polymer_master.py' -src=$src_str 'simulate' -sp 'debug_sim_NPT' --molecules $mol_str --solvent\n",
    "%run -i 'polymer_master.py' -src=$src_str 'analyze' --molecules $mol_str --solvent"
   ]
  },
  {
   "attachments": {},
   "cell_type": "markdown",
   "metadata": {},
   "source": [
    "## Investigating water underspecification after equilibration"
   ]
  },
  {
   "cell_type": "code",
   "execution_count": null,
   "metadata": {},
   "outputs": [],
   "source": [
    "mgr = PolymerManager(COLL_PATH / 'water_soluble_polymers_confs')\n",
    "pdir = mgr.polymers['peg_modified_conf_1_solv_water']"
   ]
  },
  {
   "cell_type": "code",
   "execution_count": null,
   "metadata": {},
   "outputs": [],
   "source": [
    "import MDAnalysis as mda\n",
    "from polysaccharide.molutils.pdb import pdb_water_atoms_to_hetatoms\n",
    "\n",
    "pdb_dir = Path('trans_pdb')\n",
    "pdb_dir.mkdir(exist_ok=True)\n",
    "\n",
    "traj = pdir.load_traj(remove_solvent=False)\n",
    "conf = traj[-1]\n",
    "conf.save_pdb(pdb_dir / 'mdt_struct.pdb')\n",
    "pdb_water_atoms_to_hetatoms(pdb_dir / 'mdt_struct.pdb', output_path=pdb_dir / 'mdt_struct_het.pdb')\n",
    "\n",
    "sim_paths, sim_params = pdir.load_sim_paths_and_params()\n",
    "u = mda.Universe(pdir.structure_file, sim_paths.trajectory)\n",
    "\n",
    "u.trajectory[-1]\n",
    "poly_box = u.select_atoms('all')\n",
    "poly_box.write(pdb_dir / 'mda_struct.pdb')\n",
    "pdb_water_atoms_to_hetatoms(pdb_dir / 'mda_struct.pdb', output_path=pdb_dir / 'mda_struct_het.pdb')"
   ]
  },
  {
   "cell_type": "code",
   "execution_count": null,
   "metadata": {},
   "outputs": [],
   "source": [
    "from openff.toolkit.topology.topology import UnmatchedAtomsError\n",
    "\n",
    "tops = {}\n",
    "pdb_paths = [Path(i) for i in ('mdt_struct.pdb', 'mdt_struct_het.pdb','mda_struct.pdb', 'mda_struct_het.pdb')]\n",
    "\n",
    "for pdb_path in pdb_paths:\n",
    "    try:\n",
    "        tops[pdb_path.stem] = Topology.from_pdb_and_monomer_info(str(pdb_path), monomer_info_json=pdir.monomer_file_uncharged)\n",
    "    except UnmatchedAtomsError:\n",
    "        print(f'{pdb_path.stem} failed')"
   ]
  },
  {
   "cell_type": "code",
   "execution_count": null,
   "metadata": {},
   "outputs": [],
   "source": [
    "mgr = PolymerManager(COLL_PATH / 'water_soluble_polymers_equil')\n",
    "pdir = mgr.polymers['pnipam_modified_conf_1_solv_water_equil']\n",
    "pdir.offmol_matched()"
   ]
  },
  {
   "cell_type": "code",
   "execution_count": null,
   "metadata": {},
   "outputs": [],
   "source": [
    "top, *_ = Topology.from_pdb_and_monomer_info(str(pdb), monomer_info_json=pdir.monomer_file_uncharged, strict=False)\n",
    "\n",
    "defective = [\n",
    "    mol for mol in top.molecules\n",
    "        if not all(atom.metadata['already_matched'] for atom in mol.atoms)\n",
    "]\n",
    "len(defective)"
   ]
  },
  {
   "cell_type": "code",
   "execution_count": null,
   "metadata": {},
   "outputs": [],
   "source": [
    "from polysaccharide import OPENFF_DIR"
   ]
  },
  {
   "cell_type": "code",
   "execution_count": null,
   "metadata": {},
   "outputs": [],
   "source": [
    "sim_params = SimulationParameters.from_file(impres.files(resources.sim_templates) / 'equilibration.json')\n",
    "sim_params.forcefield_path"
   ]
  },
  {
   "cell_type": "code",
   "execution_count": null,
   "metadata": {},
   "outputs": [],
   "source": [
    "copyfile(sim_params.forcefield_path, sim_params.forcefield_path.stem)"
   ]
  },
  {
   "cell_type": "code",
   "execution_count": null,
   "metadata": {},
   "outputs": [],
   "source": [
    "# pdb = pdir.structure_file\n",
    "pdb = Path('pni.pdb')\n",
    "\n",
    "rdmol = Chem.MolFromPDBFile(str(pdb), removeHs=False)\n",
    "frags = Chem.GetMolFrags(rdmol, asMols=True)\n",
    "\n",
    "for frag in frags[:10]:\n",
    "    # if frag.GetNumAtoms() == 2:\n",
    "    display(frag)"
   ]
  },
  {
   "cell_type": "code",
   "execution_count": null,
   "metadata": {},
   "outputs": [],
   "source": [
    "for atom in frags[1].GetAtoms():\n",
    "    pdb_info = atom.GetPDBResidueInfo()\n",
    "    print(pdb_info.GetOccupancy())"
   ]
  },
  {
   "cell_type": "code",
   "execution_count": null,
   "metadata": {},
   "outputs": [],
   "source": [
    "topo = pdir.off_topology_matched(strict=False)\n",
    "\n",
    "defective = []\n",
    "for mol in topo.molecules:\n",
    "    if not all(atom.metadata['already_matched'] for atom in mol.atoms):\n",
    "        defective.append(mol)\n",
    "len(defective)"
   ]
  },
  {
   "attachments": {},
   "cell_type": "markdown",
   "metadata": {},
   "source": [
    "## Testing Process workflow"
   ]
  },
  {
   "cell_type": "code",
   "execution_count": null,
   "metadata": {},
   "outputs": [],
   "source": [
    "from polysaccharide.workflow import components as wcomponents\n",
    "from polysaccharide.workflow.process import Process\n",
    "\n",
    "chg_params = ChargingParameters.from_file(impres.files(resources.chg_templates) / 'standard_chg_params.json')\n",
    "sim_params = SimulationParameters.from_file(impres.files(resources.sim_templates) / 'debug_sim_NPT.json')\n",
    "inp_template = impres.files(resources.inp_templates) / 'solv_polymer_template_box.inp'\n",
    "\n",
    "proc = Process(\n",
    "    components=[\n",
    "        wcomponents.Solvate(solvents=WATER_TIP3P, exclusion=1*nanometer, template_path=inp_template),\n",
    "        wcomponents.ChargeAssignment(chg_params=chg_params),\n",
    "        wcomponents.RunSimulations(sim_params=sim_params)\n",
    "    ],\n",
    "    proc_name='sim_test'\n",
    ")\n",
    "proc, proc.tag"
   ]
  },
  {
   "cell_type": "code",
   "execution_count": null,
   "metadata": {},
   "outputs": [],
   "source": [
    "pdir = mgr.polymers['polyvinylchloride']\n",
    "logger = logging.getLogger('test')\n",
    "\n",
    "proc.collated_polymer_fn(pdir, logger)"
   ]
  },
  {
   "attachments": {},
   "cell_type": "markdown",
   "metadata": {},
   "source": [
    "## Testing PyMBAR timeseries equilibration detection"
   ]
  },
  {
   "cell_type": "code",
   "execution_count": null,
   "metadata": {},
   "outputs": [],
   "source": [
    "from pymbar import timeseries\n",
    "from polysaccharide.analysis.equilibrium import EQUIL_DETECTOR_REGISTRY\n",
    "equil_det = EQUIL_DETECTOR_REGISTRY['PyMBAREquilDetector']\n",
    "# equil_det = EQUIL_DETECTOR_REGISTRY['BinSegEquilDetector']\n",
    "\n",
    "fast = True\n",
    "\n",
    "outdir = Path('figures_for_paper/pymbar_equil')\n",
    "outdir.mkdir(exist_ok=True)\n",
    "\n",
    "for mol_name, pdir in mgr.filtered_by(is_solvated).items():\n",
    "    mol_dir = outdir/mol_name\n",
    "    mol_dir.mkdir(exist_ok=True)\n",
    "\n",
    "    sim_paths, sim_params = pdir.load_sim_paths_and_params()\n",
    "    time_df = pd.read_csv(sim_paths.time_data)\n",
    "    times, time_data = trajectory.props_to_plot_data(time_df)\n",
    "    times_arr = times.to_numpy()[:, 0]\n",
    "\n",
    "    fig, ax = plotutils.plot_df_props(times, time_data, df_label='Original samples', elongation=1/2, scale=25)\n",
    "    for axes, (label, prop_data) in zip(ax.flatten(), time_data.items()):\n",
    "        prop_data = prop_data.to_numpy()\n",
    "        t = equil_det.equil_loc(prop_data)\n",
    "        uncorr_idxs = timeseries.subsample_correlated_data(prop_data, fast=fast)\n",
    "        t_equil = times_arr[t]\n",
    "\n",
    "        axes.plot(times_arr[uncorr_idxs], prop_data[uncorr_idxs], label='Uncorrelated samples')\n",
    "        axes.axvline(t_equil, color='r')\n",
    "        axes.legend()\n",
    "\n",
    "    # fig.savefig(mol_dir/f'pymbar_props_{mol_name}.png', bbox_inches='tight')\n",
    "    # plt.close()"
   ]
  },
  {
   "cell_type": "code",
   "execution_count": null,
   "metadata": {},
   "outputs": [],
   "source": [
    "pdir = mgr.polymers['peg_modified_solv_water']\n",
    "\n",
    "sim_paths, sim_params = pdir.load_sim_paths_and_params()\n",
    "state_df = pd.read_csv(sim_paths.state_data)\n",
    "\n",
    "exclude = ('#\"Step\"', 'Elapsed Time (s)', 'Speed (ns/day)')\n",
    "state_df = state_df[[label for label in state_df.columns if label not in exclude]]\n",
    "state_time, state_data = trajectory.props_to_plot_data(state_df)\n",
    "\n",
    "fig, ax = plotutils.plot_df_props(state_time, state_data, df_label='test', nrows=2, ncols=3, scale=20)\n",
    "for axes in ax.flatten():\n",
    "    axes.legend()"
   ]
  },
  {
   "attachments": {},
   "cell_type": "markdown",
   "metadata": {},
   "source": [
    "## Plotting disparities in charges"
   ]
  },
  {
   "cell_type": "code",
   "execution_count": null,
   "metadata": {},
   "outputs": [],
   "source": [
    "num_bins = 30\n",
    "order = ['ABE10_exact', 'ABE10_averaged', 'Espaloma_AM1BCC']\n",
    "outdir = Path('figures_for_paper') / f'Charge diagrams - {mgr.collection_dir.stem}'\n",
    "outdir.mkdir(exist_ok=True)\n",
    "\n",
    "for mol_name, polymer in mgr.filtered_by((is_unsolvated, is_charged)).items():\n",
    "    savedir = outdir / mol_name\n",
    "    savedir.mkdir(exist_ok=True)\n",
    "\n",
    "    # single charges\n",
    "    for charge_method in polymer.charges: \n",
    "        polymer.assign_charges_by_lookup(charge_method)\n",
    "        fig, ax = molutils.rdmol.rdkdraw.rdmol_prop_heatmap_colorscaled(\n",
    "            polymer.offmol.to_rdkit(),\n",
    "            prop='PartialCharge',\n",
    "            annotate=True,\n",
    "            cmap=plt.get_cmap('viridis'),\n",
    "            cbar_label=f'q (elem. charge) ({charge_method} only)'\n",
    "        )\n",
    "        fig.savefig(savedir/f'{mol_name} charges - {charge_method}', bbox_inches='tight')\n",
    "        plt.close()\n",
    "\n",
    "    # charge pairs\n",
    "    for (chg_method_1, chg_method_2) in combinations(sorted(polymer.charges.keys(), key=lambda x : order.index(x)), 2):\n",
    "        chg_str = f'{chg_method_1} vs {chg_method_2}'\n",
    "        chgs_ref  = polymer.charges[chg_method_1]._magnitude\n",
    "        chgs_comp = polymer.charges[chg_method_2]._magnitude\n",
    "        diff = chgs_ref - chgs_comp\n",
    "        chg_RMSE = round(analysis.statistics.RMSE(chgs_ref, chgs_comp), 4)\n",
    "\n",
    "        fig, ax = polymer.compare_charges(chg_method_1, chg_method_2, annotate=True, converter='CXSMARTS')\n",
    "        fig.savefig(savedir/f'{mol_name} charge comparison - {chg_str}', bbox_inches='tight')\n",
    "        plt.close()\n",
    "\n",
    "        # pair histograms\n",
    "        plt.hist(diff, bins=np.linspace(diff.min(), diff.max(), num_bins))\n",
    "        plt.xlabel(f'{general.GREEK_UPPER[\"delta\"]}q (elem. charge): {chg_str}')\n",
    "        plt.ylabel('Number of atoms')\n",
    "        plt.legend([f'RMSE = {chg_RMSE} e'], loc='best')\n",
    "        plt.savefig(savedir/f'{mol_name} histogram - {chg_str}', bbox_inches='tight')\n",
    "        plt.close()"
   ]
  },
  {
   "attachments": {},
   "cell_type": "markdown",
   "metadata": {},
   "source": [
    "## Generating monomer files for polyamides"
   ]
  },
  {
   "cell_type": "code",
   "execution_count": null,
   "metadata": {},
   "outputs": [],
   "source": [
    "POLYAM_PATH   = Path('compatible_pdbs/polyamides')\n",
    "p = POLYAM_PATH/'smiles.json'\n",
    "\n",
    "with p.open('r') as smiles_file:\n",
    "    mono_smiles = json.load(smiles_file)\n",
    "mono_smiles['TMC'] = mono_smiles['TMC'].replace('Cl', 'O[H]') # replace chlorides with oxygens present in full polymer\n",
    "\n",
    "rdkdraw.set_rddraw_size(400, 3/2)\n",
    "\n",
    "mono_mols, mono_smarts = {}, {}\n",
    "for name, SMILES in mono_smiles.items():\n",
    "    rdmol = Chem.MolFromSmiles(SMILES, sanitize=False)\n",
    "    for atom in rdmol.GetAtoms():\n",
    "        atom.SetAtomMapNum(atom.GetIdx() + 1)\n",
    "    \n",
    "    mono_mols[name] = rdmol\n",
    "    mono_smarts[name] = Chem.MolToSmarts(rdmol)\n",
    "\n",
    "    display(rdmol)\n"
   ]
  },
  {
   "cell_type": "code",
   "execution_count": null,
   "metadata": {},
   "outputs": [],
   "source": [
    "monomers = {\n",
    "    'MPD_monovalent' : '[H:1]-[#6:2]1:[#6:3](-[H:4]):[#6:5](-[#7:6](-*)-[H:8]):[#6:9](-[H:10]):[#6:11](-[#7:12](-[H:13])-[H:14]):[#6:15]:1-[H:16]',\n",
    "    'MPD_bivalent'   : '[H:1]-[#6:2]1:[#6:3](-[H:4]):[#6:5](-[#7:6](-*)-[H:8]):[#6:9](-[H:10]):[#6:11](-[#7:12](-[H:13])-*):[#6:15]:1-[H:16]',\n",
    "    'TMC_monovalent' : '[H:1]-[#6:2]1:[#6:3](-[#6:4](=[#8:5])-*):[#6:8](-[H:9]):[#6:10](-[#6:11](=[#8:12])-[#8:13]-[H:14]):[#6:15](-[H:16]):[#6:17]:1-[#6:18](=[#8:19])-[#8:20]-[H:21]', \n",
    "    'TMC_bivalent'   : '[H:1]-[#6:2]1:[#6:3](-[#6:4](=[#8:5])-*):[#6:8](-[H:9]):[#6:10](-[#6:11](=[#8:12])-*):[#6:15](-[H:16]):[#6:17]:1-[#6:18](=[#8:19])-[#8:20]-[H:21]', \n",
    "    'TMC_trivalent'  : '[H:1]-[#6:2]1:[#6:3](-[#6:4](=[#8:5])-*):[#6:8](-[H:9]):[#6:10](-[#6:11](=[#8:12])-*):[#6:15](-[H:16]):[#6:17]:1-[#6:18](=[#8:19])-*', \n",
    "}\n",
    "\n",
    "json_spec = {\n",
    "    'monomers' : monomers,\n",
    "    'caps' : {name : [] for name in monomers}\n",
    "}\n",
    "\n",
    "pam_mono_path = POLYAM_PATH/'polyamides.json'\n",
    "with pam_mono_path.open('w') as mono_out:\n",
    "    json.dump(json_spec, mono_out, indent=4)\n",
    "\n",
    "for pam_path in POLYAM_PATH.glob('*.pdb'):\n",
    "    ind_mono_path = POLYAM_PATH/f'{pam_path.stem}.json'\n",
    "    with ind_mono_path.open('w') as mono_out:\n",
    "        json.dump(json_spec, mono_out, indent=4)"
   ]
  },
  {
   "cell_type": "code",
   "execution_count": null,
   "metadata": {},
   "outputs": [],
   "source": [
    "pam_pdbs = [path for path in POLYAM_PATH.glob('*.pdb')]"
   ]
  },
  {
   "cell_type": "code",
   "execution_count": null,
   "metadata": {},
   "outputs": [],
   "source": [
    "pdb_file = pam_pdbs[1]\n",
    "\n",
    "openff_topology, _, _error = Topology.from_pdb_and_monomer_info(str(pdb_file), pam_mono_path, strict=False, verbose=False)\n",
    "mol = next(openff_topology.molecules)\n",
    "\n",
    "for atom in mol.atoms:\n",
    "    if not atom.metadata['already_matched']:\n",
    "        print(atom.metadata)\n",
    "\n",
    "rdkdraw.set_rddraw_size(500, 3/2)\n",
    "display(mono_mols[pdb_file.stem])"
   ]
  },
  {
   "attachments": {},
   "cell_type": "markdown",
   "metadata": {},
   "source": [
    "## Some other section"
   ]
  },
  {
   "cell_type": "code",
   "execution_count": null,
   "metadata": {},
   "outputs": [],
   "source": []
  }
 ],
 "metadata": {
  "kernelspec": {
   "display_name": "openff-dev-updated",
   "language": "python",
   "name": "python3"
  },
  "language_info": {
   "codemirror_mode": {
    "name": "ipython",
    "version": 3
   },
   "file_extension": ".py",
   "mimetype": "text/x-python",
   "name": "python",
   "nbconvert_exporter": "python",
   "pygments_lexer": "ipython3",
   "version": "3.10.9"
  },
  "orig_nbformat": 4,
  "vscode": {
   "interpreter": {
    "hash": "b6f4b411abbc3e95cc086ad6e81a9cb26e6bd9b323dd491204b8eb280f272f95"
   }
  }
 },
 "nbformat": 4,
 "nbformat_minor": 2
}
