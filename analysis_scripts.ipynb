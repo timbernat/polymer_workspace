{
 "cells": [
  {
   "attachments": {},
   "cell_type": "markdown",
   "metadata": {},
   "source": [
    "# Property Calculations (MDTraj)"
   ]
  },
  {
   "cell_type": "code",
   "execution_count": 1,
   "metadata": {},
   "outputs": [],
   "source": [
    "# Cusotm imports\n",
    "from polymer_utils import analysis, filetree, general\n",
    "from polymer_utils.representation import PolymerDir, PolymerDirManager\n",
    "from polymer_utils.graphics import plotutils\n",
    "\n",
    "# General imports\n",
    "from pathlib import Path\n",
    "from datetime import datetime\n",
    "\n",
    "# Numeric processing and plotting\n",
    "import mdtraj as mdt\n",
    "import numpy as np\n",
    "\n",
    "# Units\n",
    "from openmm.unit import nanometer, dimensionless"
   ]
  },
  {
   "attachments": {},
   "cell_type": "markdown",
   "metadata": {},
   "source": [
    "## Load trajectory and calculate/plot properties"
   ]
  },
  {
   "cell_type": "code",
   "execution_count": null,
   "metadata": {},
   "outputs": [],
   "source": [
    "POLY_PATH = Path('Polymers')\n",
    "SAMPLE_INTERVAL = 10\n",
    "\n",
    "mgr = PolymerDirManager(POLY_PATH)\n",
    "pdir = mgr.mol_dirs['polyethylmethacrylate_solv_water']\n",
    "dated_sims = sorted(pdir.completed_sims, key = lambda sim_dir : datetime.strptime(sim_dir.stem, general.DATETIME_FMT))\n",
    "# sim_dir_to_use = dated_sims[0] # oldest \n",
    "sim_dir_to_use = dated_sims[-1] # most recent\n",
    "\n",
    "dated_sims"
   ]
  },
  {
   "cell_type": "code",
   "execution_count": null,
   "metadata": {},
   "outputs": [],
   "source": [
    "topo_path = pdir.structure_file\n",
    "traj_path = next(sim_dir_to_use.glob('*.pdb'))\n",
    "\n",
    "traj = mdt.load(traj_path, top=topo_path, stride=SAMPLE_INTERVAL)\n",
    "traj = traj.remove_solvent(inplace=True) # don't generate new copy when de-solvating\n",
    "topo = traj.topology"
   ]
  },
  {
   "cell_type": "code",
   "execution_count": null,
   "metadata": {},
   "outputs": [],
   "source": [
    "props = [\n",
    "    analysis.PolyProp(calc=mdt.compute_rg                , name='Radius of Gyration'             , abbr='Rg'  , unit=nanometer),\n",
    "    analysis.PolyProp(calc=mdt.shrake_rupley             , name='Solvent Accessible Surface Area', abbr='SASA', unit=nanometer**2, kwargs={'mode' : 'residue'}),\n",
    "    analysis.PolyProp(calc=mdt.relative_shape_antisotropy, name='Relative Shape Anisotropy'      , abbr='K2'  , unit=dimensionless)    \n",
    "]\n",
    "\n",
    "rdfs = analysis.plot_rdfs(       traj                                        , header=f'Pairwise Radial Distribution Functions - {pdir.mol_name}', save_path=None)#sim_dir_to_use/f'RDFs.png')\n",
    "pdata = analysis.plot_poly_props(traj, props, sample_interval=SAMPLE_INTERVAL, header=f'Polymer Shape and Gyration Properties - {pdir.mol_name}' , save_path=None)#sim_dir_to_use/f'shape_properties.png')\n",
    "# filetree.startfile(sim_dir_to_use)"
   ]
  },
  {
   "cell_type": "code",
   "execution_count": 2,
   "metadata": {},
   "outputs": [
    {
     "name": "stdout",
     "output_type": "stream",
     "text": [
      "polythiophene_solv_water\n",
      "03-31-2023_at_22-12-02_PM\n"
     ]
    }
   ],
   "source": [
    "POLY_PATH = Path('Polymers')\n",
    "SAMPLE_INTERVAL = 10\n",
    "\n",
    "props = [\n",
    "    analysis.PolyProp(calc=mdt.compute_rg                , name='Radius of Gyration'             , abbr='Rg'  , unit=nanometer),\n",
    "    analysis.PolyProp(calc=mdt.shrake_rupley             , name='Solvent Accessible Surface Area', abbr='SASA', unit=nanometer**2, kwargs={'mode' : 'residue'}),\n",
    "    analysis.PolyProp(calc=mdt.relative_shape_antisotropy, name='Relative Shape Anisotropy'      , abbr='K2'  , unit=dimensionless)    \n",
    "]\n",
    "\n",
    "to_skip = ['polymethylketone_solv_water', 'polyvinylchloride_solv_water', 'atactic_styrene_solv_water', 'syntactic_styrene_solv_water', 'naturalrubber_solv_water']\n",
    "data = {}\n",
    "mgr = PolymerDirManager(POLY_PATH)\n",
    "for mol_name, sim_dirs in mgr.all_completed_sims.items():\n",
    "    if mol_name in to_skip:\n",
    "        continue\n",
    "\n",
    "    print(mol_name)\n",
    "    pdir = mgr.mol_dirs[mol_name]\n",
    "    topo_path = pdir.structure_file\n",
    "    for sim_dir in sim_dirs:\n",
    "        print(sim_dir.name)\n",
    "        traj_path = next(sim_dir.glob('*.pdb'))\n",
    "\n",
    "        traj = mdt.load(traj_path, top=topo_path, stride=SAMPLE_INTERVAL)\n",
    "        traj = traj.remove_solvent(inplace=True) # don't generate new copy when de-solvating\n",
    "        topo = traj.topology\n",
    "\n",
    "        rdfs = analysis.plot_rdfs(       traj                                        , header=f'Pairwise Radial Distribution Functions - {pdir.mol_name}', save_path=sim_dir/f'RDFs.png')\n",
    "        pdata = analysis.plot_poly_props(traj, props, sample_interval=SAMPLE_INTERVAL, header=f'Polymer Shape and Gyration Properties - {pdir.mol_name}' , save_path=sim_dir/f'shape_properties.png')\n",
    "        # filetree.startfile(sim_dir_to_use)\n",
    "        data[mol_name] = (rdfs, pdata)"
   ]
  },
  {
   "attachments": {},
   "cell_type": "markdown",
   "metadata": {},
   "source": [
    "## Some other stuff"
   ]
  },
  {
   "cell_type": "code",
   "execution_count": null,
   "metadata": {},
   "outputs": [],
   "source": []
  }
 ],
 "metadata": {
  "kernelspec": {
   "display_name": "openff-dev-updated",
   "language": "python",
   "name": "python3"
  },
  "language_info": {
   "codemirror_mode": {
    "name": "ipython",
    "version": 3
   },
   "file_extension": ".py",
   "mimetype": "text/x-python",
   "name": "python",
   "nbconvert_exporter": "python",
   "pygments_lexer": "ipython3",
   "version": "3.10.9"
  },
  "orig_nbformat": 4,
  "vscode": {
   "interpreter": {
    "hash": "b6f4b411abbc3e95cc086ad6e81a9cb26e6bd9b323dd491204b8eb280f272f95"
   }
  }
 },
 "nbformat": 4,
 "nbformat_minor": 2
}
