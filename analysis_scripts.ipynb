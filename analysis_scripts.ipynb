{
 "cells": [
  {
   "attachments": {},
   "cell_type": "markdown",
   "metadata": {},
   "source": [
    "# Property Calculations (MDTraj)"
   ]
  },
  {
   "cell_type": "code",
   "execution_count": 1,
   "metadata": {},
   "outputs": [],
   "source": [
    "# Cusotm imports\n",
    "from polymer_utils import analysis, filetree, general, plotutils\n",
    "from polymer_utils.representation import PolymerDir, PolymerDirManager\n",
    "\n",
    "# General imports\n",
    "from pathlib import Path\n",
    "from datetime import datetime\n",
    "\n",
    "# Numeric processing and plotting\n",
    "import mdtraj as mdt\n",
    "import numpy as np\n",
    "\n",
    "# Units\n",
    "from openmm.unit import nanometer, dimensionless"
   ]
  },
  {
   "attachments": {},
   "cell_type": "markdown",
   "metadata": {},
   "source": [
    "## Load trajectory and calculate/plot properties"
   ]
  },
  {
   "cell_type": "code",
   "execution_count": 12,
   "metadata": {},
   "outputs": [
    {
     "data": {
      "text/plain": [
       "[PosixPath('Polymers/polyvinylchloride/polyvinylchloride_solv_water/MD/03-17-2023_at_10-08-46_AM'),\n",
       " PosixPath('Polymers/polyvinylchloride/polyvinylchloride_solv_water/MD/03-17-2023_at_10-42-08_AM'),\n",
       " PosixPath('Polymers/polyvinylchloride/polyvinylchloride_solv_water/MD/03-23-2023_at_12-29-39_PM')]"
      ]
     },
     "execution_count": 12,
     "metadata": {},
     "output_type": "execute_result"
    }
   ],
   "source": [
    "POLY_PATH = Path('Polymers')\n",
    "SAMPLE_INTERVAL = 10\n",
    "\n",
    "mgr = PolymerDirManager(POLY_PATH)\n",
    "pdir = mgr.mol_dirs['polyvinylchloride_solv_water']\n",
    "dated_sims = sorted(pdir.completed_sims, key = lambda sim_dir : datetime.strptime(sim_dir.stem, general.DATETIME_FMT))\n",
    "# sim_dir_to_use = dated_sims[0] # oldest \n",
    "# sim_dir_to_use = dated_sims[-1] # most recent\n",
    "sim_dir_to_use = dated_sims[1] # oldest \n",
    "\n",
    "dated_sims"
   ]
  },
  {
   "cell_type": "code",
   "execution_count": 13,
   "metadata": {},
   "outputs": [],
   "source": [
    "topo_path = pdir.info.structure_file\n",
    "traj_path = next(sim_dir_to_use.glob('*.pdb'))\n",
    "\n",
    "traj = mdt.load(traj_path, top=topo_path, stride=SAMPLE_INTERVAL)\n",
    "traj = traj.remove_solvent(inplace=True) # don't generate new copy when de-solvating\n",
    "topo = traj.topology"
   ]
  },
  {
   "cell_type": "code",
   "execution_count": 14,
   "metadata": {},
   "outputs": [
    {
     "data": {
      "text/plain": [
       "<Popen: returncode: None args: ['xdg-open', PosixPath('Polymers/polyvinylchl...>"
      ]
     },
     "execution_count": 14,
     "metadata": {},
     "output_type": "execute_result"
    }
   ],
   "source": [
    "props = [\n",
    "    analysis.PolyProp(calc=mdt.compute_rg                , name='Radius of Gyration'             , abbr='Rg'  , unit=nanometer),\n",
    "    analysis.PolyProp(calc=mdt.shrake_rupley             , name='Solvent Accessible Surface Area', abbr='SASA', unit=nanometer**2, kwargs={'mode' : 'residue'}),\n",
    "    analysis.PolyProp(calc=mdt.relative_shape_antisotropy, name='Relative Shape Anisotropy'      , abbr='K2'  , unit=dimensionless)    \n",
    "]\n",
    "\n",
    "analysis.plot_rdfs(traj, save_path=sim_dir_to_use/f'RDFs.png', header=f'Pairwise Radial Distribution Functions - {pdir.mol_name}')\n",
    "analysis.plot_poly_props(traj, props, sample_interval=SAMPLE_INTERVAL, header=f'Polymer Shape and Gyration Properties - {pdir.mol_name}', save_path=sim_dir_to_use/f'shape_properties.png')\n",
    "filetree.startfile(sim_dir_to_use)"
   ]
  },
  {
   "cell_type": "code",
   "execution_count": 11,
   "metadata": {},
   "outputs": [
    {
     "data": {
      "text/plain": [
       "PosixPath('Polymers/polyvinylchloride/polyvinylchloride_solv_water/MD/03-23-2023_at_12-29-39_PM')"
      ]
     },
     "execution_count": 11,
     "metadata": {},
     "output_type": "execute_result"
    }
   ],
   "source": [
    "sim_dir_to_use"
   ]
  },
  {
   "cell_type": "code",
   "execution_count": null,
   "metadata": {},
   "outputs": [],
   "source": [
    "mgr.all_completed_sims.keys()"
   ]
  },
  {
   "attachments": {},
   "cell_type": "markdown",
   "metadata": {},
   "source": [
    "## Custom Implementations of Polymer Property Calculations (MDA)"
   ]
  },
  {
   "cell_type": "code",
   "execution_count": null,
   "metadata": {},
   "outputs": [],
   "source": [
    "import MDAnalysis as mda\n",
    "from MDAnalysis import Universe\n",
    "from MDAnalysis.topology.LAMMPSParser import DATAParser\n",
    "from MDAnalysis.coordinates.PDB import PDBReader, PDBWriter\n",
    "from MDAnalysis.topology.TOPParser import TOPParser\n",
    "# from MDAnalysis.topology.PDBParser import PDBParser\n",
    "# from MDAnalysis.topology.HoomdXMLParser import HoomdXMLParser"
   ]
  },
  {
   "cell_type": "code",
   "execution_count": null,
   "metadata": {},
   "outputs": [],
   "source": [
    "coords = np.array([atom.position for atom in u.atoms])\n",
    "plotutils.scatter_3D(coords)\n",
    "\n",
    "Rg1 = u.atoms.radius_of_gyration()\n",
    "G =  analysis.compute_gyration_tensor(coords)\n",
    "Rg2, K2 = analysis.compute_Rg_and_K2(G)\n",
    "\n",
    "print(Rg1, '\\n', Rg2, K2)"
   ]
  },
  {
   "attachments": {},
   "cell_type": "markdown",
   "metadata": {},
   "source": [
    "## Some other stuff"
   ]
  },
  {
   "cell_type": "code",
   "execution_count": null,
   "metadata": {},
   "outputs": [],
   "source": []
  }
 ],
 "metadata": {
  "kernelspec": {
   "display_name": "openff-dev-updated",
   "language": "python",
   "name": "python3"
  },
  "language_info": {
   "codemirror_mode": {
    "name": "ipython",
    "version": 3
   },
   "file_extension": ".py",
   "mimetype": "text/x-python",
   "name": "python",
   "nbconvert_exporter": "python",
   "pygments_lexer": "ipython3",
   "version": "3.10.9"
  },
  "orig_nbformat": 4,
  "vscode": {
   "interpreter": {
    "hash": "b6f4b411abbc3e95cc086ad6e81a9cb26e6bd9b323dd491204b8eb280f272f95"
   }
  }
 },
 "nbformat": 4,
 "nbformat_minor": 2
}
