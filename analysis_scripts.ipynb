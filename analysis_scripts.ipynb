{
 "cells": [
  {
   "attachments": {},
   "cell_type": "markdown",
   "metadata": {},
   "source": [
    "# Property Calculations (MDTraj)"
   ]
  },
  {
   "cell_type": "code",
   "execution_count": 1,
   "metadata": {},
   "outputs": [],
   "source": [
    "# Cusotm imports\n",
    "from polymer_utils import analysis, filetree, general\n",
    "from polymer_utils.representation import PolymerDir, PolymerDirManager\n",
    "from polymer_utils.simulation import SimulationParameters\n",
    "from polymer_utils.analysis import trajectory, propplot\n",
    "\n",
    "# General imports\n",
    "import mdtraj as mdt\n",
    "import pandas as pd\n",
    "import matplotlib.pyplot as plt\n",
    "\n",
    "from pathlib import Path\n",
    "\n",
    "# Units\n",
    "from openmm.unit import nanometer"
   ]
  },
  {
   "attachments": {},
   "cell_type": "markdown",
   "metadata": {},
   "source": [
    "## Load trajectory and calculate/plot properties"
   ]
  },
  {
   "cell_type": "code",
   "execution_count": 2,
   "metadata": {},
   "outputs": [
    {
     "name": "stdout",
     "output_type": "stream",
     "text": [
      "Collections/simple_polymers_updated/naturalrubber/naturalrubber_solv_water/MD/04-17-2023_at_15-35-54_PM\n"
     ]
    }
   ],
   "source": [
    "POLY_PATH = Path('Collections/simple_polymers_updated')\n",
    "SAMPLE_INTERVAL = 5 # interval between consecutively read time step samples (e.g. 1 would read all steps, 2 every other, etc.)\n",
    "\n",
    "mgr = PolymerDirManager(POLY_PATH)\n",
    "pdir = mgr.mol_dirs['naturalrubber_solv_water']\n",
    "\n",
    "if not pdir.chrono_sims:\n",
    "    raise ValueError(f'No Simulation results found for {pdir.mol_name}')\n",
    "\n",
    "sim_dir_to_use = pdir.newest_sim_dir\n",
    "print(sim_dir_to_use)   "
   ]
  },
  {
   "cell_type": "code",
   "execution_count": 3,
   "metadata": {},
   "outputs": [
    {
     "data": {
      "text/plain": [
       "<Popen: returncode: None args: ['xdg-open', PosixPath('Collections/simple_po...>"
      ]
     },
     "execution_count": 3,
     "metadata": {},
     "output_type": "execute_result"
    }
   ],
   "source": [
    "# look up and load in relevant simulation data from the chosen directory\n",
    "sim_params_path = next(sim_dir_to_use.glob('*_parameters.json'))\n",
    "state_data_path = next(sim_dir_to_use.glob('*_data.csv'))\n",
    "sim_params = SimulationParameters.from_file(sim_params_path)\n",
    "state_data = pd.read_csv(state_data_path)\n",
    "\n",
    "# load simulation frames into an analyzable trajectory\n",
    "traj_path = next(sim_dir_to_use.glob('*_traj.pdb'))\n",
    "traj = trajectory.load_traj(traj_path, topo_path=pdir.structure_file, sample_interval=SAMPLE_INTERVAL, remove_solvent=True)\n",
    "topo = traj.topology\n"
   ]
  },
  {
   "cell_type": "code",
   "execution_count": 4,
   "metadata": {},
   "outputs": [
    {
     "data": {
      "text/plain": [
       "<Popen: returncode: None args: ['xdg-open', PosixPath('Collections/simple_po...>"
      ]
     },
     "execution_count": 4,
     "metadata": {},
     "output_type": "execute_result"
    }
   ],
   "source": [
    "\n",
    "# save and plot RDF data\n",
    "rdf_dataframe = trajectory.acquire_rdfs(traj, max_rad=1.0*nanometer)\n",
    "rdf_dataframe.to_csv(sim_dir_to_use/'rdfs.csv')\n",
    "rdf_fig, rdf_ax = propplot.plot_rdfs(rdf_dataframe, scale=15.0)\n",
    "rdf_fig.suptitle(f'Pairwise Radial Distribution Functions - {pdir.mol_name}')\n",
    "rdf_fig.savefig(sim_dir_to_use/f'RDFs.png', bbox_inches='tight')\n",
    "plt.close()\n",
    "\n",
    "# save and plot property data\n",
    "prop_dataframe = trajectory.acquire_time_props(traj, properties=analysis.DEFAULT_PROPS, time_points=sim_params.time_points[::SAMPLE_INTERVAL]) \n",
    "prop_dataframe.to_csv(sim_dir_to_use/'time_series.csv')\n",
    "prop_fig, prop_ax = propplot.plot_time_props(prop_dataframe, scale=18.0)\n",
    "prop_fig.suptitle(f'Polymer Shape Properties - {pdir.mol_name}')\n",
    "prop_fig.savefig(sim_dir_to_use/f'shape_props.png', bbox_inches='tight')\n",
    "plt.close()\n",
    "\n",
    "filetree.startfile(sim_dir_to_use)"
   ]
  },
  {
   "cell_type": "code",
   "execution_count": null,
   "metadata": {},
   "outputs": [],
   "source": []
  }
 ],
 "metadata": {
  "kernelspec": {
   "display_name": "openff-dev-updated",
   "language": "python",
   "name": "python3"
  },
  "language_info": {
   "codemirror_mode": {
    "name": "ipython",
    "version": 3
   },
   "file_extension": ".py",
   "mimetype": "text/x-python",
   "name": "python",
   "nbconvert_exporter": "python",
   "pygments_lexer": "ipython3",
   "version": "3.10.9"
  },
  "orig_nbformat": 4,
  "vscode": {
   "interpreter": {
    "hash": "b6f4b411abbc3e95cc086ad6e81a9cb26e6bd9b323dd491204b8eb280f272f95"
   }
  }
 },
 "nbformat": 4,
 "nbformat_minor": 2
}
